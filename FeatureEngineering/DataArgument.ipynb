{
  "cells": [
    {
      "cell_type": "markdown",
      "metadata": {
        "id": "QPvKeCAjvdBg"
      },
      "source": [
        "This notebook compare a token of actual market and argumented data before creating Dataset with a data argument"
      ]
    },
    {
      "cell_type": "code",
      "execution_count": 1,
      "metadata": {
        "colab": {
          "base_uri": "https://localhost:8080/"
        },
        "id": "9ObfHNSLvdBj",
        "outputId": "2a485d09-7f5e-4157-92a1-e3b97410cbd0"
      },
      "outputs": [
        {
          "output_type": "stream",
          "name": "stdout",
          "text": [
            "Mounted at /content/drive\n"
          ]
        }
      ],
      "source": [
        "import os\n",
        "import time\n",
        "\n",
        "try:\n",
        "  from google.colab import drive\n",
        "  IS_GOOGLE_COLAB = True\n",
        "except ImportError:\n",
        "  IS_GOOGLE_COLAB = False\n",
        "\n",
        "if IS_GOOGLE_COLAB:\n",
        "  mount_path='/content/drive'\n",
        "  base_folder = \"/Data/FX\"\n",
        "  data_folder = f'{mount_path}/My Drive{base_folder}'\n",
        "  drive.mount(mount_path)\n",
        "else:\n",
        "  base_folder = '../../Data/'\n",
        "  data_folder = os.path.join(base_folder, \"fx\")"
      ]
    },
    {
      "cell_type": "markdown",
      "metadata": {
        "id": "EPvFS3-svdBk"
      },
      "source": [
        "# Deterministic Multi Agent Simulation"
      ]
    },
    {
      "cell_type": "code",
      "execution_count": 235,
      "metadata": {
        "id": "Nm0Z6l-fvdBk"
      },
      "outputs": [],
      "source": [
        "import random\n",
        "from collections.abc import Iterable\n",
        "\n",
        "import numpy as np\n",
        "import pandas as pd\n",
        "\n",
        "\n",
        "class DeterministicDealerModelV1:\n",
        "\n",
        "    def __init__(self, num_agent, max_volatility = 0.02, min_volatility = 0.01, trade_unit=0.001, initial_price=100, spread=1, initial_positions=None, tick_time=0.001,\n",
        "                 experimental=False, time_noise_method=None, max_noise_factor=1) -> None:\n",
        "        # min_vol should be greater than 0\n",
        "        # agent tendency: agent change his order prices based on the tendency\n",
        "        tendency = pd.Series([random.uniform(min_volatility, max_volatility) for i in range(num_agent)], dtype=float)\n",
        "        if trade_unit < 1:\n",
        "            do_round = True\n",
        "            decimal = 0.1\n",
        "            decimal_num = 1\n",
        "            while True:\n",
        "                check = trade_unit / decimal\n",
        "                if check >= 1 - trade_unit:\n",
        "                    break\n",
        "                decimal *= 0.1\n",
        "                decimal_num += 1\n",
        "                if decimal_num > 100:\n",
        "                    do_round = False\n",
        "                    break\n",
        "            if do_round is True:\n",
        "                tendency = tendency.round(decimal_num)\n",
        "        prices = pd.Series([random.uniform(initial_price, initial_price + spread) for i in range(num_agent)], dtype=float)\n",
        "        if initial_positions is None:\n",
        "            position_trends = pd.Series([random.choice([-1, 1]) for i in range(num_agent)], dtype=int)\n",
        "        elif len(initial_positions) == num_agent:\n",
        "            position_trends = pd.Series(initial_positions, dtype=int)\n",
        "        else:\n",
        "            raise ValueError(\"initial position is invalid.\")\n",
        "        self.agent_df = pd.concat([tendency, position_trends, prices], axis=1, keys=[\"tend\", \"position\", \"price\"], names=[\"id\"])\n",
        "        self.spread = spread\n",
        "        self.market_price = initial_price + self.spread\n",
        "        self.__initial_price = initial_price\n",
        "        self.__min_vol = min_volatility\n",
        "        self.__max_vol = max_volatility\n",
        "        self.trade_unit = trade_unit\n",
        "        self.tick_time = 0.0\n",
        "        self.tick_time_unit = tick_time\n",
        "        self.max_noise_factor = max_noise_factor\n",
        "        if experimental is True:\n",
        "            self.simulate = self.__freq_advance_simulate\n",
        "        else:\n",
        "            self.simulate = self.__ref_simulate\n",
        "\n",
        "        if time_noise_method is None:\n",
        "          self.__get_time_noise = lambda : 1\n",
        "        elif time_noise_method == \"uniform\":\n",
        "          self.__get_time_noise = self.__get_uniform_noise\n",
        "        elif time_noise_method == \"exp\":\n",
        "          self.__noise_factors = list(range(1, self.max_noise_factor + 1))\n",
        "          self.__noise_weights = [1/(i+1) for i in range(self.max_noise_factor)]\n",
        "          self.__get_time_noise = self.__get_weighted_noise\n",
        "        elif callable(time_noise_method) is True:\n",
        "          self.__get_time_noise = time_noise_method\n",
        "        else:\n",
        "          raise ValueError(\"this method is not defined\")\n",
        "\n",
        "    def __get_uniform_noise(self):\n",
        "      random_number = random.uniform(1, self.max_noise_factor)\n",
        "      return random_number\n",
        "\n",
        "    def __get_weighted_noise(self):\n",
        "        random_number = random.choices(self.__noise_factors, weights=self.__noise_weights)[0]\n",
        "        return random_number\n",
        "\n",
        "    def advance_order_price(self):\n",
        "        self.agent_df.price += self.agent_df.position * self.agent_df.tend\n",
        "        # print(\"*kept*\")\n",
        "        # print(self.agent_df)\n",
        "        return self.agent_df.price\n",
        "\n",
        "    def contruct(self):\n",
        "        ask_agents = self.agent_df.loc[self.agent_df.position == 1]\n",
        "        bought_agent_id = ask_agents.price.idxmax()\n",
        "        ask_order_price = ask_agents.price[bought_agent_id]\n",
        "\n",
        "        bid_agents = self.agent_df.loc[self.agent_df.position == -1]\n",
        "        sold_agent_id = bid_agents.price.idxmin()\n",
        "        bid_order_price = bid_agents.price[sold_agent_id] + self.spread\n",
        "\n",
        "        if ask_order_price >= bid_order_price:\n",
        "            # print(\"---contructed!!---\")\n",
        "            self.market_price = (((ask_order_price + bid_order_price)/2) // self.trade_unit) * self.trade_unit\n",
        "            # print(bought_agent_id, sold_agent_id)\n",
        "            self.agent_df.loc[bought_agent_id, \"position\"] = -1\n",
        "            self.agent_df.loc[sold_agent_id, \"position\"] = 1\n",
        "            # print(self.agent_df)\n",
        "            return self.market_price\n",
        "        return None\n",
        "\n",
        "\n",
        "    def __ref_simulate(self, total_seconds):\n",
        "        self.price_history = [self.market_price]\n",
        "        tick_times = [self.tick_time]\n",
        "        while self.tick_time < total_seconds:\n",
        "            random_span_factor = self.__get_time_noise()\n",
        "            self.tick_time += self.tick_time_unit * random_span_factor\n",
        "            price = self.contruct()\n",
        "            if price is not None:\n",
        "                # print(self.tick_time)\n",
        "                self.price_history.append(price)\n",
        "                tick_times.append(self.tick_time)\n",
        "            else:\n",
        "                self.advance_order_price()\n",
        "        price_hist_df = pd.DataFrame(self.price_history, columns=[\"price\"])\n",
        "        tick_times = np.asarray(tick_times)\n",
        "        self.tick_time = 0\n",
        "        return price_hist_df, tick_times\n",
        "\n",
        "    def __freq_advance_simulate(self, total_seconds):\n",
        "        self.price_history = [self.market_price]\n",
        "        tick_times = [self.tick_time]\n",
        "        while self.tick_time < total_seconds:\n",
        "            random_span_factor = self.__get_time_noise()\n",
        "            self.tick_time += self.tick_time_unit * random_span_factor\n",
        "            self.advance_order_price()\n",
        "            price = self.contruct()\n",
        "            if price is not None:\n",
        "                # print(self.tick_time)\n",
        "                self.price_history.append(price)\n",
        "                tick_times.append(self.tick_time)\n",
        "        price_hist_df = pd.DataFrame(self.price_history, columns=[\"price\"])\n",
        "        tick_times = np.asarray(tick_times)\n",
        "        self.tick_time = 0\n",
        "        return price_hist_df, tick_times\n",
        "\n",
        "\n",
        "class DeterministicDealerModelV3(DeterministicDealerModelV1):\n",
        "\n",
        "    def __init__(self, num_agent, max_volatility = 0.02, min_volatility = 0.01, trade_unit=0.001, initial_price=100, spread=1, initial_positions=None, tick_time=0.001,\n",
        "                 experimental=False, time_noise_method=None, max_noise_factor=1,\n",
        "                 dealer_sensitive=None, wma=1, dealer_sensitive_min=-3.5, dealer_sensitive_max=-1.5\n",
        "                 ) -> None:\n",
        "        \"\"\"_summary_\n",
        "\n",
        "        Args:\n",
        "            dealer_sensitive (int|Iterable, optional): this values represent sensitivity of each agent for past prices. greater/less than 0 means follower/contrarian. Defaults to None and initialized with random values by normal dist with mean and sigma\n",
        "            wma (int|Iterable, optional): this values represent how long agents will be affected by past values. Defaults to 1.\n",
        "        \"\"\"\n",
        "        super().__init__(num_agent, max_volatility, min_volatility, trade_unit, initial_price, spread, initial_positions, tick_time,\n",
        "                         experimental=experimental, time_noise_method=time_noise_method, max_noise_factor=max_noise_factor)\n",
        "        self.price_history = [self.market_price]\n",
        "        self.tick_times = [self.tick_time]\n",
        "\n",
        "        if dealer_sensitive is None:\n",
        "            # create array with random values between -1 to 1\n",
        "            self.dealer_sensitive = np.asarray([random.uniform(dealer_sensitive_min, dealer_sensitive_max) for i in range(num_agent)])\n",
        "        elif isinstance(dealer_sensitive, (int, float)):\n",
        "            # create array with fixed value\n",
        "            self.dealer_sensitive = np.asarray([ dealer_sensitive for i in range(num_agent)])\n",
        "        elif isinstance(dealer_sensitive, Iterable):\n",
        "            # use provided array\n",
        "            self.dealer_sensitive = np.asanyarray(dealer_sensitive)\n",
        "        else:\n",
        "            raise TypeError(\"dealer_sensitive must be either float or Iterable object\")\n",
        "\n",
        "        if isinstance(wma, int):\n",
        "            # create weight array with random values between 0 to 1\n",
        "            self.weight_array = np.asarray([random.uniform(0, 1) for i in range(wma)])\n",
        "            self.__total_weight = np.sum(self.weight_array)\n",
        "            self.wma = wma\n",
        "        elif isinstance(wma, Iterable):\n",
        "            #  use wma as weight array\n",
        "            self.weight_array = np.asarray(wma)\n",
        "            self.__total_weight = np.sum(self.weight_array)\n",
        "            self.wma = len(wma)\n",
        "        else:\n",
        "            raise TypeError(\"wma must be either int or Iterable object\")\n",
        "\n",
        "\n",
        "    def __wma(self):\n",
        "        if len(self.price_history) >= self.wma + 1:\n",
        "            wma_price = 0.0\n",
        "            for i in range(1, self.wma+1):\n",
        "                price_diff = self.price_history[-i] - self.price_history[-i -1]\n",
        "                wma_price += (self.weight_array[i-1] * price_diff)\n",
        "            return wma_price/self.__total_weight\n",
        "        else:\n",
        "            return 0\n",
        "\n",
        "    def advance_order_price(self):\n",
        "        follow_factors = self.dealer_sensitive * self.__wma()\n",
        "        self.agent_df.price += self.agent_df.position * self.agent_df.tend + follow_factors\n",
        "        return self.agent_df.price"
      ]
    },
    {
      "cell_type": "markdown",
      "metadata": {
        "id": "_OmObbhvvdBn"
      },
      "source": [
        "## Investigation"
      ]
    },
    {
      "cell_type": "code",
      "execution_count": 5,
      "metadata": {
        "id": "LjcfthAsvdBp"
      },
      "outputs": [],
      "source": [
        "import matplotlib.pyplot as plt\n",
        "\n",
        "# Loaad Actual Market Data\n",
        "tick_df = pd.read_csv(f\"{data_folder}/OANDA_2021_tick.zip\", index_col=0, parse_dates=True)\n",
        "# remove market holiday\n",
        "out_condition = 3600 * 24\n",
        "time_diff = (tick_df.index[1:] - tick_df.index[:-1]).total_seconds()\n",
        "time_diff = time_diff[time_diff < out_condition]\n",
        "min_span = time_diff[time_diff > 0].min()\n",
        "time_span = np.round(time_diff/min_span)\n",
        "mean_spread = tick_df.spread.mean()"
      ]
    },
    {
      "cell_type": "code",
      "execution_count": 8,
      "metadata": {
        "id": "_T4RKaEkvdBp"
      },
      "outputs": [],
      "source": [
        "start_time = time.time()\n",
        "model = DeterministicDealerModelV3(1000, spread=mean_spread*100, max_volatility=0.1)\n",
        "prices, ticks = model.simulate(60*30)\n",
        "end_time = time.time()\n",
        "elasped_time = end_time - start_time"
      ]
    },
    {
      "cell_type": "code",
      "execution_count": 9,
      "metadata": {
        "id": "1zWF3XHEvdBp"
      },
      "outputs": [],
      "source": [
        "def cumulative_dist(data, bins=100):\n",
        "    counts, bin_edges = np.histogram(data, bins=bins, density=False)\n",
        "    counts_prob = counts/counts.sum()\n",
        "    cumulative = np.cumsum(counts_prob)\n",
        "    possibilities = 1 - cumulative\n",
        "    return np.array([1, *possibilities]) , np.array([1e-10, *bin_edges[1:]])"
      ]
    },
    {
      "cell_type": "markdown",
      "metadata": {
        "id": "0t6HD2h7vdBq"
      },
      "source": [
        "### Tick Data Comparison"
      ]
    },
    {
      "cell_type": "code",
      "execution_count": 10,
      "metadata": {
        "colab": {
          "base_uri": "https://localhost:8080/"
        },
        "id": "iwnWxVgXvdBq",
        "outputId": "15cd6c16-1e00-4335-e6a7-2c09f93034ff"
      },
      "outputs": [
        {
          "output_type": "execute_result",
          "data": {
            "text/plain": [
              "2020-12-31 17:00:00.166    0.000\n",
              "2020-12-31 17:00:00.204    0.000\n",
              "2020-12-31 17:00:00.231    0.000\n",
              "2020-12-31 17:00:02.442    0.001\n",
              "2020-12-31 17:00:02.485    0.000\n",
              "Name: price, dtype: float64"
            ]
          },
          "metadata": {},
          "execution_count": 10
        }
      ],
      "source": [
        "token_length = 60\n",
        "tick_src = tick_df.price.diff().iloc[1:]\n",
        "tick_token_sample = tick_src.iloc[:token_length]\n",
        "tick_token_sample.head()"
      ]
    },
    {
      "cell_type": "code",
      "execution_count": 11,
      "metadata": {
        "colab": {
          "base_uri": "https://localhost:8080/"
        },
        "id": "x_vV-jqDvdBr",
        "outputId": "84c00734-3954-4a27-e264-7e7e5b69fd02"
      },
      "outputs": [
        {
          "output_type": "execute_result",
          "data": {
            "text/plain": [
              "1    0.000367\n",
              "2   -0.009000\n",
              "3    0.004000\n",
              "4   -0.001000\n",
              "5    0.000000\n",
              "Name: price, dtype: float64"
            ]
          },
          "metadata": {},
          "execution_count": 11
        }
      ],
      "source": [
        "sim_src = prices.price.diff().iloc[1:]\n",
        "sim_src.head()"
      ]
    },
    {
      "cell_type": "code",
      "execution_count": 12,
      "metadata": {
        "colab": {
          "base_uri": "https://localhost:8080/"
        },
        "id": "6qQ9oh1hvdBr",
        "outputId": "c2ff2abe-2509-44f4-d68f-15832f42fbd9"
      },
      "outputs": [
        {
          "output_type": "execute_result",
          "data": {
            "text/plain": [
              "count    7.315639e+07\n",
              "mean     1.645516e-07\n",
              "std      7.874238e-04\n",
              "min     -2.510000e-01\n",
              "25%      0.000000e+00\n",
              "50%      0.000000e+00\n",
              "75%      0.000000e+00\n",
              "max      2.600000e-01\n",
              "Name: price, dtype: float64"
            ]
          },
          "metadata": {},
          "execution_count": 12
        }
      ],
      "source": [
        "tick_src.describe()"
      ]
    },
    {
      "cell_type": "code",
      "execution_count": 13,
      "metadata": {
        "colab": {
          "base_uri": "https://localhost:8080/"
        },
        "id": "qsxLt37pvdBs",
        "outputId": "7be2f1c9-3d7f-4a32-f648-be3079c35934"
      },
      "outputs": [
        {
          "output_type": "execute_result",
          "data": {
            "text/plain": [
              "count    35089.000000\n",
              "mean        -0.000001\n",
              "std          0.001465\n",
              "min         -0.017000\n",
              "25%         -0.001000\n",
              "50%          0.000000\n",
              "75%          0.001000\n",
              "max          0.019000\n",
              "Name: price, dtype: float64"
            ]
          },
          "metadata": {},
          "execution_count": 13
        }
      ],
      "source": [
        "# outlier is not simulated in the model. So min/max value is greater/less than market result.\n",
        "sim_src.describe()"
      ]
    },
    {
      "cell_type": "code",
      "execution_count": 14,
      "metadata": {
        "colab": {
          "base_uri": "https://localhost:8080/"
        },
        "id": "kzrbMKayvdBs",
        "outputId": "c2f35eb4-4f71-47ba-fca7-81d0f76cb326"
      },
      "outputs": [
        {
          "output_type": "stream",
          "name": "stdout",
          "text": [
            "skew: -0.6811019188661228\n",
            "kurt: 1899.1727622185867\n"
          ]
        }
      ],
      "source": [
        "print('skew:', tick_src.skew())\n",
        "print('kurt:', tick_src.kurtosis())"
      ]
    },
    {
      "cell_type": "code",
      "execution_count": 15,
      "metadata": {
        "colab": {
          "base_uri": "https://localhost:8080/"
        },
        "id": "5Ul0RJKVvdBs",
        "outputId": "6280524c-f609-45ea-b304-7848da2a7cd4"
      },
      "outputs": [
        {
          "output_type": "stream",
          "name": "stdout",
          "text": [
            "skew: 0.26729235576668453\n",
            "kurt: 14.044790030556115\n"
          ]
        }
      ],
      "source": [
        "print('skew:', sim_src.skew())\n",
        "print('kurt:', sim_src.kurtosis())"
      ]
    },
    {
      "cell_type": "code",
      "execution_count": 16,
      "metadata": {
        "id": "NSLx2cWDvdBt"
      },
      "outputs": [],
      "source": [
        "mean = tick_src.mean()\n",
        "std = tick_src.std()\n",
        "\n",
        "cumulative, bin_edges = cumulative_dist(tick_src.abs(), bins=500)\n",
        "num_samples = 1000\n",
        "data = abs(np.random.normal(mean, std, num_samples))\n",
        "n_cumulative, n_bin_edges = cumulative_dist(data)"
      ]
    },
    {
      "cell_type": "code",
      "execution_count": 17,
      "metadata": {
        "id": "P0zJW4uBvdBt"
      },
      "outputs": [],
      "source": [
        "mean = sim_src.mean()\n",
        "std = sim_src.std()\n",
        "\n",
        "sim_cumulative, sim_bin_edges = cumulative_dist(sim_src.abs(), bins=500)\n",
        "num_samples = 1000\n",
        "data = abs(np.random.normal(mean, std, num_samples))\n",
        "sim_n_cumulative, sim_n_bin_edges = cumulative_dist(data)"
      ]
    },
    {
      "cell_type": "code",
      "execution_count": 18,
      "metadata": {
        "colab": {
          "base_uri": "https://localhost:8080/",
          "height": 477
        },
        "id": "Xgusl-zbvdBt",
        "outputId": "1258a2f9-5361-4031-aa04-be28edff16e0"
      },
      "outputs": [
        {
          "output_type": "display_data",
          "data": {
            "text/plain": [
              "<Figure size 640x480 with 1 Axes>"
            ],
            "image/png": "[encoded data removed]"
          },
          "metadata": {}
        }
      ],
      "source": [
        "plt.plot(bin_edges, cumulative, color=\"gray\", marker=\"o\", markersize=2, label=\"market\")\n",
        "plt.plot(n_bin_edges, n_cumulative, color=\"gray\", linestyle=\"--\", label=\"normal dist(market)\")\n",
        "\n",
        "plt.plot(sim_bin_edges, sim_cumulative, color=\"blue\", marker=\"o\", markersize=2, label=\"simulation\")\n",
        "plt.plot(sim_n_bin_edges, sim_n_cumulative, color=\"blue\", linestyle=\"--\", label=\"normal dist\")\n",
        "\n",
        "plt.title('Cumulative Distribution')\n",
        "plt.xlabel('|P(t+1) - P(t)|')\n",
        "plt.ylabel('Cumulative Probability')\n",
        "plt.xscale('log')\n",
        "plt.yscale('log')\n",
        "plt.ylim(1e-8, 1)\n",
        "plt.xlim(1e-8, 1)\n",
        "plt.legend()\n",
        "plt.show()"
      ]
    },
    {
      "cell_type": "markdown",
      "source": [
        "### OHLC Data Comparision"
      ],
      "metadata": {
        "id": "Rvao5zqcIN1Z"
      }
    },
    {
      "cell_type": "code",
      "source": [
        "ohlc_min_df = tick_df.price.resample('MIN').ohlc().dropna()\n",
        "ohlc_min_src = ohlc_min_df.diff().iloc[1:]\n",
        "ohlc_min_src.describe()"
      ],
      "metadata": {
        "colab": {
          "base_uri": "https://localhost:8080/",
          "height": 300
        },
        "id": "kZzmh7Qw3V7m",
        "outputId": "12a063ae-23c7-4019-a283-afbb82cb59bd"
      },
      "execution_count": 49,
      "outputs": [
        {
          "output_type": "execute_result",
          "data": {
            "text/plain": [
              "                open           high            low          close\n",
              "count  374066.000000  374066.000000  374066.000000  374066.000000\n",
              "mean        0.000032       0.000032       0.000032       0.000032\n",
              "std         0.010457       0.009416       0.009736       0.010401\n",
              "min        -0.415000      -0.393000      -0.415000      -0.415000\n",
              "25%        -0.005000      -0.004000      -0.003000      -0.005000\n",
              "50%         0.000000       0.000000       0.000000       0.000000\n",
              "75%         0.005000       0.004000       0.004000       0.005000\n",
              "max         0.367000       0.342000       0.370000       0.368000"
            ],
            "text/html": [
              "\n",
              "  <div id=\"df-a7dc9265-34c6-4cbd-ac54-091f3d9a6527\" class=\"colab-df-container\">\n",
              "    <div>\n",
              "<style scoped>\n",
              "    .dataframe tbody tr th:only-of-type {\n",
              "        vertical-align: middle;\n",
              "    }\n",
              "\n",
              "    .dataframe tbody tr th {\n",
              "        vertical-align: top;\n",
              "    }\n",
              "\n",
              "    .dataframe thead th {\n",
              "        text-align: right;\n",
              "    }\n",
              "</style>\n",
              "<table border=\"1\" class=\"dataframe\">\n",
              "  <thead>\n",
              "    <tr style=\"text-align: right;\">\n",
              "      <th></th>\n",
              "      <th>open</th>\n",
              "      <th>high</th>\n",
              "      <th>low</th>\n",
              "      <th>close</th>\n",
              "    </tr>\n",
              "  </thead>\n",
              "  <tbody>\n",
              "    <tr>\n",
              "      <th>count</th>\n",
              "      <td>374066.000000</td>\n",
              "      <td>374066.000000</td>\n",
              "      <td>374066.000000</td>\n",
              "      <td>374066.000000</td>\n",
              "    </tr>\n",
              "    <tr>\n",
              "      <th>mean</th>\n",
              "      <td>0.000032</td>\n",
              "      <td>0.000032</td>\n",
              "      <td>0.000032</td>\n",
              "      <td>0.000032</td>\n",
              "    </tr>\n",
              "    <tr>\n",
              "      <th>std</th>\n",
              "      <td>0.010457</td>\n",
              "      <td>0.009416</td>\n",
              "      <td>0.009736</td>\n",
              "      <td>0.010401</td>\n",
              "    </tr>\n",
              "    <tr>\n",
              "      <th>min</th>\n",
              "      <td>-0.415000</td>\n",
              "      <td>-0.393000</td>\n",
              "      <td>-0.415000</td>\n",
              "      <td>-0.415000</td>\n",
              "    </tr>\n",
              "    <tr>\n",
              "      <th>25%</th>\n",
              "      <td>-0.005000</td>\n",
              "      <td>-0.004000</td>\n",
              "      <td>-0.003000</td>\n",
              "      <td>-0.005000</td>\n",
              "    </tr>\n",
              "    <tr>\n",
              "      <th>50%</th>\n",
              "      <td>0.000000</td>\n",
              "      <td>0.000000</td>\n",
              "      <td>0.000000</td>\n",
              "      <td>0.000000</td>\n",
              "    </tr>\n",
              "    <tr>\n",
              "      <th>75%</th>\n",
              "      <td>0.005000</td>\n",
              "      <td>0.004000</td>\n",
              "      <td>0.004000</td>\n",
              "      <td>0.005000</td>\n",
              "    </tr>\n",
              "    <tr>\n",
              "      <th>max</th>\n",
              "      <td>0.367000</td>\n",
              "      <td>0.342000</td>\n",
              "      <td>0.370000</td>\n",
              "      <td>0.368000</td>\n",
              "    </tr>\n",
              "  </tbody>\n",
              "</table>\n",
              "</div>\n",
              "    <div class=\"colab-df-buttons\">\n",
              "\n",
              "  <div class=\"colab-df-container\">\n",
              "    <button class=\"colab-df-convert\" onclick=\"convertToInteractive('df-a7dc9265-34c6-4cbd-ac54-091f3d9a6527')\"\n",
              "            title=\"Convert this dataframe to an interactive table.\"\n",
              "            style=\"display:none;\">\n",
              "\n",
              "  <svg xmlns=\"http://www.w3.org/2000/svg\" height=\"24px\" viewBox=\"0 -960 960 960\">\n",
              "    <path d=\"M120-120v-720h720v720H120Zm60-500h600v-160H180v160Zm220 220h160v-160H400v160Zm0 220h160v-160H400v160ZM180-400h160v-160H180v160Zm440 0h160v-160H620v160ZM180-180h160v-160H180v160Zm440 0h160v-160H620v160Z\"/>\n",
              "  </svg>\n",
              "    </button>\n",
              "\n",
              "  <style>\n",
              "    .colab-df-container {\n",
              "      display:flex;\n",
              "      gap: 12px;\n",
              "    }\n",
              "\n",
              "    .colab-df-convert {\n",
              "      background-color: #E8F0FE;\n",
              "      border: none;\n",
              "      border-radius: 50%;\n",
              "      cursor: pointer;\n",
              "      display: none;\n",
              "      fill: #1967D2;\n",
              "      height: 32px;\n",
              "      padding: 0 0 0 0;\n",
              "      width: 32px;\n",
              "    }\n",
              "\n",
              "    .colab-df-convert:hover {\n",
              "      background-color: #E2EBFA;\n",
              "      box-shadow: 0px 1px 2px rgba(60, 64, 67, 0.3), 0px 1px 3px 1px rgba(60, 64, 67, 0.15);\n",
              "      fill: #174EA6;\n",
              "    }\n",
              "\n",
              "    .colab-df-buttons div {\n",
              "      margin-bottom: 4px;\n",
              "    }\n",
              "\n",
              "    [theme=dark] .colab-df-convert {\n",
              "      background-color: #3B4455;\n",
              "      fill: #D2E3FC;\n",
              "    }\n",
              "\n",
              "    [theme=dark] .colab-df-convert:hover {\n",
              "      background-color: #434B5C;\n",
              "      box-shadow: 0px 1px 3px 1px rgba(0, 0, 0, 0.15);\n",
              "      filter: drop-shadow(0px 1px 2px rgba(0, 0, 0, 0.3));\n",
              "      fill: #FFFFFF;\n",
              "    }\n",
              "  </style>\n",
              "\n",
              "    <script>\n",
              "      const buttonEl =\n",
              "        document.querySelector('#df-a7dc9265-34c6-4cbd-ac54-091f3d9a6527 button.colab-df-convert');\n",
              "      buttonEl.style.display =\n",
              "        google.colab.kernel.accessAllowed ? 'block' : 'none';\n",
              "\n",
              "      async function convertToInteractive(key) {\n",
              "        const element = document.querySelector('#df-a7dc9265-34c6-4cbd-ac54-091f3d9a6527');\n",
              "        const dataTable =\n",
              "          await google.colab.kernel.invokeFunction('convertToInteractive',\n",
              "                                                    [key], {});\n",
              "        if (!dataTable) return;\n",
              "\n",
              "        const docLinkHtml = 'Like what you see? Visit the ' +\n",
              "          '<a target=\"_blank\" href=https://colab.research.google.com/notebooks/data_table.ipynb>data table notebook</a>'\n",
              "          + ' to learn more about interactive tables.';\n",
              "        element.innerHTML = '';\n",
              "        dataTable['output_type'] = 'display_data';\n",
              "        await google.colab.output.renderOutput(dataTable, element);\n",
              "        const docLink = document.createElement('div');\n",
              "        docLink.innerHTML = docLinkHtml;\n",
              "        element.appendChild(docLink);\n",
              "      }\n",
              "    </script>\n",
              "  </div>\n",
              "\n",
              "\n",
              "<div id=\"df-5274ac3c-4118-41c2-ab8f-9a0f335174da\">\n",
              "  <button class=\"colab-df-quickchart\" onclick=\"quickchart('df-5274ac3c-4118-41c2-ab8f-9a0f335174da')\"\n",
              "            title=\"Suggest charts\"\n",
              "            style=\"display:none;\">\n",
              "\n",
              "<svg xmlns=\"http://www.w3.org/2000/svg\" height=\"24px\"viewBox=\"0 0 24 24\"\n",
              "     width=\"24px\">\n",
              "    <g>\n",
              "        <path d=\"M19 3H5c-1.1 0-2 .9-2 2v14c0 1.1.9 2 2 2h14c1.1 0 2-.9 2-2V5c0-1.1-.9-2-2-2zM9 17H7v-7h2v7zm4 0h-2V7h2v10zm4 0h-2v-4h2v4z\"/>\n",
              "    </g>\n",
              "</svg>\n",
              "  </button>\n",
              "\n",
              "<style>\n",
              "  .colab-df-quickchart {\n",
              "      --bg-color: #E8F0FE;\n",
              "      --fill-color: #1967D2;\n",
              "      --hover-bg-color: #E2EBFA;\n",
              "      --hover-fill-color: #174EA6;\n",
              "      --disabled-fill-color: #AAA;\n",
              "      --disabled-bg-color: #DDD;\n",
              "  }\n",
              "\n",
              "  [theme=dark] .colab-df-quickchart {\n",
              "      --bg-color: #3B4455;\n",
              "      --fill-color: #D2E3FC;\n",
              "      --hover-bg-color: #434B5C;\n",
              "      --hover-fill-color: #FFFFFF;\n",
              "      --disabled-bg-color: #3B4455;\n",
              "      --disabled-fill-color: #666;\n",
              "  }\n",
              "\n",
              "  .colab-df-quickchart {\n",
              "    background-color: var(--bg-color);\n",
              "    border: none;\n",
              "    border-radius: 50%;\n",
              "    cursor: pointer;\n",
              "    display: none;\n",
              "    fill: var(--fill-color);\n",
              "    height: 32px;\n",
              "    padding: 0;\n",
              "    width: 32px;\n",
              "  }\n",
              "\n",
              "  .colab-df-quickchart:hover {\n",
              "    background-color: var(--hover-bg-color);\n",
              "    box-shadow: 0 1px 2px rgba(60, 64, 67, 0.3), 0 1px 3px 1px rgba(60, 64, 67, 0.15);\n",
              "    fill: var(--button-hover-fill-color);\n",
              "  }\n",
              "\n",
              "  .colab-df-quickchart-complete:disabled,\n",
              "  .colab-df-quickchart-complete:disabled:hover {\n",
              "    background-color: var(--disabled-bg-color);\n",
              "    fill: var(--disabled-fill-color);\n",
              "    box-shadow: none;\n",
              "  }\n",
              "\n",
              "  .colab-df-spinner {\n",
              "    border: 2px solid var(--fill-color);\n",
              "    border-color: transparent;\n",
              "    border-bottom-color: var(--fill-color);\n",
              "    animation:\n",
              "      spin 1s steps(1) infinite;\n",
              "  }\n",
              "\n",
              "  @keyframes spin {\n",
              "    0% {\n",
              "      border-color: transparent;\n",
              "      border-bottom-color: var(--fill-color);\n",
              "      border-left-color: var(--fill-color);\n",
              "    }\n",
              "    20% {\n",
              "      border-color: transparent;\n",
              "      border-left-color: var(--fill-color);\n",
              "      border-top-color: var(--fill-color);\n",
              "    }\n",
              "    30% {\n",
              "      border-color: transparent;\n",
              "      border-left-color: var(--fill-color);\n",
              "      border-top-color: var(--fill-color);\n",
              "      border-right-color: var(--fill-color);\n",
              "    }\n",
              "    40% {\n",
              "      border-color: transparent;\n",
              "      border-right-color: var(--fill-color);\n",
              "      border-top-color: var(--fill-color);\n",
              "    }\n",
              "    60% {\n",
              "      border-color: transparent;\n",
              "      border-right-color: var(--fill-color);\n",
              "    }\n",
              "    80% {\n",
              "      border-color: transparent;\n",
              "      border-right-color: var(--fill-color);\n",
              "      border-bottom-color: var(--fill-color);\n",
              "    }\n",
              "    90% {\n",
              "      border-color: transparent;\n",
              "      border-bottom-color: var(--fill-color);\n",
              "    }\n",
              "  }\n",
              "</style>\n",
              "\n",
              "  <script>\n",
              "    async function quickchart(key) {\n",
              "      const quickchartButtonEl =\n",
              "        document.querySelector('#' + key + ' button');\n",
              "      quickchartButtonEl.disabled = true;  // To prevent multiple clicks.\n",
              "      quickchartButtonEl.classList.add('colab-df-spinner');\n",
              "      try {\n",
              "        const charts = await google.colab.kernel.invokeFunction(\n",
              "            'suggestCharts', [key], {});\n",
              "      } catch (error) {\n",
              "        console.error('Error during call to suggestCharts:', error);\n",
              "      }\n",
              "      quickchartButtonEl.classList.remove('colab-df-spinner');\n",
              "      quickchartButtonEl.classList.add('colab-df-quickchart-complete');\n",
              "    }\n",
              "    (() => {\n",
              "      let quickchartButtonEl =\n",
              "        document.querySelector('#df-5274ac3c-4118-41c2-ab8f-9a0f335174da button');\n",
              "      quickchartButtonEl.style.display =\n",
              "        google.colab.kernel.accessAllowed ? 'block' : 'none';\n",
              "    })();\n",
              "  </script>\n",
              "</div>\n",
              "\n",
              "    </div>\n",
              "  </div>\n"
            ]
          },
          "metadata": {},
          "execution_count": 49
        }
      ]
    },
    {
      "cell_type": "markdown",
      "source": [
        "#### resample data with random time noise"
      ],
      "metadata": {
        "id": "2hiDRlaPIosO"
      }
    },
    {
      "cell_type": "code",
      "source": [
        "initial_positions = [(-1)**i for i in range(1000)]\n",
        "model = DeterministicDealerModelV3(1000, spread=mean_spread*100, max_volatility=0.1, initial_positions=initial_positions,\n",
        "                                   time_noise_method=\"exp\", max_noise_factor=100)\n",
        "prices, ticks = model.simulate(60*300)\n",
        "start_date = pd.to_datetime(\"2024-01-01 00:00:00.000Z\")\n",
        "prices.index = start_date + pd.to_timedelta(ticks, unit=\"S\")"
      ],
      "metadata": {
        "id": "HZsD_LoY4W4a"
      },
      "execution_count": null,
      "outputs": []
    },
    {
      "cell_type": "code",
      "source": [
        "ohlc_min_sim_df = prices.resample('MIN').ohlc()\n",
        "ohlc_min_sim_src = ohlc_min_sim_df.diff().iloc[1:]\n",
        "ohlc_min_sim_src.describe()"
      ],
      "metadata": {
        "id": "riXAleT77QSf"
      },
      "execution_count": null,
      "outputs": []
    },
    {
      "cell_type": "code",
      "source": [
        "mean = ohlc_min_src.close.mean()\n",
        "std = ohlc_min_src.close.std()\n",
        "\n",
        "cumulative, bin_edges = cumulative_dist(ohlc_min_src.close.abs(), bins=500)"
      ],
      "metadata": {
        "id": "vVHoPyVS-91f"
      },
      "execution_count": null,
      "outputs": []
    },
    {
      "cell_type": "code",
      "source": [
        "mean = ohlc_min_sim_src.price.close.mean()\n",
        "std = ohlc_min_sim_src.price.close.std()\n",
        "\n",
        "sim_cumulative, sim_bin_edges = cumulative_dist(ohlc_min_sim_src..price.close.abs(), bins=500)"
      ],
      "metadata": {
        "id": "cUWz12MEAewE"
      },
      "execution_count": null,
      "outputs": []
    },
    {
      "cell_type": "code",
      "source": [
        "plt.plot(bin_edges, cumulative, color=\"gray\", marker=\"o\", markersize=2, label=\"market\")\n",
        "plt.plot(sim_bin_edges, sim_cumulative, color=\"blue\", marker=\"o\", markersize=2, label=\"simulation\")\n",
        "\n",
        "plt.title('Cumulative Distribution')\n",
        "plt.xlabel('|P(t+1) - P(t)|')\n",
        "plt.ylabel('Cumulative Probability')\n",
        "plt.xscale('log')\n",
        "plt.yscale('log')\n",
        "plt.ylim(1e-8, 1)\n",
        "plt.xlim(1e-8, 1)\n",
        "plt.legend()\n",
        "plt.show()"
      ],
      "metadata": {
        "id": "3Fkpd0D7AyFj"
      },
      "execution_count": null,
      "outputs": []
    },
    {
      "cell_type": "code",
      "source": [
        "def z(price_diff_srs, mean, std):\n",
        "    return (price_diff_srs - mean)/std\n",
        "\n",
        "def self_similarity(price_srs:pd.Series, k=100):\n",
        "    base_mean = price_srs.mean()\n",
        "    base_std = price_srs.std()\n",
        "    base_z = z(price_srs, base_mean, base_std)\n",
        "\n",
        "    sim_array = base_z.values * base_z.values\n",
        "    similarities = [np.mean(sim_array)]\n",
        "    sim_stds = [np.std(sim_array)]\n",
        "    ks = [*range(0, k)]\n",
        "    for i in ks[1:]:\n",
        "        sim_array = base_z.values[i:] * base_z.values[:-i]\n",
        "        mean_sim = np.mean(sim_array)\n",
        "        std_sim = np.std(sim_array)\n",
        "        similarities.append(mean_sim)\n",
        "        sim_stds.append(std_sim)\n",
        "    return ks, similarities, sim_stds"
      ],
      "metadata": {
        "id": "VKtiXaeSDarx"
      },
      "execution_count": null,
      "outputs": []
    },
    {
      "cell_type": "code",
      "source": [
        "indices, similarities, _ = self_similarity(ohlc_min_src.close, k=20)\n",
        "sim_indices, sim_similarities, _ = self_similarity(ohlc_min_sim_src.price.close, k=20)"
      ],
      "metadata": {
        "id": "QERAHCkJDbgJ"
      },
      "execution_count": null,
      "outputs": []
    },
    {
      "cell_type": "code",
      "source": [
        "plt.plot(indices, similarities, color=\"gray\", label=\"market\")\n",
        "plt.plot(sim_indices, sim_similarities, color=\"blue\", label=\"simulation\")\n",
        "plt.title('Cumulative Distribution')\n",
        "plt.xlabel('time diff periods (ticks)')\n",
        "plt.ylabel('Similarity')\n",
        "plt.legend()\n",
        "plt.show()"
      ],
      "metadata": {
        "id": "ikMPLWcmDtH0"
      },
      "execution_count": null,
      "outputs": []
    },
    {
      "cell_type": "code",
      "source": [
        "def diffusion(price_srs, n):\n",
        "    if isinstance(price_srs, pd.Series):\n",
        "        diff = price_srs.diff(periods=n).dropna()\n",
        "        return diff.var()\n",
        "    else:\n",
        "        diff = (price_srs[:-n] - price_srs[n:])\n",
        "        p_mean = (diff ** 2).mean()\n",
        "        mean_p = (diff.mean()) ** 2\n",
        "        return p_mean - mean_p"
      ],
      "metadata": {
        "id": "gQvx7VqDBpIK"
      },
      "execution_count": null,
      "outputs": []
    },
    {
      "cell_type": "code",
      "source": [
        "periods = [i for i in range(1, 10)]\n",
        "var_diffusions = np.array([diffusion(ohlc_min_src.close, period) for period in periods])\n",
        "std_diffusions = np.sqrt(var_diffusions)"
      ],
      "metadata": {
        "id": "h277RkCEBr1n"
      },
      "execution_count": null,
      "outputs": []
    },
    {
      "cell_type": "code",
      "source": [
        "sim_var_diffusions = np.array([diffusion(ohlc_min_sim_src.price.close, period) for period in periods])\n",
        "sim_std_diffusions = np.sqrt(sim_var_diffusions)"
      ],
      "metadata": {
        "id": "3iKU2CFCCEK3"
      },
      "execution_count": null,
      "outputs": []
    },
    {
      "cell_type": "code",
      "source": [
        "# creating ohlc data with noise factor with uniforme distribution is not good\n",
        "plt.plot(periods, var_diffusions/var_diffusions[0], label=\"actual market\", color=\"gray\", linestyle=\"-\", marker=\"o\", markersize=4)\n",
        "plt.plot(periods, sim_var_diffusions/sim_var_diffusions[0], label=\"simulation\", color=\"blue\", linestyle=\"-\", marker=\"o\", markersize=4)\n",
        "# plt.yscale(\"log\")\n",
        "# plt.xscale(\"log\")\n",
        "plt.xlabel(\"diff periods\")\n",
        "plt.ylabel(\"var(periods)/var(1)\")\n",
        "plt.legend()\n",
        "plt.show()"
      ],
      "metadata": {
        "id": "ArXdQKv6CNgS"
      },
      "execution_count": null,
      "outputs": []
    },
    {
      "cell_type": "markdown",
      "source": [
        "#### resample data with random index data of market"
      ],
      "metadata": {
        "id": "0dUs3ae2Ix3w"
      }
    },
    {
      "cell_type": "code",
      "source": [
        "import random\n",
        "from collections.abc import Iterable\n",
        "\n",
        "import numpy as np\n",
        "import pandas as pd\n",
        "\n",
        "\n",
        "class DeterministicDealerModelV1:\n",
        "\n",
        "    def __init__(self, num_agent, max_volatility = 0.02, min_volatility = 0.01, trade_unit=0.001, initial_price=100, spread=1, initial_positions=None, tick_time=0.001, experimental=False) -> None:\n",
        "        # min_vol should be greater than 0\n",
        "        # agent tendency: agent change his order prices based on the tendency\n",
        "        tendency = pd.Series([random.uniform(min_volatility, max_volatility) for i in range(num_agent)], dtype=float)\n",
        "        if trade_unit < 1:\n",
        "            do_round = True\n",
        "            decimal = 0.1\n",
        "            decimal_num = 1\n",
        "            while True:\n",
        "                check = trade_unit / decimal\n",
        "                if check >= 1 - trade_unit:\n",
        "                    break\n",
        "                decimal *= 0.1\n",
        "                decimal_num += 1\n",
        "                if decimal_num > 100:\n",
        "                    do_round = False\n",
        "                    break\n",
        "            if do_round is True:\n",
        "                tendency = tendency.round(decimal_num)\n",
        "        prices = pd.Series([random.uniform(initial_price, initial_price + spread) for i in range(num_agent)], dtype=float)\n",
        "        if initial_positions is None:\n",
        "            position_trends = pd.Series([random.choice([-1, 1]) for i in range(num_agent)], dtype=int)\n",
        "        elif len(initial_positions) == num_agent:\n",
        "            position_trends = pd.Series(initial_positions, dtype=int)\n",
        "        else:\n",
        "            raise ValueError(\"initial position is invalid.\")\n",
        "        self.agent_df = pd.concat([tendency, position_trends, prices], axis=1, keys=[\"tend\", \"position\", \"price\"], names=[\"id\"])\n",
        "        self.spread = spread\n",
        "        self.market_price = initial_price + self.spread\n",
        "        self.__initial_price = initial_price\n",
        "        self.__min_vol = min_volatility\n",
        "        self.__max_vol = max_volatility\n",
        "        self.trade_unit = trade_unit\n",
        "        self.tick_time = 0.0\n",
        "        self.tick_time_unit = tick_time\n",
        "        if experimental is True:\n",
        "            self.simulate = self.__freq_advance_simulate\n",
        "        else:\n",
        "            self.simulate = self.__ref_simulate\n",
        "\n",
        "    def advance_order_price(self):\n",
        "        self.agent_df.price += self.agent_df.position * self.agent_df.tend\n",
        "        # print(\"*kept*\")\n",
        "        # print(self.agent_df)\n",
        "        return self.agent_df.price\n",
        "\n",
        "    def contruct(self):\n",
        "        ask_agents = self.agent_df.loc[self.agent_df.position == 1]\n",
        "        bought_agent_id = ask_agents.price.idxmax()\n",
        "        ask_order_price = ask_agents.price[bought_agent_id]\n",
        "\n",
        "        bid_agents = self.agent_df.loc[self.agent_df.position == -1]\n",
        "        sold_agent_id = bid_agents.price.idxmin()\n",
        "        bid_order_price = bid_agents.price[sold_agent_id] + self.spread\n",
        "\n",
        "        if ask_order_price >= bid_order_price:\n",
        "            # print(\"---contructed!!---\")\n",
        "            self.market_price = (((ask_order_price + bid_order_price)/2) // self.trade_unit) * self.trade_unit\n",
        "            # print(bought_agent_id, sold_agent_id)\n",
        "            self.agent_df.loc[bought_agent_id, \"position\"] = -1\n",
        "            self.agent_df.loc[sold_agent_id, \"position\"] = 1\n",
        "            # print(self.agent_df)\n",
        "            return self.market_price\n",
        "        return None\n",
        "\n",
        "\n",
        "    def __ref_simulate(self, num_of_ticks, max_time_noise=1):\n",
        "        self.price_history = [self.market_price]\n",
        "        tick_times = [self.tick_time]\n",
        "        while len(tick_times) < num_of_ticks:\n",
        "            random_span_factor = random.uniform(1, max_time_noise)\n",
        "            self.tick_time += self.tick_time_unit * random_span_factor\n",
        "            price = self.contruct()\n",
        "            if price is not None:\n",
        "                # print(self.tick_time)\n",
        "                self.price_history.append(price)\n",
        "                tick_times.append(self.tick_time)\n",
        "            else:\n",
        "                self.advance_order_price()\n",
        "        price_hist_df = pd.DataFrame(self.price_history, columns=[\"price\"])\n",
        "        tick_times = np.asarray(tick_times)\n",
        "        self.tick_time = 0\n",
        "        return price_hist_df, tick_times\n",
        "\n",
        "    def __freq_advance_simulate(self, num_of_ticks, max_time_noise=1):\n",
        "        self.price_history = [self.market_price]\n",
        "        tick_times = [self.tick_time]\n",
        "        while len(tick_times) < num_of_ticks:\n",
        "            random_span_factor = random.uniform(1, max_time_noise)\n",
        "            self.tick_time += self.tick_time_unit * random_span_factor\n",
        "            self.advance_order_price()\n",
        "            price = self.contruct()\n",
        "            if price is not None:\n",
        "                # print(self.tick_time)\n",
        "                self.price_history.append(price)\n",
        "                tick_times.append(self.tick_time)\n",
        "        price_hist_df = pd.DataFrame(self.price_history, columns=[\"price\"])\n",
        "        tick_times = np.asarray(tick_times)\n",
        "        self.tick_time = 0\n",
        "        return price_hist_df, tick_times\n",
        "\n",
        "\n",
        "class DeterministicDealerModelV3(DeterministicDealerModelV1):\n",
        "\n",
        "    def __init__(self, num_agent, max_volatility = 0.02, min_volatility = 0.01, trade_unit=0.001, initial_price=100, spread=1, initial_positions=None, tick_time=0.001, experimental=False,\n",
        "                 dealer_sensitive=None, wma=1, dealer_sensitive_min=-3.5, dealer_sensitive_max=-1.5\n",
        "                 ) -> None:\n",
        "        \"\"\"_summary_\n",
        "\n",
        "        Args:\n",
        "            dealer_sensitive (int|Iterable, optional): this values represent sensitivity of each agent for past prices. greater/less than 0 means follower/contrarian. Defaults to None and initialized with random values by normal dist with mean and sigma\n",
        "            wma (int|Iterable, optional): this values represent how long agents will be affected by past values. Defaults to 1.\n",
        "        \"\"\"\n",
        "        super().__init__(num_agent, max_volatility, min_volatility, trade_unit, initial_price, spread, initial_positions, tick_time)\n",
        "        self.price_history = [self.market_price]\n",
        "        self.tick_times = [self.tick_time]\n",
        "\n",
        "        if dealer_sensitive is None:\n",
        "            # create array with random values between -1 to 1\n",
        "            self.dealer_sensitive = np.asarray([random.uniform(dealer_sensitive_min, dealer_sensitive_max) for i in range(num_agent)])\n",
        "        elif isinstance(dealer_sensitive, (int, float)):\n",
        "            # create array with fixed value\n",
        "            self.dealer_sensitive = np.asarray([ dealer_sensitive for i in range(num_agent)])\n",
        "        elif isinstance(dealer_sensitive, Iterable):\n",
        "            # use provided array\n",
        "            self.dealer_sensitive = np.asanyarray(dealer_sensitive)\n",
        "        else:\n",
        "            raise TypeError(\"dealer_sensitive must be either float or Iterable object\")\n",
        "\n",
        "        if isinstance(wma, int):\n",
        "            # create weight array with random values between 0 to 1\n",
        "            self.weight_array = np.asarray([random.uniform(0, 1) for i in range(wma)])\n",
        "            self.__total_weight = np.sum(self.weight_array)\n",
        "            self.wma = wma\n",
        "        elif isinstance(wma, Iterable):\n",
        "            #  use wma as weight array\n",
        "            self.weight_array = np.asarray(wma)\n",
        "            self.__total_weight = np.sum(self.weight_array)\n",
        "            self.wma = len(wma)\n",
        "        else:\n",
        "            raise TypeError(\"wma must be either int or Iterable object\")\n",
        "\n",
        "\n",
        "    def __wma(self):\n",
        "        if len(self.price_history) >= self.wma + 1:\n",
        "            wma_price = 0.0\n",
        "            for i in range(1, self.wma+1):\n",
        "                price_diff = self.price_history[-i] - self.price_history[-i -1]\n",
        "                wma_price += (self.weight_array[i-1] * price_diff)\n",
        "            return wma_price/self.__total_weight\n",
        "        else:\n",
        "            return 0\n",
        "\n",
        "    def advance_order_price(self):\n",
        "        follow_factors = self.dealer_sensitive * self.__wma()\n",
        "        self.agent_df.price += self.agent_df.position * self.agent_df.tend + follow_factors\n",
        "        return self.agent_df.price"
      ],
      "metadata": {
        "id": "BIjYAyeoLHWb"
      },
      "execution_count": 237,
      "outputs": []
    },
    {
      "cell_type": "code",
      "source": [
        "total_seconds = 60*30\n",
        "\n",
        "start_index = random.randint(0, len(tick_df))\n",
        "start_date = tick_df.index[start_index]\n",
        "end_date = start_date + pd.to_timedelta(total_seconds, unit=\"S\")\n",
        "target_index = tick_df.index[start_index:][tick_df.index[start_index:] <= end_date]\n",
        "tgt_ohlc_src = tick_df.loc[target_index].resample(\"MIN\").ohlc().dropna().price.diff().iloc[1:]"
      ],
      "metadata": {
        "id": "L-auQabmI0f7"
      },
      "execution_count": 238,
      "outputs": []
    },
    {
      "cell_type": "code",
      "source": [
        "initial_positions = [(-1)**i for i in range(1000)]\n",
        "# initial_positions = None\n",
        "model = DeterministicDealerModelV3(1000, spread=mean_spread*100, max_volatility=0.1, initial_positions = initial_positions)\n",
        "prices, ticks = model.simulate(len(target_index))\n",
        "prices.index = target_index"
      ],
      "metadata": {
        "id": "yWcQ74oYJwmS"
      },
      "execution_count": 239,
      "outputs": []
    },
    {
      "cell_type": "code",
      "source": [
        "ohlc_min_sim_df = prices.resample('MIN').ohlc().dropna()\n",
        "ohlc_min_sim_src = ohlc_min_sim_df.diff().iloc[1:]\n",
        "ohlc_min_sim_src.describe()"
      ],
      "metadata": {
        "colab": {
          "base_uri": "https://localhost:8080/",
          "height": 332
        },
        "id": "DzqD6wsCKFgd",
        "outputId": "b0b90f40-007c-439e-e8e7-3da9ee0aa089"
      },
      "execution_count": 240,
      "outputs": [
        {
          "output_type": "execute_result",
          "data": {
            "text/plain": [
              "           price                                 \n",
              "            open       high        low      close\n",
              "count  30.000000  30.000000  30.000000  30.000000\n",
              "mean   -0.000654  -0.000488  -0.001067  -0.000567\n",
              "std     0.008741   0.006441   0.007287   0.008889\n",
              "min    -0.016000  -0.012000  -0.018000  -0.019000\n",
              "25%    -0.006750  -0.006000  -0.005750  -0.006000\n",
              "50%    -0.001500  -0.001000  -0.001000  -0.000500\n",
              "75%     0.004000   0.003000   0.004000   0.004750\n",
              "max     0.020000   0.014000   0.011000   0.019000"
            ],
            "text/html": [
              "\n",
              "  <div id=\"df-27f2438f-30a7-4706-add1-5ff34d11ec18\" class=\"colab-df-container\">\n",
              "    <div>\n",
              "<style scoped>\n",
              "    .dataframe tbody tr th:only-of-type {\n",
              "        vertical-align: middle;\n",
              "    }\n",
              "\n",
              "    .dataframe tbody tr th {\n",
              "        vertical-align: top;\n",
              "    }\n",
              "\n",
              "    .dataframe thead tr th {\n",
              "        text-align: left;\n",
              "    }\n",
              "</style>\n",
              "<table border=\"1\" class=\"dataframe\">\n",
              "  <thead>\n",
              "    <tr>\n",
              "      <th></th>\n",
              "      <th colspan=\"4\" halign=\"left\">price</th>\n",
              "    </tr>\n",
              "    <tr>\n",
              "      <th></th>\n",
              "      <th>open</th>\n",
              "      <th>high</th>\n",
              "      <th>low</th>\n",
              "      <th>close</th>\n",
              "    </tr>\n",
              "  </thead>\n",
              "  <tbody>\n",
              "    <tr>\n",
              "      <th>count</th>\n",
              "      <td>30.000000</td>\n",
              "      <td>30.000000</td>\n",
              "      <td>30.000000</td>\n",
              "      <td>30.000000</td>\n",
              "    </tr>\n",
              "    <tr>\n",
              "      <th>mean</th>\n",
              "      <td>-0.000654</td>\n",
              "      <td>-0.000488</td>\n",
              "      <td>-0.001067</td>\n",
              "      <td>-0.000567</td>\n",
              "    </tr>\n",
              "    <tr>\n",
              "      <th>std</th>\n",
              "      <td>0.008741</td>\n",
              "      <td>0.006441</td>\n",
              "      <td>0.007287</td>\n",
              "      <td>0.008889</td>\n",
              "    </tr>\n",
              "    <tr>\n",
              "      <th>min</th>\n",
              "      <td>-0.016000</td>\n",
              "      <td>-0.012000</td>\n",
              "      <td>-0.018000</td>\n",
              "      <td>-0.019000</td>\n",
              "    </tr>\n",
              "    <tr>\n",
              "      <th>25%</th>\n",
              "      <td>-0.006750</td>\n",
              "      <td>-0.006000</td>\n",
              "      <td>-0.005750</td>\n",
              "      <td>-0.006000</td>\n",
              "    </tr>\n",
              "    <tr>\n",
              "      <th>50%</th>\n",
              "      <td>-0.001500</td>\n",
              "      <td>-0.001000</td>\n",
              "      <td>-0.001000</td>\n",
              "      <td>-0.000500</td>\n",
              "    </tr>\n",
              "    <tr>\n",
              "      <th>75%</th>\n",
              "      <td>0.004000</td>\n",
              "      <td>0.003000</td>\n",
              "      <td>0.004000</td>\n",
              "      <td>0.004750</td>\n",
              "    </tr>\n",
              "    <tr>\n",
              "      <th>max</th>\n",
              "      <td>0.020000</td>\n",
              "      <td>0.014000</td>\n",
              "      <td>0.011000</td>\n",
              "      <td>0.019000</td>\n",
              "    </tr>\n",
              "  </tbody>\n",
              "</table>\n",
              "</div>\n",
              "    <div class=\"colab-df-buttons\">\n",
              "\n",
              "  <div class=\"colab-df-container\">\n",
              "    <button class=\"colab-df-convert\" onclick=\"convertToInteractive('df-27f2438f-30a7-4706-add1-5ff34d11ec18')\"\n",
              "            title=\"Convert this dataframe to an interactive table.\"\n",
              "            style=\"display:none;\">\n",
              "\n",
              "  <svg xmlns=\"http://www.w3.org/2000/svg\" height=\"24px\" viewBox=\"0 -960 960 960\">\n",
              "    <path d=\"M120-120v-720h720v720H120Zm60-500h600v-160H180v160Zm220 220h160v-160H400v160Zm0 220h160v-160H400v160ZM180-400h160v-160H180v160Zm440 0h160v-160H620v160ZM180-180h160v-160H180v160Zm440 0h160v-160H620v160Z\"/>\n",
              "  </svg>\n",
              "    </button>\n",
              "\n",
              "  <style>\n",
              "    .colab-df-container {\n",
              "      display:flex;\n",
              "      gap: 12px;\n",
              "    }\n",
              "\n",
              "    .colab-df-convert {\n",
              "      background-color: #E8F0FE;\n",
              "      border: none;\n",
              "      border-radius: 50%;\n",
              "      cursor: pointer;\n",
              "      display: none;\n",
              "      fill: #1967D2;\n",
              "      height: 32px;\n",
              "      padding: 0 0 0 0;\n",
              "      width: 32px;\n",
              "    }\n",
              "\n",
              "    .colab-df-convert:hover {\n",
              "      background-color: #E2EBFA;\n",
              "      box-shadow: 0px 1px 2px rgba(60, 64, 67, 0.3), 0px 1px 3px 1px rgba(60, 64, 67, 0.15);\n",
              "      fill: #174EA6;\n",
              "    }\n",
              "\n",
              "    .colab-df-buttons div {\n",
              "      margin-bottom: 4px;\n",
              "    }\n",
              "\n",
              "    [theme=dark] .colab-df-convert {\n",
              "      background-color: #3B4455;\n",
              "      fill: #D2E3FC;\n",
              "    }\n",
              "\n",
              "    [theme=dark] .colab-df-convert:hover {\n",
              "      background-color: #434B5C;\n",
              "      box-shadow: 0px 1px 3px 1px rgba(0, 0, 0, 0.15);\n",
              "      filter: drop-shadow(0px 1px 2px rgba(0, 0, 0, 0.3));\n",
              "      fill: #FFFFFF;\n",
              "    }\n",
              "  </style>\n",
              "\n",
              "    <script>\n",
              "      const buttonEl =\n",
              "        document.querySelector('#df-27f2438f-30a7-4706-add1-5ff34d11ec18 button.colab-df-convert');\n",
              "      buttonEl.style.display =\n",
              "        google.colab.kernel.accessAllowed ? 'block' : 'none';\n",
              "\n",
              "      async function convertToInteractive(key) {\n",
              "        const element = document.querySelector('#df-27f2438f-30a7-4706-add1-5ff34d11ec18');\n",
              "        const dataTable =\n",
              "          await google.colab.kernel.invokeFunction('convertToInteractive',\n",
              "                                                    [key], {});\n",
              "        if (!dataTable) return;\n",
              "\n",
              "        const docLinkHtml = 'Like what you see? Visit the ' +\n",
              "          '<a target=\"_blank\" href=https://colab.research.google.com/notebooks/data_table.ipynb>data table notebook</a>'\n",
              "          + ' to learn more about interactive tables.';\n",
              "        element.innerHTML = '';\n",
              "        dataTable['output_type'] = 'display_data';\n",
              "        await google.colab.output.renderOutput(dataTable, element);\n",
              "        const docLink = document.createElement('div');\n",
              "        docLink.innerHTML = docLinkHtml;\n",
              "        element.appendChild(docLink);\n",
              "      }\n",
              "    </script>\n",
              "  </div>\n",
              "\n",
              "\n",
              "<div id=\"df-1542b0d6-a48f-49b9-b34f-9596476348f2\">\n",
              "  <button class=\"colab-df-quickchart\" onclick=\"quickchart('df-1542b0d6-a48f-49b9-b34f-9596476348f2')\"\n",
              "            title=\"Suggest charts\"\n",
              "            style=\"display:none;\">\n",
              "\n",
              "<svg xmlns=\"http://www.w3.org/2000/svg\" height=\"24px\"viewBox=\"0 0 24 24\"\n",
              "     width=\"24px\">\n",
              "    <g>\n",
              "        <path d=\"M19 3H5c-1.1 0-2 .9-2 2v14c0 1.1.9 2 2 2h14c1.1 0 2-.9 2-2V5c0-1.1-.9-2-2-2zM9 17H7v-7h2v7zm4 0h-2V7h2v10zm4 0h-2v-4h2v4z\"/>\n",
              "    </g>\n",
              "</svg>\n",
              "  </button>\n",
              "\n",
              "<style>\n",
              "  .colab-df-quickchart {\n",
              "      --bg-color: #E8F0FE;\n",
              "      --fill-color: #1967D2;\n",
              "      --hover-bg-color: #E2EBFA;\n",
              "      --hover-fill-color: #174EA6;\n",
              "      --disabled-fill-color: #AAA;\n",
              "      --disabled-bg-color: #DDD;\n",
              "  }\n",
              "\n",
              "  [theme=dark] .colab-df-quickchart {\n",
              "      --bg-color: #3B4455;\n",
              "      --fill-color: #D2E3FC;\n",
              "      --hover-bg-color: #434B5C;\n",
              "      --hover-fill-color: #FFFFFF;\n",
              "      --disabled-bg-color: #3B4455;\n",
              "      --disabled-fill-color: #666;\n",
              "  }\n",
              "\n",
              "  .colab-df-quickchart {\n",
              "    background-color: var(--bg-color);\n",
              "    border: none;\n",
              "    border-radius: 50%;\n",
              "    cursor: pointer;\n",
              "    display: none;\n",
              "    fill: var(--fill-color);\n",
              "    height: 32px;\n",
              "    padding: 0;\n",
              "    width: 32px;\n",
              "  }\n",
              "\n",
              "  .colab-df-quickchart:hover {\n",
              "    background-color: var(--hover-bg-color);\n",
              "    box-shadow: 0 1px 2px rgba(60, 64, 67, 0.3), 0 1px 3px 1px rgba(60, 64, 67, 0.15);\n",
              "    fill: var(--button-hover-fill-color);\n",
              "  }\n",
              "\n",
              "  .colab-df-quickchart-complete:disabled,\n",
              "  .colab-df-quickchart-complete:disabled:hover {\n",
              "    background-color: var(--disabled-bg-color);\n",
              "    fill: var(--disabled-fill-color);\n",
              "    box-shadow: none;\n",
              "  }\n",
              "\n",
              "  .colab-df-spinner {\n",
              "    border: 2px solid var(--fill-color);\n",
              "    border-color: transparent;\n",
              "    border-bottom-color: var(--fill-color);\n",
              "    animation:\n",
              "      spin 1s steps(1) infinite;\n",
              "  }\n",
              "\n",
              "  @keyframes spin {\n",
              "    0% {\n",
              "      border-color: transparent;\n",
              "      border-bottom-color: var(--fill-color);\n",
              "      border-left-color: var(--fill-color);\n",
              "    }\n",
              "    20% {\n",
              "      border-color: transparent;\n",
              "      border-left-color: var(--fill-color);\n",
              "      border-top-color: var(--fill-color);\n",
              "    }\n",
              "    30% {\n",
              "      border-color: transparent;\n",
              "      border-left-color: var(--fill-color);\n",
              "      border-top-color: var(--fill-color);\n",
              "      border-right-color: var(--fill-color);\n",
              "    }\n",
              "    40% {\n",
              "      border-color: transparent;\n",
              "      border-right-color: var(--fill-color);\n",
              "      border-top-color: var(--fill-color);\n",
              "    }\n",
              "    60% {\n",
              "      border-color: transparent;\n",
              "      border-right-color: var(--fill-color);\n",
              "    }\n",
              "    80% {\n",
              "      border-color: transparent;\n",
              "      border-right-color: var(--fill-color);\n",
              "      border-bottom-color: var(--fill-color);\n",
              "    }\n",
              "    90% {\n",
              "      border-color: transparent;\n",
              "      border-bottom-color: var(--fill-color);\n",
              "    }\n",
              "  }\n",
              "</style>\n",
              "\n",
              "  <script>\n",
              "    async function quickchart(key) {\n",
              "      const quickchartButtonEl =\n",
              "        document.querySelector('#' + key + ' button');\n",
              "      quickchartButtonEl.disabled = true;  // To prevent multiple clicks.\n",
              "      quickchartButtonEl.classList.add('colab-df-spinner');\n",
              "      try {\n",
              "        const charts = await google.colab.kernel.invokeFunction(\n",
              "            'suggestCharts', [key], {});\n",
              "      } catch (error) {\n",
              "        console.error('Error during call to suggestCharts:', error);\n",
              "      }\n",
              "      quickchartButtonEl.classList.remove('colab-df-spinner');\n",
              "      quickchartButtonEl.classList.add('colab-df-quickchart-complete');\n",
              "    }\n",
              "    (() => {\n",
              "      let quickchartButtonEl =\n",
              "        document.querySelector('#df-1542b0d6-a48f-49b9-b34f-9596476348f2 button');\n",
              "      quickchartButtonEl.style.display =\n",
              "        google.colab.kernel.accessAllowed ? 'block' : 'none';\n",
              "    })();\n",
              "  </script>\n",
              "</div>\n",
              "\n",
              "    </div>\n",
              "  </div>\n"
            ]
          },
          "metadata": {},
          "execution_count": 240
        }
      ]
    },
    {
      "cell_type": "code",
      "source": [
        "mean = ohlc_min_src.close.mean()\n",
        "std = ohlc_min_src.close.std()\n",
        "cumulative, bin_edges = cumulative_dist(ohlc_min_src.close.abs(), bins=500)\n",
        "\n",
        "mean = ohlc_min_src.close.mean()\n",
        "std = ohlc_min_src.close.std()\n",
        "tgt_cumulative, tgt_bin_edges = cumulative_dist(tgt_ohlc_src.close.abs(), bins=500)\n",
        "\n",
        "mean = ohlc_min_sim_src.price.close.mean()\n",
        "std = ohlc_min_sim_src.price.close.std()\n",
        "sim_cumulative, sim_bin_edges = cumulative_dist(ohlc_min_sim_src.price.close.abs(), bins=500)\n",
        "\n",
        "\n",
        "plt.plot(bin_edges, cumulative, color=\"gray\", marker=\"o\", markersize=2, label=\"market\")\n",
        "plt.plot(tgt_bin_edges, tgt_cumulative, color=\"black\", marker=\"o\", markersize=2, label=\"market\", linestyle=\"--\")\n",
        "plt.plot(sim_bin_edges, sim_cumulative, color=\"blue\", marker=\"o\", markersize=2, label=\"simulation\")\n",
        "\n",
        "plt.title('Cumulative Distribution')\n",
        "plt.xlabel('|P(t+1) - P(t)|')\n",
        "plt.ylabel('Cumulative Probability')\n",
        "plt.xscale('log')\n",
        "plt.yscale('log')\n",
        "plt.ylim(1e-8, 1)\n",
        "plt.xlim(1e-8, 1)\n",
        "plt.legend()\n",
        "plt.show()"
      ],
      "metadata": {
        "colab": {
          "base_uri": "https://localhost:8080/",
          "height": 477
        },
        "id": "TBGCWvy5L1GN",
        "outputId": "fda34d7a-fedf-474e-8acd-b50e48774bcc"
      },
      "execution_count": 241,
      "outputs": [
        {
          "output_type": "display_data",
          "data": {
            "text/plain": [
              "<Figure size 640x480 with 1 Axes>"
            ],
            "image/png": "[encoded data removed]"
          },
          "metadata": {}
        }
      ]
    },
    {
      "cell_type": "code",
      "source": [
        "indices, similarities, _ = self_similarity(ohlc_min_src.close, k=20)\n",
        "tgt_indices, tgt_similarities, _ = self_similarity(tgt_ohlc_src.close, k=20)\n",
        "sim_indices, sim_similarities, _ = self_similarity(ohlc_min_sim_src.price.close, k=20)\n",
        "\n",
        "\n",
        "plt.plot(indices, similarities, color=\"gray\", label=\"market(2021)\")\n",
        "plt.plot(tgt_indices, tgt_similarities, color=\"black\", label=\"market(target)\", linestyle=\"--\")\n",
        "plt.plot(sim_indices, sim_similarities, color=\"blue\", label=\"simulation\")\n",
        "plt.title('Cumulative Distribution')\n",
        "plt.xlabel('time diff periods (ticks)')\n",
        "plt.ylabel('Similarity')\n",
        "plt.legend()\n",
        "plt.show()"
      ],
      "metadata": {
        "colab": {
          "base_uri": "https://localhost:8080/",
          "height": 472
        },
        "id": "wVt_6SsjMGvm",
        "outputId": "1265fef6-5ee0-41e1-d0ca-1440f619a4e3"
      },
      "execution_count": 242,
      "outputs": [
        {
          "output_type": "display_data",
          "data": {
            "text/plain": [
              "<Figure size 640x480 with 1 Axes>"
            ],
            "image/png": "[encoded data removed]"
          },
          "metadata": {}
        }
      ]
    },
    {
      "cell_type": "code",
      "source": [
        "periods = [i for i in range(1, 10)]\n",
        "var_diffusions = np.array([diffusion(ohlc_min_src.close, period) for period in periods])\n",
        "std_diffusions = np.sqrt(var_diffusions)\n",
        "\n",
        "tgt_var_diffusions = np.array([diffusion(tgt_ohlc_src.close, period) for period in periods])\n",
        "tgt_std_diffusions = np.sqrt(var_diffusions)\n",
        "\n",
        "sim_var_diffusions = np.array([diffusion(ohlc_min_sim_src.price.close, period) for period in periods])\n",
        "sim_std_diffusions = np.sqrt(sim_var_diffusions)\n",
        "\n",
        "# creating ohlc data with noise factor with uniforme distribution is not good\n",
        "plt.plot(periods, var_diffusions/var_diffusions[0], label=\"actual market(2021)\", color=\"gray\", linestyle=\"-\", marker=\"o\", markersize=4)\n",
        "plt.plot(periods, tgt_var_diffusions/tgt_var_diffusions[0], label=\"actual market(target)\", color=\"black\", linestyle=\"--\", marker=\"o\", markersize=4)\n",
        "plt.plot(periods, sim_var_diffusions/sim_var_diffusions[0], label=\"simulation\", color=\"blue\", linestyle=\"-\", marker=\"o\", markersize=4)\n",
        "# plt.yscale(\"log\")\n",
        "# plt.xscale(\"log\")\n",
        "plt.xlabel(\"diff periods\")\n",
        "plt.ylabel(\"var(periods)/var(1)\")\n",
        "plt.legend()\n",
        "plt.show()"
      ],
      "metadata": {
        "colab": {
          "base_uri": "https://localhost:8080/",
          "height": 449
        },
        "id": "T9Xgm5geMVRf",
        "outputId": "2ed91318-baf6-4d9f-9e77-88303d87c1e1"
      },
      "execution_count": 244,
      "outputs": [
        {
          "output_type": "display_data",
          "data": {
            "text/plain": [
              "<Figure size 640x480 with 1 Axes>"
            ],
            "image/png": "[encoded data removed]"
          },
          "metadata": {}
        }
      ]
    },
    {
      "cell_type": "code",
      "source": [],
      "metadata": {
        "id": "DLY0rdLEVCfP"
      },
      "execution_count": 243,
      "outputs": []
    }
  ],
  "metadata": {
    "kernelspec": {
      "display_name": "venv_38",
      "language": "python",
      "name": "python3"
    },
    "language_info": {
      "codemirror_mode": {
        "name": "ipython",
        "version": 3
      },
      "file_extension": ".py",
      "mimetype": "text/x-python",
      "name": "python",
      "nbconvert_exporter": "python",
      "pygments_lexer": "ipython3",
      "version": "3.8.10"
    },
    "colab": {
      "provenance": [],
      "toc_visible": true
    }
  },
  "nbformat": 4,
  "nbformat_minor": 0
}