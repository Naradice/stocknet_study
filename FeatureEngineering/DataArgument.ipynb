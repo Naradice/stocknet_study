{
 "cells": [
  {
   "cell_type": "markdown",
   "metadata": {},
   "source": [
    "This notebook compare a token of actual market and argumented data before creating Dataset with a data argument"
   ]
  },
  {
   "cell_type": "code",
   "execution_count": 2,
   "metadata": {},
   "outputs": [],
   "source": [
    "import os\n",
    "import time\n",
    "\n",
    "try:\n",
    "  from google.colab import drive\n",
    "  IS_GOOGLE_COLAB = True\n",
    "except ImportError:\n",
    "  IS_GOOGLE_COLAB = False\n",
    "\n",
    "if IS_GOOGLE_COLAB:\n",
    "  mount_path='/content/drive'\n",
    "  base_folder = \"/Data/FX\"\n",
    "  data_folder = f'{mount_path}/My Drive{base_folder}'\n",
    "  drive.mount(mount_path)\n",
    "else:\n",
    "  base_folder = '../../Data/'\n",
    "  data_folder = os.path.join(base_folder, \"fx\")"
   ]
  },
  {
   "cell_type": "markdown",
   "metadata": {},
   "source": [
    "# Deterministic Multi Agent Simulation"
   ]
  },
  {
   "cell_type": "code",
   "execution_count": 3,
   "metadata": {},
   "outputs": [],
   "source": [
    "import random\n",
    "from collections.abc import Iterable\n",
    "\n",
    "import numpy as np\n",
    "import pandas as pd\n",
    "\n",
    "\n",
    "class DeterministicDealerModelV1:\n",
    "    \n",
    "    def __init__(self, num_agent, max_volatility = 0.02, min_volatility = 0.01, trade_unit=0.001, initial_price=100, spread=1, initial_positions=None, tick_time=0.001, experimental=False) -> None:\n",
    "        # min_vol should be greater than 0\n",
    "        # agent tendency: agent change his order prices based on the tendency\n",
    "        tendency = pd.Series([random.uniform(min_volatility, max_volatility) for i in range(num_agent)], dtype=float)\n",
    "        if trade_unit < 1:\n",
    "            do_round = True\n",
    "            decimal = 0.1\n",
    "            decimal_num = 1\n",
    "            while True:\n",
    "                check = trade_unit / decimal\n",
    "                if check >= 1 - trade_unit:\n",
    "                    break\n",
    "                decimal *= 0.1\n",
    "                decimal_num += 1\n",
    "                if decimal_num > 100:\n",
    "                    do_round = False \n",
    "                    break\n",
    "            if do_round is True:\n",
    "                tendency = tendency.round(decimal_num)\n",
    "        prices = pd.Series([random.uniform(initial_price, initial_price + spread) for i in range(num_agent)], dtype=float)\n",
    "        if initial_positions is None:\n",
    "            position_trends = pd.Series([random.choice([-1, 1]) for i in range(num_agent)], dtype=int)\n",
    "        elif len(initial_positions) == num_agent:\n",
    "            position_trends = pd.Series(initial_positions, dtype=int)\n",
    "        else:\n",
    "            raise ValueError(\"initial position is invalid.\")\n",
    "        self.agent_df = pd.concat([tendency, position_trends, prices], axis=1, keys=[\"tend\", \"position\", \"price\"], names=[\"id\"])\n",
    "        self.spread = spread\n",
    "        self.market_price = initial_price + self.spread\n",
    "        self.__initial_price = initial_price\n",
    "        self.__min_vol = min_volatility\n",
    "        self.__max_vol = max_volatility\n",
    "        self.trade_unit = trade_unit\n",
    "        self.tick_time = 0.0\n",
    "        self.tick_time_unit = tick_time\n",
    "        if experimental is True:\n",
    "            self.simulate = self.__freq_advance_simulate\n",
    "        else:\n",
    "            self.simulate = self.__ref_simulate\n",
    "                \n",
    "    def advance_order_price(self):\n",
    "        self.agent_df.price += self.agent_df.position * self.agent_df.tend\n",
    "        # print(\"*kept*\")\n",
    "        # print(self.agent_df)\n",
    "        return self.agent_df.price\n",
    "    \n",
    "    def contruct(self):\n",
    "        ask_agents = self.agent_df.loc[self.agent_df.position == 1]\n",
    "        bought_agent_id = ask_agents.price.idxmax()\n",
    "        ask_order_price = ask_agents.price[bought_agent_id]\n",
    "        \n",
    "        bid_agents = self.agent_df.loc[self.agent_df.position == -1]\n",
    "        sold_agent_id = bid_agents.price.idxmin()\n",
    "        bid_order_price = bid_agents.price[sold_agent_id] + self.spread\n",
    "    \n",
    "        if ask_order_price >= bid_order_price:\n",
    "            # print(\"---contructed!!---\")\n",
    "            self.market_price = (((ask_order_price + bid_order_price)/2) // self.trade_unit) * self.trade_unit\n",
    "            # print(bought_agent_id, sold_agent_id)\n",
    "            self.agent_df.loc[bought_agent_id, \"position\"] = -1\n",
    "            self.agent_df.loc[sold_agent_id, \"position\"] = 1\n",
    "            # print(self.agent_df)\n",
    "            return self.market_price\n",
    "        return None\n",
    "            \n",
    "    \n",
    "    def __ref_simulate(self, ticks_num:int):\n",
    "        price_history = [self.market_price]\n",
    "        tick_times = [self.tick_time]\n",
    "        for tick in range(ticks_num):\n",
    "            self.tick_time += self.tick_time_unit\n",
    "            price = self.contruct()\n",
    "            if price is not None:\n",
    "                # print(self.tick_time)\n",
    "                price_history.append(price)\n",
    "                tick_times.append(self.tick_time)\n",
    "            else:\n",
    "                self.advance_order_price()\n",
    "        price_hist_df = pd.DataFrame(price_history, columns=[\"price\"])\n",
    "        return price_hist_df, tick_times\n",
    "    \n",
    "    def __freq_advance_simulate(self, ticks_num:int):\n",
    "        price_history = [self.market_price]\n",
    "        tick_times = [self.tick_time]\n",
    "        for tick in range(ticks_num):\n",
    "            self.tick_time += self.tick_time_unit\n",
    "            self.advance_order_price()\n",
    "            price = self.contruct()\n",
    "            if price is not None:\n",
    "                # print(self.tick_time)\n",
    "                price_history.append(price)\n",
    "                tick_times.append(self.tick_time)\n",
    "        price_hist_df = pd.DataFrame(price_history, columns=[\"price\"])\n",
    "        return price_hist_df, tick_times\n",
    "\n",
    "class DeterministicDealerModelV3(DeterministicDealerModelV1):\n",
    "    \n",
    "    def __init__(self, num_agent, max_volatility = 0.02, min_volatility = 0.01, trade_unit=0.001, initial_price=100, spread=1, initial_positions=None, tick_time=0.001,\n",
    "                 dealer_sensitive=None, wma=1, dealer_sensitive_min=-3.5, dealer_sensitive_max=-1.5\n",
    "                 ) -> None:\n",
    "        \"\"\"_summary_\n",
    "\n",
    "        Args:\n",
    "            dealer_sensitive (int|Iterable, optional): this values represent sensitivity of each agent for past prices. greater/less than 0 means follower/contrarian. Defaults to None and initialized with random values by normal dist with mean and sigma\n",
    "            wma (int|Iterable, optional): this values represent how long agents will be affected by past values. Defaults to 1.\n",
    "        \"\"\"\n",
    "        super().__init__(num_agent, max_volatility, min_volatility, trade_unit, initial_price, spread, initial_positions, tick_time)\n",
    "        self.price_history = [self.market_price]\n",
    "        self.tick_times = [self.tick_time]\n",
    "        \n",
    "        if dealer_sensitive is None:\n",
    "            # create array with random values between -1 to 1 \n",
    "            self.dealer_sensitive = np.asarray([random.uniform(dealer_sensitive_min, dealer_sensitive_max) for i in range(num_agent)])\n",
    "        elif isinstance(dealer_sensitive, (int, float)):\n",
    "            # create array with fixed value\n",
    "            self.dealer_sensitive = np.asarray([ dealer_sensitive for i in range(num_agent)])\n",
    "        elif isinstance(dealer_sensitive, Iterable):\n",
    "            # use provided array\n",
    "            self.dealer_sensitive = np.asanyarray(dealer_sensitive)\n",
    "        else:\n",
    "            raise TypeError(\"dealer_sensitive must be either float or Iterable object\")\n",
    "        \n",
    "        if isinstance(wma, int):\n",
    "            # create weight array with random values between 0 to 1 \n",
    "            self.weight_array = np.asarray([random.uniform(0, 1) for i in range(wma)])\n",
    "            self.__total_weight = np.sum(self.weight_array)\n",
    "            self.wma = wma\n",
    "        elif isinstance(wma, Iterable):\n",
    "            #  use wma as weight array\n",
    "            self.weight_array = np.asarray(wma)\n",
    "            self.__total_weight = np.sum(self.weight_array)\n",
    "            self.wma = len(wma)\n",
    "        else:\n",
    "            raise TypeError(\"wma must be either int or Iterable object\")\n",
    "            \n",
    "    \n",
    "    def __wma(self):\n",
    "        if len(self.price_history) >= self.wma + 1:\n",
    "            wma_price = 0.0\n",
    "            for i in range(1, self.wma+1):\n",
    "                price_diff = self.price_history[-i] - self.price_history[-i -1]\n",
    "                wma_price += (self.weight_array[i-1] * price_diff)\n",
    "            return wma_price/self.__total_weight\n",
    "        else:\n",
    "            return 0\n",
    "                \n",
    "    def advance_order_price(self):\n",
    "        follow_factors = self.dealer_sensitive * self.__wma()\n",
    "        self.agent_df.price += self.agent_df.position * self.agent_df.tend + follow_factors\n",
    "        return self.agent_df.price\n",
    "            \n",
    "    \n",
    "    def simulate(self, ticks_num:int):\n",
    "        for tick in range(ticks_num):\n",
    "            self.tick_time += self.tick_time_unit\n",
    "            price = self.contruct()\n",
    "            if price is not None:\n",
    "                # print(self.tick_time)\n",
    "                self.price_history.append(price)\n",
    "                self.tick_times.append(self.tick_time)\n",
    "            else:\n",
    "                self.advance_order_price()\n",
    "        price_hist_df = pd.DataFrame(self.price_history, columns=[\"price\"])\n",
    "        return price_hist_df, np.asarray(self.tick_times)"
   ]
  },
  {
   "cell_type": "markdown",
   "metadata": {},
   "source": [
    "## Investigation"
   ]
  },
  {
   "cell_type": "code",
   "execution_count": null,
   "metadata": {},
   "outputs": [],
   "source": [
    "import matplotlib.pyplot as plt\n",
    "\n",
    "# Loaad Actual Market Data\n",
    "tick_df = pd.read_csv(f\"{data_folder}/OANDA_2021_tick.csv\", index_col=0, parse_dates=True)\n",
    "# remove market holiday\n",
    "out_condition = 3600 * 24\n",
    "time_diff = (tick_df.index[1:] - tick_df.index[:-1]).total_seconds()\n",
    "time_diff = time_diff[time_diff < out_condition]\n",
    "min_span = time_diff[time_diff > 0].min()\n",
    "time_span = np.round(time_diff/min_span)\n",
    "mean_spread = tick_df.spread.mean()"
   ]
  },
  {
   "cell_type": "code",
   "execution_count": 68,
   "metadata": {},
   "outputs": [],
   "source": [
    "start_time = time.time()\n",
    "model = DeterministicDealerModelV3(1000, spread=mean_spread*100)\n",
    "prices, ticks = model.simulate(len(tick_df))\n",
    "end_time = time.time()\n",
    "elasped_time = end_time - start_time"
   ]
  },
  {
   "cell_type": "code",
   "execution_count": 35,
   "metadata": {},
   "outputs": [],
   "source": [
    "def cumulative_dist(data, bins=100):\n",
    "    counts, bin_edges = np.histogram(data, bins=bins, density=False)\n",
    "    counts_prob = counts/counts.sum()\n",
    "    cumulative = np.cumsum(counts_prob)\n",
    "    possibilities = 1 - cumulative\n",
    "    return np.array([1, *possibilities]) , np.array([1e-10, *bin_edges[1:]])"
   ]
  },
  {
   "cell_type": "markdown",
   "metadata": {},
   "source": [
    "### Tick Data Comparison"
   ]
  },
  {
   "cell_type": "code",
   "execution_count": 38,
   "metadata": {},
   "outputs": [
    {
     "data": {
      "text/plain": [
       "2020-12-31 17:00:00.166    0.000\n",
       "2020-12-31 17:00:00.204    0.000\n",
       "2020-12-31 17:00:00.231    0.000\n",
       "2020-12-31 17:00:02.442    0.001\n",
       "2020-12-31 17:00:02.485    0.000\n",
       "Name: price, dtype: float64"
      ]
     },
     "execution_count": 38,
     "metadata": {},
     "output_type": "execute_result"
    }
   ],
   "source": [
    "token_length = 60\n",
    "tick_src = tick_df.price.diff().iloc[1:]\n",
    "tick_token_sample = tick_src.iloc[:token_length]\n",
    "tick_token_sample.head()"
   ]
  },
  {
   "cell_type": "code",
   "execution_count": 62,
   "metadata": {},
   "outputs": [
    {
     "data": {
      "text/plain": [
       "1   -0.002633\n",
       "2    0.000000\n",
       "3    0.000000\n",
       "4    0.000000\n",
       "5    0.000000\n",
       "Name: price, dtype: float64"
      ]
     },
     "execution_count": 62,
     "metadata": {},
     "output_type": "execute_result"
    }
   ],
   "source": [
    "sim_src = prices.price.diff().iloc[1:]\n",
    "sim_src.head()"
   ]
  },
  {
   "cell_type": "code",
   "execution_count": 32,
   "metadata": {},
   "outputs": [
    {
     "data": {
      "text/plain": [
       "count    7.315639e+07\n",
       "mean     1.645516e-07\n",
       "std      7.874238e-04\n",
       "min     -2.510000e-01\n",
       "25%      0.000000e+00\n",
       "50%      0.000000e+00\n",
       "75%      0.000000e+00\n",
       "max      2.600000e-01\n",
       "Name: price, dtype: float64"
      ]
     },
     "execution_count": 32,
     "metadata": {},
     "output_type": "execute_result"
    }
   ],
   "source": [
    "tick_src.describe()"
   ]
  },
  {
   "cell_type": "code",
   "execution_count": 63,
   "metadata": {},
   "outputs": [
    {
     "data": {
      "text/plain": [
       "count    9474.000000\n",
       "mean       -0.000027\n",
       "std         0.000855\n",
       "min        -0.006000\n",
       "25%         0.000000\n",
       "50%         0.000000\n",
       "75%         0.000000\n",
       "max         0.006000\n",
       "Name: price, dtype: float64"
      ]
     },
     "execution_count": 63,
     "metadata": {},
     "output_type": "execute_result"
    }
   ],
   "source": [
    "# outlier is not simulated in the model. So min/max value is greater/less than market result.\n",
    "sim_src.describe()"
   ]
  },
  {
   "cell_type": "code",
   "execution_count": 31,
   "metadata": {},
   "outputs": [
    {
     "name": "stdout",
     "output_type": "stream",
     "text": [
      "skew: -0.6811019188661253\n",
      "kurt: 1899.1727622185908\n"
     ]
    }
   ],
   "source": [
    "print('skew:', tick_src.skew())\n",
    "print('kurt:', tick_src.kurtosis())"
   ]
  },
  {
   "cell_type": "code",
   "execution_count": 64,
   "metadata": {},
   "outputs": [
    {
     "name": "stdout",
     "output_type": "stream",
     "text": [
      "skew: 0.01017510498256384\n",
      "kurt: 2.9946326347086965\n"
     ]
    }
   ],
   "source": [
    "print('skew:', sim_src.skew())\n",
    "print('kurt:', sim_src.kurtosis())"
   ]
  },
  {
   "cell_type": "code",
   "execution_count": 39,
   "metadata": {},
   "outputs": [],
   "source": [
    "mean = tick_src.mean()\n",
    "std = tick_src.std()\n",
    "\n",
    "cumulative, bin_edges = cumulative_dist(tick_src.abs(), bins=500)\n",
    "num_samples = 1000\n",
    "data = abs(np.random.normal(mean, std, num_samples))\n",
    "n_cumulative, n_bin_edges = cumulative_dist(data)"
   ]
  },
  {
   "cell_type": "code",
   "execution_count": 66,
   "metadata": {},
   "outputs": [],
   "source": [
    "mean = sim_src.mean()\n",
    "std = sim_src.std()\n",
    "\n",
    "sim_cumulative, sim_bin_edges = cumulative_dist(sim_src.abs(), bins=500)\n",
    "num_samples = 1000\n",
    "data = abs(np.random.normal(mean, std, num_samples))\n",
    "sim_n_cumulative, sim_n_bin_edges = cumulative_dist(data)"
   ]
  },
  {
   "cell_type": "code",
   "execution_count": 67,
   "metadata": {},
   "outputs": [
    {
     "data": {
      "image/png": "[encoded data removed]",
      "text/plain": [
       "<Figure size 640x480 with 1 Axes>"
      ]
     },
     "metadata": {},
     "output_type": "display_data"
    }
   ],
   "source": [
    "plt.plot(bin_edges, cumulative, color=\"gray\", marker=\"o\", markersize=2, label=\"market\")\n",
    "plt.plot(n_bin_edges, n_cumulative, color=\"gray\", linestyle=\"--\", label=\"normal dist(market)\")\n",
    "\n",
    "plt.plot(sim_bin_edges, sim_cumulative, color=\"blue\", marker=\"o\", markersize=2, label=\"simulation\")\n",
    "plt.plot(sim_n_bin_edges, sim_n_cumulative, color=\"blue\", linestyle=\"--\", label=\"normal dist\")\n",
    "\n",
    "plt.title('Cumulative Distribution')\n",
    "plt.xlabel('|P(t+1) - P(t)|')\n",
    "plt.ylabel('Cumulative Probability')\n",
    "plt.xscale('log')\n",
    "plt.yscale('log')\n",
    "plt.ylim(1e-8, 1)\n",
    "plt.xlim(1e-8, 1)\n",
    "plt.legend()\n",
    "plt.show()"
   ]
  },
  {
   "cell_type": "code",
   "execution_count": null,
   "metadata": {},
   "outputs": [],
   "source": [
    "ohlc_column = ['open','high','low','close']\n",
    "ohlc_token_features = ohlc_column\n",
    "df = pd.read_csv(f\"{data_folder}/mt5_USDJPY_min30.zip\", parse_dates=True, index_col=0)"
   ]
  },
  {
   "cell_type": "code",
   "execution_count": 29,
   "metadata": {},
   "outputs": [
    {
     "data": {
      "text/html": [
       "<div>\n",
       "<style scoped>\n",
       "    .dataframe tbody tr th:only-of-type {\n",
       "        vertical-align: middle;\n",
       "    }\n",
       "\n",
       "    .dataframe tbody tr th {\n",
       "        vertical-align: top;\n",
       "    }\n",
       "\n",
       "    .dataframe thead th {\n",
       "        text-align: right;\n",
       "    }\n",
       "</style>\n",
       "<table border=\"1\" class=\"dataframe\">\n",
       "  <thead>\n",
       "    <tr style=\"text-align: right;\">\n",
       "      <th></th>\n",
       "      <th>open</th>\n",
       "      <th>high</th>\n",
       "      <th>low</th>\n",
       "      <th>close</th>\n",
       "    </tr>\n",
       "    <tr>\n",
       "      <th>time</th>\n",
       "      <th></th>\n",
       "      <th></th>\n",
       "      <th></th>\n",
       "      <th></th>\n",
       "    </tr>\n",
       "  </thead>\n",
       "  <tbody>\n",
       "    <tr>\n",
       "      <th>2014-07-07 09:00:00</th>\n",
       "      <td>0.016</td>\n",
       "      <td>0.024</td>\n",
       "      <td>0.017</td>\n",
       "      <td>0.011</td>\n",
       "    </tr>\n",
       "    <tr>\n",
       "      <th>2014-07-07 09:30:00</th>\n",
       "      <td>0.011</td>\n",
       "      <td>-0.031</td>\n",
       "      <td>-0.056</td>\n",
       "      <td>-0.069</td>\n",
       "    </tr>\n",
       "    <tr>\n",
       "      <th>2014-07-07 10:00:00</th>\n",
       "      <td>-0.066</td>\n",
       "      <td>-0.063</td>\n",
       "      <td>-0.037</td>\n",
       "      <td>-0.025</td>\n",
       "    </tr>\n",
       "    <tr>\n",
       "      <th>2014-07-07 10:30:00</th>\n",
       "      <td>-0.030</td>\n",
       "      <td>-0.027</td>\n",
       "      <td>-0.087</td>\n",
       "      <td>-0.078</td>\n",
       "    </tr>\n",
       "    <tr>\n",
       "      <th>2014-07-07 11:00:00</th>\n",
       "      <td>-0.076</td>\n",
       "      <td>-0.074</td>\n",
       "      <td>0.001</td>\n",
       "      <td>0.008</td>\n",
       "    </tr>\n",
       "  </tbody>\n",
       "</table>\n",
       "</div>"
      ],
      "text/plain": [
       "                      open   high    low  close\n",
       "time                                           \n",
       "2014-07-07 09:00:00  0.016  0.024  0.017  0.011\n",
       "2014-07-07 09:30:00  0.011 -0.031 -0.056 -0.069\n",
       "2014-07-07 10:00:00 -0.066 -0.063 -0.037 -0.025\n",
       "2014-07-07 10:30:00 -0.030 -0.027 -0.087 -0.078\n",
       "2014-07-07 11:00:00 -0.076 -0.074  0.001  0.008"
      ]
     },
     "execution_count": 29,
     "metadata": {},
     "output_type": "execute_result"
    }
   ],
   "source": [
    "ohlc_src = df[ohlc_token_features].diff()\n",
    "ohlc_token_sample = ohlc_src.iloc[1:token_length]\n",
    "ohlc_token_sample.head()"
   ]
  },
  {
   "cell_type": "code",
   "execution_count": null,
   "metadata": {},
   "outputs": [],
   "source": []
  }
 ],
 "metadata": {
  "kernelspec": {
   "display_name": "venv_38",
   "language": "python",
   "name": "python3"
  },
  "language_info": {
   "codemirror_mode": {
    "name": "ipython",
    "version": 3
   },
   "file_extension": ".py",
   "mimetype": "text/x-python",
   "name": "python",
   "nbconvert_exporter": "python",
   "pygments_lexer": "ipython3",
   "version": "3.8.10"
  }
 },
 "nbformat": 4,
 "nbformat_minor": 2
}
