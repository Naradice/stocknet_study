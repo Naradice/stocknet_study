{
 "cells": [
  {
   "cell_type": "markdown",
   "metadata": {},
   "source": [
    "# Standalization\n",
    "\n",
    "For a prediction by machine learning, standalized values should be able to be reverted."
   ]
  },
  {
   "cell_type": "code",
   "execution_count": null,
   "metadata": {},
   "outputs": [],
   "source": [
    "IS_GOOGLE_COLAB = False\n",
    "\n",
    "if IS_GOOGLE_COLAB:\n",
    "  base_folder = \"/Data/FX\"\n",
    "  data_folder = f'/content/drive/My Drive{base_folder}'\n",
    "else:\n",
    "  base_folder = 'L:/data/fx/HistData/csv'\n",
    "  data_folder = base_folder"
   ]
  },
  {
   "cell_type": "code",
   "execution_count": 81,
   "metadata": {},
   "outputs": [
    {
     "data": {
      "text/html": [
       "<div>\n",
       "<style scoped>\n",
       "    .dataframe tbody tr th:only-of-type {\n",
       "        vertical-align: middle;\n",
       "    }\n",
       "\n",
       "    .dataframe tbody tr th {\n",
       "        vertical-align: top;\n",
       "    }\n",
       "\n",
       "    .dataframe thead th {\n",
       "        text-align: right;\n",
       "    }\n",
       "</style>\n",
       "<table border=\"1\" class=\"dataframe\">\n",
       "  <thead>\n",
       "    <tr style=\"text-align: right;\">\n",
       "      <th></th>\n",
       "      <th>open</th>\n",
       "      <th>high</th>\n",
       "      <th>low</th>\n",
       "      <th>close</th>\n",
       "      <th>tick_volume</th>\n",
       "      <th>spread</th>\n",
       "      <th>real_volume</th>\n",
       "    </tr>\n",
       "    <tr>\n",
       "      <th>time</th>\n",
       "      <th></th>\n",
       "      <th></th>\n",
       "      <th></th>\n",
       "      <th></th>\n",
       "      <th></th>\n",
       "      <th></th>\n",
       "      <th></th>\n",
       "    </tr>\n",
       "  </thead>\n",
       "  <tbody>\n",
       "    <tr>\n",
       "      <th>2014-07-07 08:30:00</th>\n",
       "      <td>102.086</td>\n",
       "      <td>102.122</td>\n",
       "      <td>102.081</td>\n",
       "      <td>102.102</td>\n",
       "      <td>738</td>\n",
       "      <td>3</td>\n",
       "      <td>0</td>\n",
       "    </tr>\n",
       "    <tr>\n",
       "      <th>2014-07-07 09:00:00</th>\n",
       "      <td>102.102</td>\n",
       "      <td>102.146</td>\n",
       "      <td>102.098</td>\n",
       "      <td>102.113</td>\n",
       "      <td>1036</td>\n",
       "      <td>3</td>\n",
       "      <td>0</td>\n",
       "    </tr>\n",
       "    <tr>\n",
       "      <th>2014-07-07 09:30:00</th>\n",
       "      <td>102.113</td>\n",
       "      <td>102.115</td>\n",
       "      <td>102.042</td>\n",
       "      <td>102.044</td>\n",
       "      <td>865</td>\n",
       "      <td>3</td>\n",
       "      <td>0</td>\n",
       "    </tr>\n",
       "    <tr>\n",
       "      <th>2014-07-07 10:00:00</th>\n",
       "      <td>102.047</td>\n",
       "      <td>102.052</td>\n",
       "      <td>102.005</td>\n",
       "      <td>102.019</td>\n",
       "      <td>983</td>\n",
       "      <td>3</td>\n",
       "      <td>0</td>\n",
       "    </tr>\n",
       "    <tr>\n",
       "      <th>2014-07-07 10:30:00</th>\n",
       "      <td>102.017</td>\n",
       "      <td>102.025</td>\n",
       "      <td>101.918</td>\n",
       "      <td>101.941</td>\n",
       "      <td>1328</td>\n",
       "      <td>3</td>\n",
       "      <td>0</td>\n",
       "    </tr>\n",
       "    <tr>\n",
       "      <th>...</th>\n",
       "      <td>...</td>\n",
       "      <td>...</td>\n",
       "      <td>...</td>\n",
       "      <td>...</td>\n",
       "      <td>...</td>\n",
       "      <td>...</td>\n",
       "      <td>...</td>\n",
       "    </tr>\n",
       "    <tr>\n",
       "      <th>2022-08-12 21:30:00</th>\n",
       "      <td>133.461</td>\n",
       "      <td>133.506</td>\n",
       "      <td>133.439</td>\n",
       "      <td>133.484</td>\n",
       "      <td>1125</td>\n",
       "      <td>3</td>\n",
       "      <td>0</td>\n",
       "    </tr>\n",
       "    <tr>\n",
       "      <th>2022-08-12 22:00:00</th>\n",
       "      <td>133.484</td>\n",
       "      <td>133.530</td>\n",
       "      <td>133.437</td>\n",
       "      <td>133.475</td>\n",
       "      <td>1277</td>\n",
       "      <td>3</td>\n",
       "      <td>0</td>\n",
       "    </tr>\n",
       "    <tr>\n",
       "      <th>2022-08-12 22:30:00</th>\n",
       "      <td>133.475</td>\n",
       "      <td>133.486</td>\n",
       "      <td>133.433</td>\n",
       "      <td>133.483</td>\n",
       "      <td>1506</td>\n",
       "      <td>3</td>\n",
       "      <td>0</td>\n",
       "    </tr>\n",
       "    <tr>\n",
       "      <th>2022-08-12 23:00:00</th>\n",
       "      <td>133.484</td>\n",
       "      <td>133.536</td>\n",
       "      <td>133.465</td>\n",
       "      <td>133.521</td>\n",
       "      <td>1038</td>\n",
       "      <td>3</td>\n",
       "      <td>0</td>\n",
       "    </tr>\n",
       "    <tr>\n",
       "      <th>2022-08-12 23:30:00</th>\n",
       "      <td>133.521</td>\n",
       "      <td>133.522</td>\n",
       "      <td>133.301</td>\n",
       "      <td>133.313</td>\n",
       "      <td>2515</td>\n",
       "      <td>3</td>\n",
       "      <td>0</td>\n",
       "    </tr>\n",
       "  </tbody>\n",
       "</table>\n",
       "<p>100720 rows × 7 columns</p>\n",
       "</div>"
      ],
      "text/plain": [
       "                        open     high      low    close  tick_volume  spread  \\\n",
       "time                                                                           \n",
       "2014-07-07 08:30:00  102.086  102.122  102.081  102.102          738       3   \n",
       "2014-07-07 09:00:00  102.102  102.146  102.098  102.113         1036       3   \n",
       "2014-07-07 09:30:00  102.113  102.115  102.042  102.044          865       3   \n",
       "2014-07-07 10:00:00  102.047  102.052  102.005  102.019          983       3   \n",
       "2014-07-07 10:30:00  102.017  102.025  101.918  101.941         1328       3   \n",
       "...                      ...      ...      ...      ...          ...     ...   \n",
       "2022-08-12 21:30:00  133.461  133.506  133.439  133.484         1125       3   \n",
       "2022-08-12 22:00:00  133.484  133.530  133.437  133.475         1277       3   \n",
       "2022-08-12 22:30:00  133.475  133.486  133.433  133.483         1506       3   \n",
       "2022-08-12 23:00:00  133.484  133.536  133.465  133.521         1038       3   \n",
       "2022-08-12 23:30:00  133.521  133.522  133.301  133.313         2515       3   \n",
       "\n",
       "                     real_volume  \n",
       "time                              \n",
       "2014-07-07 08:30:00            0  \n",
       "2014-07-07 09:00:00            0  \n",
       "2014-07-07 09:30:00            0  \n",
       "2014-07-07 10:00:00            0  \n",
       "2014-07-07 10:30:00            0  \n",
       "...                          ...  \n",
       "2022-08-12 21:30:00            0  \n",
       "2022-08-12 22:00:00            0  \n",
       "2022-08-12 22:30:00            0  \n",
       "2022-08-12 23:00:00            0  \n",
       "2022-08-12 23:30:00            0  \n",
       "\n",
       "[100720 rows x 7 columns]"
      ]
     },
     "execution_count": 81,
     "metadata": {},
     "output_type": "execute_result"
    }
   ],
   "source": [
    "import os\n",
    "import numpy as np\n",
    "import pandas as pd\n",
    "\n",
    "ohlc_column = ['open','high','low','close']\n",
    "file_name = \"mt5_USDJPY_min30.csv\"\n",
    "\n",
    "file_path = os.path.join(data_folder, 'fx', 'OANDA-Japan MT5 Live', file_name)\n",
    "file_path = os.path.abspath(file_path)\n",
    "df = pd.read_csv(file_path, parse_dates=True, index_col=0)\n",
    "df"
   ]
  },
  {
   "cell_type": "markdown",
   "metadata": {},
   "source": [
    "## MiniMax"
   ]
  },
  {
   "cell_type": "code",
   "execution_count": null,
   "metadata": {},
   "outputs": [],
   "source": []
  },
  {
   "cell_type": "markdown",
   "metadata": {},
   "source": [
    "## EMA"
   ]
  },
  {
   "cell_type": "code",
   "execution_count": 81,
   "metadata": {},
   "outputs": [],
   "source": [
    "# We can caliculate EMA by df.ewm(span=interval, adjust=False).mean(), but we can caliculate it by ourself so that we can revert it.\n",
    "import numpy as np\n",
    "\n",
    "\n",
    "interval = 10\n",
    "\n",
    "lastMeanValue = df.iloc[0]\n",
    "lastStdValue = df.iloc[0] - df.iloc[0]\n",
    "\n",
    "ema = [lastMeanValue]\n",
    "std = [lastStdValue]\n",
    "alpha = 2 / (interval + 1)\n",
    "\n",
    "for i in range(1, len(df)):\n",
    "    meanValue = lastMeanValue.values * (1 - alpha) + df.iloc[i] * alpha\n",
    "    meanValue.name = df.iloc[i].name\n",
    "    ema.append(meanValue)\n",
    "    if i < interval:\n",
    "        std_temp = [(df.iloc[index] - meanValue)**2 for index in range(i)]\n",
    "        denominator = i\n",
    "    else:\n",
    "        std_temp = [(df.iloc[index] - meanValue)**2 for index in range(i-interval, i)]\n",
    "        denominator = interval\n",
    "    stdValue = np.sqrt(sum(std_temp) / denominator)\n",
    "    stdValue.name = df.iloc[i].name\n",
    "    std.append(stdValue)\n",
    "    lastMeanValue = meanValue"
   ]
  },
  {
   "cell_type": "code",
   "execution_count": 85,
   "metadata": {},
   "outputs": [
    {
     "data": {
      "text/html": [
       "<div>\n",
       "<style scoped>\n",
       "    .dataframe tbody tr th:only-of-type {\n",
       "        vertical-align: middle;\n",
       "    }\n",
       "\n",
       "    .dataframe tbody tr th {\n",
       "        vertical-align: top;\n",
       "    }\n",
       "\n",
       "    .dataframe thead th {\n",
       "        text-align: right;\n",
       "    }\n",
       "</style>\n",
       "<table border=\"1\" class=\"dataframe\">\n",
       "  <thead>\n",
       "    <tr style=\"text-align: right;\">\n",
       "      <th></th>\n",
       "      <th>open</th>\n",
       "      <th>high</th>\n",
       "      <th>low</th>\n",
       "      <th>close</th>\n",
       "      <th>tick_volume</th>\n",
       "      <th>spread</th>\n",
       "      <th>real_volume</th>\n",
       "    </tr>\n",
       "  </thead>\n",
       "  <tbody>\n",
       "    <tr>\n",
       "      <th>2014-07-07 08:30:00</th>\n",
       "      <td>0.000000</td>\n",
       "      <td>0.000000</td>\n",
       "      <td>0.000000</td>\n",
       "      <td>0.000000</td>\n",
       "      <td>0.000000</td>\n",
       "      <td>0.000000e+00</td>\n",
       "      <td>0.0</td>\n",
       "    </tr>\n",
       "    <tr>\n",
       "      <th>Unnamed 0</th>\n",
       "      <td>0.002909</td>\n",
       "      <td>0.004364</td>\n",
       "      <td>0.003091</td>\n",
       "      <td>0.002000</td>\n",
       "      <td>54.181818</td>\n",
       "      <td>4.440892e-16</td>\n",
       "      <td>0.0</td>\n",
       "    </tr>\n",
       "    <tr>\n",
       "      <th>Unnamed 1</th>\n",
       "      <td>0.008032</td>\n",
       "      <td>0.015432</td>\n",
       "      <td>0.015584</td>\n",
       "      <td>0.015423</td>\n",
       "      <td>169.870697</td>\n",
       "      <td>4.440892e-16</td>\n",
       "      <td>0.0</td>\n",
       "    </tr>\n",
       "    <tr>\n",
       "      <th>Unnamed 2</th>\n",
       "      <td>0.019024</td>\n",
       "      <td>0.021188</td>\n",
       "      <td>0.025572</td>\n",
       "      <td>0.031005</td>\n",
       "      <td>129.107362</td>\n",
       "      <td>4.440892e-16</td>\n",
       "      <td>0.0</td>\n",
       "    </tr>\n",
       "    <tr>\n",
       "      <th>Unnamed 3</th>\n",
       "      <td>0.028893</td>\n",
       "      <td>0.037169</td>\n",
       "      <td>0.040943</td>\n",
       "      <td>0.042009</td>\n",
       "      <td>116.786879</td>\n",
       "      <td>4.440892e-16</td>\n",
       "      <td>0.0</td>\n",
       "    </tr>\n",
       "    <tr>\n",
       "      <th>...</th>\n",
       "      <td>...</td>\n",
       "      <td>...</td>\n",
       "      <td>...</td>\n",
       "      <td>...</td>\n",
       "      <td>...</td>\n",
       "      <td>...</td>\n",
       "      <td>...</td>\n",
       "    </tr>\n",
       "    <tr>\n",
       "      <th>Unnamed 100714</th>\n",
       "      <td>0.096641</td>\n",
       "      <td>0.125355</td>\n",
       "      <td>0.043455</td>\n",
       "      <td>0.099432</td>\n",
       "      <td>6734.099848</td>\n",
       "      <td>4.438598e-01</td>\n",
       "      <td>0.0</td>\n",
       "    </tr>\n",
       "    <tr>\n",
       "      <th>Unnamed 100715</th>\n",
       "      <td>0.099767</td>\n",
       "      <td>0.126956</td>\n",
       "      <td>0.045854</td>\n",
       "      <td>0.103189</td>\n",
       "      <td>6716.973613</td>\n",
       "      <td>4.444617e-01</td>\n",
       "      <td>0.0</td>\n",
       "    </tr>\n",
       "    <tr>\n",
       "      <th>Unnamed 100716</th>\n",
       "      <td>0.103523</td>\n",
       "      <td>0.092189</td>\n",
       "      <td>0.048039</td>\n",
       "      <td>0.083485</td>\n",
       "      <td>3419.276803</td>\n",
       "      <td>3.146527e-01</td>\n",
       "      <td>0.0</td>\n",
       "    </tr>\n",
       "    <tr>\n",
       "      <th>Unnamed 100717</th>\n",
       "      <td>0.083575</td>\n",
       "      <td>0.075404</td>\n",
       "      <td>0.047206</td>\n",
       "      <td>0.053656</td>\n",
       "      <td>1799.954359</td>\n",
       "      <td>3.149335e-01</td>\n",
       "      <td>0.0</td>\n",
       "    </tr>\n",
       "    <tr>\n",
       "      <th>Unnamed 100718</th>\n",
       "      <td>0.053432</td>\n",
       "      <td>0.055630</td>\n",
       "      <td>0.055489</td>\n",
       "      <td>0.057661</td>\n",
       "      <td>1093.366152</td>\n",
       "      <td>3.413038e-03</td>\n",
       "      <td>0.0</td>\n",
       "    </tr>\n",
       "  </tbody>\n",
       "</table>\n",
       "<p>100720 rows × 7 columns</p>\n",
       "</div>"
      ],
      "text/plain": [
       "                         open      high       low     close  tick_volume  \\\n",
       "2014-07-07 08:30:00  0.000000  0.000000  0.000000  0.000000     0.000000   \n",
       "Unnamed 0            0.002909  0.004364  0.003091  0.002000    54.181818   \n",
       "Unnamed 1            0.008032  0.015432  0.015584  0.015423   169.870697   \n",
       "Unnamed 2            0.019024  0.021188  0.025572  0.031005   129.107362   \n",
       "Unnamed 3            0.028893  0.037169  0.040943  0.042009   116.786879   \n",
       "...                       ...       ...       ...       ...          ...   \n",
       "Unnamed 100714       0.096641  0.125355  0.043455  0.099432  6734.099848   \n",
       "Unnamed 100715       0.099767  0.126956  0.045854  0.103189  6716.973613   \n",
       "Unnamed 100716       0.103523  0.092189  0.048039  0.083485  3419.276803   \n",
       "Unnamed 100717       0.083575  0.075404  0.047206  0.053656  1799.954359   \n",
       "Unnamed 100718       0.053432  0.055630  0.055489  0.057661  1093.366152   \n",
       "\n",
       "                           spread  real_volume  \n",
       "2014-07-07 08:30:00  0.000000e+00          0.0  \n",
       "Unnamed 0            4.440892e-16          0.0  \n",
       "Unnamed 1            4.440892e-16          0.0  \n",
       "Unnamed 2            4.440892e-16          0.0  \n",
       "Unnamed 3            4.440892e-16          0.0  \n",
       "...                           ...          ...  \n",
       "Unnamed 100714       4.438598e-01          0.0  \n",
       "Unnamed 100715       4.444617e-01          0.0  \n",
       "Unnamed 100716       3.146527e-01          0.0  \n",
       "Unnamed 100717       3.149335e-01          0.0  \n",
       "Unnamed 100718       3.413038e-03          0.0  \n",
       "\n",
       "[100720 rows x 7 columns]"
      ]
     },
     "execution_count": 85,
     "metadata": {},
     "output_type": "execute_result"
    }
   ],
   "source": [
    "std_df_org = pd.DataFrame(std)\n",
    "std_df_org"
   ]
  },
  {
   "cell_type": "code",
   "execution_count": 86,
   "metadata": {},
   "outputs": [],
   "source": [
    "ema_df_org = pd.DataFrame(ema)"
   ]
  },
  {
   "cell_type": "code",
   "execution_count": 88,
   "metadata": {},
   "outputs": [
    {
     "data": {
      "text/html": [
       "<div>\n",
       "<style scoped>\n",
       "    .dataframe tbody tr th:only-of-type {\n",
       "        vertical-align: middle;\n",
       "    }\n",
       "\n",
       "    .dataframe tbody tr th {\n",
       "        vertical-align: top;\n",
       "    }\n",
       "\n",
       "    .dataframe thead th {\n",
       "        text-align: right;\n",
       "    }\n",
       "</style>\n",
       "<table border=\"1\" class=\"dataframe\">\n",
       "  <thead>\n",
       "    <tr style=\"text-align: right;\">\n",
       "      <th></th>\n",
       "      <th>open</th>\n",
       "      <th>high</th>\n",
       "      <th>low</th>\n",
       "      <th>close</th>\n",
       "      <th>tick_volume</th>\n",
       "      <th>spread</th>\n",
       "      <th>real_volume</th>\n",
       "    </tr>\n",
       "    <tr>\n",
       "      <th>time</th>\n",
       "      <th></th>\n",
       "      <th></th>\n",
       "      <th></th>\n",
       "      <th></th>\n",
       "      <th></th>\n",
       "      <th></th>\n",
       "      <th></th>\n",
       "    </tr>\n",
       "  </thead>\n",
       "  <tbody>\n",
       "    <tr>\n",
       "      <th>2014-07-07 08:30:00</th>\n",
       "      <td>NaN</td>\n",
       "      <td>NaN</td>\n",
       "      <td>NaN</td>\n",
       "      <td>NaN</td>\n",
       "      <td>NaN</td>\n",
       "      <td>NaN</td>\n",
       "      <td>NaN</td>\n",
       "    </tr>\n",
       "    <tr>\n",
       "      <th>2014-07-07 09:00:00</th>\n",
       "      <td>1.500000</td>\n",
       "      <td>1.500000</td>\n",
       "      <td>1.500000</td>\n",
       "      <td>1.500000</td>\n",
       "      <td>1.500000</td>\n",
       "      <td>0.333333</td>\n",
       "      <td>NaN</td>\n",
       "    </tr>\n",
       "    <tr>\n",
       "      <th>2014-07-07 09:30:00</th>\n",
       "      <td>0.818059</td>\n",
       "      <td>-0.200831</td>\n",
       "      <td>-0.736604</td>\n",
       "      <td>-1.060983</td>\n",
       "      <td>0.116910</td>\n",
       "      <td>0.333333</td>\n",
       "      <td>NaN</td>\n",
       "    </tr>\n",
       "    <tr>\n",
       "      <th>2014-07-07 10:00:00</th>\n",
       "      <td>-0.663603</td>\n",
       "      <td>-0.930589</td>\n",
       "      <td>-0.761878</td>\n",
       "      <td>-0.651727</td>\n",
       "      <td>0.375118</td>\n",
       "      <td>0.333333</td>\n",
       "      <td>NaN</td>\n",
       "    </tr>\n",
       "    <tr>\n",
       "      <th>2014-07-07 10:30:00</th>\n",
       "      <td>-0.640667</td>\n",
       "      <td>-0.632138</td>\n",
       "      <td>-0.968854</td>\n",
       "      <td>-0.899932</td>\n",
       "      <td>1.144956</td>\n",
       "      <td>0.333333</td>\n",
       "      <td>NaN</td>\n",
       "    </tr>\n",
       "    <tr>\n",
       "      <th>...</th>\n",
       "      <td>...</td>\n",
       "      <td>...</td>\n",
       "      <td>...</td>\n",
       "      <td>...</td>\n",
       "      <td>...</td>\n",
       "      <td>...</td>\n",
       "      <td>...</td>\n",
       "    </tr>\n",
       "    <tr>\n",
       "      <th>2022-08-12 21:30:00</th>\n",
       "      <td>-0.276501</td>\n",
       "      <td>-0.227360</td>\n",
       "      <td>-0.186381</td>\n",
       "      <td>-0.156929</td>\n",
       "      <td>-0.129192</td>\n",
       "      <td>0.005720</td>\n",
       "      <td>-inf</td>\n",
       "    </tr>\n",
       "    <tr>\n",
       "      <th>2022-08-12 22:00:00</th>\n",
       "      <td>-0.156266</td>\n",
       "      <td>-0.132119</td>\n",
       "      <td>-0.156409</td>\n",
       "      <td>-0.147508</td>\n",
       "      <td>-0.099800</td>\n",
       "      <td>0.004673</td>\n",
       "      <td>-inf</td>\n",
       "    </tr>\n",
       "    <tr>\n",
       "      <th>2022-08-12 22:30:00</th>\n",
       "      <td>-0.146925</td>\n",
       "      <td>-0.279033</td>\n",
       "      <td>-0.144860</td>\n",
       "      <td>-0.123039</td>\n",
       "      <td>-0.142141</td>\n",
       "      <td>0.005401</td>\n",
       "      <td>-inf</td>\n",
       "    </tr>\n",
       "    <tr>\n",
       "      <th>2022-08-12 23:00:00</th>\n",
       "      <td>-0.119535</td>\n",
       "      <td>-0.098274</td>\n",
       "      <td>0.064262</td>\n",
       "      <td>0.036517</td>\n",
       "      <td>-0.291834</td>\n",
       "      <td>0.004415</td>\n",
       "      <td>-inf</td>\n",
       "    </tr>\n",
       "    <tr>\n",
       "      <th>2022-08-12 23:30:00</th>\n",
       "      <td>0.035881</td>\n",
       "      <td>-0.177622</td>\n",
       "      <td>-0.761330</td>\n",
       "      <td>-0.956001</td>\n",
       "      <td>-0.024660</td>\n",
       "      <td>0.333333</td>\n",
       "      <td>-inf</td>\n",
       "    </tr>\n",
       "  </tbody>\n",
       "</table>\n",
       "<p>100720 rows × 7 columns</p>\n",
       "</div>"
      ],
      "text/plain": [
       "                         open      high       low     close  tick_volume  \\\n",
       "time                                                                       \n",
       "2014-07-07 08:30:00       NaN       NaN       NaN       NaN          NaN   \n",
       "2014-07-07 09:00:00  1.500000  1.500000  1.500000  1.500000     1.500000   \n",
       "2014-07-07 09:30:00  0.818059 -0.200831 -0.736604 -1.060983     0.116910   \n",
       "2014-07-07 10:00:00 -0.663603 -0.930589 -0.761878 -0.651727     0.375118   \n",
       "2014-07-07 10:30:00 -0.640667 -0.632138 -0.968854 -0.899932     1.144956   \n",
       "...                       ...       ...       ...       ...          ...   \n",
       "2022-08-12 21:30:00 -0.276501 -0.227360 -0.186381 -0.156929    -0.129192   \n",
       "2022-08-12 22:00:00 -0.156266 -0.132119 -0.156409 -0.147508    -0.099800   \n",
       "2022-08-12 22:30:00 -0.146925 -0.279033 -0.144860 -0.123039    -0.142141   \n",
       "2022-08-12 23:00:00 -0.119535 -0.098274  0.064262  0.036517    -0.291834   \n",
       "2022-08-12 23:30:00  0.035881 -0.177622 -0.761330 -0.956001    -0.024660   \n",
       "\n",
       "                       spread  real_volume  \n",
       "time                                        \n",
       "2014-07-07 08:30:00       NaN          NaN  \n",
       "2014-07-07 09:00:00  0.333333          NaN  \n",
       "2014-07-07 09:30:00  0.333333          NaN  \n",
       "2014-07-07 10:00:00  0.333333          NaN  \n",
       "2014-07-07 10:30:00  0.333333          NaN  \n",
       "...                       ...          ...  \n",
       "2022-08-12 21:30:00  0.005720         -inf  \n",
       "2022-08-12 22:00:00  0.004673         -inf  \n",
       "2022-08-12 22:30:00  0.005401         -inf  \n",
       "2022-08-12 23:00:00  0.004415         -inf  \n",
       "2022-08-12 23:30:00  0.333333         -inf  \n",
       "\n",
       "[100720 rows x 7 columns]"
      ]
     },
     "execution_count": 88,
     "metadata": {},
     "output_type": "execute_result"
    }
   ],
   "source": [
    "alpha = 3\n",
    "\n",
    "standalized_df = df - ema_df_org\n",
    "standalized_df = standalized_df / (alpha * std_df_org.values)\n",
    "standalized_df"
   ]
  },
  {
   "cell_type": "code",
   "execution_count": 89,
   "metadata": {},
   "outputs": [
    {
     "name": "stderr",
     "output_type": "stream",
     "text": [
      "f:\\d_drive\\workspace\\stocknet_study\\venv_38\\lib\\site-packages\\numpy\\lib\\function_base.py:4573: RuntimeWarning: invalid value encountered in subtract\n",
      "  diff_b_a = subtract(b, a)\n"
     ]
    },
    {
     "data": {
      "text/html": [
       "<div>\n",
       "<style scoped>\n",
       "    .dataframe tbody tr th:only-of-type {\n",
       "        vertical-align: middle;\n",
       "    }\n",
       "\n",
       "    .dataframe tbody tr th {\n",
       "        vertical-align: top;\n",
       "    }\n",
       "\n",
       "    .dataframe thead th {\n",
       "        text-align: right;\n",
       "    }\n",
       "</style>\n",
       "<table border=\"1\" class=\"dataframe\">\n",
       "  <thead>\n",
       "    <tr style=\"text-align: right;\">\n",
       "      <th></th>\n",
       "      <th>open</th>\n",
       "      <th>high</th>\n",
       "      <th>low</th>\n",
       "      <th>close</th>\n",
       "      <th>tick_volume</th>\n",
       "      <th>spread</th>\n",
       "      <th>real_volume</th>\n",
       "    </tr>\n",
       "  </thead>\n",
       "  <tbody>\n",
       "    <tr>\n",
       "      <th>count</th>\n",
       "      <td>100719.000000</td>\n",
       "      <td>100719.000000</td>\n",
       "      <td>100719.000000</td>\n",
       "      <td>100719.000000</td>\n",
       "      <td>100719.000000</td>\n",
       "      <td>98262.000000</td>\n",
       "      <td>9.597900e+04</td>\n",
       "    </tr>\n",
       "    <tr>\n",
       "      <th>mean</th>\n",
       "      <td>0.016511</td>\n",
       "      <td>0.010196</td>\n",
       "      <td>0.023938</td>\n",
       "      <td>0.016541</td>\n",
       "      <td>0.008257</td>\n",
       "      <td>-0.117512</td>\n",
       "      <td>-inf</td>\n",
       "    </tr>\n",
       "    <tr>\n",
       "      <th>std</th>\n",
       "      <td>0.380599</td>\n",
       "      <td>0.387734</td>\n",
       "      <td>0.384545</td>\n",
       "      <td>0.380704</td>\n",
       "      <td>0.347196</td>\n",
       "      <td>1.638258</td>\n",
       "      <td>NaN</td>\n",
       "    </tr>\n",
       "    <tr>\n",
       "      <th>min</th>\n",
       "      <td>-3.218376</td>\n",
       "      <td>-2.704827</td>\n",
       "      <td>-3.745723</td>\n",
       "      <td>-3.184221</td>\n",
       "      <td>-2.125165</td>\n",
       "      <td>-294.896560</td>\n",
       "      <td>-inf</td>\n",
       "    </tr>\n",
       "    <tr>\n",
       "      <th>25%</th>\n",
       "      <td>-0.227095</td>\n",
       "      <td>-0.243963</td>\n",
       "      <td>-0.218994</td>\n",
       "      <td>-0.227316</td>\n",
       "      <td>-0.208834</td>\n",
       "      <td>-0.333333</td>\n",
       "      <td>NaN</td>\n",
       "    </tr>\n",
       "    <tr>\n",
       "      <th>50%</th>\n",
       "      <td>0.024699</td>\n",
       "      <td>0.006659</td>\n",
       "      <td>0.044276</td>\n",
       "      <td>0.024732</td>\n",
       "      <td>-0.057721</td>\n",
       "      <td>-0.178237</td>\n",
       "      <td>NaN</td>\n",
       "    </tr>\n",
       "    <tr>\n",
       "      <th>75%</th>\n",
       "      <td>0.260305</td>\n",
       "      <td>0.253884</td>\n",
       "      <td>0.275383</td>\n",
       "      <td>0.260511</td>\n",
       "      <td>0.184176</td>\n",
       "      <td>0.092205</td>\n",
       "      <td>-3.333333e-01</td>\n",
       "    </tr>\n",
       "    <tr>\n",
       "      <th>max</th>\n",
       "      <td>2.806099</td>\n",
       "      <td>3.258523</td>\n",
       "      <td>3.317428</td>\n",
       "      <td>2.817657</td>\n",
       "      <td>1.749614</td>\n",
       "      <td>2.594326</td>\n",
       "      <td>1.884382e+00</td>\n",
       "    </tr>\n",
       "  </tbody>\n",
       "</table>\n",
       "</div>"
      ],
      "text/plain": [
       "                open           high            low          close  \\\n",
       "count  100719.000000  100719.000000  100719.000000  100719.000000   \n",
       "mean        0.016511       0.010196       0.023938       0.016541   \n",
       "std         0.380599       0.387734       0.384545       0.380704   \n",
       "min        -3.218376      -2.704827      -3.745723      -3.184221   \n",
       "25%        -0.227095      -0.243963      -0.218994      -0.227316   \n",
       "50%         0.024699       0.006659       0.044276       0.024732   \n",
       "75%         0.260305       0.253884       0.275383       0.260511   \n",
       "max         2.806099       3.258523       3.317428       2.817657   \n",
       "\n",
       "         tick_volume        spread   real_volume  \n",
       "count  100719.000000  98262.000000  9.597900e+04  \n",
       "mean        0.008257     -0.117512          -inf  \n",
       "std         0.347196      1.638258           NaN  \n",
       "min        -2.125165   -294.896560          -inf  \n",
       "25%        -0.208834     -0.333333           NaN  \n",
       "50%        -0.057721     -0.178237           NaN  \n",
       "75%         0.184176      0.092205 -3.333333e-01  \n",
       "max         1.749614      2.594326  1.884382e+00  "
      ]
     },
     "execution_count": 89,
     "metadata": {},
     "output_type": "execute_result"
    }
   ],
   "source": [
    "standalized_df.describe()"
   ]
  },
  {
   "cell_type": "code",
   "execution_count": 92,
   "metadata": {},
   "outputs": [
    {
     "data": {
      "text/plain": [
       "<Axes: title={'center': 'Standalized Prices'}, xlabel='time'>"
      ]
     },
     "execution_count": 92,
     "metadata": {},
     "output_type": "execute_result"
    },
    {
     "data": {
      "image/png": "[encoded data removed]",
      "text/plain": [
       "<Figure size 1500x500 with 1 Axes>"
      ]
     },
     "metadata": {},
     "output_type": "display_data"
    }
   ],
   "source": [
    "standalized_df[[\"open\", \"high\", \"low\", \"close\"]].plot(figsize=(15, 5), title=\"Standalized Prices\")"
   ]
  },
  {
   "cell_type": "code",
   "execution_count": 94,
   "metadata": {},
   "outputs": [
    {
     "data": {
      "text/plain": [
       "<Axes: >"
      ]
     },
     "execution_count": 94,
     "metadata": {},
     "output_type": "execute_result"
    },
    {
     "data": {
      "image/png": "[encoded data removed]",
      "text/plain": [
       "<Figure size 500x500 with 1 Axes>"
      ]
     },
     "metadata": {},
     "output_type": "display_data"
    }
   ],
   "source": [
    "standalized_df[\"open\"].hist(bins=100, figsize=(5, 5))"
   ]
  },
  {
   "cell_type": "markdown",
   "metadata": {},
   "source": [
    "Revert the standalized value\n",
    "\n",
    "\n",
    "It require value_i to revert prediction value_i to original value_i<br>\n",
    "  prediction[i] = (value_i - mean_i) / std_i <br>\n",
    "  value_i = prediction[index] * std_i + mean_i<br>\n",
    "  mean_i = (1 - alpha) * mean_{i-1} + alpha * value_i<br>\n",
    "So, we can't revert prediction value to original value_i. It only help to understand that prediction inmply value_i is high or low than mean_i"
   ]
  },
  {
   "cell_type": "markdown",
   "metadata": {},
   "source": [
    "## Diff ID"
   ]
  },
  {
   "cell_type": "code",
   "execution_count": 6,
   "metadata": {},
   "outputs": [],
   "source": [
    "import glob"
   ]
  },
  {
   "cell_type": "code",
   "execution_count": 82,
   "metadata": {},
   "outputs": [
    {
     "data": {
      "text/plain": [
       "time\n",
       "2014-07-07 09:00:00    0.011\n",
       "2014-07-07 09:30:00   -0.069\n",
       "2014-07-07 10:00:00   -0.025\n",
       "2014-07-07 10:30:00   -0.078\n",
       "2014-07-07 11:00:00    0.008\n",
       "Name: close, dtype: float64"
      ]
     },
     "execution_count": 82,
     "metadata": {},
     "output_type": "execute_result"
    }
   ],
   "source": [
    "close_df = df[\"close\"].diff().dropna()\n",
    "close_df.head()"
   ]
  },
  {
   "cell_type": "code",
   "execution_count": 83,
   "metadata": {},
   "outputs": [],
   "source": [
    "def count_sig_digits_visual(x, tol=1e-12):\n",
    "    \"\"\"\n",
    "    浮動小数点誤差を無視し、人間の目で見たときの有効数字の桁数を推定\n",
    "    \"\"\"\n",
    "    if x == 0 or np.isnan(x):\n",
    "        return 0\n",
    "\n",
    "    # 誤差を無視するため丸める（例: tol=1e-12 → 12桁以内に収める）\n",
    "    rounded = round(x / tol) * tol  # 例: tol=1e-12 の精度で揃える\n",
    "    # 見た目ベースで桁数を数える（指数表現なし）\n",
    "    s = format(rounded, '.15g')  # 最大15桁の精度で、人間が見る表現に近づける\n",
    "    s = s.replace('.', '')\n",
    "    return len(s)\n",
    "\n",
    "def group_by_close_values(series, atol=1e-12, rtol=1e-9):\n",
    "    values = np.sort(series[series > 0].values)\n",
    "    if len(values) == 0:\n",
    "        return pd.DataFrame(columns=[\"count\", \"sigfig_min\", \"sigfig_max\", \"sigfig_median\"])\n",
    "\n",
    "    groups = []\n",
    "    current_group = [values[0]]\n",
    "\n",
    "    for val in values[1:]:\n",
    "        if np.isclose(val, current_group[-1], atol=atol, rtol=rtol):\n",
    "            current_group.append(val)\n",
    "        else:\n",
    "            groups.append(current_group)\n",
    "            current_group = [val]\n",
    "\n",
    "    if current_group:\n",
    "        groups.append(current_group)\n",
    "\n",
    "    # 結果をまとめる\n",
    "    rows = []\n",
    "    for group in groups:\n",
    "        key = np.median(group)\n",
    "        rows.append({\n",
    "            \"value\": key,\n",
    "            \"count\": len(group),\n",
    "        })\n",
    "\n",
    "    return pd.DataFrame(rows).set_index(\"value\").sort_index()"
   ]
  },
  {
   "cell_type": "code",
   "execution_count": 84,
   "metadata": {},
   "outputs": [
    {
     "data": {
      "text/plain": [
       "time\n",
       "2014-07-07 09:00:00    0.011\n",
       "2014-07-07 09:30:00   -0.069\n",
       "2014-07-07 10:00:00   -0.025\n",
       "2014-07-07 10:30:00   -0.078\n",
       "2014-07-07 11:00:00    0.008\n",
       "                       ...  \n",
       "2022-08-12 21:30:00    0.023\n",
       "2022-08-12 22:00:00   -0.009\n",
       "2022-08-12 22:30:00    0.008\n",
       "2022-08-12 23:00:00    0.038\n",
       "2022-08-12 23:30:00   -0.208\n",
       "Name: close, Length: 100719, dtype: float64"
      ]
     },
     "execution_count": 84,
     "metadata": {},
     "output_type": "execute_result"
    }
   ],
   "source": [
    "close_df"
   ]
  },
  {
   "cell_type": "code",
   "execution_count": 86,
   "metadata": {},
   "outputs": [
    {
     "data": {
      "text/plain": [
       "np.float64(0.001)"
      ]
     },
     "execution_count": 86,
     "metadata": {},
     "output_type": "execute_result"
    }
   ],
   "source": [
    "diff_group = group_by_close_values(close_df)\n",
    "unit = diff_group[diff_group > diff_group.mean()].index.min()\n",
    "sf = count_sig_digits_visual(unit)\n",
    "unit = unit.round(sf)\n",
    "unit"
   ]
  },
  {
   "cell_type": "markdown",
   "metadata": {},
   "source": [
    "### STD BASE"
   ]
  },
  {
   "cell_type": "code",
   "execution_count": 88,
   "metadata": {},
   "outputs": [
    {
     "data": {
      "image/png": "[encoded data removed]",
      "text/plain": [
       "<Figure size 640x480 with 1 Axes>"
      ]
     },
     "metadata": {},
     "output_type": "display_data"
    }
   ],
   "source": [
    "import matplotlib.pyplot as plt\n",
    "\n",
    "ax = plt.subplot()\n",
    "\n",
    "close_mean = close_df.mean()\n",
    "close_std = close_df.std()\n",
    "\n",
    "counts, edges, patches = plt.hist(close_df, bins=1000, color='blue')\n",
    "\n",
    "# y軸の最大値を取得\n",
    "ymax = counts.max()\n",
    "\n",
    "# 範囲ごとに塗り潰し（a±b、a±2bに相当するstd使用）\n",
    "for alpha in range(4):\n",
    "    plt.axvspan(close_mean - close_std * (2** alpha), close_mean + close_std *(2**alpha), color='red', alpha=0.5 / (alpha+1), ymin=0, ymax=1)\n",
    "\n",
    "plt.title(\"Histogram with Highlighted Variance Ranges\")\n",
    "plt.xlabel(\"Value\")\n",
    "plt.ylabel(\"Frequency\")\n",
    "plt.show()"
   ]
  },
  {
   "cell_type": "code",
   "execution_count": 89,
   "metadata": {},
   "outputs": [],
   "source": [
    "def std_based_class(value, mean, std, max_alpha=3, sf=3):\n",
    "    rounded_value = np.round(value, sf)\n",
    "    if rounded_value == 0:\n",
    "        return 0\n",
    "    MAX_FACTOR = 10\n",
    "    unit = 1 / MAX_FACTOR\n",
    "    for id_index, factor in enumerate(range(1, MAX_FACTOR+1)):\n",
    "        alpha = unit * factor\n",
    "        if mean - std * alpha <= rounded_value and mean + std * alpha >= rounded_value:\n",
    "            id = id_index + 1\n",
    "            if mean > rounded_value:\n",
    "                return - id\n",
    "            else:\n",
    "                return id\n",
    "    \n",
    "    ID_BASE = MAX_FACTOR + 1\n",
    "\n",
    "    MAX_FACTOR = 5\n",
    "    unit = 1 / MAX_FACTOR\n",
    "    for id_index, factor in enumerate(range(1, MAX_FACTOR+1)):\n",
    "        alpha = 1 + unit * factor\n",
    "        if mean - std * alpha <= rounded_value and mean + std * alpha >= rounded_value:\n",
    "            id = ID_BASE + id_index\n",
    "            if mean > rounded_value:\n",
    "                return - id\n",
    "            else:\n",
    "                return id\n",
    "\n",
    "    ID_BASE += MAX_FACTOR\n",
    "\n",
    "    MAX_FACTOR = 2\n",
    "    unit = 1 / MAX_FACTOR\n",
    "    for id_index, factor in enumerate(range(1, MAX_FACTOR+1)):\n",
    "        alpha = 2 + unit * factor\n",
    "        if mean - std * alpha <= rounded_value and mean + std * alpha >= rounded_value:\n",
    "            id = ID_BASE + id_index\n",
    "            if mean > rounded_value:\n",
    "                return - id\n",
    "            else:\n",
    "                return id\n",
    "    \n",
    "    ID_BASE += MAX_FACTOR\n",
    "    for id_index, alpha in enumerate(range(2, max_alpha+1)):\n",
    "        if mean - std * 2 ** alpha <= rounded_value and mean + std * 2 ** alpha >= rounded_value:\n",
    "            id = ID_BASE + id_index\n",
    "            if mean > rounded_value:\n",
    "                return - id\n",
    "            else:\n",
    "                return id\n",
    "                \n",
    "    ID_BASE += max_alpha - 1 \n",
    "    if mean > rounded_value:\n",
    "        return - ID_BASE\n",
    "    else:\n",
    "        return ID_BASE"
   ]
  },
  {
   "cell_type": "code",
   "execution_count": 90,
   "metadata": {},
   "outputs": [],
   "source": [
    "std_id_df = close_df.apply(lambda x: std_based_class(x, close_mean, close_std))"
   ]
  },
  {
   "cell_type": "code",
   "execution_count": 91,
   "metadata": {},
   "outputs": [
    {
     "data": {
      "text/plain": [
       "time\n",
       "2014-07-07 09:00:00     2\n",
       "2014-07-07 09:30:00    -9\n",
       "2014-07-07 10:00:00    -3\n",
       "2014-07-07 10:30:00   -10\n",
       "2014-07-07 11:00:00     1\n",
       "Name: close, dtype: int64"
      ]
     },
     "execution_count": 91,
     "metadata": {},
     "output_type": "execute_result"
    }
   ],
   "source": [
    "std_id_df.head()"
   ]
  },
  {
   "cell_type": "code",
   "execution_count": 92,
   "metadata": {},
   "outputs": [
    {
     "data": {
      "text/plain": [
       "<Axes: >"
      ]
     },
     "execution_count": 92,
     "metadata": {},
     "output_type": "execute_result"
    },
    {
     "data": {
      "image/png": "[encoded data removed]",
      "text/plain": [
       "<Figure size 640x480 with 1 Axes>"
      ]
     },
     "metadata": {},
     "output_type": "display_data"
    }
   ],
   "source": [
    "std_id_df.hist(bins=41)"
   ]
  },
  {
   "cell_type": "code",
   "execution_count": 93,
   "metadata": {},
   "outputs": [
    {
     "data": {
      "text/plain": [
       "np.int64(40)"
      ]
     },
     "execution_count": 93,
     "metadata": {},
     "output_type": "execute_result"
    }
   ],
   "source": [
    "(std_id_df + abs(std_id_df.min())).max()"
   ]
  },
  {
   "cell_type": "code",
   "execution_count": 94,
   "metadata": {},
   "outputs": [
    {
     "data": {
      "text/plain": [
       "(-0.0851409980291379, 0.08576076192671432)"
      ]
     },
     "execution_count": 94,
     "metadata": {},
     "output_type": "execute_result"
    },
    {
     "data": {
      "image/png": "[encoded data removed]",
      "text/plain": [
       "<Figure size 640x480 with 1 Axes>"
      ]
     },
     "metadata": {},
     "output_type": "display_data"
    }
   ],
   "source": [
    "plt.hist(close_df, bins=1000)\n",
    "plt.xlim(close_mean - close_std, close_mean + close_std)"
   ]
  },
  {
   "cell_type": "code",
   "execution_count": 95,
   "metadata": {},
   "outputs": [
    {
     "data": {
      "text/plain": [
       "<Axes: xlabel='close'>"
      ]
     },
     "execution_count": 95,
     "metadata": {},
     "output_type": "execute_result"
    },
    {
     "data": {
      "image/png": "[encoded data removed]",
      "text/plain": [
       "<Figure size 640x480 with 1 Axes>"
      ]
     },
     "metadata": {},
     "output_type": "display_data"
    }
   ],
   "source": [
    "std_id_df.value_counts().plot.bar()"
   ]
  },
  {
   "cell_type": "code",
   "execution_count": 290,
   "metadata": {},
   "outputs": [
    {
     "data": {
      "text/html": [
       "<div>\n",
       "<style scoped>\n",
       "    .dataframe tbody tr th:only-of-type {\n",
       "        vertical-align: middle;\n",
       "    }\n",
       "\n",
       "    .dataframe tbody tr th {\n",
       "        vertical-align: top;\n",
       "    }\n",
       "\n",
       "    .dataframe thead th {\n",
       "        text-align: right;\n",
       "    }\n",
       "</style>\n",
       "<table border=\"1\" class=\"dataframe\">\n",
       "  <thead>\n",
       "    <tr style=\"text-align: right;\">\n",
       "      <th></th>\n",
       "      <th>close</th>\n",
       "      <th>id</th>\n",
       "    </tr>\n",
       "    <tr>\n",
       "      <th>time</th>\n",
       "      <th></th>\n",
       "      <th></th>\n",
       "    </tr>\n",
       "  </thead>\n",
       "  <tbody>\n",
       "    <tr>\n",
       "      <th>2014-07-07 09:00:00</th>\n",
       "      <td>0.011</td>\n",
       "      <td>2</td>\n",
       "    </tr>\n",
       "    <tr>\n",
       "      <th>2014-07-07 09:30:00</th>\n",
       "      <td>-0.069</td>\n",
       "      <td>-9</td>\n",
       "    </tr>\n",
       "    <tr>\n",
       "      <th>2014-07-07 10:00:00</th>\n",
       "      <td>-0.025</td>\n",
       "      <td>-3</td>\n",
       "    </tr>\n",
       "    <tr>\n",
       "      <th>2014-07-07 10:30:00</th>\n",
       "      <td>-0.078</td>\n",
       "      <td>-10</td>\n",
       "    </tr>\n",
       "    <tr>\n",
       "      <th>2014-07-07 11:00:00</th>\n",
       "      <td>0.008</td>\n",
       "      <td>1</td>\n",
       "    </tr>\n",
       "  </tbody>\n",
       "</table>\n",
       "</div>"
      ],
      "text/plain": [
       "                     close  id\n",
       "time                          \n",
       "2014-07-07 09:00:00  0.011   2\n",
       "2014-07-07 09:30:00 -0.069  -9\n",
       "2014-07-07 10:00:00 -0.025  -3\n",
       "2014-07-07 10:30:00 -0.078 -10\n",
       "2014-07-07 11:00:00  0.008   1"
      ]
     },
     "execution_count": 290,
     "metadata": {},
     "output_type": "execute_result"
    }
   ],
   "source": [
    "test_df = pd.concat([close_df, std_id_df], axis=1, keys=[\"close\", \"id\"])\n",
    "test_df.head()"
   ]
  },
  {
   "cell_type": "code",
   "execution_count": 294,
   "metadata": {},
   "outputs": [
    {
     "data": {
      "image/png": "[encoded data removed]",
      "text/plain": [
       "<Figure size 640x480 with 1 Axes>"
      ]
     },
     "metadata": {},
     "output_type": "display_data"
    }
   ],
   "source": [
    "for id in range(1, 11):\n",
    "    id_values = test_df[test_df[\"id\"] == id]\n",
    "    plt.hist(id_values[\"close\"], bins=20)"
   ]
  },
  {
   "cell_type": "markdown",
   "metadata": {},
   "source": [
    "### Parcentile Base"
   ]
  },
  {
   "cell_type": "code",
   "execution_count": 168,
   "metadata": {},
   "outputs": [],
   "source": [
    "pct = 1\n",
    "range_min = 0\n",
    "thresholds = [0]\n",
    "close_abs_df = close_df.abs()\n",
    "\n",
    "while pct < 100:\n",
    "    range_max = np.percentile(close_abs_df, pct)\n",
    "    range_max = np.round(range_max, sf)\n",
    "    if range_min == range_max:\n",
    "        pct += 1\n",
    "        continue\n",
    "    thresholds.append(range_max)\n",
    "    range_min = range_max\n",
    "    pct += 1"
   ]
  },
  {
   "cell_type": "code",
   "execution_count": 169,
   "metadata": {},
   "outputs": [],
   "source": [
    "pct_unit = 1/ (100 - len(thresholds))\n",
    "pct = 99 + pct_unit\n",
    "while pct <= 100:\n",
    "    range_max = np.percentile(close_abs_df, pct)\n",
    "    range_max = np.round(range_max, sf)\n",
    "    if range_min == range_max:\n",
    "        pct += pct_unit\n",
    "        continue\n",
    "    thresholds.append(range_max)\n",
    "    range_min = range_max\n",
    "    pct += pct_unit"
   ]
  },
  {
   "cell_type": "code",
   "execution_count": 170,
   "metadata": {},
   "outputs": [
    {
     "data": {
      "text/plain": [
       "[0,\n",
       " np.float64(1e-05),\n",
       " np.float64(2e-05),\n",
       " np.float64(3e-05),\n",
       " np.float64(4e-05),\n",
       " np.float64(5e-05),\n",
       " np.float64(6e-05),\n",
       " np.float64(7e-05),\n",
       " np.float64(8e-05),\n",
       " np.float64(9e-05),\n",
       " np.float64(0.0001),\n",
       " np.float64(0.00011),\n",
       " np.float64(0.00012),\n",
       " np.float64(0.00013),\n",
       " np.float64(0.00014),\n",
       " np.float64(0.00015),\n",
       " np.float64(0.00016),\n",
       " np.float64(0.00017),\n",
       " np.float64(0.00018),\n",
       " np.float64(0.00019),\n",
       " np.float64(0.0002),\n",
       " np.float64(0.00021),\n",
       " np.float64(0.00022),\n",
       " np.float64(0.00023),\n",
       " np.float64(0.00024),\n",
       " np.float64(0.00025),\n",
       " np.float64(0.00026),\n",
       " np.float64(0.00027),\n",
       " np.float64(0.00028),\n",
       " np.float64(0.00029),\n",
       " np.float64(0.0003),\n",
       " np.float64(0.00031),\n",
       " np.float64(0.00032),\n",
       " np.float64(0.00033),\n",
       " np.float64(0.00035),\n",
       " np.float64(0.00036),\n",
       " np.float64(0.00037),\n",
       " np.float64(0.00038),\n",
       " np.float64(0.00039),\n",
       " np.float64(0.0004),\n",
       " np.float64(0.00041),\n",
       " np.float64(0.00042),\n",
       " np.float64(0.00043),\n",
       " np.float64(0.00045),\n",
       " np.float64(0.00046),\n",
       " np.float64(0.00048),\n",
       " np.float64(0.00049),\n",
       " np.float64(0.0005),\n",
       " np.float64(0.00051),\n",
       " np.float64(0.00053),\n",
       " np.float64(0.00055),\n",
       " np.float64(0.00056),\n",
       " np.float64(0.00058),\n",
       " np.float64(0.0006),\n",
       " np.float64(0.00061),\n",
       " np.float64(0.00063),\n",
       " np.float64(0.00065),\n",
       " np.float64(0.00067),\n",
       " np.float64(0.0007),\n",
       " np.float64(0.00071),\n",
       " np.float64(0.00074),\n",
       " np.float64(0.00077),\n",
       " np.float64(0.0008),\n",
       " np.float64(0.00082),\n",
       " np.float64(0.00086),\n",
       " np.float64(0.0009),\n",
       " np.float64(0.00093),\n",
       " np.float64(0.00098),\n",
       " np.float64(0.001),\n",
       " np.float64(0.00103),\n",
       " np.float64(0.0011),\n",
       " np.float64(0.00118),\n",
       " np.float64(0.0012),\n",
       " np.float64(0.0013),\n",
       " np.float64(0.00133),\n",
       " np.float64(0.0014),\n",
       " np.float64(0.0015),\n",
       " np.float64(0.0016),\n",
       " np.float64(0.00171),\n",
       " np.float64(0.0019),\n",
       " np.float64(0.0021),\n",
       " np.float64(0.0025),\n",
       " np.float64(0.00327),\n",
       " np.float64(0.0033),\n",
       " np.float64(0.0034),\n",
       " np.float64(0.0035),\n",
       " np.float64(0.0036),\n",
       " np.float64(0.0037),\n",
       " np.float64(0.00383),\n",
       " np.float64(0.004),\n",
       " np.float64(0.0041),\n",
       " np.float64(0.0043),\n",
       " np.float64(0.0045),\n",
       " np.float64(0.0047),\n",
       " np.float64(0.005),\n",
       " np.float64(0.00541),\n",
       " np.float64(0.006),\n",
       " np.float64(0.0066),\n",
       " np.float64(0.0077)]"
      ]
     },
     "execution_count": 170,
     "metadata": {},
     "output_type": "execute_result"
    }
   ],
   "source": [
    "thresholds"
   ]
  },
  {
   "cell_type": "code",
   "execution_count": 173,
   "metadata": {},
   "outputs": [
    {
     "data": {
      "text/plain": [
       "(-0.0077, 0.0077)"
      ]
     },
     "execution_count": 173,
     "metadata": {},
     "output_type": "execute_result"
    },
    {
     "data": {
      "image/png": "[encoded data removed]",
      "text/plain": [
       "<Figure size 640x480 with 1 Axes>"
      ]
     },
     "metadata": {},
     "output_type": "display_data"
    }
   ],
   "source": [
    "ax = close_df.hist(bins=1000)\n",
    "ax.set_xlim(-0.0077, 0.0077)"
   ]
  },
  {
   "cell_type": "code",
   "execution_count": null,
   "metadata": {},
   "outputs": [],
   "source": []
  }
 ],
 "metadata": {
  "kernelspec": {
   "display_name": ".venv312",
   "language": "python",
   "name": "python3"
  },
  "language_info": {
   "codemirror_mode": {
    "name": "ipython",
    "version": 3
   },
   "file_extension": ".py",
   "mimetype": "text/x-python",
   "name": "python",
   "nbconvert_exporter": "python",
   "pygments_lexer": "ipython3",
   "version": "3.12.4"
  },
  "orig_nbformat": 4
 },
 "nbformat": 4,
 "nbformat_minor": 2
}
