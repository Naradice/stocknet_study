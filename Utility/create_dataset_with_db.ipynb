{
 "cells": [
  {
   "cell_type": "markdown",
   "id": "94baaf0f",
   "metadata": {},
   "source": [
    "# Dataset with DB"
   ]
  },
  {
   "cell_type": "markdown",
   "id": "a1ab9b95",
   "metadata": {},
   "source": [
    "## Create parquet"
   ]
  },
  {
   "cell_type": "code",
   "execution_count": 22,
   "id": "8336596d",
   "metadata": {},
   "outputs": [],
   "source": [
    "import glob\n",
    "import os\n",
    "\n",
    "import matplotlib.pyplot as plt\n",
    "import numpy as np\n",
    "import pandas as pd"
   ]
  },
  {
   "cell_type": "code",
   "execution_count": 2,
   "id": "667dbd0d",
   "metadata": {},
   "outputs": [],
   "source": [
    "stock_source_files = glob.glob(\"L:/data/yfinance/yfinance_*_D1.csv\")\n",
    "fx_source_files = glob.glob(\"L:/data/fx/OANDA-Japan MT5 Live/*d1.csv\")"
   ]
  },
  {
   "cell_type": "code",
   "execution_count": 3,
   "id": "0dd4685c",
   "metadata": {},
   "outputs": [],
   "source": [
    "def get_tick_size(price: float) -> float:\n",
    "    if price < 1000:\n",
    "        return 0.1\n",
    "    elif price < 3000:\n",
    "        return 0.5\n",
    "    elif price < 5000:\n",
    "        return 1\n",
    "    elif price < 30000:\n",
    "        return 5\n",
    "    elif price < 50000:\n",
    "        return 10\n",
    "    else:\n",
    "        return 50\n",
    "\n",
    "def price_to_ticks(price: float) -> int:\n",
    "    tick_size = get_tick_size(price)\n",
    "    ticks = round(price / tick_size)\n",
    "    return ticks\n",
    "\n",
    "def ticks_to_price(ticks: int, reference_price: float) -> float:\n",
    "    tick_size = get_tick_size(reference_price)\n",
    "    return ticks * tick_size"
   ]
  },
  {
   "cell_type": "code",
   "execution_count": 47,
   "id": "3fb41369",
   "metadata": {},
   "outputs": [
    {
     "name": "stdout",
     "output_type": "stream",
     "text": [
      "file: L:/data/yfinance\\yfinance_2269.T_D1.csv std: 170.67572853841986 max: 11773.0 ratio: 68.97875931638309\n",
      "file: L:/data/yfinance\\yfinance_2801.T_D1.csv std: 222.02206340023642 max: 15595.0 ratio: 70.24076689120345\n",
      "file: L:/data/yfinance\\yfinance_3382.T_D1.csv std: 128.09772970341928 max: 8468.0 ratio: 66.10577735925297\n",
      "file: L:/data/yfinance\\yfinance_4063.T_D1.csv std: 221.0728648446471 max: 16106.0 ratio: 72.8538077765358\n",
      "file: L:/data/yfinance\\yfinance_4543.T_D1.csv std: 134.07077259020647 max: 5761.0 ratio: 42.96984263385103\n",
      "file: L:/data/yfinance\\yfinance_4901.T_D1.csv std: 114.89514287792386 max: 6510.0 ratio: 56.660358627317066\n",
      "file: L:/data/yfinance\\yfinance_5019.T_D1.csv std: 484.7257370627226 max: 31328.0 ratio: 64.63036229484595\n",
      "file: L:/data/yfinance\\yfinance_6702.T_D1.csv std: 563.7637483279982 max: 43646.0 ratio: 77.41895453449185\n",
      "file: L:/data/yfinance\\yfinance_6857.T_D1.csv std: 226.2227221057785 max: 14494.0 ratio: 64.06960302255939\n",
      "file: L:/data/yfinance\\yfinance_6902.T_D1.csv std: 160.9791648317105 max: 11020.0 ratio: 68.45606393548157\n",
      "file: L:/data/yfinance\\yfinance_6954.T_D1.csv std: 246.52211292278741 max: 18162.0 ratio: 73.67290416534956\n",
      "file: L:/data/yfinance\\yfinance_6971.T_D1.csv std: 173.89508217218338 max: 11900.0 ratio: 68.43206749353116\n",
      "file: L:/data/yfinance\\yfinance_6981.T_D1.csv std: 158.6249307967199 max: 9767.0 ratio: 61.572918903375594\n",
      "file: L:/data/yfinance\\yfinance_7011.T_D1.csv std: 290.0586438936417 max: 21550.0 ratio: 74.29532080382312\n",
      "file: L:/data/yfinance\\yfinance_7267.T_D1.csv std: 99.58489397500387 max: 4529.0 ratio: 45.4787851773663\n",
      "file: L:/data/yfinance\\yfinance_7269.T_D1.csv std: 150.5007307863213 max: 9221.0 ratio: 61.268805485681256\n",
      "file: L:/data/yfinance\\yfinance_7272.T_D1.csv std: 145.02342276436784 max: 5085.0 ratio: 35.06330152103803\n",
      "file: L:/data/yfinance\\yfinance_7735.T_D1.csv std: 141.27275262299997 max: 4949.0 ratio: 35.03152524540161\n",
      "file: L:/data/yfinance\\yfinance_7832.T_D1.csv std: 186.02268608715949 max: 11213.0 ratio: 60.2775942862487\n",
      "file: L:/data/yfinance\\yfinance_8035.T_D1.csv std: 126.2050240913829 max: 6376.0 ratio: 50.52096813026435\n",
      "file: L:/data/yfinance\\yfinance_8058.T_D1.csv std: 149.63847666088978 max: 8815.0 ratio: 58.908645668563736\n",
      "file: L:/data/yfinance\\yfinance_8309.T_D1.csv std: 121.37761778035517 max: 5397.0 ratio: 44.46454048691585\n",
      "file: L:/data/yfinance\\yfinance_8316.T_D1.csv std: 373.39109227254573 max: 27893.0 ratio: 74.70183562825953\n",
      "file: L:/data/yfinance\\yfinance_8630.T_D1.csv std: 217.3994799809851 max: 12140.0 ratio: 55.84189990271287\n",
      "file: L:/data/yfinance\\yfinance_8725.T_D1.csv std: 186.80250255468172 max: 10276.0 ratio: 55.00996967100031\n",
      "file: L:/data/yfinance\\yfinance_8766.T_D1.csv std: 156.10256905563767 max: 8456.0 ratio: 54.16951207885717\n",
      "file: L:/data/yfinance\\yfinance_8801.T_D1.csv std: 143.74346828551188 max: 5452.0 ratio: 37.92867992562216\n",
      "file: L:/data/yfinance\\yfinance_9020.T_D1.csv std: 159.37263999456957 max: 11836.0 ratio: 74.26619776395307\n",
      "file: L:/data/yfinance\\yfinance_9021.T_D1.csv std: 74.47633309390447 max: 3165.0 ratio: 42.496721690222955\n",
      "file: L:/data/yfinance\\yfinance_9022.T_D1.csv std: 180.24867718739492 max: 13368.0 ratio: 74.16420585490347\n",
      "file: L:/data/yfinance\\yfinance_9107.T_D1.csv std: 188.1223839530757 max: 9107.0 ratio: 48.40997550972777\n",
      "file: L:/data/yfinance\\yfinance_9432.T_D1.csv std: 477.66479480924664 max: 36377.0 ratio: 76.15591602166745\n",
      "file: L:/data/yfinance\\yfinance_9983.T_D1.csv std: 163.94706982355862 max: 10990.0 ratio: 67.03382995394514\n"
     ]
    },
    {
     "data": {
      "image/png": "[encoded data removed]",
      "text/plain": [
       "<Figure size 640x480 with 1 Axes>"
      ]
     },
     "metadata": {},
     "output_type": "display_data"
    }
   ],
   "source": [
    "for file in stock_source_files:\n",
    "  df = pd.read_csv(file, index_col=0, parse_dates=True)\n",
    "  units = df[\"Adj Close\"].apply(get_tick_size)\n",
    "  unit_close = (df[\"Adj Close\"].diff() / units ).round()\n",
    "  std = unit_close.std()\n",
    "  max_value = unit_close.abs().max()\n",
    "  if std * 30 < max_value:\n",
    "    print(f\"file: {file} std: {std} max: {max_value} ratio: {max_value/std}\")\n",
    "    continue\n",
    "  unit_close.name = \"close\"\n",
    "  plt.hist(unit_close, bins=100, alpha=0.3)\n",
    "  filename = f\"../../Data/STOCK_ID/{os.path.basename(file)}\"\n",
    "  os.makedirs(os.path.dirname(filename), exist_ok=True)\n",
    "  unit_close.to_csv(filename, index=True, header=True)"
   ]
  },
  {
   "cell_type": "code",
   "execution_count": 19,
   "id": "3d307505",
   "metadata": {},
   "outputs": [],
   "source": [
    "def count_sig_digits_visual(x, tol=1e-12):\n",
    "    \"\"\"\n",
    "    浮動小数点誤差を無視し、人間の目で見たときの有効数字の桁数を推定\n",
    "    \"\"\"\n",
    "    if x == 0 or np.isnan(x):\n",
    "        return 0\n",
    "\n",
    "    # 誤差を無視するため丸める（例: tol=1e-12 → 12桁以内に収める）\n",
    "    rounded = round(x / tol) * tol  # 例: tol=1e-12 の精度で揃える\n",
    "    # 見た目ベースで桁数を数える（指数表現なし）\n",
    "    s = format(rounded, '.15g')  # 最大15桁の精度で、人間が見る表現に近づける\n",
    "    s = s.replace('.', '')\n",
    "    return len(s)\n",
    "\n",
    "def group_by_close_values(series, atol=1e-12, rtol=1e-9):\n",
    "    values = np.sort(series[series > 0].values)\n",
    "    if len(values) == 0:\n",
    "        return pd.DataFrame(columns=[\"count\", \"sigfig_min\", \"sigfig_max\", \"sigfig_median\"])\n",
    "\n",
    "    groups = []\n",
    "    current_group = [values[0]]\n",
    "\n",
    "    for val in values[1:]:\n",
    "        if np.isclose(val, current_group[-1], atol=atol, rtol=rtol):\n",
    "            current_group.append(val)\n",
    "        else:\n",
    "            groups.append(current_group)\n",
    "            current_group = [val]\n",
    "\n",
    "    if current_group:\n",
    "        groups.append(current_group)\n",
    "\n",
    "    # 結果をまとめる\n",
    "    rows = []\n",
    "    for group in groups:\n",
    "        key = np.median(group)\n",
    "        rows.append({\n",
    "            \"value\": key,\n",
    "            \"count\": len(group),\n",
    "        })\n",
    "\n",
    "    return pd.DataFrame(rows).set_index(\"value\").sort_index()"
   ]
  },
  {
   "cell_type": "code",
   "execution_count": 34,
   "id": "1bdd2de8",
   "metadata": {},
   "outputs": [
    {
     "name": "stdout",
     "output_type": "stream",
     "text": [
      "file: L:/data/fx/OANDA-Japan MT5 Live\\mt5_COPPER_d1.csv std: 5272.182789800234 max: 41638 ratio: 7.897677614773612\n",
      ">> unit: 1e-05 sf: 5\n",
      "file: L:/data/fx/OANDA-Japan MT5 Live\\mt5_NL25_d1.csv std: 3506.668976126979 max: 32225 ratio: 9.189632731057392\n",
      ">> unit: 0.002 sf: 4\n",
      "file: L:/data/fx/OANDA-Japan MT5 Live\\mt5_USDNOK_d1.csv std: 7204.925965708741 max: 79363 ratio: 11.015102775201541\n",
      ">> unit: 1e-05 sf: 5\n",
      "file: L:/data/fx/OANDA-Japan MT5 Live\\mt5_USDSEK_d1.csv std: 6186.613499483017 max: 38157 ratio: 6.167671538425437\n",
      ">> unit: 1e-05 sf: 5\n",
      "file: L:/data/fx/OANDA-Japan MT5 Live\\mt5_USDTRY_d1.csv std: 10733.53091189724 max: 316685 ratio: 29.50427055173248\n",
      ">> unit: 1e-05 sf: 5\n",
      "file: L:/data/fx/OANDA-Japan MT5 Live\\mt5_USDZAR_d1.csv std: 2605.970693542824 max: 32358 ratio: 12.41687025881677\n",
      ">> unit: 5e-05 sf: 5\n",
      "file: L:/data/fx/OANDA-Japan MT5 Live\\mt5_XAGUSD_d1.csv std: 4307.833538336368 max: 48063 ratio: 11.157116349152464\n",
      ">> unit: 0.0001 sf: 5\n",
      "file: L:/data/fx/OANDA-Japan MT5 Live\\mt5_XAUUSD_d1.csv std: 14890.000153289458 max: 132407 ratio: 8.892343763391366\n",
      ">> unit: 0.001 sf: 4\n"
     ]
    },
    {
     "data": {
      "image/png": "[encoded data removed]",
      "text/plain": [
       "<Figure size 640x480 with 1 Axes>"
      ]
     },
     "metadata": {},
     "output_type": "display_data"
    }
   ],
   "source": [
    "for file in fx_source_files:\n",
    "    df = pd.read_csv(file, index_col=0, parse_dates=True)\n",
    "    diff_df = df[\"close\"].diff()\n",
    "    diff_df_abs = diff_df.abs()\n",
    "    diff_df_abs = diff_df_abs[diff_df_abs > 0]\n",
    "    result_df = group_by_close_values(diff_df_abs)\n",
    "    sf = count_sig_digits_visual(result_df.index[1] - result_df.index[0])\n",
    "    unit =  result_df.index[0].round(sf)\n",
    "    # print(f\"file:{file}, unit: {unit} sf: {sf}\")\n",
    "    diff_df = diff_df.round(sf)\n",
    "    id_token_df = (diff_df.dropna() / unit).round().astype('int')\n",
    "\n",
    "    std_value = id_token_df.std()\n",
    "    max_value = id_token_df.abs().max()\n",
    "    if std_value > 10000 or max_value > 30000:\n",
    "        print(f\"file: {file} std: {std_value} max: {max_value} ratio: {max_value/std_value}\")\n",
    "        print(f\">> unit: {unit} sf: {sf}\")\n",
    "        continue\n",
    "    filename = f\"../../Data/FX_MT5_ID/{os.path.basename(file)}\"\n",
    "    os.makedirs(os.path.dirname(filename), exist_ok=True)\n",
    "    # id_token_df.to_csv(filename, index=True, header=True)\n",
    "    plt.hist(id_token_df, bins=100, alpha=0.3)"
   ]
  },
  {
   "cell_type": "code",
   "execution_count": 51,
   "id": "5c40793a",
   "metadata": {},
   "outputs": [],
   "source": [
    "stock_id_folder = \"../../Data/FX_MT5_ID\"\n",
    "fx_id_folder = \"../../Data/STOCK_ID\"\n",
    "output_folder = \"../../Data/ID\"\n",
    "\n",
    "if os.path.exists(output_folder) is False:\n",
    "    os.makedirs(output_folder, exist_ok=True)\n",
    "\n",
    "stock_id_files = glob.glob(f\"{stock_id_folder}/*\")\n",
    "fx_id_files = glob.glob(f\"{fx_id_folder}/*\")\n",
    "\n",
    "for files in [stock_id_files, fx_id_files]:\n",
    "    for file in files:\n",
    "        df = pd.read_csv(file, index_col=0, parse_dates=True)\n",
    "        filename = os.path.basename(file)\n",
    "        filename = filename.replace(\".csv\", \".parquet\")\n",
    "        file_path = os.path.join(output_folder, filename)\n",
    "        df.to_parquet(file_path, index=False)"
   ]
  },
  {
   "cell_type": "markdown",
   "id": "ba2fb7aa",
   "metadata": {},
   "source": [
    "## Create Dataset by DuckDB"
   ]
  },
  {
   "cell_type": "code",
   "execution_count": 40,
   "id": "87c000ad",
   "metadata": {},
   "outputs": [],
   "source": [
    "files = glob.glob(f\"{output_folder}/*\")\n",
    "parquet_paths = {}\n",
    "\n",
    "for file in files:\n",
    "    symbol = file.split(\"_\")[1]\n",
    "    parquet_paths[symbol] = file"
   ]
  },
  {
   "cell_type": "code",
   "execution_count": null,
   "id": "5c488ee4",
   "metadata": {},
   "outputs": [],
   "source": [
    "import torch\n",
    "from torch.utils.data import Dataset, DataLoader\n",
    "import duckdb\n",
    "import random\n",
    "\n",
    "class DuckDBTimeSeriesDataset(Dataset):\n",
    "    def __init__(self, parquet_paths: dict, L: int, virtual_size: int = 100_000, batch_size=32):\n",
    "        \"\"\"\n",
    "        Args:\n",
    "            parquet_paths: dict of {symbol: parquet_path}\n",
    "            L: sequence length\n",
    "            virtual_size: number of virtual samples in dataset\n",
    "        \"\"\"\n",
    "        self.paths = parquet_paths\n",
    "        self.L = L\n",
    "        self.virtual_size = virtual_size\n",
    "        self.batch_size = batch_size\n",
    "        self.conn = duckdb.connect()  # in-memory DB connection\n",
    "\n",
    "        # 各symbolの行数を事前に取得しておく\n",
    "        self.lengths = {\n",
    "            symbol: self.conn.sql(f\"SELECT COUNT(*) FROM '{path}'\").fetchone()[0]\n",
    "            for symbol, path in parquet_paths.items()\n",
    "        }\n",
    "\n",
    "    def __len__(self):\n",
    "        return self.virtual_size\n",
    "\n",
    "    def __getitem__(self, idx):\n",
    "        # symbolをランダムに選択\n",
    "        symbols = random.choices(list(self.paths.keys()), k=self.batch_size)\n",
    "        batch_values = []\n",
    "        for symbol in symbols:\n",
    "            path = self.paths[symbol]\n",
    "            total_len = self.lengths[symbol]\n",
    "\n",
    "            # if total_len < self.L:\n",
    "            #     raise ValueError(f\"Data for {symbol} is shorter than L={self.L}\")\n",
    "\n",
    "            start_idx = random.randint(0, total_len - self.L)\n",
    "\n",
    "            query = f\"\"\"\n",
    "                SELECT close FROM '{path}'\n",
    "                LIMIT {self.L} OFFSET {start_idx}\n",
    "            \"\"\"\n",
    "            result = self.conn.sql(query).fetchall()\n",
    "            batch_values.append(result)\n",
    "        values = torch.tensor(batch_values, dtype=torch.int)  # shape (B, L, 1)\n",
    "        return values"
   ]
  },
  {
   "cell_type": "code",
   "execution_count": 68,
   "id": "30631266",
   "metadata": {},
   "outputs": [],
   "source": [
    "ds = DuckDBTimeSeriesDataset(parquet_paths, 60)"
   ]
  },
  {
   "cell_type": "code",
   "execution_count": null,
   "id": "2b569c18",
   "metadata": {},
   "outputs": [
    {
     "data": {
      "text/plain": [
       "torch.Size([32, 60, 1])"
      ]
     },
     "execution_count": 70,
     "metadata": {},
     "output_type": "execute_result"
    }
   ],
   "source": [
    "src = ds[10:40]\n",
    "src.shape"
   ]
  }
 ],
 "metadata": {
  "kernelspec": {
   "display_name": ".venv312",
   "language": "python",
   "name": "python3"
  },
  "language_info": {
   "codemirror_mode": {
    "name": "ipython",
    "version": 3
   },
   "file_extension": ".py",
   "mimetype": "text/x-python",
   "name": "python",
   "nbconvert_exporter": "python",
   "pygments_lexer": "ipython3",
   "version": "3.12.4"
  }
 },
 "nbformat": 4,
 "nbformat_minor": 5
}
