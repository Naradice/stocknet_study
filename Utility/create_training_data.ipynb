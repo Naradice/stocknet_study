{
 "cells": [
  {
   "cell_type": "markdown",
   "metadata": {},
   "source": [
    "# check how to create desired format"
   ]
  },
  {
   "cell_type": "code",
   "execution_count": 6,
   "metadata": {},
   "outputs": [],
   "source": [
    "import os, sys, random, time\n",
    "import pandas as pd\n",
    "import numpy as np\n",
    "import torch\n",
    "from torch.utils.data import DataLoader\n",
    "import matplotlib.pyplot as plt"
   ]
  },
  {
   "cell_type": "code",
   "execution_count": 7,
   "metadata": {},
   "outputs": [],
   "source": [
    "ohlc_column = ('Open','High','Low','Close')\n",
    "file_path = os.path.abspath('../SampleData/yfinance_5min_ex.csv')"
   ]
  },
  {
   "cell_type": "code",
   "execution_count": 8,
   "metadata": {},
   "outputs": [
    {
     "data": {
      "text/html": [
       "<div>\n",
       "<style scoped>\n",
       "    .dataframe tbody tr th:only-of-type {\n",
       "        vertical-align: middle;\n",
       "    }\n",
       "\n",
       "    .dataframe tbody tr th {\n",
       "        vertical-align: top;\n",
       "    }\n",
       "\n",
       "    .dataframe thead tr th {\n",
       "        text-align: left;\n",
       "    }\n",
       "\n",
       "    .dataframe thead tr:last-of-type th {\n",
       "        text-align: right;\n",
       "    }\n",
       "</style>\n",
       "<table border=\"1\" class=\"dataframe\">\n",
       "  <thead>\n",
       "    <tr>\n",
       "      <th></th>\n",
       "      <th colspan=\"6\" halign=\"left\">1605.T</th>\n",
       "      <th colspan=\"6\" halign=\"left\">1333.T</th>\n",
       "      <th colspan=\"6\" halign=\"left\">1332.T</th>\n",
       "    </tr>\n",
       "    <tr>\n",
       "      <th></th>\n",
       "      <th>Open</th>\n",
       "      <th>High</th>\n",
       "      <th>Low</th>\n",
       "      <th>Close</th>\n",
       "      <th>Adj Close</th>\n",
       "      <th>Volume</th>\n",
       "      <th>Open</th>\n",
       "      <th>High</th>\n",
       "      <th>Low</th>\n",
       "      <th>Close</th>\n",
       "      <th>Adj Close</th>\n",
       "      <th>Volume</th>\n",
       "      <th>Open</th>\n",
       "      <th>High</th>\n",
       "      <th>Low</th>\n",
       "      <th>Close</th>\n",
       "      <th>Adj Close</th>\n",
       "      <th>Volume</th>\n",
       "    </tr>\n",
       "    <tr>\n",
       "      <th>Datetime</th>\n",
       "      <th></th>\n",
       "      <th></th>\n",
       "      <th></th>\n",
       "      <th></th>\n",
       "      <th></th>\n",
       "      <th></th>\n",
       "      <th></th>\n",
       "      <th></th>\n",
       "      <th></th>\n",
       "      <th></th>\n",
       "      <th></th>\n",
       "      <th></th>\n",
       "      <th></th>\n",
       "      <th></th>\n",
       "      <th></th>\n",
       "      <th></th>\n",
       "      <th></th>\n",
       "      <th></th>\n",
       "    </tr>\n",
       "  </thead>\n",
       "  <tbody>\n",
       "    <tr>\n",
       "      <th>2022-10-17 09:00:00+09:00</th>\n",
       "      <td>1471.0</td>\n",
       "      <td>1472.0</td>\n",
       "      <td>1463.0</td>\n",
       "      <td>1468.0</td>\n",
       "      <td>1468.0</td>\n",
       "      <td>0.0</td>\n",
       "      <td>2420.0</td>\n",
       "      <td>2432.0</td>\n",
       "      <td>2419.0</td>\n",
       "      <td>2426.0</td>\n",
       "      <td>2426.0</td>\n",
       "      <td>0.0</td>\n",
       "      <td>543.0</td>\n",
       "      <td>544.0</td>\n",
       "      <td>543.0</td>\n",
       "      <td>544.0</td>\n",
       "      <td>544.0</td>\n",
       "      <td>0.0</td>\n",
       "    </tr>\n",
       "    <tr>\n",
       "      <th>2022-10-17 09:05:00+09:00</th>\n",
       "      <td>1468.0</td>\n",
       "      <td>1470.0</td>\n",
       "      <td>1459.0</td>\n",
       "      <td>1462.0</td>\n",
       "      <td>1462.0</td>\n",
       "      <td>534400.0</td>\n",
       "      <td>2425.0</td>\n",
       "      <td>2427.0</td>\n",
       "      <td>2422.0</td>\n",
       "      <td>2423.0</td>\n",
       "      <td>2423.0</td>\n",
       "      <td>4400.0</td>\n",
       "      <td>544.0</td>\n",
       "      <td>544.0</td>\n",
       "      <td>543.0</td>\n",
       "      <td>543.0</td>\n",
       "      <td>543.0</td>\n",
       "      <td>24400.0</td>\n",
       "    </tr>\n",
       "    <tr>\n",
       "      <th>2022-10-17 09:10:00+09:00</th>\n",
       "      <td>1463.0</td>\n",
       "      <td>1463.0</td>\n",
       "      <td>1457.0</td>\n",
       "      <td>1459.0</td>\n",
       "      <td>1459.0</td>\n",
       "      <td>451300.0</td>\n",
       "      <td>2425.0</td>\n",
       "      <td>2425.0</td>\n",
       "      <td>2424.0</td>\n",
       "      <td>2424.0</td>\n",
       "      <td>2424.0</td>\n",
       "      <td>1800.0</td>\n",
       "      <td>543.0</td>\n",
       "      <td>544.0</td>\n",
       "      <td>542.0</td>\n",
       "      <td>542.0</td>\n",
       "      <td>542.0</td>\n",
       "      <td>9500.0</td>\n",
       "    </tr>\n",
       "    <tr>\n",
       "      <th>2022-10-17 09:15:00+09:00</th>\n",
       "      <td>1458.0</td>\n",
       "      <td>1459.0</td>\n",
       "      <td>1455.0</td>\n",
       "      <td>1457.0</td>\n",
       "      <td>1457.0</td>\n",
       "      <td>360400.0</td>\n",
       "      <td>2423.0</td>\n",
       "      <td>2424.0</td>\n",
       "      <td>2420.0</td>\n",
       "      <td>2420.0</td>\n",
       "      <td>2420.0</td>\n",
       "      <td>2400.0</td>\n",
       "      <td>543.0</td>\n",
       "      <td>543.0</td>\n",
       "      <td>541.0</td>\n",
       "      <td>542.0</td>\n",
       "      <td>542.0</td>\n",
       "      <td>11100.0</td>\n",
       "    </tr>\n",
       "    <tr>\n",
       "      <th>2022-10-17 09:20:00+09:00</th>\n",
       "      <td>1457.0</td>\n",
       "      <td>1461.0</td>\n",
       "      <td>1456.0</td>\n",
       "      <td>1461.0</td>\n",
       "      <td>1461.0</td>\n",
       "      <td>303900.0</td>\n",
       "      <td>2422.0</td>\n",
       "      <td>2422.0</td>\n",
       "      <td>2414.0</td>\n",
       "      <td>2416.0</td>\n",
       "      <td>2416.0</td>\n",
       "      <td>7100.0</td>\n",
       "      <td>543.0</td>\n",
       "      <td>543.0</td>\n",
       "      <td>543.0</td>\n",
       "      <td>543.0</td>\n",
       "      <td>543.0</td>\n",
       "      <td>10900.0</td>\n",
       "    </tr>\n",
       "    <tr>\n",
       "      <th>2022-10-17 09:25:00+09:00</th>\n",
       "      <td>1460.0</td>\n",
       "      <td>1461.0</td>\n",
       "      <td>1458.0</td>\n",
       "      <td>1460.0</td>\n",
       "      <td>1460.0</td>\n",
       "      <td>165500.0</td>\n",
       "      <td>2415.0</td>\n",
       "      <td>2415.0</td>\n",
       "      <td>2413.0</td>\n",
       "      <td>2413.0</td>\n",
       "      <td>2413.0</td>\n",
       "      <td>500.0</td>\n",
       "      <td>543.0</td>\n",
       "      <td>543.0</td>\n",
       "      <td>542.0</td>\n",
       "      <td>542.0</td>\n",
       "      <td>542.0</td>\n",
       "      <td>15400.0</td>\n",
       "    </tr>\n",
       "    <tr>\n",
       "      <th>2022-10-17 09:30:00+09:00</th>\n",
       "      <td>1460.0</td>\n",
       "      <td>1464.0</td>\n",
       "      <td>1460.0</td>\n",
       "      <td>1463.0</td>\n",
       "      <td>1463.0</td>\n",
       "      <td>173200.0</td>\n",
       "      <td>2413.0</td>\n",
       "      <td>2413.0</td>\n",
       "      <td>2411.0</td>\n",
       "      <td>2411.0</td>\n",
       "      <td>2411.0</td>\n",
       "      <td>1200.0</td>\n",
       "      <td>542.0</td>\n",
       "      <td>542.0</td>\n",
       "      <td>541.0</td>\n",
       "      <td>542.0</td>\n",
       "      <td>542.0</td>\n",
       "      <td>3000.0</td>\n",
       "    </tr>\n",
       "    <tr>\n",
       "      <th>2022-10-17 09:35:00+09:00</th>\n",
       "      <td>1463.0</td>\n",
       "      <td>1466.0</td>\n",
       "      <td>1461.0</td>\n",
       "      <td>1465.0</td>\n",
       "      <td>1465.0</td>\n",
       "      <td>357400.0</td>\n",
       "      <td>2412.0</td>\n",
       "      <td>2416.0</td>\n",
       "      <td>2409.0</td>\n",
       "      <td>2409.0</td>\n",
       "      <td>2409.0</td>\n",
       "      <td>2100.0</td>\n",
       "      <td>542.0</td>\n",
       "      <td>542.0</td>\n",
       "      <td>541.0</td>\n",
       "      <td>541.0</td>\n",
       "      <td>541.0</td>\n",
       "      <td>22300.0</td>\n",
       "    </tr>\n",
       "    <tr>\n",
       "      <th>2022-10-17 09:40:00+09:00</th>\n",
       "      <td>1465.0</td>\n",
       "      <td>1466.0</td>\n",
       "      <td>1462.0</td>\n",
       "      <td>1464.0</td>\n",
       "      <td>1464.0</td>\n",
       "      <td>246700.0</td>\n",
       "      <td>NaN</td>\n",
       "      <td>NaN</td>\n",
       "      <td>NaN</td>\n",
       "      <td>NaN</td>\n",
       "      <td>NaN</td>\n",
       "      <td>NaN</td>\n",
       "      <td>542.0</td>\n",
       "      <td>542.0</td>\n",
       "      <td>542.0</td>\n",
       "      <td>542.0</td>\n",
       "      <td>542.0</td>\n",
       "      <td>9400.0</td>\n",
       "    </tr>\n",
       "    <tr>\n",
       "      <th>2022-10-17 09:45:00+09:00</th>\n",
       "      <td>1464.0</td>\n",
       "      <td>1464.0</td>\n",
       "      <td>1462.0</td>\n",
       "      <td>1462.0</td>\n",
       "      <td>1462.0</td>\n",
       "      <td>48100.0</td>\n",
       "      <td>2411.0</td>\n",
       "      <td>2414.0</td>\n",
       "      <td>2409.0</td>\n",
       "      <td>2410.0</td>\n",
       "      <td>2410.0</td>\n",
       "      <td>3700.0</td>\n",
       "      <td>542.0</td>\n",
       "      <td>542.0</td>\n",
       "      <td>541.0</td>\n",
       "      <td>541.0</td>\n",
       "      <td>541.0</td>\n",
       "      <td>16500.0</td>\n",
       "    </tr>\n",
       "  </tbody>\n",
       "</table>\n",
       "</div>"
      ],
      "text/plain": [
       "                           1605.T                                              \\\n",
       "                             Open    High     Low   Close Adj Close    Volume   \n",
       "Datetime                                                                        \n",
       "2022-10-17 09:00:00+09:00  1471.0  1472.0  1463.0  1468.0    1468.0       0.0   \n",
       "2022-10-17 09:05:00+09:00  1468.0  1470.0  1459.0  1462.0    1462.0  534400.0   \n",
       "2022-10-17 09:10:00+09:00  1463.0  1463.0  1457.0  1459.0    1459.0  451300.0   \n",
       "2022-10-17 09:15:00+09:00  1458.0  1459.0  1455.0  1457.0    1457.0  360400.0   \n",
       "2022-10-17 09:20:00+09:00  1457.0  1461.0  1456.0  1461.0    1461.0  303900.0   \n",
       "2022-10-17 09:25:00+09:00  1460.0  1461.0  1458.0  1460.0    1460.0  165500.0   \n",
       "2022-10-17 09:30:00+09:00  1460.0  1464.0  1460.0  1463.0    1463.0  173200.0   \n",
       "2022-10-17 09:35:00+09:00  1463.0  1466.0  1461.0  1465.0    1465.0  357400.0   \n",
       "2022-10-17 09:40:00+09:00  1465.0  1466.0  1462.0  1464.0    1464.0  246700.0   \n",
       "2022-10-17 09:45:00+09:00  1464.0  1464.0  1462.0  1462.0    1462.0   48100.0   \n",
       "\n",
       "                           1333.T                                            \\\n",
       "                             Open    High     Low   Close Adj Close  Volume   \n",
       "Datetime                                                                      \n",
       "2022-10-17 09:00:00+09:00  2420.0  2432.0  2419.0  2426.0    2426.0     0.0   \n",
       "2022-10-17 09:05:00+09:00  2425.0  2427.0  2422.0  2423.0    2423.0  4400.0   \n",
       "2022-10-17 09:10:00+09:00  2425.0  2425.0  2424.0  2424.0    2424.0  1800.0   \n",
       "2022-10-17 09:15:00+09:00  2423.0  2424.0  2420.0  2420.0    2420.0  2400.0   \n",
       "2022-10-17 09:20:00+09:00  2422.0  2422.0  2414.0  2416.0    2416.0  7100.0   \n",
       "2022-10-17 09:25:00+09:00  2415.0  2415.0  2413.0  2413.0    2413.0   500.0   \n",
       "2022-10-17 09:30:00+09:00  2413.0  2413.0  2411.0  2411.0    2411.0  1200.0   \n",
       "2022-10-17 09:35:00+09:00  2412.0  2416.0  2409.0  2409.0    2409.0  2100.0   \n",
       "2022-10-17 09:40:00+09:00     NaN     NaN     NaN     NaN       NaN     NaN   \n",
       "2022-10-17 09:45:00+09:00  2411.0  2414.0  2409.0  2410.0    2410.0  3700.0   \n",
       "\n",
       "                          1332.T                                          \n",
       "                            Open   High    Low  Close Adj Close   Volume  \n",
       "Datetime                                                                  \n",
       "2022-10-17 09:00:00+09:00  543.0  544.0  543.0  544.0     544.0      0.0  \n",
       "2022-10-17 09:05:00+09:00  544.0  544.0  543.0  543.0     543.0  24400.0  \n",
       "2022-10-17 09:10:00+09:00  543.0  544.0  542.0  542.0     542.0   9500.0  \n",
       "2022-10-17 09:15:00+09:00  543.0  543.0  541.0  542.0     542.0  11100.0  \n",
       "2022-10-17 09:20:00+09:00  543.0  543.0  543.0  543.0     543.0  10900.0  \n",
       "2022-10-17 09:25:00+09:00  543.0  543.0  542.0  542.0     542.0  15400.0  \n",
       "2022-10-17 09:30:00+09:00  542.0  542.0  541.0  542.0     542.0   3000.0  \n",
       "2022-10-17 09:35:00+09:00  542.0  542.0  541.0  541.0     541.0  22300.0  \n",
       "2022-10-17 09:40:00+09:00  542.0  542.0  542.0  542.0     542.0   9400.0  \n",
       "2022-10-17 09:45:00+09:00  542.0  542.0  541.0  541.0     541.0  16500.0  "
      ]
     },
     "execution_count": 8,
     "metadata": {},
     "output_type": "execute_result"
    }
   ],
   "source": [
    "data = pd.read_csv(file_path ,header=[0,1], index_col=0, parse_dates=True)\n",
    "data.iloc[:10]"
   ]
  },
  {
   "cell_type": "markdown",
   "metadata": {},
   "source": [
    "## Create Dataset from DataFrame\n",
    "\n",
    "Check if output tonsor has expected format by concat data in following ways\n",
    "- List\n",
    "- pandas.unstack\n",
    "- pandas.concat\n",
    "\n",
    "Expected format\n",
    "\n",
    "- form 1: ([ChunkSize, Num of Symbol, Num of Columns * DataLength])\n",
    "- form 2: ([ChunkSize, Num of Symbol, Num of Columns, DataLength])\n",
    "- form 3: ([ChunkSize, Num of Symbol * Num of Columns * DataLength])"
   ]
  },
  {
   "cell_type": "markdown",
   "metadata": {},
   "source": [
    "### Using List"
   ]
  },
  {
   "cell_type": "code",
   "execution_count": 9,
   "metadata": {},
   "outputs": [],
   "source": [
    "class ListDataset():\n",
    "    \n",
    "    def __init__(self, df, data_length, columns, symbols, form=1) -> None:\n",
    "        self.data = df    \n",
    "        self.indicies = random.choices(range(data_length, len(df)), k=len(df))\n",
    "        self.symbols = symbols\n",
    "        self.columns = columns\n",
    "        self.data_length = data_length\n",
    "        if form == 1:\n",
    "            self.__input_func = self.get_item_func_3dims\n",
    "        elif form == 2:\n",
    "            self.__input_func = self.get_item_func_4dims\n",
    "        elif form == 3:\n",
    "            self.__input_func = self.get_item_func_2dims\n",
    "        else:\n",
    "            raise ValueError(\"from should be 1 to 3.\")\n",
    "        \n",
    "    def get_item_func_2dims(self, ndx):\n",
    "        batch_inputs = []\n",
    "        if type(ndx) is int:\n",
    "            ndx = slice(ndx, ndx+1)\n",
    "        for index in self.indicies[ndx]:\n",
    "            inputs = []\n",
    "            for symbol in self.symbols:\n",
    "                for column in self.columns:\n",
    "                    inputs += data[symbol][column][index-self.data_length+1:index+1].values.tolist()\n",
    "            batch_inputs.append(inputs)\n",
    "        input = torch.tensor(inputs)\n",
    "        return input, input\n",
    "    \n",
    "    def get_item_func_3dims(self, ndx):\n",
    "        batch_inputs = []\n",
    "        if type(ndx) is int:\n",
    "            ndx = slice(ndx, ndx+1)\n",
    "        for index in self.indicies[ndx]:\n",
    "            inputs = []\n",
    "            for symbol in self.symbols:\n",
    "                temp = []\n",
    "                for column in self.columns:\n",
    "                    temp += data[symbol][column][index-self.data_length+1:index+1].values.tolist()\n",
    "                inputs.append(temp)\n",
    "            batch_inputs.append(inputs)\n",
    "        input = torch.tensor(inputs)\n",
    "        return input, input\n",
    "\n",
    "    def get_item_func_4dims(self, ndx):\n",
    "        batch_inputs = []\n",
    "        if type(ndx) is int:\n",
    "            ndx = slice(ndx, ndx+1)\n",
    "        for index in self.indicies[ndx]:\n",
    "            inputs = []\n",
    "            for symbol in self.symbols:\n",
    "                temp = []\n",
    "                for column in self.columns:\n",
    "                    temp.append(data[symbol][column][index-self.data_length+1:index+1].values.tolist())\n",
    "                inputs.append(temp)\n",
    "            batch_inputs.append(inputs)\n",
    "        input = torch.tensor(inputs)\n",
    "        return input, input\n",
    "\n",
    "    def __getitem__(self, ndx):\n",
    "        return self.__input_func(ndx)\n",
    "    \n",
    "    def __len__(self):\n",
    "        return len(self.indicies)"
   ]
  },
  {
   "cell_type": "code",
   "execution_count": 10,
   "metadata": {},
   "outputs": [],
   "source": [
    "target_columns = [\"Open\", \"High\", \"Close\"]\n",
    "target_symbols = [\"1605.T\", \"1333.T\"]\n",
    "data_size = 10\n",
    "\n",
    "batch_size = slice(0,10)\n",
    "ds = ListDataset(data, data_size, target_columns, target_symbols)\n",
    "dl = DataLoader(ds, 10, drop_last=True, shuffle=False)"
   ]
  },
  {
   "cell_type": "code",
   "execution_count": 11,
   "metadata": {},
   "outputs": [
    {
     "name": "stdout",
     "output_type": "stream",
     "text": [
      "torch.Size([10, 2, 30])\n",
      "tensor([[1463., 1458., 1457., 1460., 1460., 1463., 1465., 1464., 1463., 1462.,\n",
      "         1463., 1459., 1461., 1461., 1464., 1466., 1466., 1464., 1464., 1463.,\n",
      "         1459., 1457., 1461., 1460., 1463., 1465., 1464., 1462., 1462., 1463.],\n",
      "        [2425., 2423., 2422., 2415., 2413., 2412.,   nan, 2411., 2410., 2408.,\n",
      "         2425., 2424., 2422., 2415., 2413., 2416.,   nan, 2414., 2410., 2410.,\n",
      "         2424., 2420., 2416., 2413., 2411., 2409.,   nan, 2410., 2409., 2410.]])\n"
     ]
    }
   ],
   "source": [
    "for input, ans in dl:\n",
    "    print(input.shape)\n",
    "    break\n",
    "print(input[0])"
   ]
  },
  {
   "cell_type": "code",
   "execution_count": 12,
   "metadata": {},
   "outputs": [],
   "source": [
    "target_columns = [\"Open\", \"High\", \"Close\"]\n",
    "target_symbols = [\"1605.T\", \"1333.T\"]\n",
    "data_size = 10\n",
    "\n",
    "batch_size = slice(0,10)\n",
    "ds = ListDataset(data, data_size, target_columns, target_symbols, form=2)\n",
    "dl = DataLoader(ds, 10, drop_last=True, shuffle=False)"
   ]
  },
  {
   "cell_type": "code",
   "execution_count": 13,
   "metadata": {},
   "outputs": [
    {
     "name": "stdout",
     "output_type": "stream",
     "text": [
      "torch.Size([10, 2, 3, 10])\n",
      "tensor([[[1457., 1460., 1460., 1463., 1465., 1464., 1463., 1462., 1464., 1462.],\n",
      "         [1461., 1461., 1464., 1466., 1466., 1464., 1464., 1463., 1464., 1464.],\n",
      "         [1461., 1460., 1463., 1465., 1464., 1462., 1462., 1463., 1463., 1462.]],\n",
      "\n",
      "        [[2422., 2415., 2413., 2412.,   nan, 2411., 2410., 2408., 2411., 2411.],\n",
      "         [2422., 2415., 2413., 2416.,   nan, 2414., 2410., 2410., 2411., 2413.],\n",
      "         [2416., 2413., 2411., 2409.,   nan, 2410., 2409., 2410., 2410., 2411.]]])\n"
     ]
    }
   ],
   "source": [
    "for input, ans in dl:\n",
    "    print(input.shape)\n",
    "    break\n",
    "print(input[0])"
   ]
  },
  {
   "cell_type": "code",
   "execution_count": 14,
   "metadata": {},
   "outputs": [],
   "source": [
    "target_columns = [\"Open\", \"High\", \"Close\"]\n",
    "target_symbols = [\"1605.T\", \"1333.T\"]\n",
    "data_size = 10\n",
    "\n",
    "batch_size = slice(0,10)\n",
    "ds = ListDataset(data, data_size, target_columns, target_symbols, form=3)\n",
    "dl = DataLoader(ds, 10, drop_last=True, shuffle=False)"
   ]
  },
  {
   "cell_type": "code",
   "execution_count": 15,
   "metadata": {},
   "outputs": [
    {
     "name": "stdout",
     "output_type": "stream",
     "text": [
      "torch.Size([10, 60])\n",
      "tensor([1463., 1465., 1464., 1463., 1462., 1464., 1462., 1461., 1461., 1460.,\n",
      "        1466., 1466., 1464., 1464., 1463., 1464., 1464., 1462., 1461., 1464.,\n",
      "        1465., 1464., 1462., 1462., 1463., 1463., 1462., 1461., 1460., 1464.,\n",
      "        2412.,   nan, 2411., 2410., 2408., 2411., 2411., 2412., 2414., 2412.,\n",
      "        2416.,   nan, 2414., 2410., 2410., 2411., 2413., 2415., 2414., 2413.,\n",
      "        2409.,   nan, 2410., 2409., 2410., 2410., 2411., 2414., 2413., 2413.])\n"
     ]
    }
   ],
   "source": [
    "for input, ans in dl:\n",
    "    print(input.shape)\n",
    "    break\n",
    "print(input[0])"
   ]
  },
  {
   "cell_type": "markdown",
   "metadata": {},
   "source": [
    "### Unstack"
   ]
  },
  {
   "cell_type": "code",
   "execution_count": 16,
   "metadata": {},
   "outputs": [],
   "source": [
    "index = 10\n",
    "columns = [\"Open\", \"Close\",\"High\", \"Low\"]\n",
    "data_size = 10\n",
    "target_symbols = [\"1605.T\", \"1333.T\"]"
   ]
  },
  {
   "cell_type": "code",
   "execution_count": 17,
   "metadata": {},
   "outputs": [],
   "source": [
    "class STACKDataset():\n",
    "    \n",
    "    def __init__(self, df, data_length, columns, symbols, form=1) -> None:\n",
    "        self.data = df    \n",
    "        self.indicies = random.choices(range(data_length, len(df)), k=len(df))\n",
    "        self.symbols = symbols\n",
    "        self.columns = columns\n",
    "        self.data_length = data_length\n",
    "        self.target_columns = [(symbol, column) for symbol in self.symbols for column in self.columns]\n",
    "        if form == 1:\n",
    "            self.__input_func = self.get_item_func_3dims\n",
    "        elif form == 2:\n",
    "            self.__input_func = self.get_item_func_4dims\n",
    "        elif form == 3:\n",
    "            self.__input_func = self.get_item_func_2dims\n",
    "        else:\n",
    "            raise ValueError(\"from should be 1 to 3.\")\n",
    "\n",
    "    def __common_input_func(self, ndx):\n",
    "        if type(ndx) is int:\n",
    "            ndx = slice(ndx, ndx+1)\n",
    "        chunk_size = 0\n",
    "        result = pd.Series(dtype=np.float64)\n",
    "        for index in self.indicies[ndx]:\n",
    "            temp = data[self.target_columns].iloc[index - self.data_length +1:index+1].unstack()\n",
    "            result = pd.concat([result, temp])\n",
    "            chunk_size+=1\n",
    "        result = result.reset_index(drop=True)\n",
    "        return torch.tensor(result), chunk_size\n",
    "\n",
    "    def get_item_func_3dims(self, ndx):\n",
    "        torch_input, chunk_size = self.__common_input_func(ndx)\n",
    "        input = torch_input.reshape((chunk_size*len(self.symbols), len(self.columns) * self.data_length))\n",
    "        return input, input\n",
    "    \n",
    "    def get_item_func_4dims(self, ndx):\n",
    "        torch_input, chunk_size = self.__common_input_func(ndx)\n",
    "        input = torch_input.reshape((chunk_size*len(self.symbols), len(self.columns), self.data_length))\n",
    "        return input, input\n",
    "\n",
    "    def get_item_func_2dims(self, ndx):\n",
    "        torch_input, chunk_size = self.__common_input_func(ndx)\n",
    "        return torch_input, torch_input\n",
    "\n",
    "    def __getitem__(self, ndx):\n",
    "        return self.__input_func(ndx)\n",
    "    \n",
    "    def __len__(self):\n",
    "        return len(self.indicies)"
   ]
  },
  {
   "cell_type": "code",
   "execution_count": 18,
   "metadata": {},
   "outputs": [],
   "source": [
    "target_columns = [\"Open\", \"High\", \"Close\"]\n",
    "target_symbols = [\"1605.T\", \"1333.T\"]\n",
    "data_size = 10\n",
    "\n",
    "batch_size = 10\n",
    "ds = STACKDataset(data, data_size, target_columns, target_symbols)\n",
    "dl = DataLoader(ds, batch_size=batch_size, drop_last=True, shuffle=False)"
   ]
  },
  {
   "cell_type": "code",
   "execution_count": 19,
   "metadata": {},
   "outputs": [
    {
     "name": "stdout",
     "output_type": "stream",
     "text": [
      "torch.Size([10, 2, 30])\n",
      "tensor([[1462., 1460., 1460., 1461., 1461., 1465., 1467., 1466., 1466., 1465.,\n",
      "         1463., 1461., 1462., 1461., 1461., 1467., 1467., 1466., 1466., 1466.,\n",
      "         1460., 1460., 1461., 1461., 1461., 1467., 1466., 1466., 1465., 1465.],\n",
      "        [2409., 2408.,   nan, 2408., 2407., 2406., 2407., 2403., 2402., 2401.,\n",
      "         2409., 2410.,   nan, 2408., 2407., 2409., 2407., 2403., 2402., 2401.,\n",
      "         2409., 2410.,   nan, 2407., 2407., 2409., 2404., 2403., 2402., 2401.]],\n",
      "       dtype=torch.float64)\n"
     ]
    }
   ],
   "source": [
    "for input, ans in dl:\n",
    "    print(input.shape)\n",
    "    break\n",
    "print(input[0])"
   ]
  },
  {
   "cell_type": "code",
   "execution_count": 20,
   "metadata": {},
   "outputs": [],
   "source": [
    "ds = STACKDataset(data, data_size, target_columns, target_symbols, form=2)\n",
    "dl = DataLoader(ds, batch_size=batch_size, drop_last=True, shuffle=False)"
   ]
  },
  {
   "cell_type": "code",
   "execution_count": 21,
   "metadata": {},
   "outputs": [
    {
     "name": "stdout",
     "output_type": "stream",
     "text": [
      "torch.Size([10, 2, 3, 10])\n",
      "tensor([[[1462., 1462., 1460., 1460., 1461., 1461., 1465., 1467., 1466., 1466.],\n",
      "         [1462., 1463., 1461., 1462., 1461., 1461., 1467., 1467., 1466., 1466.],\n",
      "         [1461., 1460., 1460., 1461., 1461., 1461., 1467., 1466., 1466., 1465.]],\n",
      "\n",
      "        [[2411., 2409., 2408.,   nan, 2408., 2407., 2406., 2407., 2403., 2402.],\n",
      "         [2411., 2409., 2410.,   nan, 2408., 2407., 2409., 2407., 2403., 2402.],\n",
      "         [2410., 2409., 2410.,   nan, 2407., 2407., 2409., 2404., 2403., 2402.]]],\n",
      "       dtype=torch.float64)\n"
     ]
    }
   ],
   "source": [
    "for input, ans in dl:\n",
    "    print(input.shape)\n",
    "    break\n",
    "print(input[0])"
   ]
  },
  {
   "cell_type": "code",
   "execution_count": 22,
   "metadata": {},
   "outputs": [],
   "source": [
    "ds = STACKDataset(data, data_size, target_columns, target_symbols, form=3)\n",
    "dl = DataLoader(ds, batch_size=batch_size, drop_last=True, shuffle=False)"
   ]
  },
  {
   "cell_type": "code",
   "execution_count": 23,
   "metadata": {},
   "outputs": [
    {
     "name": "stdout",
     "output_type": "stream",
     "text": [
      "torch.Size([10, 60])\n",
      "tensor([1461., 1461., 1460., 1464., 1462., 1463., 1463., 1463., 1460., 1461.,\n",
      "        1462., 1461., 1464., 1466., 1463., 1464., 1464., 1464., 1461., 1463.,\n",
      "        1461., 1460., 1464., 1462., 1462., 1463., 1462., 1460., 1461., 1461.,\n",
      "        2412., 2414., 2412., 2414., 2416., 2416., 2413., 2412., 2411.,   nan,\n",
      "        2415., 2414., 2413., 2415., 2417., 2416., 2413., 2412., 2411.,   nan,\n",
      "        2414., 2413., 2413., 2415., 2417., 2416., 2413., 2411., 2409.,   nan],\n",
      "       dtype=torch.float64)\n"
     ]
    }
   ],
   "source": [
    "for input, ans in dl:\n",
    "    print(input.shape)\n",
    "    break\n",
    "print(input[0])"
   ]
  },
  {
   "cell_type": "markdown",
   "metadata": {},
   "source": [
    "### Using pandas concat"
   ]
  },
  {
   "cell_type": "code",
   "execution_count": 24,
   "metadata": {},
   "outputs": [],
   "source": [
    "class PDDataset():\n",
    "    \n",
    "    def __init__(self, df, data_length, columns, symbols, form=1) -> None:\n",
    "        self.data = df    \n",
    "        self.indicies = random.choices(range(data_length, len(df)), k=len(df))\n",
    "        self.symbols = symbols\n",
    "        self.columns = columns\n",
    "        self.data_length = data_length\n",
    "        self.target_columns = [(symbol, column) for symbol in self.symbols for column in self.columns]\n",
    "        if form == 1:\n",
    "            self.__input_func = self.get_item_func_3dims\n",
    "        elif form == 2:\n",
    "            self.__input_func = self.get_item_func_4dims\n",
    "        elif form == 3:\n",
    "            self.__input_func = self.get_item_func_2dims\n",
    "        else:\n",
    "            raise ValueError(\"from should be 1 to 3.\")\n",
    "    \n",
    "        \n",
    "    def __common_input_func(self, ndx):\n",
    "        if type(ndx) is int:\n",
    "            ndx = slice(ndx, ndx+1)\n",
    "        chunk_size = 0\n",
    "        result = []\n",
    "        for index in self.indicies[ndx]:\n",
    "            result.append(pd.concat([data[symbol][self.columns].iloc[index-self.data_length+1:index+1].T for symbol in self.symbols]).values)\n",
    "            chunk_size+=1\n",
    "        return torch.tensor(result), chunk_size\n",
    "\n",
    "    def get_item_func_3dims(self, ndx):\n",
    "        torch_input, chunk_size = self.__common_input_func(ndx)\n",
    "        input = torch_input.reshape((chunk_size*len(self.symbols), len(self.columns) * self.data_length))\n",
    "        return input, input\n",
    "    \n",
    "    def get_item_func_2dims(self, ndx):\n",
    "        torch_input, chunk_size = self.__common_input_func(ndx)\n",
    "        input = torch_input.reshape((chunk_size * len(self.symbols)* len(self.columns) * self.data_length))\n",
    "        return input, input\n",
    "        \n",
    "    def get_item_func_4dims(self, ndx):\n",
    "        torch_input, chunk_size = self.__common_input_func(ndx)\n",
    "        input = torch_input.reshape((chunk_size*len(self.symbols), len(self.columns), self.data_length))\n",
    "        return input, input\n",
    "\n",
    "    def __getitem__(self, ndx):\n",
    "        return self.__input_func(ndx)\n",
    "    \n",
    "    def __len__(self):\n",
    "        return len(self.indicies)"
   ]
  },
  {
   "cell_type": "code",
   "execution_count": 25,
   "metadata": {},
   "outputs": [],
   "source": [
    "target_columns = [\"Open\", \"High\", \"Close\"]\n",
    "target_symbols = [\"1605.T\", \"1333.T\"]\n",
    "data_size = 10\n",
    "\n",
    "batch_size = 10\n",
    "ds = PDDataset(data, data_size, target_columns, target_symbols)\n",
    "dl = DataLoader(ds, batch_size=batch_size, drop_last=True, shuffle=False)"
   ]
  },
  {
   "cell_type": "code",
   "execution_count": 26,
   "metadata": {},
   "outputs": [
    {
     "name": "stdout",
     "output_type": "stream",
     "text": [
      "torch.Size([10, 2, 30])\n",
      "tensor([[1460., 1463., 1462., 1462., 1460., 1460., 1461., 1461., 1465., 1467.,\n",
      "         1463., 1463., 1462., 1463., 1461., 1462., 1461., 1461., 1467., 1467.,\n",
      "         1462., 1462., 1461., 1460., 1460., 1461., 1461., 1461., 1467., 1466.],\n",
      "        [2410., 2410., 2411., 2409., 2408.,   nan, 2408., 2407., 2406., 2407.,\n",
      "         2411., 2410., 2411., 2409., 2410.,   nan, 2408., 2407., 2409., 2407.,\n",
      "         2409., 2410., 2410., 2409., 2410.,   nan, 2407., 2407., 2409., 2404.]],\n",
      "       dtype=torch.float64)\n"
     ]
    },
    {
     "name": "stderr",
     "output_type": "stream",
     "text": [
      "C:\\Users\\sato\\AppData\\Local\\Temp\\ipykernel_30496\\2895283676.py:28: UserWarning: Creating a tensor from a list of numpy.ndarrays is extremely slow. Please consider converting the list to a single numpy.ndarray with numpy.array() before converting to a tensor. (Triggered internally at C:\\actions-runner\\_work\\pytorch\\pytorch\\builder\\windows\\pytorch\\torch\\csrc\\utils\\tensor_new.cpp:233.)\n",
      "  return torch.tensor(result), chunk_size\n"
     ]
    }
   ],
   "source": [
    "for input, ans in dl:\n",
    "    print(input.shape)\n",
    "    break\n",
    "print(input[0])"
   ]
  },
  {
   "cell_type": "code",
   "execution_count": 27,
   "metadata": {},
   "outputs": [
    {
     "name": "stdout",
     "output_type": "stream",
     "text": [
      "torch.Size([10, 2, 3, 10])\n",
      "tensor([[[1461., 1460., 1464., 1462., 1463., 1463., 1463., 1460., 1461., 1460.],\n",
      "         [1461., 1464., 1466., 1463., 1464., 1464., 1464., 1461., 1463., 1463.],\n",
      "         [1460., 1464., 1462., 1462., 1463., 1462., 1460., 1461., 1461., 1462.]],\n",
      "\n",
      "        [[2414., 2412., 2414., 2416., 2416., 2413., 2412., 2411.,   nan, 2410.],\n",
      "         [2414., 2413., 2415., 2417., 2416., 2413., 2412., 2411.,   nan, 2411.],\n",
      "         [2413., 2413., 2415., 2417., 2416., 2413., 2411., 2409.,   nan, 2409.]]],\n",
      "       dtype=torch.float64)\n"
     ]
    }
   ],
   "source": [
    "ds = PDDataset(data, data_size, target_columns, target_symbols, form=2)\n",
    "dl = DataLoader(ds, batch_size=batch_size, drop_last=True, shuffle=False)\n",
    "for input, ans in dl:\n",
    "    print(input.shape)\n",
    "    break\n",
    "print(input[0])"
   ]
  },
  {
   "cell_type": "code",
   "execution_count": 28,
   "metadata": {},
   "outputs": [
    {
     "name": "stdout",
     "output_type": "stream",
     "text": [
      "torch.Size([10, 60])\n",
      "tensor([1462., 1462., 1460., 1460., 1461., 1461., 1465., 1467., 1466., 1466.,\n",
      "        1462., 1463., 1461., 1462., 1461., 1461., 1467., 1467., 1466., 1466.,\n",
      "        1461., 1460., 1460., 1461., 1461., 1461., 1467., 1466., 1466., 1465.,\n",
      "        2411., 2409., 2408.,   nan, 2408., 2407., 2406., 2407., 2403., 2402.,\n",
      "        2411., 2409., 2410.,   nan, 2408., 2407., 2409., 2407., 2403., 2402.,\n",
      "        2410., 2409., 2410.,   nan, 2407., 2407., 2409., 2404., 2403., 2402.],\n",
      "       dtype=torch.float64)\n"
     ]
    }
   ],
   "source": [
    "ds = PDDataset(data, data_size, target_columns, target_symbols, form=3)\n",
    "dl = DataLoader(ds, batch_size=batch_size, drop_last=True, shuffle=False)\n",
    "for input, ans in dl:\n",
    "    print(input.shape)\n",
    "    break\n",
    "print(input[0])"
   ]
  },
  {
   "cell_type": "markdown",
   "metadata": {},
   "source": [
    "## Compare cosume time"
   ]
  },
  {
   "cell_type": "markdown",
   "metadata": {},
   "source": [
    "### Change Form with fixed size"
   ]
  },
  {
   "cell_type": "code",
   "execution_count": 29,
   "metadata": {},
   "outputs": [],
   "source": [
    "available_forms = [1, 2, 3]\n",
    "total_count = 1000\n",
    "data_size = 10\n",
    "batch_size = 5"
   ]
  },
  {
   "cell_type": "code",
   "execution_count": 30,
   "metadata": {},
   "outputs": [
    {
     "data": {
      "image/png": "[encoded data removed]",
      "text/plain": [
       "<Figure size 432x288 with 1 Axes>"
      ]
     },
     "metadata": {
      "needs_background": "light"
     },
     "output_type": "display_data"
    }
   ],
   "source": [
    "target_columns = [\"Open\", \"High\", \"Close\"]\n",
    "target_symbols = [\"1605.T\", \"1333.T\"]\n",
    "\n",
    "time_results = {}\n",
    "shapes = {}\n",
    "for form in available_forms:\n",
    "    consumed_times = []\n",
    "    ds = ListDataset(data, data_size, target_columns, target_symbols, form=form)\n",
    "    dl = DataLoader(ds, batch_size=batch_size, drop_last=True, shuffle=False)\n",
    "    for index in range(0, total_count):\n",
    "        start_time = time.perf_counter()\n",
    "        for input, ans in dl:\n",
    "            break\n",
    "        end_time = time.perf_counter()\n",
    "        consumed_times.append(end_time - start_time)\n",
    "    time_results[form] = np.array(consumed_times)\n",
    "    shapes[form] = input.shape\n",
    "\n",
    "for form in available_forms:\n",
    "    plt.hist(time_results[form], bins=50, histtype=\"step\", label=f\"use list for {shapes[form]}\")\n",
    "plt.legend()\n",
    "plt.show()"
   ]
  },
  {
   "cell_type": "code",
   "execution_count": 31,
   "metadata": {},
   "outputs": [
    {
     "data": {
      "image/png": "[encoded data removed]",
      "text/plain": [
       "<Figure size 432x288 with 1 Axes>"
      ]
     },
     "metadata": {
      "needs_background": "light"
     },
     "output_type": "display_data"
    }
   ],
   "source": [
    "target_columns = [\"Open\", \"High\", \"Close\"]\n",
    "target_symbols = [\"1605.T\", \"1333.T\"]\n",
    "\n",
    "time_results = {}\n",
    "shapes = {}\n",
    "for form in available_forms:\n",
    "    consumed_times = []\n",
    "    ds = STACKDataset(data, data_size, target_columns, target_symbols, form=form)\n",
    "    dl = DataLoader(ds, batch_size=batch_size, drop_last=True, shuffle=False)\n",
    "    for index in range(0, total_count):\n",
    "        start_time = time.perf_counter()\n",
    "        for input, ans in dl:\n",
    "            break\n",
    "        end_time = time.perf_counter()\n",
    "        consumed_times.append(end_time - start_time)\n",
    "    time_results[form] = np.array(consumed_times)\n",
    "    shapes[form] = input.shape\n",
    "\n",
    "for form in available_forms:\n",
    "    plt.hist(time_results[form], bins=50, histtype=\"step\", label=f\"use unstack for {shapes[form]}\")\n",
    "plt.legend()\n",
    "plt.show()"
   ]
  },
  {
   "cell_type": "code",
   "execution_count": 32,
   "metadata": {},
   "outputs": [
    {
     "data": {
      "image/png": "[encoded data removed]",
      "text/plain": [
       "<Figure size 432x288 with 1 Axes>"
      ]
     },
     "metadata": {
      "needs_background": "light"
     },
     "output_type": "display_data"
    }
   ],
   "source": [
    "target_columns = [\"Open\", \"High\", \"Close\"]\n",
    "target_symbols = [\"1605.T\", \"1333.T\"]\n",
    "\n",
    "time_results = {}\n",
    "shapes = {}\n",
    "for form in available_forms:\n",
    "    consumed_times = []\n",
    "    ds = PDDataset(data, data_size, target_columns, target_symbols, form=form)\n",
    "    dl = DataLoader(ds, batch_size=batch_size, drop_last=True, shuffle=False)\n",
    "    for index in range(0, total_count):\n",
    "        start_time = time.perf_counter()\n",
    "        for input, ans in dl:\n",
    "            break\n",
    "        end_time = time.perf_counter()\n",
    "        consumed_times.append(end_time - start_time)\n",
    "    time_results[form] = np.array(consumed_times)\n",
    "    shapes[form] = input.shape\n",
    "\n",
    "for form in available_forms:\n",
    "    plt.hist(time_results[form], bins=50, histtype=\"step\", label=f\"use concat for {shapes[form]}\")\n",
    "plt.legend()\n",
    "plt.show()"
   ]
  },
  {
   "cell_type": "markdown",
   "metadata": {},
   "source": [
    "### Change Size with fixed form"
   ]
  },
  {
   "cell_type": "code",
   "execution_count": 33,
   "metadata": {},
   "outputs": [],
   "source": [
    "entired_columns = [\"Open\", \"High\", \"Low\", \"Close\", \"Adj Close\", \"Volume\"]\n",
    "entire_symbols = [\"1605.T\", \"1333.T\", \"\t1332.T\"]"
   ]
  },
  {
   "cell_type": "code",
   "execution_count": 34,
   "metadata": {},
   "outputs": [
    {
     "data": {
      "image/png": "[encoded data removed]",
      "text/plain": [
       "<Figure size 432x288 with 1 Axes>"
      ]
     },
     "metadata": {
      "needs_background": "light"
     },
     "output_type": "display_data"
    }
   ],
   "source": [
    "time_results = {}\n",
    "shapes = {}\n",
    "\n",
    "for symbol_length in range(0, len(entire_symbols)):\n",
    "    time_results[symbol_length] = {}\n",
    "    shapes[symbol_length] = {}\n",
    "    \n",
    "    for column_length in available_forms:\n",
    "        consumed_times = []\n",
    "        ds = ListDataset(data, data_size, entired_columns[:column_length], target_symbols[:column_length])\n",
    "        dl = DataLoader(ds, batch_size=batch_size, drop_last=True, shuffle=False)\n",
    "        for index in range(0, total_count):\n",
    "            start_time = time.perf_counter()\n",
    "            for input, ans in dl:\n",
    "                break\n",
    "            end_time = time.perf_counter()\n",
    "            consumed_times.append(end_time - start_time)\n",
    "        time_results[symbol_length][column_length] = np.array(consumed_times)\n",
    "        shapes[symbol_length][column_length] = input.shape\n",
    "\n",
    "for symbol_length in range(0, len(entire_symbols)):\n",
    "    for column_length in available_forms:\n",
    "        plt.hist(time_results[symbol_length][column_length], bins=50, histtype=\"step\", label=f\"use list for {symbol_length} symbols and {column_length} columns\")\n",
    "plt.legend()\n",
    "plt.show()"
   ]
  },
  {
   "cell_type": "code",
   "execution_count": 35,
   "metadata": {},
   "outputs": [
    {
     "data": {
      "image/png": "[encoded data removed]",
      "text/plain": [
       "<Figure size 432x288 with 1 Axes>"
      ]
     },
     "metadata": {
      "needs_background": "light"
     },
     "output_type": "display_data"
    }
   ],
   "source": [
    "time_results = {}\n",
    "shapes = {}\n",
    "\n",
    "for symbol_length in range(0, len(entire_symbols)):\n",
    "    time_results[symbol_length] = {}\n",
    "    shapes[symbol_length] = {}\n",
    "    \n",
    "    for column_length in available_forms:\n",
    "        consumed_times = []\n",
    "        ds = STACKDataset(data, data_size, entired_columns[:column_length], target_symbols[:column_length])\n",
    "        dl = DataLoader(ds, batch_size=batch_size, drop_last=True, shuffle=False)\n",
    "        for index in range(0, total_count):\n",
    "            start_time = time.perf_counter()\n",
    "            for input, ans in dl:\n",
    "                break\n",
    "            end_time = time.perf_counter()\n",
    "            consumed_times.append(end_time - start_time)\n",
    "        time_results[symbol_length][column_length] = np.array(consumed_times)\n",
    "        shapes[symbol_length][column_length] = input.shape\n",
    "\n",
    "for symbol_length in range(0, len(entire_symbols)):\n",
    "    for column_length in available_forms:\n",
    "        plt.hist(time_results[symbol_length][column_length], bins=50, histtype=\"step\", label=f\"use stack for {symbol_length} symbols and {column_length} columns\")\n",
    "plt.legend()\n",
    "plt.show()"
   ]
  },
  {
   "cell_type": "code",
   "execution_count": 36,
   "metadata": {},
   "outputs": [
    {
     "data": {
      "image/png": "[encoded data removed]",
      "text/plain": [
       "<Figure size 432x288 with 1 Axes>"
      ]
     },
     "metadata": {
      "needs_background": "light"
     },
     "output_type": "display_data"
    }
   ],
   "source": [
    "time_results = {}\n",
    "shapes = {}\n",
    "\n",
    "for symbol_length in range(0, len(entire_symbols)):\n",
    "    time_results[symbol_length] = {}\n",
    "    shapes[symbol_length] = {}\n",
    "    \n",
    "    for column_length in available_forms:\n",
    "        consumed_times = []\n",
    "        ds = PDDataset(data, data_size, entired_columns[:column_length], target_symbols[:column_length])\n",
    "        dl = DataLoader(ds, batch_size=batch_size, drop_last=True, shuffle=False)\n",
    "        for index in range(0, total_count):\n",
    "            start_time = time.perf_counter()\n",
    "            for input, ans in dl:\n",
    "                break\n",
    "            end_time = time.perf_counter()\n",
    "            consumed_times.append(end_time - start_time)\n",
    "        time_results[symbol_length][column_length] = np.array(consumed_times)\n",
    "        shapes[symbol_length][column_length] = input.shape\n",
    "\n",
    "for symbol_length in range(0, len(entire_symbols)):\n",
    "    for column_length in available_forms:\n",
    "        plt.hist(time_results[symbol_length][column_length], bins=50, histtype=\"step\", label=f\"use concat for {symbol_length} symbols and {column_length} columns\")\n",
    "plt.legend()\n",
    "plt.show()"
   ]
  },
  {
   "cell_type": "markdown",
   "metadata": {},
   "source": [
    "### Change Length only"
   ]
  },
  {
   "cell_type": "code",
   "execution_count": 37,
   "metadata": {},
   "outputs": [
    {
     "data": {
      "image/png": "[encoded data removed]",
      "text/plain": [
       "<Figure size 432x288 with 1 Axes>"
      ]
     },
     "metadata": {
      "needs_background": "light"
     },
     "output_type": "display_data"
    }
   ],
   "source": [
    "target_columns = [\"Open\", \"High\", \"Close\"]\n",
    "target_symbols = [\"1605.T\", \"1333.T\"]\n",
    "interval = int(len(data)/3)\n",
    "\n",
    "time_results = {}\n",
    "shapes = {}\n",
    "for data_size in range(interval, len(data), interval):\n",
    "    consumed_times = []\n",
    "    ds = ListDataset(data, data_size, target_columns, target_symbols)\n",
    "    dl = DataLoader(ds, batch_size=batch_size, drop_last=True, shuffle=False)\n",
    "    for index in range(0, total_count):\n",
    "        start_time = time.perf_counter()\n",
    "        for input, ans in dl:\n",
    "            break\n",
    "        end_time = time.perf_counter()\n",
    "        consumed_times.append(end_time - start_time)\n",
    "    time_results[data_size] = np.array(consumed_times)\n",
    "    shapes[data_size] = input.shape\n",
    "\n",
    "for data_size in range(interval, len(data), interval):\n",
    "    plt.hist(time_results[data_size], bins=50, histtype=\"step\", label=f\"use list for {shapes[data_size]}\")\n",
    "plt.legend()\n",
    "plt.show()"
   ]
  },
  {
   "cell_type": "code",
   "execution_count": 38,
   "metadata": {},
   "outputs": [
    {
     "data": {
      "image/png": "[encoded data removed]",
      "text/plain": [
       "<Figure size 432x288 with 1 Axes>"
      ]
     },
     "metadata": {
      "needs_background": "light"
     },
     "output_type": "display_data"
    }
   ],
   "source": [
    "target_columns = [\"Open\", \"High\", \"Close\"]\n",
    "target_symbols = [\"1605.T\", \"1333.T\"]\n",
    "interval = int(len(data)/3)\n",
    "\n",
    "time_results = {}\n",
    "shapes = {}\n",
    "for data_size in range(interval, len(data), interval):\n",
    "    consumed_times = []\n",
    "    ds = STACKDataset(data, data_size, target_columns, target_symbols)\n",
    "    dl = DataLoader(ds, batch_size=batch_size, drop_last=True, shuffle=False)\n",
    "    for index in range(0, total_count):\n",
    "        start_time = time.perf_counter()\n",
    "        for input, ans in dl:\n",
    "            break\n",
    "        end_time = time.perf_counter()\n",
    "        consumed_times.append(end_time - start_time)\n",
    "    time_results[data_size] = np.array(consumed_times)\n",
    "    shapes[data_size] = input.shape\n",
    "\n",
    "for data_size in range(interval, len(data), interval):\n",
    "    plt.hist(time_results[data_size], bins=50, histtype=\"step\", label=f\"use unstack for {shapes[data_size]}\")\n",
    "plt.legend()\n",
    "plt.show()"
   ]
  },
  {
   "cell_type": "code",
   "execution_count": 39,
   "metadata": {},
   "outputs": [
    {
     "data": {
      "image/png": "[encoded data removed]",
      "text/plain": [
       "<Figure size 432x288 with 1 Axes>"
      ]
     },
     "metadata": {
      "needs_background": "light"
     },
     "output_type": "display_data"
    }
   ],
   "source": [
    "target_columns = [\"Open\", \"High\", \"Close\"]\n",
    "target_symbols = [\"1605.T\", \"1333.T\"]\n",
    "interval = int(len(data)/3)\n",
    "\n",
    "time_results = {}\n",
    "shapes = {}\n",
    "for data_size in range(interval, len(data), interval):\n",
    "    consumed_times = []\n",
    "    ds = PDDataset(data, data_size, target_columns, target_symbols)\n",
    "    dl = DataLoader(ds, batch_size=batch_size, drop_last=True, shuffle=False)\n",
    "    for index in range(0, total_count):\n",
    "        start_time = time.perf_counter()\n",
    "        for input, ans in dl:\n",
    "            break\n",
    "        end_time = time.perf_counter()\n",
    "        consumed_times.append(end_time - start_time)\n",
    "    time_results[data_size] = np.array(consumed_times)\n",
    "    shapes[data_size] = input.shape\n",
    "\n",
    "for data_size in range(interval, len(data), interval):\n",
    "    plt.hist(time_results[data_size], bins=50, histtype=\"step\", label=f\"use concat for {shapes[data_size]}\")\n",
    "plt.legend()\n",
    "plt.show()"
   ]
  }
 ],
 "metadata": {
  "kernelspec": {
   "display_name": "Python 3.8.10 ('venv')",
   "language": "python",
   "name": "python3"
  },
  "language_info": {
   "codemirror_mode": {
    "name": "ipython",
    "version": 3
   },
   "file_extension": ".py",
   "mimetype": "text/x-python",
   "name": "python",
   "nbconvert_exporter": "python",
   "pygments_lexer": "ipython3",
   "version": "3.8.10"
  },
  "orig_nbformat": 4,
  "vscode": {
   "interpreter": {
    "hash": "8b8f0c1964c2d42c360293b97c2bf126adadb09f88ab60c350427a278226bd93"
   }
  }
 },
 "nbformat": 4,
 "nbformat_minor": 2
}
