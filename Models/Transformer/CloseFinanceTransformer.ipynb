{
 "cells": [
  {
   "cell_type": "markdown",
   "metadata": {},
   "source": [
    "# Another BaseLine Transformer model\n",
    "\n",
    "Caution: This is not a usual use case of Transformer.\n",
    "\n",
    "Transformer developed by Google usually use Embeddeding Layer to represents a target such as a word.\n",
    "\n",
    "In this model, I use Close values as a state vector though we can take same approch for finance data.\n",
    "As feature is very limited, this would be a base line of Transformer.\n",
    "\n",
    "Parameters:\n",
    "- Input:  ohlc_df[\"close\"].iloc[index: index+data_length] while observation_length\n",
    "- Target: ohlc_df[\"close\"].iloc[index + observation_length:index + observation_length + data_length]"
   ]
  },
  {
   "cell_type": "markdown",
   "metadata": {},
   "source": [
    "## Data Preparation"
   ]
  },
  {
   "cell_type": "code",
   "execution_count": 10,
   "metadata": {},
   "outputs": [],
   "source": [
    "import os\n",
    "ohlc_column = ['open','high','low','close']\n",
    "file_path = os.path.abspath('../Data/mt5_USDJPY_min30.csv')"
   ]
  },
  {
   "cell_type": "code",
   "execution_count": 11,
   "metadata": {},
   "outputs": [
    {
     "data": {
      "text/html": [
       "<div>\n",
       "<style scoped>\n",
       "    .dataframe tbody tr th:only-of-type {\n",
       "        vertical-align: middle;\n",
       "    }\n",
       "\n",
       "    .dataframe tbody tr th {\n",
       "        vertical-align: top;\n",
       "    }\n",
       "\n",
       "    .dataframe thead th {\n",
       "        text-align: right;\n",
       "    }\n",
       "</style>\n",
       "<table border=\"1\" class=\"dataframe\">\n",
       "  <thead>\n",
       "    <tr style=\"text-align: right;\">\n",
       "      <th></th>\n",
       "      <th>open</th>\n",
       "      <th>high</th>\n",
       "      <th>low</th>\n",
       "      <th>close</th>\n",
       "      <th>tick_volume</th>\n",
       "      <th>spread</th>\n",
       "      <th>real_volume</th>\n",
       "    </tr>\n",
       "    <tr>\n",
       "      <th>time</th>\n",
       "      <th></th>\n",
       "      <th></th>\n",
       "      <th></th>\n",
       "      <th></th>\n",
       "      <th></th>\n",
       "      <th></th>\n",
       "      <th></th>\n",
       "    </tr>\n",
       "  </thead>\n",
       "  <tbody>\n",
       "    <tr>\n",
       "      <th>2014-07-07 08:30:00</th>\n",
       "      <td>102.086</td>\n",
       "      <td>102.122</td>\n",
       "      <td>102.081</td>\n",
       "      <td>102.102</td>\n",
       "      <td>738</td>\n",
       "      <td>3</td>\n",
       "      <td>0</td>\n",
       "    </tr>\n",
       "    <tr>\n",
       "      <th>2014-07-07 09:00:00</th>\n",
       "      <td>102.102</td>\n",
       "      <td>102.146</td>\n",
       "      <td>102.098</td>\n",
       "      <td>102.113</td>\n",
       "      <td>1036</td>\n",
       "      <td>3</td>\n",
       "      <td>0</td>\n",
       "    </tr>\n",
       "    <tr>\n",
       "      <th>2014-07-07 09:30:00</th>\n",
       "      <td>102.113</td>\n",
       "      <td>102.115</td>\n",
       "      <td>102.042</td>\n",
       "      <td>102.044</td>\n",
       "      <td>865</td>\n",
       "      <td>3</td>\n",
       "      <td>0</td>\n",
       "    </tr>\n",
       "    <tr>\n",
       "      <th>2014-07-07 10:00:00</th>\n",
       "      <td>102.047</td>\n",
       "      <td>102.052</td>\n",
       "      <td>102.005</td>\n",
       "      <td>102.019</td>\n",
       "      <td>983</td>\n",
       "      <td>3</td>\n",
       "      <td>0</td>\n",
       "    </tr>\n",
       "    <tr>\n",
       "      <th>2014-07-07 10:30:00</th>\n",
       "      <td>102.017</td>\n",
       "      <td>102.025</td>\n",
       "      <td>101.918</td>\n",
       "      <td>101.941</td>\n",
       "      <td>1328</td>\n",
       "      <td>3</td>\n",
       "      <td>0</td>\n",
       "    </tr>\n",
       "    <tr>\n",
       "      <th>...</th>\n",
       "      <td>...</td>\n",
       "      <td>...</td>\n",
       "      <td>...</td>\n",
       "      <td>...</td>\n",
       "      <td>...</td>\n",
       "      <td>...</td>\n",
       "      <td>...</td>\n",
       "    </tr>\n",
       "    <tr>\n",
       "      <th>2022-08-12 21:30:00</th>\n",
       "      <td>133.461</td>\n",
       "      <td>133.506</td>\n",
       "      <td>133.439</td>\n",
       "      <td>133.484</td>\n",
       "      <td>1125</td>\n",
       "      <td>3</td>\n",
       "      <td>0</td>\n",
       "    </tr>\n",
       "    <tr>\n",
       "      <th>2022-08-12 22:00:00</th>\n",
       "      <td>133.484</td>\n",
       "      <td>133.530</td>\n",
       "      <td>133.437</td>\n",
       "      <td>133.475</td>\n",
       "      <td>1277</td>\n",
       "      <td>3</td>\n",
       "      <td>0</td>\n",
       "    </tr>\n",
       "    <tr>\n",
       "      <th>2022-08-12 22:30:00</th>\n",
       "      <td>133.475</td>\n",
       "      <td>133.486</td>\n",
       "      <td>133.433</td>\n",
       "      <td>133.483</td>\n",
       "      <td>1506</td>\n",
       "      <td>3</td>\n",
       "      <td>0</td>\n",
       "    </tr>\n",
       "    <tr>\n",
       "      <th>2022-08-12 23:00:00</th>\n",
       "      <td>133.484</td>\n",
       "      <td>133.536</td>\n",
       "      <td>133.465</td>\n",
       "      <td>133.521</td>\n",
       "      <td>1038</td>\n",
       "      <td>3</td>\n",
       "      <td>0</td>\n",
       "    </tr>\n",
       "    <tr>\n",
       "      <th>2022-08-12 23:30:00</th>\n",
       "      <td>133.521</td>\n",
       "      <td>133.522</td>\n",
       "      <td>133.301</td>\n",
       "      <td>133.313</td>\n",
       "      <td>2515</td>\n",
       "      <td>3</td>\n",
       "      <td>0</td>\n",
       "    </tr>\n",
       "  </tbody>\n",
       "</table>\n",
       "<p>100720 rows × 7 columns</p>\n",
       "</div>"
      ],
      "text/plain": [
       "                        open     high      low    close  tick_volume  spread  \\\n",
       "time                                                                           \n",
       "2014-07-07 08:30:00  102.086  102.122  102.081  102.102          738       3   \n",
       "2014-07-07 09:00:00  102.102  102.146  102.098  102.113         1036       3   \n",
       "2014-07-07 09:30:00  102.113  102.115  102.042  102.044          865       3   \n",
       "2014-07-07 10:00:00  102.047  102.052  102.005  102.019          983       3   \n",
       "2014-07-07 10:30:00  102.017  102.025  101.918  101.941         1328       3   \n",
       "...                      ...      ...      ...      ...          ...     ...   \n",
       "2022-08-12 21:30:00  133.461  133.506  133.439  133.484         1125       3   \n",
       "2022-08-12 22:00:00  133.484  133.530  133.437  133.475         1277       3   \n",
       "2022-08-12 22:30:00  133.475  133.486  133.433  133.483         1506       3   \n",
       "2022-08-12 23:00:00  133.484  133.536  133.465  133.521         1038       3   \n",
       "2022-08-12 23:30:00  133.521  133.522  133.301  133.313         2515       3   \n",
       "\n",
       "                     real_volume  \n",
       "time                              \n",
       "2014-07-07 08:30:00            0  \n",
       "2014-07-07 09:00:00            0  \n",
       "2014-07-07 09:30:00            0  \n",
       "2014-07-07 10:00:00            0  \n",
       "2014-07-07 10:30:00            0  \n",
       "...                          ...  \n",
       "2022-08-12 21:30:00            0  \n",
       "2022-08-12 22:00:00            0  \n",
       "2022-08-12 22:30:00            0  \n",
       "2022-08-12 23:00:00            0  \n",
       "2022-08-12 23:30:00            0  \n",
       "\n",
       "[100720 rows x 7 columns]"
      ]
     },
     "execution_count": 11,
     "metadata": {},
     "output_type": "execute_result"
    }
   ],
   "source": [
    "import pandas as pd\n",
    "df = pd.read_csv(file_path, index_col=0, parse_dates=True)\n",
    "df"
   ]
  },
  {
   "cell_type": "markdown",
   "metadata": {},
   "source": [
    "## Define Dataset"
   ]
  },
  {
   "cell_type": "code",
   "execution_count": 3,
   "metadata": {},
   "outputs": [],
   "source": [
    "import math\n",
    "import random\n",
    "import time\n",
    "\n",
    "import matplotlib.pyplot as plt\n",
    "import numpy as np\n",
    "import pandas as pd\n",
    "import torch\n",
    "import torch.nn as nn\n",
    "from torch import Tensor\n",
    "from torch.nn import (TransformerDecoder, TransformerDecoderLayer,\n",
    "                      TransformerEncoder, TransformerEncoderLayer)\n",
    "from tqdm import tqdm"
   ]
  },
  {
   "cell_type": "code",
   "execution_count": 6,
   "metadata": {},
   "outputs": [],
   "source": [
    "import sys\n",
    "\n",
    "module_path = os.path.abspath(\"../..\")\n",
    "sys.path.append(module_path)\n",
    "\n",
    "from Dataset.base import Dataset\n",
    "from fprocess import fprocess"
   ]
  },
  {
   "cell_type": "code",
   "execution_count": 142,
   "metadata": {},
   "outputs": [],
   "source": [
    "import random\n",
    "\n",
    "class MonoDataset(Dataset):    \n",
    "    key = \"close\"        \n",
    "\n",
    "    def __init__(self, df, processes, column=\"close\", data_length=30, observation_length:int=30, \n",
    "                 device=\"cuda\", prediction_length=10, seed=1017, is_training = True, randomize=True):\n",
    "        self.data_length = data_length\n",
    "        super().__init__(df, [column], observation_length, device, processes, prediction_length, seed, is_training, randomize)            \n",
    "        self._columns = column\n",
    "                \n",
    "    def _output_func(self, batch_size):\n",
    "        if type(batch_size) == int:\n",
    "            pass\n",
    "        elif type(batch_size) == slice:\n",
    "            batch_indices = batch_size                \n",
    "            chunk_tgt = []\n",
    "            ndx = self._indices[batch_indices]\n",
    "            \n",
    "            for index in ndx:\n",
    "                future_tgt = []\n",
    "                # -1 for shift\n",
    "                for bias in range(-1, self._prediction_length):\n",
    "                    start_index = index + self.observation_length - self.data_length  + bias\n",
    "                    stop_index = index + self.observation_length + bias\n",
    "                    step_ndx = slice(start_index, stop_index)\n",
    "                    future_tgt.append(self._data[self._columns].iloc[step_ndx].values.tolist())\n",
    "                chunk_tgt.append(future_tgt)\n",
    "            \n",
    "            return torch.tensor(chunk_tgt, device=self.device, dtype=torch.float).transpose(0, 1)\n",
    "    \n",
    "    def _input_func(self, batch_size):\n",
    "        if type(batch_size) == int:\n",
    "            pass\n",
    "        elif type(batch_size) == slice:\n",
    "            batch_indices = batch_size\n",
    "            chunk_src = []\n",
    "            time_chunk_src = []\n",
    "            ndx = self._indices[batch_indices]\n",
    "            \n",
    "            for index in ndx:\n",
    "                obs_src = []\n",
    "                for bias in range(self.observation_length):\n",
    "                    stop_index = index + bias\n",
    "                    obs_ndx = slice(index - self.data_length + bias, stop_index)\n",
    "                    obs_src.append(self._data[self._columns].iloc[obs_ndx].values.tolist())\n",
    "                chunk_src.append(obs_src)\n",
    "        \n",
    "            return torch.tensor(chunk_src, device=self.device, dtype=torch.float).transpose(0, 1)\n",
    "           \n",
    "    def get_row_data(self, ndx):\n",
    "        inputs = []\n",
    "        # return (data_length + observation_length). It represents entire input data of (observation_length, data_length) shape\n",
    "        if type(ndx) == slice:\n",
    "            for index in self._indices[ndx]:\n",
    "                df = self._data[index - self.data_length: index + self.observation_length]\n",
    "                inputs.append(df)\n",
    "        else:\n",
    "            index = ndx\n",
    "            inputs = df = self._data[index -self.data_length: index + self.observation_length]\n",
    "        return inputs\n",
    "\n",
    "    def _init_indicies(self, data, randomize, split_ratio=0.7):\n",
    "        length = len(data) - self.observation_length -self.data_length - self._prediction_length\n",
    "        if length < 0:\n",
    "            raise Exception(f\"date length {length} is less than observation_length {self.observation_length}\")\n",
    "        \n",
    "        from_index = self.data_length + 1#avoid diff nan\n",
    "        to_index = int(length*split_ratio)\n",
    "        self.train_indices = random.sample(range(from_index, to_index), k=to_index - from_index)\n",
    "        \n",
    "        from_index = int(length*split_ratio) + self.observation_length + self.data_length + self._prediction_length\n",
    "        to_index = length\n",
    "        self.val_indices = random.sample(range(from_index, to_index), k=to_index - from_index)\n",
    "        \n",
    "        if self.is_training:\n",
    "            self._indices = self.train_indices\n",
    "        else:\n",
    "            self._indices = self.val_indices\n",
    "            \n",
    "    def eval(self):\n",
    "        self._indices = self.val_indices\n",
    "        self.is_training = False\n",
    "        \n",
    "    def train(self):\n",
    "        self._indices = self.train_indices\n",
    "        self.is_training = True\n",
    "    \n",
    "    def revert_prediction(self, values, ndx):\n",
    "        r_data = values\n",
    "        indices = self.get_actual_index(ndx)\n",
    "        tgt_indices = []\n",
    "        for __index in indices:\n",
    "            start_index = __index + self.observation_length -2\n",
    "            tgt_indices.append(start_index)\n",
    "        indices = tgt_indices\n",
    "        for p_index in range(len(self.processes)):\n",
    "            r_index = len(self.processes) - 1 - p_index\n",
    "            process = self.processes[r_index]\n",
    "            params = process.revert_params\n",
    "            if len(params) == 1:\n",
    "                r_data = process.revert(r_data)\n",
    "            else:\n",
    "                params = {}\n",
    "                if process.kinds == fprocess.MinMaxPreProcess.kinds:\n",
    "                    r_data = process.revert(r_data)\n",
    "                elif process.kinds == fprocess.SimpleColumnDiffPreProcess.kinds:\n",
    "                    close_column = process.base_column\n",
    "                    if p_index > 0:\n",
    "                        processes = self.processes[:p_index]\n",
    "                        required_length = [1]\n",
    "                        base_processes = []\n",
    "                        for base_process in processes:\n",
    "                            if close_column in base_process.columns:\n",
    "                                base_processes.append(base_process)\n",
    "                                required_length.append(base_process.get_minimum_required_length())\n",
    "                        if len(base_processes) > 0:\n",
    "                            raise Exception(\"Not implemented yet\")\n",
    "                    base_indices = [index - 1 for index in indices]\n",
    "                    base_values = self.org_data[close_column].iloc[base_indices]\n",
    "                    r_data = process.revert(r_data, base_value=base_values)\n",
    "                elif process.kinds == fprocess.DiffPreProcess.kinds:\n",
    "                    target_columns = process.columns\n",
    "                    if p_index > 0:\n",
    "                        processes = self.processes[:p_index]\n",
    "                        required_length = [process.get_minimum_required_length()]\n",
    "                        base_processes = []\n",
    "                        for base_process in processes:\n",
    "                            if len(set(target_columns) & set(base_process.columns)) > 0:\n",
    "                                base_processes.append(base_process)\n",
    "                                required_length.append(base_process.get_minimum_required_length())\n",
    "                        if len(base_processes) > 0:\n",
    "                            required_length = max(required_length)\n",
    "                            batch_base_indices = [index - required_length for index in indices]\n",
    "                            batch_base_values = pd.DataFrame()\n",
    "                            for index in batch_base_indices:\n",
    "                                target_data = self.org_data[target_columns].iloc[index : index + required_length]\n",
    "                                for base_process in base_processes:\n",
    "                                    target_data = base_process(target_data)\n",
    "                                batch_base_values = pd.concat([batch_base_values, target_data.iloc[-1:]], axis=0)\n",
    "                            batch_base_values = batch_base_values.values.reshape(1, *batch_base_values.shape)\n",
    "                        else:\n",
    "                            base_indices = [index - 1 for index in indices]\n",
    "                            batch_base_values = self.org_data[target_columns].iloc[base_indices]\n",
    "                    else:\n",
    "                        base_indices = [index - 1 for index in indices]\n",
    "                        batch_base_values = self.org_data[target_columns].iloc[base_indices]\n",
    "                    r_data = process.revert(r_data, base_values=batch_base_values)\n",
    "                else:\n",
    "                    raise Exception(f\"Not implemented: {process.kinds}\")\n",
    "        return r_data"
   ]
  },
  {
   "cell_type": "code",
   "execution_count": 143,
   "metadata": {},
   "outputs": [],
   "source": [
    "close_column = \"close\"\n",
    "columns = [close_column]\n",
    "\n",
    "log_p = fprocess.LogPreProcess(columns=columns)\n",
    "diff_p = fprocess.DiffPreProcess(columns=columns)\n",
    "ohlc_pre_process = [log_p, diff_p]\n",
    "\n",
    "standalization_p = fprocess.MinMaxPreProcess(columns=columns)\n",
    "processes = [*ohlc_pre_process, standalization_p]\n",
    "\n",
    "ds = MonoDataset(df, processes=processes, column=close_column)"
   ]
  },
  {
   "cell_type": "code",
   "execution_count": 52,
   "metadata": {},
   "outputs": [
    {
     "data": {
      "text/plain": [
       "(torch.Size([30, 16, 30]), torch.Size([11, 16, 30]))"
      ]
     },
     "execution_count": 52,
     "metadata": {},
     "output_type": "execute_result"
    }
   ],
   "source": [
    "# check ds works and output expected shape\n",
    "src, tgt = ds[: 16]\n",
    "src.shape, tgt.shape"
   ]
  },
  {
   "cell_type": "code",
   "execution_count": 57,
   "metadata": {},
   "outputs": [
    {
     "data": {
      "text/plain": [
       "tensor([0.2741, 0.2805, 0.2698, 0.2532, 0.2558, 0.2735, 0.3132, 0.2457, 0.2993,\n",
       "        0.2751, 0.2676, 0.2365, 0.2703, 0.2279, 0.3320, 0.2735, 0.2917, 0.2355,\n",
       "        0.3142, 0.2874, 0.3960, 0.2773, 0.2826, 0.2425, 0.2751, 0.2692, 0.2692,\n",
       "        0.2612, 0.2703, 0.2751], device='cuda:0')"
      ]
     },
     "execution_count": 57,
     "metadata": {},
     "output_type": "execute_result"
    }
   ],
   "source": [
    "src[-1, 0, :]"
   ]
  },
  {
   "cell_type": "code",
   "execution_count": 58,
   "metadata": {},
   "outputs": [
    {
     "data": {
      "text/plain": [
       "tensor([0.2741, 0.2805, 0.2698, 0.2532, 0.2558, 0.2735, 0.3132, 0.2457, 0.2993,\n",
       "        0.2751, 0.2676, 0.2365, 0.2703, 0.2279, 0.3320, 0.2735, 0.2917, 0.2355,\n",
       "        0.3142, 0.2874, 0.3960, 0.2773, 0.2826, 0.2425, 0.2751, 0.2692, 0.2692,\n",
       "        0.2612, 0.2703, 0.2751], device='cuda:0')"
      ]
     },
     "execution_count": 58,
     "metadata": {},
     "output_type": "execute_result"
    }
   ],
   "source": [
    "tgt[0, 0, :]"
   ]
  },
  {
   "cell_type": "markdown",
   "metadata": {},
   "source": [
    "## Define Model"
   ]
  },
  {
   "cell_type": "code",
   "execution_count": 59,
   "metadata": {},
   "outputs": [],
   "source": [
    "class PositionalEncoding(nn.Module):\n",
    "    def __init__(self, d_model, max_len=5000, dropout=0.05):\n",
    "        super().__init__()\n",
    "        self.dropout = nn.Dropout(p=dropout)\n",
    "        pe = torch.zeros(max_len, d_model)\n",
    "        position = torch.arange(0, max_len, dtype=torch.float).unsqueeze(1)\n",
    "        div_term = torch.exp(torch.arange(0, d_model, 2).float() * (-math.log(10000.0)/d_model))\n",
    "        pe[:, 0::2] = torch.sin(position * div_term)\n",
    "        pe[:, 1::2] = torch.cos(position * div_term)\n",
    "        pe = pe.unsqueeze(-2)\n",
    "        #pe = pe.unsqueeze(0).transpose(0, 1)\n",
    "        self.register_buffer(\"pe\", pe)\n",
    "\n",
    "    def forward(self, src, tgt):\n",
    "        src_pos = src.size(0)\n",
    "        tgt_pos = src_pos + tgt.size(0) - 1\n",
    "        return self.dropout(src + self.pe[:src_pos, :]), self.dropout(tgt + self.pe[src_pos-1:tgt_pos, :])"
   ]
  },
  {
   "cell_type": "code",
   "execution_count": 64,
   "metadata": {},
   "outputs": [],
   "source": [
    "class Seq2SeqTransformer(nn.Module):\n",
    "    \n",
    "    def __init__(\n",
    "        self, num_encoder_layers: int, num_decoder_layers: int, \n",
    "        d_model=30, dim_feedforward:int = 512, dropout:float = 0.1, nhead:int = 8,\n",
    "    ):\n",
    "        \n",
    "        super(Seq2SeqTransformer, self).__init__()\n",
    "        self.positional_encoding = PositionalEncoding(d_model, dropout=dropout)        \n",
    "        encoder_layer = TransformerEncoderLayer(\n",
    "            d_model=d_model, nhead=nhead, dim_feedforward=dim_feedforward, dropout=dropout\n",
    "        )\n",
    "        self.transformer_encoder = TransformerEncoder(encoder_layer, num_layers=num_encoder_layers)\n",
    "        \n",
    "        decoder_layer = TransformerDecoderLayer(\n",
    "            d_model=d_model, nhead=nhead, dim_feedforward=dim_feedforward, dropout=dropout\n",
    "        )\n",
    "        self.transformer_decoder = TransformerDecoder(decoder_layer, num_layers=num_decoder_layers)\n",
    "        # src/tgt is not id, so predict last value instead of softmax\n",
    "        self.output = nn.Linear(d_model, 1)\n",
    "\n",
    "    def forward(\n",
    "        self, src: Tensor, tgt: Tensor,\n",
    "        mask_tgt: Tensor, mask_src: Tensor=None, padding_mask_src: Tensor=None, padding_mask_tgt: Tensor=None,\n",
    "        memory_key_padding_mask: Tensor=None\n",
    "    ):\n",
    "        \n",
    "        src, tgt = self.positional_encoding(src, tgt)        \n",
    "        memory = self.transformer_encoder(src, mask_src, padding_mask_src)\n",
    "        outs = self.transformer_decoder(\n",
    "            tgt, memory, mask_tgt, None,\n",
    "            padding_mask_tgt, memory_key_padding_mask\n",
    "        )\n",
    "        return self.output(outs)"
   ]
  },
  {
   "cell_type": "code",
   "execution_count": 65,
   "metadata": {},
   "outputs": [],
   "source": [
    "def train(model, ds, optimizer, criterion, batch_size):\n",
    "    \n",
    "    model.train()\n",
    "    ds.train()\n",
    "    losses = 0\n",
    "    \n",
    "    length = 0.0\n",
    "    end_index = len(ds) - batch_size\n",
    "    for index in tqdm(range(0, end_index, batch_size)):\n",
    "        length+=1.0\n",
    "        src, tgt = ds[index:index+batch_size]\n",
    "\n",
    "        input_tgt = tgt[:-1, :]\n",
    "\n",
    "        mask_tgt = nn.Transformer.generate_square_subsequent_mask(input_tgt.size(0)).to(device)\n",
    "        logits = model(\n",
    "            src=src,\n",
    "            tgt=input_tgt,\n",
    "            mask_tgt=mask_tgt\n",
    "        )\n",
    "\n",
    "        optimizer.zero_grad()\n",
    "\n",
    "        output_tgt = tgt[1:, :, -1:]\n",
    "        loss = criterion(logits, output_tgt)\n",
    "        loss.backward()\n",
    "\n",
    "        optimizer.step()\n",
    "        losses += loss.item()\n",
    "        \n",
    "    return losses / length"
   ]
  },
  {
   "cell_type": "code",
   "execution_count": 66,
   "metadata": {},
   "outputs": [],
   "source": [
    "def evaluate(model, ds, criterion, batch_size):\n",
    "    \n",
    "    model.eval()\n",
    "    ds.eval()\n",
    "    losses = 0\n",
    "    length = 0.0\n",
    "    for index in range(0, len(ds) - batch_size, batch_size):\n",
    "        length+=1.0\n",
    "        src, tgt = ds[index:index+batch_size]\n",
    "        input_tgt = tgt[:-1, :]\n",
    "\n",
    "        mask_tgt = nn.Transformer.generate_square_subsequent_mask(input_tgt.size(0)).to(device)\n",
    "        logits = model(\n",
    "            src=src,\n",
    "            tgt=input_tgt,\n",
    "            mask_tgt=mask_tgt\n",
    "        )\n",
    "\n",
    "        output_tgt = tgt[1:, :, -1:]\n",
    "        loss = criterion(logits, output_tgt)\n",
    "        losses += loss.item()\n",
    "        \n",
    "    return losses / length"
   ]
  },
  {
   "cell_type": "markdown",
   "metadata": {},
   "source": [
    "## Training"
   ]
  },
  {
   "cell_type": "code",
   "execution_count": 63,
   "metadata": {},
   "outputs": [],
   "source": [
    "from torch.utils.data import DataLoader\n",
    "\n",
    "batch_size = 64\n",
    "device = torch.device(\"cuda\" if torch.cuda.is_available() else \"cpu\")\n",
    "d_model = 30\n",
    "observation_length = 30\n",
    "prediction_length = 10\n",
    "close_column = \"close\"\n",
    "columns = [close_column]\n",
    "\n",
    "log_p = fprocess.LogPreProcess(columns=columns)\n",
    "diff_p = fprocess.DiffPreProcess(columns=columns)\n",
    "ohlc_pre_process = [log_p, diff_p]\n",
    "\n",
    "standalization_p = fprocess.MinMaxPreProcess(columns=columns)\n",
    "processes = [*ohlc_pre_process, standalization_p]\n",
    "\n",
    "ds = MonoDataset(df, column=close_column, data_length=d_model, observation_length=observation_length, prediction_length=prediction_length, processes=processes)"
   ]
  },
  {
   "cell_type": "code",
   "execution_count": 73,
   "metadata": {},
   "outputs": [],
   "source": [
    "model_name = \"finance_basic_close_transformer\"\n",
    "model_version = 1"
   ]
  },
  {
   "cell_type": "code",
   "execution_count": 67,
   "metadata": {},
   "outputs": [],
   "source": [
    "feature_size = 1\n",
    "d_model=30\n",
    "nhead = 5\n",
    "dim_feedforward = 1000\n",
    "num_encoder_layers = 6\n",
    "num_decoder_layers = 6\n",
    "dropout = 0.01\n",
    "\n",
    "model = Seq2SeqTransformer(\n",
    "    num_encoder_layers=num_encoder_layers,\n",
    "    num_decoder_layers=num_decoder_layers,\n",
    "    d_model=d_model,\n",
    "    dim_feedforward=dim_feedforward,\n",
    "    dropout=dropout, nhead=nhead\n",
    ")\n",
    "\n",
    "for p in model.parameters():\n",
    "    if p.dim() > 1:\n",
    "        nn.init.xavier_uniform_(p)\n",
    "\n",
    "model = model.to(device)"
   ]
  },
  {
   "cell_type": "code",
   "execution_count": 71,
   "metadata": {},
   "outputs": [],
   "source": [
    "lr = 1e-6\n",
    "\n",
    "#criterion = torch.nn.CrossEntropyLoss()\n",
    "criterion = nn.MSELoss()\n",
    "optimizer = torch.optim.Adam(model.parameters(), lr=lr)\n",
    "scheduler = torch.optim.lr_scheduler.StepLR(optimizer, 1.0, gamma = 0.95)"
   ]
  },
  {
   "cell_type": "code",
   "execution_count": 72,
   "metadata": {},
   "outputs": [
    {
     "name": "stderr",
     "output_type": "stream",
     "text": [
      "100%|██████████| 1100/1100 [04:44<00:00,  3.87it/s]\n"
     ]
    },
    {
     "name": "stdout",
     "output_type": "stream",
     "text": [
      "[1/500] train loss: 0.0021883982, valid loss: 0.0014948792  [4m44s] count: 0, **\n"
     ]
    },
    {
     "name": "stderr",
     "output_type": "stream",
     "text": [
      "100%|██████████| 1100/1100 [04:34<00:00,  4.00it/s]\n"
     ]
    },
    {
     "name": "stdout",
     "output_type": "stream",
     "text": [
      "[2/500] train loss: 0.0021874975, valid loss: 0.0014950800  [4m35s] count: 0, \n"
     ]
    },
    {
     "name": "stderr",
     "output_type": "stream",
     "text": [
      "100%|██████████| 1100/1100 [04:29<00:00,  4.09it/s]\n"
     ]
    },
    {
     "name": "stdout",
     "output_type": "stream",
     "text": [
      "[3/500] train loss: 0.0021848982, valid loss: 0.0014950725  [4m29s] count: 1, \n"
     ]
    },
    {
     "name": "stderr",
     "output_type": "stream",
     "text": [
      "100%|██████████| 1100/1100 [04:22<00:00,  4.20it/s]\n"
     ]
    },
    {
     "name": "stdout",
     "output_type": "stream",
     "text": [
      "[4/500] train loss: 0.0021831977, valid loss: 0.0014948502  [4m22s] count: 2, **\n"
     ]
    },
    {
     "name": "stderr",
     "output_type": "stream",
     "text": [
      "100%|██████████| 1100/1100 [04:20<00:00,  4.22it/s]\n"
     ]
    },
    {
     "name": "stdout",
     "output_type": "stream",
     "text": [
      "[5/500] train loss: 0.0021825562, valid loss: 0.0014950799  [4m21s] count: 0, \n"
     ]
    },
    {
     "name": "stderr",
     "output_type": "stream",
     "text": [
      "100%|██████████| 1100/1100 [04:25<00:00,  4.14it/s]\n"
     ]
    },
    {
     "name": "stdout",
     "output_type": "stream",
     "text": [
      "[6/500] train loss: 0.0021829409, valid loss: 0.0014948452  [4m26s] count: 1, **\n"
     ]
    },
    {
     "name": "stderr",
     "output_type": "stream",
     "text": [
      "100%|██████████| 1100/1100 [04:24<00:00,  4.15it/s]\n"
     ]
    },
    {
     "name": "stdout",
     "output_type": "stream",
     "text": [
      "[7/500] train loss: 0.0021806384, valid loss: 0.0014948534  [4m25s] count: 0, \n"
     ]
    },
    {
     "name": "stderr",
     "output_type": "stream",
     "text": [
      "100%|██████████| 1100/1100 [04:19<00:00,  4.24it/s]\n"
     ]
    },
    {
     "name": "stdout",
     "output_type": "stream",
     "text": [
      "[8/500] train loss: 0.0021804977, valid loss: 0.0014948112  [4m19s] count: 1, **\n"
     ]
    },
    {
     "name": "stderr",
     "output_type": "stream",
     "text": [
      "100%|██████████| 1100/1100 [04:19<00:00,  4.23it/s]\n"
     ]
    },
    {
     "name": "stdout",
     "output_type": "stream",
     "text": [
      "[9/500] train loss: 0.0021782232, valid loss: 0.0014947179  [4m20s] count: 0, **\n"
     ]
    },
    {
     "name": "stderr",
     "output_type": "stream",
     "text": [
      "100%|██████████| 1100/1100 [04:22<00:00,  4.19it/s]\n"
     ]
    },
    {
     "name": "stdout",
     "output_type": "stream",
     "text": [
      "[10/500] train loss: 0.0021791446, valid loss: 0.0014950001  [4m23s] count: 0, \n"
     ]
    },
    {
     "name": "stderr",
     "output_type": "stream",
     "text": [
      "100%|██████████| 1100/1100 [04:24<00:00,  4.16it/s]\n"
     ]
    },
    {
     "name": "stdout",
     "output_type": "stream",
     "text": [
      "[11/500] train loss: 0.0021764180, valid loss: 0.0014950936  [4m25s] count: 1, \n"
     ]
    },
    {
     "name": "stderr",
     "output_type": "stream",
     "text": [
      "100%|██████████| 1100/1100 [04:18<00:00,  4.25it/s]\n"
     ]
    },
    {
     "name": "stdout",
     "output_type": "stream",
     "text": [
      "[12/500] train loss: 0.0021768606, valid loss: 0.0014949735  [4m19s] count: 2, \n"
     ]
    },
    {
     "name": "stderr",
     "output_type": "stream",
     "text": [
      "100%|██████████| 1100/1100 [04:19<00:00,  4.24it/s]\n"
     ]
    },
    {
     "name": "stdout",
     "output_type": "stream",
     "text": [
      "[13/500] train loss: 0.0021757765, valid loss: 0.0014949429  [4m19s] count: 3, \n"
     ]
    },
    {
     "name": "stderr",
     "output_type": "stream",
     "text": [
      "100%|██████████| 1100/1100 [04:24<00:00,  4.16it/s]\n"
     ]
    },
    {
     "name": "stdout",
     "output_type": "stream",
     "text": [
      "[14/500] train loss: 0.0021743007, valid loss: 0.0014948395  [4m25s] count: 4, \n"
     ]
    },
    {
     "name": "stderr",
     "output_type": "stream",
     "text": [
      "100%|██████████| 1100/1100 [04:23<00:00,  4.17it/s]\n"
     ]
    },
    {
     "name": "stdout",
     "output_type": "stream",
     "text": [
      "[15/500] train loss: 0.0021749572, valid loss: 0.0014947949  [4m24s] count: 5, \n"
     ]
    }
   ],
   "source": [
    "epoch = 500\n",
    "best_loss = float('Inf')\n",
    "best_model = None\n",
    "patience = 5\n",
    "counter = 0\n",
    "\n",
    "for loop in range(1, epoch + 1):\n",
    "    \n",
    "    start_time = time.time()\n",
    "    \n",
    "    loss_train = train(\n",
    "        model=model, ds=ds, optimizer=optimizer,\n",
    "        criterion=criterion, batch_size=batch_size\n",
    "    )\n",
    "    \n",
    "    elapsed_time = time.time() - start_time\n",
    "    \n",
    "    loss_valid = evaluate(\n",
    "        model=model, ds=ds, criterion=criterion,batch_size=batch_size\n",
    "    )\n",
    "    \n",
    "    print('[{}/{}] train loss: {:.10f}, valid loss: {:.10f}  [{}{:.0f}s] count: {}, {}'.format(\n",
    "        loop, epoch,\n",
    "        loss_train, loss_valid,\n",
    "        str(int(math.floor(elapsed_time / 60))) + 'm' if math.floor(elapsed_time / 60) > 0 else '',\n",
    "        elapsed_time % 60,\n",
    "        counter,\n",
    "        '**' if best_loss > loss_valid else ''\n",
    "    ))\n",
    "    \n",
    "    if best_loss > loss_valid:\n",
    "        best_loss = loss_valid\n",
    "        best_model = model\n",
    "        counter = 0\n",
    "    else:\n",
    "        counter += 1\n",
    "        scheduler.step()\n",
    "        \n",
    "    if counter > patience:\n",
    "        break"
   ]
  },
  {
   "cell_type": "code",
   "execution_count": 74,
   "metadata": {},
   "outputs": [],
   "source": [
    "torch.save(best_model.state_dict(), f'./{model_name}_v{model_version}.torch')"
   ]
  },
  {
   "cell_type": "markdown",
   "metadata": {},
   "source": [
    "## Validation"
   ]
  },
  {
   "cell_type": "code",
   "execution_count": null,
   "metadata": {},
   "outputs": [],
   "source": [
    "model_version = 1\n",
    "model.load_state_dict(torch.load(f'./{model_name}_v{model_version}.torch'))"
   ]
  },
  {
   "cell_type": "code",
   "execution_count": 97,
   "metadata": {},
   "outputs": [],
   "source": [
    "def prediction(inputs):\n",
    "\n",
    "    preds = torch.zeros(1, inputs.size(1), d_model, device=device)\n",
    "    preds[0, :, :] = inputs[-1,:, :]\n",
    "    while preds.size(0) <= prediction_length:\n",
    "        tgt_mask = nn.Transformer.generate_square_subsequent_mask(preds.size(0)).to(device)\n",
    "        out = model(src=inputs, tgt=preds,  mask_tgt=tgt_mask)\n",
    "        # print(preds[-1:, :, 1:].shape, out.shape)\n",
    "        next_features = torch.cat([preds[-1:, :, 1:], out[-1:]], dim=2)\n",
    "        preds = torch.cat([preds, next_features], dim=0)\n",
    "    return preds"
   ]
  },
  {
   "cell_type": "code",
   "execution_count": 99,
   "metadata": {},
   "outputs": [],
   "source": [
    "src, tgt = ds[:8]"
   ]
  },
  {
   "cell_type": "code",
   "execution_count": 100,
   "metadata": {},
   "outputs": [
    {
     "data": {
      "text/plain": [
       "tensor([[[0.2092, 0.2956, 0.2751,  ..., 0.3004, 0.2944, 0.2477],\n",
       "         [0.2655, 0.2655, 0.2830,  ..., 0.2539, 0.2613, 0.2655],\n",
       "         [0.3478, 0.2217, 0.2548,  ..., 0.2491, 0.3087, 0.2452],\n",
       "         ...,\n",
       "         [0.2437, 0.2933, 0.2428,  ..., 0.2676, 0.2657, 0.2809],\n",
       "         [0.2578, 0.2748, 0.2687,  ..., 0.3083, 0.2666, 0.3149],\n",
       "         [0.2846, 0.2833, 0.3199,  ..., 0.2862, 0.2204, 0.2339]],\n",
       "\n",
       "        [[0.2956, 0.2751, 0.2591,  ..., 0.2944, 0.2477, 0.2680],\n",
       "         [0.2655, 0.2830, 0.2804,  ..., 0.2613, 0.2655, 0.2680],\n",
       "         [0.2217, 0.2548, 0.2278,  ..., 0.3087, 0.2452, 0.2680],\n",
       "         ...,\n",
       "         [0.2933, 0.2428, 0.2846,  ..., 0.2657, 0.2809, 0.2680],\n",
       "         [0.2748, 0.2687, 0.2847,  ..., 0.2666, 0.3149, 0.2680],\n",
       "         [0.2833, 0.3199, 0.3249,  ..., 0.2204, 0.2339, 0.2681]],\n",
       "\n",
       "        [[0.2751, 0.2591, 0.2601,  ..., 0.2477, 0.2680, 0.2680],\n",
       "         [0.2830, 0.2804, 0.2597,  ..., 0.2655, 0.2680, 0.2680],\n",
       "         [0.2548, 0.2278, 0.2362,  ..., 0.2452, 0.2680, 0.2680],\n",
       "         ...,\n",
       "         [0.2428, 0.2846, 0.2790,  ..., 0.2809, 0.2680, 0.2680],\n",
       "         [0.2687, 0.2847, 0.3356,  ..., 0.3149, 0.2680, 0.2680],\n",
       "         [0.3199, 0.3249, 0.2981,  ..., 0.2339, 0.2681, 0.2680]],\n",
       "\n",
       "        ...,\n",
       "\n",
       "        [[0.2756, 0.2501, 0.2686,  ..., 0.2681, 0.2681, 0.2681],\n",
       "         [0.2676, 0.2666, 0.2310,  ..., 0.2680, 0.2681, 0.2681],\n",
       "         [0.2873, 0.2289, 0.2233,  ..., 0.2680, 0.2681, 0.2681],\n",
       "         ...,\n",
       "         [0.2823, 0.2055, 0.2676,  ..., 0.2680, 0.2681, 0.2680],\n",
       "         [0.2320, 0.2825, 0.2507,  ..., 0.2681, 0.2681, 0.2681],\n",
       "         [0.2849, 0.2522, 0.2195,  ..., 0.2681, 0.2681, 0.2681]],\n",
       "\n",
       "        [[0.2501, 0.2686, 0.3130,  ..., 0.2681, 0.2681, 0.2681],\n",
       "         [0.2666, 0.2310, 0.3058,  ..., 0.2681, 0.2681, 0.2681],\n",
       "         [0.2289, 0.2233, 0.2587,  ..., 0.2681, 0.2681, 0.2681],\n",
       "         ...,\n",
       "         [0.2055, 0.2676, 0.1677,  ..., 0.2681, 0.2680, 0.2681],\n",
       "         [0.2825, 0.2507, 0.2649,  ..., 0.2681, 0.2681, 0.2681],\n",
       "         [0.2522, 0.2195, 0.2480,  ..., 0.2681, 0.2681, 0.2681]],\n",
       "\n",
       "        [[0.2686, 0.3130, 0.3274,  ..., 0.2681, 0.2681, 0.2681],\n",
       "         [0.2310, 0.3058, 0.2560,  ..., 0.2681, 0.2681, 0.2681],\n",
       "         [0.2233, 0.2587, 0.2531,  ..., 0.2681, 0.2681, 0.2681],\n",
       "         ...,\n",
       "         [0.2676, 0.1677, 0.2602,  ..., 0.2680, 0.2681, 0.2681],\n",
       "         [0.2507, 0.2649, 0.2709,  ..., 0.2681, 0.2681, 0.2681],\n",
       "         [0.2195, 0.2480, 0.3020,  ..., 0.2681, 0.2681, 0.2681]]],\n",
       "       device='cuda:0', grad_fn=<CatBackward0>)"
      ]
     },
     "execution_count": 100,
     "metadata": {},
     "output_type": "execute_result"
    }
   ],
   "source": [
    "predictions = prediction(src)\n",
    "predictions"
   ]
  },
  {
   "cell_type": "code",
   "execution_count": 102,
   "metadata": {},
   "outputs": [
    {
     "data": {
      "text/plain": [
       "tensor([[[0.2477],\n",
       "         [0.2655],\n",
       "         [0.2452],\n",
       "         [0.3009],\n",
       "         [0.3359],\n",
       "         [0.2809],\n",
       "         [0.3149],\n",
       "         [0.2339]],\n",
       "\n",
       "        [[0.2680],\n",
       "         [0.2680],\n",
       "         [0.2680],\n",
       "         [0.2680],\n",
       "         [0.2680],\n",
       "         [0.2680],\n",
       "         [0.2680],\n",
       "         [0.2681]],\n",
       "\n",
       "        [[0.2680],\n",
       "         [0.2680],\n",
       "         [0.2680],\n",
       "         [0.2680],\n",
       "         [0.2680],\n",
       "         [0.2680],\n",
       "         [0.2680],\n",
       "         [0.2680]],\n",
       "\n",
       "        [[0.2680],\n",
       "         [0.2680],\n",
       "         [0.2680],\n",
       "         [0.2680],\n",
       "         [0.2680],\n",
       "         [0.2680],\n",
       "         [0.2680],\n",
       "         [0.2680]],\n",
       "\n",
       "        [[0.2680],\n",
       "         [0.2680],\n",
       "         [0.2680],\n",
       "         [0.2680],\n",
       "         [0.2680],\n",
       "         [0.2680],\n",
       "         [0.2680],\n",
       "         [0.2680]],\n",
       "\n",
       "        [[0.2680],\n",
       "         [0.2680],\n",
       "         [0.2680],\n",
       "         [0.2680],\n",
       "         [0.2680],\n",
       "         [0.2680],\n",
       "         [0.2680],\n",
       "         [0.2680]],\n",
       "\n",
       "        [[0.2681],\n",
       "         [0.2680],\n",
       "         [0.2680],\n",
       "         [0.2681],\n",
       "         [0.2680],\n",
       "         [0.2680],\n",
       "         [0.2681],\n",
       "         [0.2681]],\n",
       "\n",
       "        [[0.2681],\n",
       "         [0.2681],\n",
       "         [0.2681],\n",
       "         [0.2681],\n",
       "         [0.2681],\n",
       "         [0.2681],\n",
       "         [0.2681],\n",
       "         [0.2681]],\n",
       "\n",
       "        [[0.2681],\n",
       "         [0.2681],\n",
       "         [0.2681],\n",
       "         [0.2681],\n",
       "         [0.2681],\n",
       "         [0.2680],\n",
       "         [0.2681],\n",
       "         [0.2681]],\n",
       "\n",
       "        [[0.2681],\n",
       "         [0.2681],\n",
       "         [0.2681],\n",
       "         [0.2681],\n",
       "         [0.2681],\n",
       "         [0.2681],\n",
       "         [0.2681],\n",
       "         [0.2681]],\n",
       "\n",
       "        [[0.2681],\n",
       "         [0.2681],\n",
       "         [0.2681],\n",
       "         [0.2681],\n",
       "         [0.2681],\n",
       "         [0.2681],\n",
       "         [0.2681],\n",
       "         [0.2681]]], device='cuda:0', grad_fn=<SliceBackward0>)"
      ]
     },
     "execution_count": 102,
     "metadata": {},
     "output_type": "execute_result"
    }
   ],
   "source": [
    "# new value is last index only\n",
    "predictions[:, :, -1:]"
   ]
  },
  {
   "cell_type": "code",
   "execution_count": 110,
   "metadata": {},
   "outputs": [],
   "source": [
    "preds_values = predictions[:, :, -1:].cpu().detach().numpy()"
   ]
  },
  {
   "cell_type": "code",
   "execution_count": 128,
   "metadata": {},
   "outputs": [
    {
     "data": {
      "text/plain": [
       "array([[106.03081696],\n",
       "       [106.03249163],\n",
       "       [106.0341436 ],\n",
       "       [106.03577632],\n",
       "       [106.03737312],\n",
       "       [106.03899073],\n",
       "       [106.0407188 ],\n",
       "       [106.04251101],\n",
       "       [106.0442556 ],\n",
       "       [106.04598094],\n",
       "       [106.0477323 ]])"
      ]
     },
     "execution_count": 128,
     "metadata": {},
     "output_type": "execute_result"
    }
   ],
   "source": [
    "r_data = ds.revert_prediction(preds_values, [index for index in range(8)])\n",
    "r_data[:, 0, :]"
   ]
  },
  {
   "cell_type": "code",
   "execution_count": 144,
   "metadata": {},
   "outputs": [],
   "source": [
    "ds.eval()\n",
    "model.eval()\n",
    "\n",
    "split_factor = 300\n",
    "split_index = int(len(ds)/split_factor)\n",
    "\n",
    "for factor in range(0, split_factor):\n",
    "    if factor == split_factor-1:\n",
    "        val_inp, val_ans = ds[split_index * factor :]\n",
    "        ndx = slice(split_index * factor, len(ds))\n",
    "    else:\n",
    "        val_inp, val_ans = ds[split_index * factor : split_index * (factor+1)]\n",
    "        ndx = slice(split_index * factor, split_index * (factor+1))\n",
    "        \n",
    "    preds = prediction(val_inp)\n",
    "    pre_values = preds[:, :, -1:].cpu().detach().numpy()\n",
    "    \n",
    "    close = ds.revert_prediction(pre_values, ndx)\n",
    "    \n",
    "    if factor == 0:\n",
    "        close_pre = close\n",
    "    else:\n",
    "        close_pre = np.append(close_pre, close, axis=1)\n",
    "    \n",
    "    ans_values = val_ans[:, :, -1:].cpu().detach().numpy()\n",
    "    \n",
    "    temp_close = ds.revert_prediction(ans_values, ndx)\n",
    "    \n",
    "    if factor == 0:\n",
    "        close_ans = temp_close\n",
    "    else:\n",
    "        close_ans = np.append(close_ans, temp_close, axis=1)"
   ]
  },
  {
   "cell_type": "code",
   "execution_count": 145,
   "metadata": {},
   "outputs": [
    {
     "name": "stdout",
     "output_type": "stream",
     "text": [
      "(11, 30125, 1) (11, 30125, 1)\n"
     ]
    }
   ],
   "source": [
    "print(close_pre.shape, close_ans.shape)"
   ]
  },
  {
   "cell_type": "code",
   "execution_count": 146,
   "metadata": {},
   "outputs": [
    {
     "data": {
      "text/plain": [
       "[]"
      ]
     },
     "execution_count": 146,
     "metadata": {},
     "output_type": "execute_result"
    },
    {
     "data": {
      "image/png": "[encoded data removed]",
      "text/plain": [
       "<Figure size 432x288 with 1 Axes>"
      ]
     },
     "metadata": {
      "needs_background": "light"
     },
     "output_type": "display_data"
    }
   ],
   "source": [
    "step=1\n",
    "plt.hist(close_pre[step, :]/close_ans[step, :], bins=50, alpha=0.7)\n",
    "plt.hist(close_pre[step, :]/close_ans[step, :], bins=50, alpha=0.7, color=\"black\")\n",
    "plt.hist(close_pre[step, :]/close_ans[step, :], bins=50, alpha=0.6)\n",
    "plt.hist(close_pre[step, :]/close_ans[step, :], bins=50, alpha=0.6)\n",
    "plt.xlabel(f'Ratio of predict/actual value (Step={step})')\n",
    "plt.ylabel('Frequency')\n",
    "plt.legend([\"Close\"])\n",
    "plt.plot()"
   ]
  },
  {
   "cell_type": "code",
   "execution_count": 147,
   "metadata": {},
   "outputs": [
    {
     "data": {
      "text/plain": [
       "[]"
      ]
     },
     "execution_count": 147,
     "metadata": {},
     "output_type": "execute_result"
    },
    {
     "data": {
      "image/png": "[encoded data removed]",
      "text/plain": [
       "<Figure size 432x288 with 1 Axes>"
      ]
     },
     "metadata": {
      "needs_background": "light"
     },
     "output_type": "display_data"
    }
   ],
   "source": [
    "step=prediction_length\n",
    "plt.hist(close_pre[step, :]/close_ans[step, :], bins=50, alpha=0.7)\n",
    "plt.hist(close_pre[step, :]/close_ans[step, :], bins=50, alpha=0.7, color=\"black\")\n",
    "plt.hist(close_pre[step, :]/close_ans[step, :], bins=50, alpha=0.6)\n",
    "plt.hist(close_pre[step, :]/close_ans[step, :], bins=50, alpha=0.6)\n",
    "plt.xlabel(f'Ratio of predict/actual value (Step={step})')\n",
    "plt.ylabel('Frequency')\n",
    "plt.legend([\"Close\"])\n",
    "plt.plot()"
   ]
  },
  {
   "cell_type": "code",
   "execution_count": 148,
   "metadata": {},
   "outputs": [
    {
     "data": {
      "text/plain": [
       "[]"
      ]
     },
     "execution_count": 148,
     "metadata": {},
     "output_type": "execute_result"
    },
    {
     "data": {
      "image/png": "[encoded data removed]",
      "text/plain": [
       "<Figure size 432x288 with 1 Axes>"
      ]
     },
     "metadata": {
      "needs_background": "light"
     },
     "output_type": "display_data"
    }
   ],
   "source": [
    "step=1\n",
    "plt.hist(close_pre[step, :] - close_ans[step, :], bins=50, alpha=0.7)\n",
    "plt.hist(close_pre[step, :] - close_ans[step, :], bins=50, alpha=0.7, color=\"black\")\n",
    "plt.hist(close_pre[step, :] - close_ans[step, :], bins=50, alpha=0.6)\n",
    "plt.hist(close_pre[step, :] - close_ans[step, :], bins=50, alpha=0.6)\n",
    "plt.xlabel(f'Difference btween actual and prediction values (Step={step})')\n",
    "plt.ylabel('Frequency')\n",
    "plt.legend([\"Close\"])\n",
    "plt.plot()"
   ]
  },
  {
   "cell_type": "code",
   "execution_count": 149,
   "metadata": {},
   "outputs": [
    {
     "data": {
      "text/plain": [
       "[]"
      ]
     },
     "execution_count": 149,
     "metadata": {},
     "output_type": "execute_result"
    },
    {
     "data": {
      "image/png": "[encoded data removed]",
      "text/plain": [
       "<Figure size 432x288 with 1 Axes>"
      ]
     },
     "metadata": {
      "needs_background": "light"
     },
     "output_type": "display_data"
    }
   ],
   "source": [
    "step=prediction_length\n",
    "plt.hist(close_pre[step, :] - close_ans[step, :], bins=50, alpha=0.7)\n",
    "plt.hist(close_pre[step, :] - close_ans[step, :], bins=50, alpha=0.7, color=\"black\")\n",
    "plt.hist(close_pre[step, :] - close_ans[step, :], bins=50, alpha=0.6)\n",
    "plt.hist(close_pre[step, :] - close_ans[step, :], bins=50, alpha=0.6)\n",
    "plt.xlabel(f'Difference btween actual and prediction values (Step={step})')\n",
    "plt.ylabel('Frequency')\n",
    "plt.legend([\"Close\"])\n",
    "plt.plot()"
   ]
  },
  {
   "cell_type": "code",
   "execution_count": 151,
   "metadata": {},
   "outputs": [
    {
     "data": {
      "image/png": "[encoded data removed]",
      "text/plain": [
       "<Figure size 1440x1008 with 16 Axes>"
      ]
     },
     "metadata": {
      "needs_background": "light"
     },
     "output_type": "display_data"
    }
   ],
   "source": [
    "fig, axs = plt.subplots(4, 4, figsize=(20, 14))\n",
    "close_mean = np.mean(close_pre[:, :, 0]-close_ans[:, :, 0], axis=1)\n",
    "close_var = np.var(close_pre[:, :, 0]-close_ans[:, :, 0], axis=1)\n",
    "\n",
    "total_length = observation_length + prediction_length\n",
    "x = np.arange(total_length)\n",
    "\n",
    "\n",
    "\n",
    "for i, ax in enumerate(axs.flat):\n",
    "    index = ds.get_actual_index(i)\n",
    "    original_close = df[close_column].iloc[index-1: index + observation_length-1]\n",
    "    pred_value = close_pre[:, i, 0]\n",
    "    pred_add_mean = pred_value + close_mean\n",
    "    pred_upper = pred_add_mean + close_var\n",
    "    pred_lower = pred_add_mean - close_var\n",
    "\n",
    "    ax.fill_between(x[observation_length -1:], pred_value, pred_add_mean, color=\"orange\", alpha=0.9)\n",
    "    ax.fill_between(x[observation_length -1:], pred_lower, pred_upper, color=\"orange\", alpha=0.3)\n",
    "    ax.plot(x[:observation_length], original_close, color=\"blue\")\n",
    "    ax.plot(x[observation_length-1:], close_ans[:, i, 0], color=\"red\")\n",
    "    ax.plot(x[observation_length-1:], pred_value, color=\"green\")\n",
    "plt.show()"
   ]
  },
  {
   "cell_type": "markdown",
   "metadata": {},
   "source": [
    "# Another BaseLine Transformer model with weekly position"
   ]
  },
  {
   "cell_type": "markdown",
   "metadata": {},
   "source": [
    "## Prepare Data"
   ]
  },
  {
   "cell_type": "code",
   "execution_count": 2,
   "metadata": {},
   "outputs": [],
   "source": [
    "import os\n",
    "ohlc_column = ['open','high','low','close']\n",
    "file_path = os.path.abspath('../Data/mt5_USDJPY_min30.csv')"
   ]
  },
  {
   "cell_type": "code",
   "execution_count": 3,
   "metadata": {},
   "outputs": [
    {
     "data": {
      "text/html": [
       "<div>\n",
       "<style scoped>\n",
       "    .dataframe tbody tr th:only-of-type {\n",
       "        vertical-align: middle;\n",
       "    }\n",
       "\n",
       "    .dataframe tbody tr th {\n",
       "        vertical-align: top;\n",
       "    }\n",
       "\n",
       "    .dataframe thead th {\n",
       "        text-align: right;\n",
       "    }\n",
       "</style>\n",
       "<table border=\"1\" class=\"dataframe\">\n",
       "  <thead>\n",
       "    <tr style=\"text-align: right;\">\n",
       "      <th></th>\n",
       "      <th>open</th>\n",
       "      <th>high</th>\n",
       "      <th>low</th>\n",
       "      <th>close</th>\n",
       "      <th>tick_volume</th>\n",
       "      <th>spread</th>\n",
       "      <th>real_volume</th>\n",
       "    </tr>\n",
       "    <tr>\n",
       "      <th>time</th>\n",
       "      <th></th>\n",
       "      <th></th>\n",
       "      <th></th>\n",
       "      <th></th>\n",
       "      <th></th>\n",
       "      <th></th>\n",
       "      <th></th>\n",
       "    </tr>\n",
       "  </thead>\n",
       "  <tbody>\n",
       "    <tr>\n",
       "      <th>2014-07-07 08:30:00</th>\n",
       "      <td>102.086</td>\n",
       "      <td>102.122</td>\n",
       "      <td>102.081</td>\n",
       "      <td>102.102</td>\n",
       "      <td>738</td>\n",
       "      <td>3</td>\n",
       "      <td>0</td>\n",
       "    </tr>\n",
       "    <tr>\n",
       "      <th>2014-07-07 09:00:00</th>\n",
       "      <td>102.102</td>\n",
       "      <td>102.146</td>\n",
       "      <td>102.098</td>\n",
       "      <td>102.113</td>\n",
       "      <td>1036</td>\n",
       "      <td>3</td>\n",
       "      <td>0</td>\n",
       "    </tr>\n",
       "    <tr>\n",
       "      <th>2014-07-07 09:30:00</th>\n",
       "      <td>102.113</td>\n",
       "      <td>102.115</td>\n",
       "      <td>102.042</td>\n",
       "      <td>102.044</td>\n",
       "      <td>865</td>\n",
       "      <td>3</td>\n",
       "      <td>0</td>\n",
       "    </tr>\n",
       "    <tr>\n",
       "      <th>2014-07-07 10:00:00</th>\n",
       "      <td>102.047</td>\n",
       "      <td>102.052</td>\n",
       "      <td>102.005</td>\n",
       "      <td>102.019</td>\n",
       "      <td>983</td>\n",
       "      <td>3</td>\n",
       "      <td>0</td>\n",
       "    </tr>\n",
       "    <tr>\n",
       "      <th>2014-07-07 10:30:00</th>\n",
       "      <td>102.017</td>\n",
       "      <td>102.025</td>\n",
       "      <td>101.918</td>\n",
       "      <td>101.941</td>\n",
       "      <td>1328</td>\n",
       "      <td>3</td>\n",
       "      <td>0</td>\n",
       "    </tr>\n",
       "    <tr>\n",
       "      <th>...</th>\n",
       "      <td>...</td>\n",
       "      <td>...</td>\n",
       "      <td>...</td>\n",
       "      <td>...</td>\n",
       "      <td>...</td>\n",
       "      <td>...</td>\n",
       "      <td>...</td>\n",
       "    </tr>\n",
       "    <tr>\n",
       "      <th>2022-08-12 21:30:00</th>\n",
       "      <td>133.461</td>\n",
       "      <td>133.506</td>\n",
       "      <td>133.439</td>\n",
       "      <td>133.484</td>\n",
       "      <td>1125</td>\n",
       "      <td>3</td>\n",
       "      <td>0</td>\n",
       "    </tr>\n",
       "    <tr>\n",
       "      <th>2022-08-12 22:00:00</th>\n",
       "      <td>133.484</td>\n",
       "      <td>133.530</td>\n",
       "      <td>133.437</td>\n",
       "      <td>133.475</td>\n",
       "      <td>1277</td>\n",
       "      <td>3</td>\n",
       "      <td>0</td>\n",
       "    </tr>\n",
       "    <tr>\n",
       "      <th>2022-08-12 22:30:00</th>\n",
       "      <td>133.475</td>\n",
       "      <td>133.486</td>\n",
       "      <td>133.433</td>\n",
       "      <td>133.483</td>\n",
       "      <td>1506</td>\n",
       "      <td>3</td>\n",
       "      <td>0</td>\n",
       "    </tr>\n",
       "    <tr>\n",
       "      <th>2022-08-12 23:00:00</th>\n",
       "      <td>133.484</td>\n",
       "      <td>133.536</td>\n",
       "      <td>133.465</td>\n",
       "      <td>133.521</td>\n",
       "      <td>1038</td>\n",
       "      <td>3</td>\n",
       "      <td>0</td>\n",
       "    </tr>\n",
       "    <tr>\n",
       "      <th>2022-08-12 23:30:00</th>\n",
       "      <td>133.521</td>\n",
       "      <td>133.522</td>\n",
       "      <td>133.301</td>\n",
       "      <td>133.313</td>\n",
       "      <td>2515</td>\n",
       "      <td>3</td>\n",
       "      <td>0</td>\n",
       "    </tr>\n",
       "  </tbody>\n",
       "</table>\n",
       "<p>100720 rows × 7 columns</p>\n",
       "</div>"
      ],
      "text/plain": [
       "                        open     high      low    close  tick_volume  spread  \\\n",
       "time                                                                           \n",
       "2014-07-07 08:30:00  102.086  102.122  102.081  102.102          738       3   \n",
       "2014-07-07 09:00:00  102.102  102.146  102.098  102.113         1036       3   \n",
       "2014-07-07 09:30:00  102.113  102.115  102.042  102.044          865       3   \n",
       "2014-07-07 10:00:00  102.047  102.052  102.005  102.019          983       3   \n",
       "2014-07-07 10:30:00  102.017  102.025  101.918  101.941         1328       3   \n",
       "...                      ...      ...      ...      ...          ...     ...   \n",
       "2022-08-12 21:30:00  133.461  133.506  133.439  133.484         1125       3   \n",
       "2022-08-12 22:00:00  133.484  133.530  133.437  133.475         1277       3   \n",
       "2022-08-12 22:30:00  133.475  133.486  133.433  133.483         1506       3   \n",
       "2022-08-12 23:00:00  133.484  133.536  133.465  133.521         1038       3   \n",
       "2022-08-12 23:30:00  133.521  133.522  133.301  133.313         2515       3   \n",
       "\n",
       "                     real_volume  \n",
       "time                              \n",
       "2014-07-07 08:30:00            0  \n",
       "2014-07-07 09:00:00            0  \n",
       "2014-07-07 09:30:00            0  \n",
       "2014-07-07 10:00:00            0  \n",
       "2014-07-07 10:30:00            0  \n",
       "...                          ...  \n",
       "2022-08-12 21:30:00            0  \n",
       "2022-08-12 22:00:00            0  \n",
       "2022-08-12 22:30:00            0  \n",
       "2022-08-12 23:00:00            0  \n",
       "2022-08-12 23:30:00            0  \n",
       "\n",
       "[100720 rows x 7 columns]"
      ]
     },
     "execution_count": 3,
     "metadata": {},
     "output_type": "execute_result"
    }
   ],
   "source": [
    "import pandas as pd\n",
    "df = pd.read_csv(file_path, index_col=0, parse_dates=True)\n",
    "df"
   ]
  },
  {
   "cell_type": "code",
   "execution_count": 4,
   "metadata": {},
   "outputs": [],
   "source": [
    "import math\n",
    "import random\n",
    "import time\n",
    "\n",
    "import matplotlib.pyplot as plt\n",
    "import numpy as np\n",
    "import pandas as pd\n",
    "import torch\n",
    "import torch.nn as nn\n",
    "from torch import Tensor\n",
    "from torch.nn import (TransformerDecoder, TransformerDecoderLayer,\n",
    "                      TransformerEncoder, TransformerEncoderLayer)\n",
    "from tqdm import tqdm"
   ]
  },
  {
   "cell_type": "code",
   "execution_count": 5,
   "metadata": {},
   "outputs": [],
   "source": [
    "import sys\n",
    "\n",
    "module_path = os.path.abspath(\"../..\")\n",
    "sys.path.append(module_path)\n",
    "\n",
    "from Dataset.base import TimeDataset\n",
    "from fprocess import fprocess"
   ]
  },
  {
   "cell_type": "code",
   "execution_count": 11,
   "metadata": {},
   "outputs": [],
   "source": [
    "import random\n",
    "\n",
    "class TimeMonoDataset(TimeDataset):    \n",
    "    key = \"tclose\"\n",
    "    \n",
    "    def __init__(self, df, processes, column:str = \"close\", time_column=\"index\", data_length=30, observation_length: int = 30,\n",
    "                 device=\"cuda\", prediction_length=10, seed=1017, is_training=True, randomize=True):\n",
    "        self.data_length = data_length\n",
    "        super().__init__(df, [column], processes, time_column, observation_length, device, prediction_length, seed, is_training, randomize)\n",
    "        self._columns = column\n",
    "                \n",
    "    def _output_func(self, batch_size):\n",
    "        if type(batch_size) == int:\n",
    "            pass\n",
    "        elif type(batch_size) == slice:\n",
    "            batch_indices = batch_size                \n",
    "            chunk_tgt = []\n",
    "            chunk_time = []\n",
    "            ndx = self._indices[batch_indices]\n",
    "            \n",
    "            for index in ndx:\n",
    "                future_tgt = []\n",
    "                time_tgt = []\n",
    "                # -1 for shift\n",
    "                for bias in range(-1, self._prediction_length):\n",
    "                    start_index = index + self.observation_length - self.data_length  + bias\n",
    "                    stop_index = index + self.observation_length + bias\n",
    "                    step_ndx = slice(start_index, stop_index)\n",
    "                    future_tgt.append(self._data[self._columns].iloc[step_ndx].values.tolist())\n",
    "                    # assume time value is id\n",
    "                    time_tgt.append(self._data[self.time_column].iloc[stop_index-1].tolist())\n",
    "                chunk_tgt.append(future_tgt)\n",
    "                chunk_time.append(time_tgt)\n",
    "            \n",
    "            return (\n",
    "                torch.tensor(chunk_tgt, device=self.device, dtype=torch.float).transpose(0, 1),\n",
    "                torch.tensor(chunk_time, device=self.device, dtype=torch.int).transpose(0, 1)\n",
    "            )\n",
    "    \n",
    "    def _input_func(self, batch_size):\n",
    "        if type(batch_size) == int:\n",
    "            pass\n",
    "        elif type(batch_size) == slice:\n",
    "            batch_indices = batch_size\n",
    "            chunk_src = []\n",
    "            time_chunk_src = []\n",
    "            ndx = self._indices[batch_indices]\n",
    "            \n",
    "            for index in ndx:\n",
    "                obs_src = []\n",
    "                time_src = []\n",
    "                for bias in range(self.observation_length):\n",
    "                    stop_index = index + bias\n",
    "                    obs_ndx = slice(index - self.data_length + bias, stop_index)\n",
    "                    obs_src.append(self._data[self._columns].iloc[obs_ndx].values.tolist())\n",
    "                    time_src.append(self._data[self.time_column].iloc[stop_index-1].tolist())\n",
    "                chunk_src.append(obs_src)\n",
    "                time_chunk_src.append(time_src)\n",
    "        \n",
    "            return (\n",
    "                torch.tensor(chunk_src, device=self.device, dtype=torch.float).transpose(0, 1),\n",
    "                torch.tensor(time_chunk_src, device=self.device, dtype=torch.int).transpose(0, 1)\n",
    "            )\n",
    "           \n",
    "    def get_row_data(self, ndx):\n",
    "        inputs = []\n",
    "        # return (data_length + observation_length). It represents entire input data of (observation_length, data_length) shape\n",
    "        if type(ndx) == slice:\n",
    "            for index in self._indices[ndx]:\n",
    "                df = self._data[index - self.data_length: index + self.observation_length]\n",
    "                inputs.append(df)\n",
    "        else:\n",
    "            index = ndx\n",
    "            inputs = df = self._data[index -self.data_length: index + self.observation_length]\n",
    "        return inputs\n",
    "\n",
    "    def _init_indicies(self, data, randomize, split_ratio=0.7):\n",
    "        length = len(data) - self.observation_length -self.data_length - self._prediction_length\n",
    "        if length < 0:\n",
    "            raise Exception(f\"date length {length} is less than observation_length {self.observation_length}\")\n",
    "        \n",
    "        from_index = self.data_length + 1#avoid diff nan\n",
    "        to_index = int(length*split_ratio)\n",
    "        self.train_indices = random.sample(range(from_index, to_index), k=to_index - from_index)\n",
    "        \n",
    "        from_index = int(length*split_ratio) + self.observation_length + self.data_length + self._prediction_length\n",
    "        to_index = length\n",
    "        self.val_indices = random.sample(range(from_index, to_index), k=to_index - from_index)\n",
    "        \n",
    "        if self.is_training:\n",
    "            self._indices = self.train_indices\n",
    "        else:\n",
    "            self._indices = self.val_indices\n",
    "            \n",
    "    def eval(self):\n",
    "        self._indices = self.val_indices\n",
    "        self.is_training = False\n",
    "        \n",
    "    def train(self):\n",
    "        self._indices = self.train_indices\n",
    "        self.is_training = True\n",
    "    \n",
    "    def revert_prediction(self, values, ndx):\n",
    "        r_data = values\n",
    "        indices = self.get_actual_index(ndx)\n",
    "        tgt_indices = []\n",
    "        for __index in indices:\n",
    "            start_index = __index + self.observation_length -2\n",
    "            tgt_indices.append(start_index)\n",
    "        indices = tgt_indices\n",
    "        for p_index in range(len(self.processes)):\n",
    "            r_index = len(self.processes) - 1 - p_index\n",
    "            process = self.processes[r_index]\n",
    "            params = process.revert_params\n",
    "            if len(params) == 1:\n",
    "                r_data = process.revert(r_data)\n",
    "            else:\n",
    "                params = {}\n",
    "                if process.kinds == fprocess.MinMaxPreProcess.kinds:\n",
    "                    r_data = process.revert(r_data)\n",
    "                elif process.kinds == fprocess.SimpleColumnDiffPreProcess.kinds:\n",
    "                    close_column = process.base_column\n",
    "                    if p_index > 0:\n",
    "                        processes = self.processes[:p_index]\n",
    "                        required_length = [1]\n",
    "                        base_processes = []\n",
    "                        for base_process in processes:\n",
    "                            if close_column in base_process.columns:\n",
    "                                base_processes.append(base_process)\n",
    "                                required_length.append(base_process.get_minimum_required_length())\n",
    "                        if len(base_processes) > 0:\n",
    "                            raise Exception(\"Not implemented yet\")\n",
    "                    base_indices = [index - 1 for index in indices]\n",
    "                    base_values = self.org_data[close_column].iloc[base_indices]\n",
    "                    r_data = process.revert(r_data, base_value=base_values)\n",
    "                elif process.kinds == fprocess.DiffPreProcess.kinds:\n",
    "                    target_columns = process.columns\n",
    "                    if p_index > 0:\n",
    "                        processes = self.processes[:p_index]\n",
    "                        required_length = [process.get_minimum_required_length()]\n",
    "                        base_processes = []\n",
    "                        for base_process in processes:\n",
    "                            if len(set(target_columns) & set(base_process.columns)) > 0:\n",
    "                                base_processes.append(base_process)\n",
    "                                required_length.append(base_process.get_minimum_required_length())\n",
    "                        if len(base_processes) > 0:\n",
    "                            required_length = max(required_length)\n",
    "                            batch_base_indices = [index - required_length for index in indices]\n",
    "                            batch_base_values = pd.DataFrame()\n",
    "                            for index in batch_base_indices:\n",
    "                                target_data = self.org_data[target_columns].iloc[index : index + required_length]\n",
    "                                for base_process in base_processes:\n",
    "                                    target_data = base_process(target_data)\n",
    "                                batch_base_values = pd.concat([batch_base_values, target_data.iloc[-1:]], axis=0)\n",
    "                            batch_base_values = batch_base_values.values.reshape(1, *batch_base_values.shape)\n",
    "                        else:\n",
    "                            base_indices = [index - 1 for index in indices]\n",
    "                            batch_base_values = self.org_data[target_columns].iloc[base_indices]\n",
    "                    else:\n",
    "                        base_indices = [index - 1 for index in indices]\n",
    "                        batch_base_values = self.org_data[target_columns].iloc[base_indices]\n",
    "                    r_data = process.revert(r_data, base_values=batch_base_values)\n",
    "                else:\n",
    "                    raise Exception(f\"Not implemented: {process.kinds}\")\n",
    "        return r_data"
   ]
  },
  {
   "cell_type": "code",
   "execution_count": 19,
   "metadata": {},
   "outputs": [],
   "source": [
    "close_column = \"close\"\n",
    "device=\"cuda:1\"\n",
    "columns = [close_column]\n",
    "\n",
    "log_p = fprocess.LogPreProcess(columns=columns)\n",
    "diff_p = fprocess.DiffPreProcess(columns=columns)\n",
    "time_p = fprocess.WeeklyIDProcess(freq=30, time_column=\"index\")\n",
    "ohlc_pre_process = [log_p, diff_p, time_p]\n",
    "\n",
    "standalization_p = fprocess.MinMaxPreProcess(columns=columns)\n",
    "processes = [*ohlc_pre_process, standalization_p]\n",
    "\n",
    "ds = TimeMonoDataset(df, processes=processes, column=close_column, device=device)"
   ]
  },
  {
   "cell_type": "code",
   "execution_count": 17,
   "metadata": {},
   "outputs": [
    {
     "name": "stdout",
     "output_type": "stream",
     "text": [
      "70424\n",
      "torch.Size([30, 16, 30]) torch.Size([30, 16])\n",
      "torch.Size([11, 16, 30]) torch.Size([11, 16])\n"
     ]
    }
   ],
   "source": [
    "print(len(ds))\n",
    "\n",
    "for index in range(0, len(ds)-16, 16):\n",
    "    src, tgt = ds[index: index+16]\n",
    "    break\n",
    "    \n",
    "print(src[0].shape, src[1].shape)\n",
    "print(tgt[0].shape, tgt[1].shape)"
   ]
  },
  {
   "cell_type": "code",
   "execution_count": 21,
   "metadata": {},
   "outputs": [
    {
     "data": {
      "text/plain": [
       "torch.Size([30, 16, 30])"
      ]
     },
     "execution_count": 21,
     "metadata": {},
     "output_type": "execute_result"
    }
   ],
   "source": [
    "test_time_emb = nn.Embedding(24*2*7, 30, device=device)\n",
    "test_time_src = test_time_emb(src[1])\n",
    "test_time_src.shape"
   ]
  },
  {
   "cell_type": "markdown",
   "metadata": {},
   "source": [
    "## Define Model"
   ]
  },
  {
   "cell_type": "code",
   "execution_count": 22,
   "metadata": {},
   "outputs": [],
   "source": [
    "class PositionalEncoding(nn.Module):\n",
    "    def __init__(self, time_size, d_model):\n",
    "        super().__init__()\n",
    "        self.pe = nn.Embedding(time_size, d_model)\n",
    "\n",
    "    def forward(self,time_ids):\n",
    "        position = self.pe(time_ids)\n",
    "        return position"
   ]
  },
  {
   "cell_type": "code",
   "execution_count": 23,
   "metadata": {},
   "outputs": [],
   "source": [
    "class Seq2SeqTransformer(nn.Module):\n",
    "    \n",
    "    def __init__(\n",
    "        self, num_encoder_layers: int, num_decoder_layers: int, time_size:int=24*2*7,\n",
    "        d_model=30, dim_feedforward:int = 512, dropout:float = 0.1, nhead:int = 8,\n",
    "    ):\n",
    "        \n",
    "        super(Seq2SeqTransformer, self).__init__()\n",
    "        self.positional_encoding = PositionalEncoding(time_size, d_model)\n",
    "        encoder_layer = TransformerEncoderLayer(\n",
    "            d_model=d_model, nhead=nhead, dim_feedforward=dim_feedforward, dropout=dropout\n",
    "        )\n",
    "        self.transformer_encoder = TransformerEncoder(encoder_layer, num_layers=num_encoder_layers)\n",
    "        \n",
    "        decoder_layer = TransformerDecoderLayer(\n",
    "            d_model=d_model, nhead=nhead, dim_feedforward=dim_feedforward, dropout=dropout\n",
    "        )\n",
    "        self.transformer_decoder = TransformerDecoder(decoder_layer, num_layers=num_decoder_layers)\n",
    "        # src/tgt is not id, so predict last value instead of softmax\n",
    "        self.output = nn.Linear(d_model, 1)\n",
    "\n",
    "    def forward(\n",
    "        self, src: Tensor, src_time: Tensor,\n",
    "        tgt: Tensor, tgt_time: Tensor,\n",
    "        mask_tgt: Tensor, mask_src: Tensor=None, padding_mask_src: Tensor=None, padding_mask_tgt: Tensor=None,\n",
    "        memory_key_padding_mask: Tensor=None\n",
    "    ):\n",
    "        \n",
    "        src_time = self.positional_encoding(src_time)\n",
    "        src = torch.add(src, src_time)\n",
    "        tgt_time = self.positional_encoding(tgt_time)\n",
    "        tgt = torch.add(tgt, tgt_time)\n",
    "        \n",
    "        memory = self.transformer_encoder(src, mask_src, padding_mask_src)\n",
    "        outs = self.transformer_decoder(\n",
    "            tgt, memory, mask_tgt, None,\n",
    "            padding_mask_tgt, memory_key_padding_mask\n",
    "        )\n",
    "        return self.output(outs)"
   ]
  },
  {
   "cell_type": "code",
   "execution_count": 24,
   "metadata": {},
   "outputs": [],
   "source": [
    "def train(model, ds, optimizer, criterion, batch_size):\n",
    "    \n",
    "    model.train()\n",
    "    ds.train()\n",
    "    losses = 0\n",
    "    \n",
    "    length = 0.0\n",
    "    end_index = len(ds) - batch_size\n",
    "    for index in tqdm(range(0, end_index, batch_size)):\n",
    "        length+=1.0\n",
    "        src, tgt = ds[index:index+batch_size]\n",
    "        src, src_time = src\n",
    "        tgt, tgt_time = tgt\n",
    "\n",
    "        input_tgt = tgt[:-1, :]\n",
    "        input_tgt_time = tgt_time[:-1, :]\n",
    "\n",
    "        mask_tgt = nn.Transformer.generate_square_subsequent_mask(input_tgt.size(0)).to(device)\n",
    "        logits = model(\n",
    "            src=src, src_time=src_time,\n",
    "            tgt=input_tgt, tgt_time=input_tgt_time,\n",
    "            mask_tgt=mask_tgt\n",
    "        )\n",
    "\n",
    "        optimizer.zero_grad()\n",
    "\n",
    "        output_tgt = tgt[1:, :, -1:]\n",
    "        loss = criterion(logits, output_tgt)\n",
    "        loss.backward()\n",
    "\n",
    "        optimizer.step()\n",
    "        losses += loss.item()\n",
    "        \n",
    "    return losses / length"
   ]
  },
  {
   "cell_type": "code",
   "execution_count": 25,
   "metadata": {},
   "outputs": [],
   "source": [
    "def evaluate(model, ds, criterion, batch_size):\n",
    "    \n",
    "    model.eval()\n",
    "    ds.eval()\n",
    "    losses = 0\n",
    "    length = 0.0\n",
    "    for index in range(0, len(ds) - batch_size, batch_size):\n",
    "        length+=1.0\n",
    "        src, tgt = ds[index:index+batch_size]\n",
    "        src, src_time = src\n",
    "        tgt, tgt_time = tgt\n",
    "\n",
    "        input_tgt = tgt[:-1, :]\n",
    "        input_tgt_time = tgt_time[:-1, :]\n",
    "\n",
    "        mask_tgt = nn.Transformer.generate_square_subsequent_mask(input_tgt.size(0)).to(device)\n",
    "        logits = model(\n",
    "            src=src, src_time=src_time,\n",
    "            tgt=input_tgt, tgt_time=input_tgt_time,\n",
    "            mask_tgt=mask_tgt\n",
    "        )\n",
    "\n",
    "        optimizer.zero_grad()\n",
    "\n",
    "        output_tgt = tgt[1:, :, -1:]\n",
    "        loss = criterion(logits, output_tgt)\n",
    "        losses += loss.item()\n",
    "        \n",
    "    return losses / length"
   ]
  },
  {
   "cell_type": "markdown",
   "metadata": {},
   "source": [
    "## Training"
   ]
  },
  {
   "cell_type": "code",
   "execution_count": 34,
   "metadata": {},
   "outputs": [],
   "source": [
    "from torch.utils.data import DataLoader\n",
    "\n",
    "batch_size = 64\n",
    "device = torch.device(\"cuda:1\" if torch.cuda.is_available() else \"cpu\")\n",
    "d_model = 30\n",
    "observation_length = 30\n",
    "prediction_length = 10\n",
    "close_column = \"close\"\n",
    "columns = [close_column]\n",
    "\n",
    "log_p = fprocess.LogPreProcess(columns=columns)\n",
    "diff_p = fprocess.DiffPreProcess(columns=columns)\n",
    "time_p = fprocess.WeeklyIDProcess(freq=30, time_column=\"index\")\n",
    "ohlc_pre_process = [log_p, diff_p, time_p]\n",
    "\n",
    "standalization_p = fprocess.MinMaxPreProcess(columns=columns)\n",
    "processes = [*ohlc_pre_process, standalization_p]\n",
    "\n",
    "ds = TimeMonoDataset(df, column=close_column, time_column=\"index\", data_length=d_model, device=device,\n",
    "                     observation_length=observation_length, prediction_length=prediction_length, processes=processes)"
   ]
  },
  {
   "cell_type": "code",
   "execution_count": 27,
   "metadata": {},
   "outputs": [],
   "source": [
    "model_name = \"finance_basic_close_wt_transformer\"\n",
    "model_version = 1"
   ]
  },
  {
   "cell_type": "code",
   "execution_count": 28,
   "metadata": {},
   "outputs": [],
   "source": [
    "feature_size = 1\n",
    "d_model=30\n",
    "nhead = 5\n",
    "dim_feedforward = 1000\n",
    "num_encoder_layers = 6\n",
    "num_decoder_layers = 6\n",
    "dropout = 0.01\n",
    "time_size = 24*2*7\n",
    "\n",
    "model = Seq2SeqTransformer(\n",
    "    num_encoder_layers=num_encoder_layers,\n",
    "    num_decoder_layers=num_decoder_layers,\n",
    "    d_model=d_model,\n",
    "    time_size=time_size,\n",
    "    dim_feedforward=dim_feedforward,\n",
    "    dropout=dropout, nhead=nhead\n",
    ")\n",
    "\n",
    "for p in model.parameters():\n",
    "    if p.dim() > 1:\n",
    "        nn.init.xavier_uniform_(p)\n",
    "\n",
    "model = model.to(device)"
   ]
  },
  {
   "cell_type": "code",
   "execution_count": 30,
   "metadata": {},
   "outputs": [],
   "source": [
    "lr = 1e-4\n",
    "\n",
    "#criterion = torch.nn.CrossEntropyLoss()\n",
    "criterion = nn.MSELoss()\n",
    "optimizer = torch.optim.Adam(model.parameters(), lr=lr)\n",
    "scheduler = torch.optim.lr_scheduler.StepLR(optimizer, 1.0, gamma = 0.95)"
   ]
  },
  {
   "cell_type": "code",
   "execution_count": null,
   "metadata": {},
   "outputs": [],
   "source": [
    "epoch = 500\n",
    "best_loss = float('Inf')\n",
    "best_model = None\n",
    "patience = 5\n",
    "counter = 0\n",
    "\n",
    "for loop in range(1, epoch + 1):\n",
    "    \n",
    "    start_time = time.time()\n",
    "    \n",
    "    loss_train = train(\n",
    "        model=model, ds=ds, optimizer=optimizer,\n",
    "        criterion=criterion, batch_size=batch_size\n",
    "    )\n",
    "    \n",
    "    elapsed_time = time.time() - start_time\n",
    "    \n",
    "    loss_valid = evaluate(\n",
    "        model=model, ds=ds, criterion=criterion,batch_size=batch_size\n",
    "    )\n",
    "    \n",
    "    print('[{}/{}] train loss: {:.10f}, valid loss: {:.10f}  [{}{:.0f}s] count: {}, {}'.format(\n",
    "        loop, epoch,\n",
    "        loss_train, loss_valid,\n",
    "        str(int(math.floor(elapsed_time / 60))) + 'm' if math.floor(elapsed_time / 60) > 0 else '',\n",
    "        elapsed_time % 60,\n",
    "        counter,\n",
    "        '**' if best_loss > loss_valid else ''\n",
    "    ))\n",
    "    \n",
    "    if best_loss > loss_valid:\n",
    "        best_loss = loss_valid\n",
    "        best_model = model\n",
    "        counter = 0\n",
    "    else:\n",
    "        counter += 1\n",
    "        scheduler.step()\n",
    "        \n",
    "    if counter > patience:\n",
    "        break"
   ]
  },
  {
   "cell_type": "code",
   "execution_count": null,
   "metadata": {},
   "outputs": [],
   "source": [
    "torch.save(best_model.state_dict(), f'./{model_name}_v{model_version}.torch')"
   ]
  },
  {
   "cell_type": "markdown",
   "metadata": {},
   "source": [
    "# No overlap"
   ]
  },
  {
   "cell_type": "code",
   "execution_count": 41,
   "metadata": {},
   "outputs": [],
   "source": [
    "import os\n",
    "ohlc_column = ['open','high','low','close']\n",
    "file_path = os.path.abspath('../Data/mt5_USDJPY_min30.csv')"
   ]
  },
  {
   "cell_type": "code",
   "execution_count": 42,
   "metadata": {},
   "outputs": [
    {
     "data": {
      "text/html": [
       "<div>\n",
       "<style scoped>\n",
       "    .dataframe tbody tr th:only-of-type {\n",
       "        vertical-align: middle;\n",
       "    }\n",
       "\n",
       "    .dataframe tbody tr th {\n",
       "        vertical-align: top;\n",
       "    }\n",
       "\n",
       "    .dataframe thead th {\n",
       "        text-align: right;\n",
       "    }\n",
       "</style>\n",
       "<table border=\"1\" class=\"dataframe\">\n",
       "  <thead>\n",
       "    <tr style=\"text-align: right;\">\n",
       "      <th></th>\n",
       "      <th>open</th>\n",
       "      <th>high</th>\n",
       "      <th>low</th>\n",
       "      <th>close</th>\n",
       "      <th>tick_volume</th>\n",
       "      <th>spread</th>\n",
       "      <th>real_volume</th>\n",
       "    </tr>\n",
       "    <tr>\n",
       "      <th>time</th>\n",
       "      <th></th>\n",
       "      <th></th>\n",
       "      <th></th>\n",
       "      <th></th>\n",
       "      <th></th>\n",
       "      <th></th>\n",
       "      <th></th>\n",
       "    </tr>\n",
       "  </thead>\n",
       "  <tbody>\n",
       "    <tr>\n",
       "      <th>2014-07-07 08:30:00</th>\n",
       "      <td>102.086</td>\n",
       "      <td>102.122</td>\n",
       "      <td>102.081</td>\n",
       "      <td>102.102</td>\n",
       "      <td>738</td>\n",
       "      <td>3</td>\n",
       "      <td>0</td>\n",
       "    </tr>\n",
       "    <tr>\n",
       "      <th>2014-07-07 09:00:00</th>\n",
       "      <td>102.102</td>\n",
       "      <td>102.146</td>\n",
       "      <td>102.098</td>\n",
       "      <td>102.113</td>\n",
       "      <td>1036</td>\n",
       "      <td>3</td>\n",
       "      <td>0</td>\n",
       "    </tr>\n",
       "    <tr>\n",
       "      <th>2014-07-07 09:30:00</th>\n",
       "      <td>102.113</td>\n",
       "      <td>102.115</td>\n",
       "      <td>102.042</td>\n",
       "      <td>102.044</td>\n",
       "      <td>865</td>\n",
       "      <td>3</td>\n",
       "      <td>0</td>\n",
       "    </tr>\n",
       "    <tr>\n",
       "      <th>2014-07-07 10:00:00</th>\n",
       "      <td>102.047</td>\n",
       "      <td>102.052</td>\n",
       "      <td>102.005</td>\n",
       "      <td>102.019</td>\n",
       "      <td>983</td>\n",
       "      <td>3</td>\n",
       "      <td>0</td>\n",
       "    </tr>\n",
       "    <tr>\n",
       "      <th>2014-07-07 10:30:00</th>\n",
       "      <td>102.017</td>\n",
       "      <td>102.025</td>\n",
       "      <td>101.918</td>\n",
       "      <td>101.941</td>\n",
       "      <td>1328</td>\n",
       "      <td>3</td>\n",
       "      <td>0</td>\n",
       "    </tr>\n",
       "    <tr>\n",
       "      <th>...</th>\n",
       "      <td>...</td>\n",
       "      <td>...</td>\n",
       "      <td>...</td>\n",
       "      <td>...</td>\n",
       "      <td>...</td>\n",
       "      <td>...</td>\n",
       "      <td>...</td>\n",
       "    </tr>\n",
       "    <tr>\n",
       "      <th>2022-08-12 21:30:00</th>\n",
       "      <td>133.461</td>\n",
       "      <td>133.506</td>\n",
       "      <td>133.439</td>\n",
       "      <td>133.484</td>\n",
       "      <td>1125</td>\n",
       "      <td>3</td>\n",
       "      <td>0</td>\n",
       "    </tr>\n",
       "    <tr>\n",
       "      <th>2022-08-12 22:00:00</th>\n",
       "      <td>133.484</td>\n",
       "      <td>133.530</td>\n",
       "      <td>133.437</td>\n",
       "      <td>133.475</td>\n",
       "      <td>1277</td>\n",
       "      <td>3</td>\n",
       "      <td>0</td>\n",
       "    </tr>\n",
       "    <tr>\n",
       "      <th>2022-08-12 22:30:00</th>\n",
       "      <td>133.475</td>\n",
       "      <td>133.486</td>\n",
       "      <td>133.433</td>\n",
       "      <td>133.483</td>\n",
       "      <td>1506</td>\n",
       "      <td>3</td>\n",
       "      <td>0</td>\n",
       "    </tr>\n",
       "    <tr>\n",
       "      <th>2022-08-12 23:00:00</th>\n",
       "      <td>133.484</td>\n",
       "      <td>133.536</td>\n",
       "      <td>133.465</td>\n",
       "      <td>133.521</td>\n",
       "      <td>1038</td>\n",
       "      <td>3</td>\n",
       "      <td>0</td>\n",
       "    </tr>\n",
       "    <tr>\n",
       "      <th>2022-08-12 23:30:00</th>\n",
       "      <td>133.521</td>\n",
       "      <td>133.522</td>\n",
       "      <td>133.301</td>\n",
       "      <td>133.313</td>\n",
       "      <td>2515</td>\n",
       "      <td>3</td>\n",
       "      <td>0</td>\n",
       "    </tr>\n",
       "  </tbody>\n",
       "</table>\n",
       "<p>100720 rows × 7 columns</p>\n",
       "</div>"
      ],
      "text/plain": [
       "                        open     high      low    close  tick_volume  spread  \\\n",
       "time                                                                           \n",
       "2014-07-07 08:30:00  102.086  102.122  102.081  102.102          738       3   \n",
       "2014-07-07 09:00:00  102.102  102.146  102.098  102.113         1036       3   \n",
       "2014-07-07 09:30:00  102.113  102.115  102.042  102.044          865       3   \n",
       "2014-07-07 10:00:00  102.047  102.052  102.005  102.019          983       3   \n",
       "2014-07-07 10:30:00  102.017  102.025  101.918  101.941         1328       3   \n",
       "...                      ...      ...      ...      ...          ...     ...   \n",
       "2022-08-12 21:30:00  133.461  133.506  133.439  133.484         1125       3   \n",
       "2022-08-12 22:00:00  133.484  133.530  133.437  133.475         1277       3   \n",
       "2022-08-12 22:30:00  133.475  133.486  133.433  133.483         1506       3   \n",
       "2022-08-12 23:00:00  133.484  133.536  133.465  133.521         1038       3   \n",
       "2022-08-12 23:30:00  133.521  133.522  133.301  133.313         2515       3   \n",
       "\n",
       "                     real_volume  \n",
       "time                              \n",
       "2014-07-07 08:30:00            0  \n",
       "2014-07-07 09:00:00            0  \n",
       "2014-07-07 09:30:00            0  \n",
       "2014-07-07 10:00:00            0  \n",
       "2014-07-07 10:30:00            0  \n",
       "...                          ...  \n",
       "2022-08-12 21:30:00            0  \n",
       "2022-08-12 22:00:00            0  \n",
       "2022-08-12 22:30:00            0  \n",
       "2022-08-12 23:00:00            0  \n",
       "2022-08-12 23:30:00            0  \n",
       "\n",
       "[100720 rows x 7 columns]"
      ]
     },
     "execution_count": 42,
     "metadata": {},
     "output_type": "execute_result"
    }
   ],
   "source": [
    "import pandas as pd\n",
    "df = pd.read_csv(file_path, index_col=0, parse_dates=True)\n",
    "df"
   ]
  },
  {
   "cell_type": "code",
   "execution_count": 43,
   "metadata": {},
   "outputs": [],
   "source": [
    "import math\n",
    "import random\n",
    "import time\n",
    "\n",
    "import matplotlib.pyplot as plt\n",
    "import numpy as np\n",
    "import pandas as pd\n",
    "import torch\n",
    "import torch.nn as nn\n",
    "from torch import Tensor\n",
    "from torch.nn import (TransformerDecoder, TransformerDecoderLayer,\n",
    "                      TransformerEncoder, TransformerEncoderLayer)\n",
    "from tqdm import tqdm"
   ]
  },
  {
   "cell_type": "markdown",
   "metadata": {},
   "source": [
    "## Define Dataset"
   ]
  },
  {
   "cell_type": "code",
   "execution_count": 45,
   "metadata": {},
   "outputs": [],
   "source": [
    "import sys\n",
    "\n",
    "module_path = os.path.abspath(\"../..\")\n",
    "sys.path.append(module_path)\n",
    "\n",
    "from Dataset.base import TimeDataset\n",
    "from fprocess import fprocess"
   ]
  },
  {
   "cell_type": "code",
   "execution_count": 98,
   "metadata": {},
   "outputs": [],
   "source": [
    "import random\n",
    "\n",
    "class TimeMonoDataset(TimeDataset):\n",
    "    key = \"close\"        \n",
    "    \n",
    "    def __init__(self, df, processes, column=\"close\", time_column=\"index\", observation_length: int = 60,data_length=30, device=\"cuda\", prediction_length=10, seed=1017, is_training=True, randomize=True):\n",
    "        self.data_length = data_length\n",
    "        super().__init__(df, [column], processes, time_column, observation_length, device, prediction_length, seed, is_training, randomize)\n",
    "        self._columns = column\n",
    "\n",
    "                \n",
    "    def _output_func(self, batch_size):\n",
    "        if type(batch_size) == int:\n",
    "            pass\n",
    "        elif type(batch_size) == slice:\n",
    "            batch_indices = batch_size                \n",
    "            chunk_tgt = []\n",
    "            chunk_time = []\n",
    "            ndx = self._indices[batch_indices]\n",
    "            \n",
    "            for index in ndx:\n",
    "                future_tgt = []\n",
    "                time_tgt = []\n",
    "                index += self.observation_length * self.data_length\n",
    "                for bias in range(-1, self._prediction_length*self.data_length, self.data_length):\n",
    "                    start_index = index - self.data_length + bias\n",
    "                    stop_index = index + bias\n",
    "                    step_ndx = slice(start_index, stop_index)\n",
    "                    future_tgt.append(self._data[self._columns].iloc[step_ndx].values.tolist())\n",
    "                    time_tgt.append(self._data[self.time_column].iloc[stop_index-1].tolist())\n",
    "                chunk_tgt.append(future_tgt)\n",
    "                chunk_time.append(time_tgt)\n",
    "            \n",
    "            return (\n",
    "                torch.tensor(chunk_tgt, device=self.device, dtype=torch.float).transpose(0, 1),\n",
    "                torch.tensor(chunk_time, device=self.device, dtype=torch.int).transpose(0, 1)\n",
    "            )\n",
    "    \n",
    "    def _input_func(self, batch_size):\n",
    "        if type(batch_size) == int:\n",
    "            pass\n",
    "        elif type(batch_size) == slice:\n",
    "            batch_indices = batch_size\n",
    "            chunk_src = []\n",
    "            time_chunk_src = []\n",
    "            ndx = self._indices[batch_indices]\n",
    "            \n",
    "            for index in ndx:\n",
    "                obs_src = []\n",
    "                time_tgt = []\n",
    "                for bias in range(0, self.observation_length*self.data_length, self.data_length):\n",
    "                    start_index = index - self.data_length + bias\n",
    "                    stop_index = index + bias\n",
    "                    obs_ndx = slice(start_index, stop_index)\n",
    "                    obs_src.append(self._data[self._columns].iloc[obs_ndx].values.tolist())\n",
    "                    time_tgt.append(self._data[self.time_column].iloc[stop_index-1].tolist())\n",
    "                chunk_src.append(obs_src)\n",
    "                time_chunk_src.append(time_tgt)\n",
    "        \n",
    "            return (\n",
    "                torch.tensor(chunk_src, device=self.device, dtype=torch.float).transpose(0, 1),\n",
    "                torch.tensor(time_chunk_src, device=self.device, dtype=torch.int).transpose(0, 1)\n",
    "            )\n",
    "           \n",
    "    def get_row_data(self, ndx):\n",
    "        inputs = []\n",
    "        # return (data_length + observation_length). It represents entire input data of (observation_length, data_length) shape\n",
    "        if type(ndx) == slice:\n",
    "            for index in self._indices[ndx]:\n",
    "                df = self._data[index - self.data_length: index + self.observation_length]\n",
    "                inputs.append(df)\n",
    "        else:\n",
    "            index = ndx\n",
    "            inputs = df = self._data[index -self.data_length: index + self.observation_length]\n",
    "        return inputs\n",
    "\n",
    "    def _init_indicies(self, data, randomize, split_ratio=0.7):        \n",
    "        from_index = self.data_length + 1#avoid diff nan\n",
    "        total_indices = [*range(self.data_length + 1, len(data), self.data_length)]\n",
    "        length = len(total_indices[:-(self._prediction_length + self.observation_length)])\n",
    "        \n",
    "        from_index = 0\n",
    "        to_index = int(length*split_ratio)\n",
    "        self.train_indices = [\n",
    "            total_indices[index] for index in \n",
    "            random.sample(range(from_index, to_index), k=to_index - from_index)\n",
    "        ]\n",
    "        \n",
    "        from_index = int(length*split_ratio) + self._prediction_length\n",
    "        to_index = length\n",
    "        self.val_indices = [\n",
    "            total_indices[index] for index in\n",
    "            random.sample(range(from_index, to_index), k=to_index - from_index)\n",
    "        ]\n",
    "        \n",
    "        if self.is_training:\n",
    "            self._indices = self.train_indices\n",
    "        else:\n",
    "            self._indices = self.val_indices\n",
    "            \n",
    "    def eval(self):\n",
    "        self._indices = self.val_indices\n",
    "        self.is_training = False\n",
    "        \n",
    "    def train(self):\n",
    "        self._indices = self.train_indices\n",
    "        self.is_training = True\n",
    "    \n",
    "    def revert_prediction(self, values, ndx):\n",
    "        r_data = values\n",
    "        indices = self.get_actual_index(ndx)\n",
    "        tgt_indices = []\n",
    "        for __index in indices:\n",
    "            start_index = __index + self.observation_length -2\n",
    "            tgt_indices.append(start_index)\n",
    "        indices = tgt_indices\n",
    "        for p_index in range(len(self.processes)):\n",
    "            r_index = len(self.processes) - 1 - p_index\n",
    "            process = self.processes[r_index]\n",
    "            params = process.revert_params\n",
    "            if len(params) == 1:\n",
    "                r_data = process.revert(r_data)\n",
    "            else:\n",
    "                params = {}\n",
    "                if process.kinds == fprocess.MinMaxPreProcess.kinds:\n",
    "                    r_data = process.revert(r_data)\n",
    "                elif process.kinds == fprocess.SimpleColumnDiffPreProcess.kinds:\n",
    "                    close_column = process.base_column\n",
    "                    if p_index > 0:\n",
    "                        processes = self.processes[:p_index]\n",
    "                        required_length = [1]\n",
    "                        base_processes = []\n",
    "                        for base_process in processes:\n",
    "                            if close_column in base_process.columns:\n",
    "                                base_processes.append(base_process)\n",
    "                                required_length.append(base_process.get_minimum_required_length())\n",
    "                        if len(base_processes) > 0:\n",
    "                            raise Exception(\"Not implemented yet\")\n",
    "                    base_indices = [index - 1 for index in indices]\n",
    "                    base_values = self.org_data[close_column].iloc[base_indices]\n",
    "                    r_data = process.revert(r_data, base_value=base_values)\n",
    "                elif process.kinds == fprocess.DiffPreProcess.kinds:\n",
    "                    target_columns = process.columns\n",
    "                    if p_index > 0:\n",
    "                        processes = self.processes[:p_index]\n",
    "                        required_length = [process.get_minimum_required_length()]\n",
    "                        base_processes = []\n",
    "                        for base_process in processes:\n",
    "                            if len(set(target_columns) & set(base_process.columns)) > 0:\n",
    "                                base_processes.append(base_process)\n",
    "                                required_length.append(base_process.get_minimum_required_length())\n",
    "                        if len(base_processes) > 0:\n",
    "                            required_length = max(required_length)\n",
    "                            batch_base_indices = [index - required_length for index in indices]\n",
    "                            batch_base_values = pd.DataFrame()\n",
    "                            for index in batch_base_indices:\n",
    "                                target_data = self.org_data[target_columns].iloc[index : index + required_length]\n",
    "                                for base_process in base_processes:\n",
    "                                    target_data = base_process(target_data)\n",
    "                                batch_base_values = pd.concat([batch_base_values, target_data.iloc[-1:]], axis=0)\n",
    "                            batch_base_values = batch_base_values.values.reshape(1, *batch_base_values.shape)\n",
    "                        else:\n",
    "                            base_indices = [index - 1 for index in indices]\n",
    "                            batch_base_values = self.org_data[target_columns].iloc[base_indices]\n",
    "                    else:\n",
    "                        base_indices = [index - 1 for index in indices]\n",
    "                        batch_base_values = self.org_data[target_columns].iloc[base_indices]\n",
    "                    r_data = process.revert(r_data, base_values=batch_base_values)\n",
    "                else:\n",
    "                    raise Exception(f\"Not implemented: {process.kinds}\")\n",
    "        return r_data"
   ]
  },
  {
   "cell_type": "code",
   "execution_count": 99,
   "metadata": {},
   "outputs": [],
   "source": [
    "close_column = \"close\"\n",
    "device=\"cuda:1\"\n",
    "columns = [close_column]\n",
    "\n",
    "log_p = fprocess.LogPreProcess(columns=columns)\n",
    "diff_p = fprocess.DiffPreProcess(columns=columns)\n",
    "time_p = fprocess.WeeklyIDProcess(freq=30, time_column=\"index\")\n",
    "ohlc_pre_process = [log_p, diff_p, time_p]\n",
    "\n",
    "standalization_p = fprocess.MinMaxPreProcess(columns=columns)\n",
    "processes = [*ohlc_pre_process, standalization_p]\n",
    "\n",
    "ds = TimeMonoDataset(df, processes=processes, column=close_column, time_column=\"index\", device=device)"
   ]
  },
  {
   "cell_type": "code",
   "execution_count": 102,
   "metadata": {},
   "outputs": [
    {
     "name": "stderr",
     "output_type": "stream",
     "text": [
      "100%|██████████| 144/144 [00:14<00:00, 10.08it/s]"
     ]
    },
    {
     "name": "stdout",
     "output_type": "stream",
     "text": [
      "torch.Size([60, 12, 30]) torch.Size([60, 12])\n",
      "torch.Size([11, 12, 30]) torch.Size([11, 12])\n"
     ]
    },
    {
     "name": "stderr",
     "output_type": "stream",
     "text": [
      "\n"
     ]
    }
   ],
   "source": [
    "ds.train()\n",
    "for index in tqdm(range(0, len(ds), 16)):\n",
    "    src, tgt = ds[index:index+16]\n",
    "print(src[0].shape, src[1].shape)\n",
    "print(tgt[0].shape, tgt[1].shape)"
   ]
  },
  {
   "cell_type": "code",
   "execution_count": 100,
   "metadata": {},
   "outputs": [
    {
     "name": "stderr",
     "output_type": "stream",
     "text": [
      "100%|██████████| 62/62 [00:07<00:00,  8.56it/s]"
     ]
    },
    {
     "name": "stdout",
     "output_type": "stream",
     "text": [
      "torch.Size([60, 1, 30]) torch.Size([60, 1])\n",
      "torch.Size([11, 1, 30]) torch.Size([11, 1])\n"
     ]
    },
    {
     "name": "stderr",
     "output_type": "stream",
     "text": [
      "\n"
     ]
    }
   ],
   "source": [
    "ds.eval()\n",
    "for index in tqdm(range(0, len(ds), 16)):\n",
    "    src, tgt = ds[index:index+16]\n",
    "print(src[0].shape, src[1].shape)\n",
    "print(tgt[0].shape, tgt[1].shape)"
   ]
  },
  {
   "cell_type": "markdown",
   "metadata": {},
   "source": [
    "## Define Model"
   ]
  },
  {
   "cell_type": "code",
   "execution_count": 50,
   "metadata": {},
   "outputs": [],
   "source": [
    "class PositionalEncoding(nn.Module):\n",
    "    def __init__(self, time_size, d_model):\n",
    "        super().__init__()\n",
    "        self.pe = nn.Embedding(time_size, d_model)\n",
    "\n",
    "    def forward(self,time_ids):\n",
    "        position = self.pe(time_ids)\n",
    "        return position"
   ]
  },
  {
   "cell_type": "code",
   "execution_count": 51,
   "metadata": {},
   "outputs": [],
   "source": [
    "class Seq2SeqTransformer(nn.Module):\n",
    "    \n",
    "    def __init__(\n",
    "        self, num_encoder_layers: int, num_decoder_layers: int, time_size:int=24*2*7,\n",
    "        d_model=30, dim_feedforward:int = 512, dropout:float = 0.1, nhead:int = 8,\n",
    "    ):\n",
    "        \n",
    "        super(Seq2SeqTransformer, self).__init__()\n",
    "        self.positional_encoding = PositionalEncoding(time_size, d_model)\n",
    "        encoder_layer = TransformerEncoderLayer(\n",
    "            d_model=d_model, nhead=nhead, dim_feedforward=dim_feedforward, dropout=dropout\n",
    "        )\n",
    "        self.transformer_encoder = TransformerEncoder(encoder_layer, num_layers=num_encoder_layers)\n",
    "        \n",
    "        decoder_layer = TransformerDecoderLayer(\n",
    "            d_model=d_model, nhead=nhead, dim_feedforward=dim_feedforward, dropout=dropout\n",
    "        )\n",
    "        self.transformer_decoder = TransformerDecoder(decoder_layer, num_layers=num_decoder_layers)\n",
    "        # src/tgt is not id, so predict last value instead of softmax\n",
    "        self.output = nn.Linear(d_model, 1)\n",
    "\n",
    "    def forward(\n",
    "        self, src: Tensor, src_time: Tensor,\n",
    "        tgt: Tensor, tgt_time: Tensor,\n",
    "        mask_tgt: Tensor, mask_src: Tensor=None, padding_mask_src: Tensor=None, padding_mask_tgt: Tensor=None,\n",
    "        memory_key_padding_mask: Tensor=None\n",
    "    ):\n",
    "        \n",
    "        src_time = self.positional_encoding(src_time)\n",
    "        src = torch.add(src, src_time)\n",
    "        tgt_time = self.positional_encoding(tgt_time)\n",
    "        tgt = torch.add(tgt, tgt_time)\n",
    "        \n",
    "        memory = self.transformer_encoder(src, mask_src, padding_mask_src)\n",
    "        outs = self.transformer_decoder(\n",
    "            tgt, memory, mask_tgt, None,\n",
    "            padding_mask_tgt, memory_key_padding_mask\n",
    "        )\n",
    "        return self.output(outs)"
   ]
  },
  {
   "cell_type": "code",
   "execution_count": 52,
   "metadata": {},
   "outputs": [],
   "source": [
    "def train(model, ds, optimizer, criterion, batch_size):\n",
    "    \n",
    "    model.train()\n",
    "    ds.train()\n",
    "    losses = 0\n",
    "    \n",
    "    length = 0.0\n",
    "    end_index = len(ds) - batch_size\n",
    "    for index in tqdm(range(0, end_index, batch_size)):\n",
    "        length+=1.0\n",
    "        src, tgt = ds[index:index+batch_size]\n",
    "        src, src_time = src\n",
    "        tgt, tgt_time = tgt\n",
    "\n",
    "        input_tgt = tgt[:-1, :]\n",
    "        input_tgt_time = tgt_time[:-1, :]\n",
    "\n",
    "        mask_tgt = nn.Transformer.generate_square_subsequent_mask(input_tgt.size(0)).to(device)\n",
    "        logits = model(\n",
    "            src=src, src_time=src_time,\n",
    "            tgt=input_tgt, tgt_time=input_tgt_time,\n",
    "            mask_tgt=mask_tgt\n",
    "        )\n",
    "\n",
    "        optimizer.zero_grad()\n",
    "\n",
    "        output_tgt = tgt[1:, :, -1:]\n",
    "        loss = criterion(logits, output_tgt)\n",
    "        loss.backward()\n",
    "\n",
    "        optimizer.step()\n",
    "        losses += loss.item()\n",
    "        \n",
    "    return losses / length"
   ]
  },
  {
   "cell_type": "code",
   "execution_count": 53,
   "metadata": {},
   "outputs": [],
   "source": [
    "def evaluate(model, ds, criterion, batch_size):\n",
    "    \n",
    "    model.eval()\n",
    "    ds.eval()\n",
    "    losses = 0\n",
    "    length = 0.0\n",
    "    for index in range(0, len(ds) - batch_size, batch_size):\n",
    "        length+=1.0\n",
    "        src, tgt = ds[index:index+batch_size]\n",
    "        src, src_time = src\n",
    "        tgt, tgt_time = tgt\n",
    "\n",
    "        input_tgt = tgt[:-1, :]\n",
    "        input_tgt_time = tgt_time[:-1, :]\n",
    "\n",
    "        mask_tgt = nn.Transformer.generate_square_subsequent_mask(input_tgt.size(0)).to(device)\n",
    "        logits = model(\n",
    "            src=src, src_time=src_time,\n",
    "            tgt=input_tgt, tgt_time=input_tgt_time,\n",
    "            mask_tgt=mask_tgt\n",
    "        )\n",
    "\n",
    "        optimizer.zero_grad()\n",
    "\n",
    "        output_tgt = tgt[1:, :, -1:]\n",
    "        loss = criterion(logits, output_tgt)\n",
    "        losses += loss.item()\n",
    "        \n",
    "    return losses / length"
   ]
  },
  {
   "cell_type": "markdown",
   "metadata": {},
   "source": [
    "## Train Model"
   ]
  },
  {
   "cell_type": "code",
   "execution_count": 62,
   "metadata": {},
   "outputs": [],
   "source": [
    "from torch.utils.data import DataLoader\n",
    "\n",
    "batch_size = 64\n",
    "device = torch.device(\"cuda:1\" if torch.cuda.is_available() else \"cpu\")\n",
    "d_model = 30\n",
    "observation_length = 30\n",
    "prediction_length = 10\n",
    "close_column = \"close\"\n",
    "columns = [close_column]\n",
    "\n",
    "log_p = fprocess.LogPreProcess(columns=columns)\n",
    "diff_p = fprocess.DiffPreProcess(columns=columns)\n",
    "time_p = fprocess.WeeklyIDProcess(freq=30, time_column=\"index\")\n",
    "ohlc_pre_process = [log_p, diff_p, time_p]\n",
    "\n",
    "standalization_p = fprocess.MinMaxPreProcess(columns=columns)\n",
    "processes = [*ohlc_pre_process, standalization_p]\n",
    "\n",
    "ds = TimeMonoDataset(df, column=close_column, time_column=\"index\", data_length=d_model, device=device,\n",
    "                     observation_length=observation_length, prediction_length=prediction_length, processes=processes)"
   ]
  },
  {
   "cell_type": "code",
   "execution_count": 63,
   "metadata": {},
   "outputs": [],
   "source": [
    "model_name = \"finance_basic_close_wt_transformer\"\n",
    "model_version = 2"
   ]
  },
  {
   "cell_type": "code",
   "execution_count": 64,
   "metadata": {},
   "outputs": [],
   "source": [
    "feature_size = 1\n",
    "d_model=30\n",
    "nhead = 5\n",
    "dim_feedforward = 1000\n",
    "num_encoder_layers = 6\n",
    "num_decoder_layers = 6\n",
    "dropout = 0.01\n",
    "time_size = 24*2*7\n",
    "\n",
    "model = Seq2SeqTransformer(\n",
    "    num_encoder_layers=num_encoder_layers,\n",
    "    num_decoder_layers=num_decoder_layers,\n",
    "    d_model=d_model,\n",
    "    time_size=time_size,\n",
    "    dim_feedforward=dim_feedforward,\n",
    "    dropout=dropout, nhead=nhead\n",
    ")\n",
    "\n",
    "for p in model.parameters():\n",
    "    if p.dim() > 1:\n",
    "        nn.init.xavier_uniform_(p)\n",
    "\n",
    "model = model.to(device)"
   ]
  },
  {
   "cell_type": "code",
   "execution_count": 65,
   "metadata": {},
   "outputs": [],
   "source": [
    "lr = 1e-4\n",
    "\n",
    "#criterion = torch.nn.CrossEntropyLoss()\n",
    "criterion = nn.MSELoss()\n",
    "optimizer = torch.optim.Adam(model.parameters(), lr=lr)\n",
    "scheduler = torch.optim.lr_scheduler.StepLR(optimizer, 1.0, gamma = 0.95)"
   ]
  },
  {
   "cell_type": "code",
   "execution_count": 104,
   "metadata": {},
   "outputs": [
    {
     "name": "stderr",
     "output_type": "stream",
     "text": [
      "100%|██████████| 35/35 [00:15<00:00,  2.20it/s]\n"
     ]
    },
    {
     "name": "stdout",
     "output_type": "stream",
     "text": [
      "[1/500] train loss: 0.0029091593, valid loss: 0.0018463213  [16s] count: 0, **\n"
     ]
    },
    {
     "name": "stderr",
     "output_type": "stream",
     "text": [
      "100%|██████████| 35/35 [00:16<00:00,  2.09it/s]\n"
     ]
    },
    {
     "name": "stdout",
     "output_type": "stream",
     "text": [
      "[2/500] train loss: 0.0029234574, valid loss: 0.0018581931  [17s] count: 0, \n"
     ]
    },
    {
     "name": "stderr",
     "output_type": "stream",
     "text": [
      "100%|██████████| 35/35 [00:16<00:00,  2.14it/s]\n"
     ]
    },
    {
     "name": "stdout",
     "output_type": "stream",
     "text": [
      "[3/500] train loss: 0.0028781193, valid loss: 0.0018430338  [16s] count: 1, **\n"
     ]
    },
    {
     "name": "stderr",
     "output_type": "stream",
     "text": [
      "100%|██████████| 35/35 [00:15<00:00,  2.22it/s]\n"
     ]
    },
    {
     "name": "stdout",
     "output_type": "stream",
     "text": [
      "[4/500] train loss: 0.0029127654, valid loss: 0.0018536253  [16s] count: 0, \n"
     ]
    },
    {
     "name": "stderr",
     "output_type": "stream",
     "text": [
      "100%|██████████| 35/35 [00:15<00:00,  2.28it/s]\n"
     ]
    },
    {
     "name": "stdout",
     "output_type": "stream",
     "text": [
      "[5/500] train loss: 0.0028627409, valid loss: 0.0018563019  [15s] count: 1, \n"
     ]
    },
    {
     "name": "stderr",
     "output_type": "stream",
     "text": [
      "100%|██████████| 35/35 [00:16<00:00,  2.18it/s]\n"
     ]
    },
    {
     "name": "stdout",
     "output_type": "stream",
     "text": [
      "[6/500] train loss: 0.0028193659, valid loss: 0.0018614194  [16s] count: 2, \n"
     ]
    },
    {
     "name": "stderr",
     "output_type": "stream",
     "text": [
      "100%|██████████| 35/35 [00:15<00:00,  2.25it/s]\n"
     ]
    },
    {
     "name": "stdout",
     "output_type": "stream",
     "text": [
      "[7/500] train loss: 0.0027842075, valid loss: 0.0018519653  [16s] count: 3, \n"
     ]
    },
    {
     "name": "stderr",
     "output_type": "stream",
     "text": [
      "100%|██████████| 35/35 [00:15<00:00,  2.27it/s]\n"
     ]
    },
    {
     "name": "stdout",
     "output_type": "stream",
     "text": [
      "[8/500] train loss: 0.0028192462, valid loss: 0.0018541956  [15s] count: 4, \n"
     ]
    },
    {
     "name": "stderr",
     "output_type": "stream",
     "text": [
      "100%|██████████| 35/35 [00:16<00:00,  2.19it/s]\n"
     ]
    },
    {
     "name": "stdout",
     "output_type": "stream",
     "text": [
      "[9/500] train loss: 0.0028044231, valid loss: 0.0018617103  [16s] count: 5, \n"
     ]
    },
    {
     "name": "stderr",
     "output_type": "stream",
     "text": [
      "100%|██████████| 35/35 [00:15<00:00,  2.26it/s]\n"
     ]
    },
    {
     "name": "stdout",
     "output_type": "stream",
     "text": [
      "[10/500] train loss: 0.0027908524, valid loss: 0.0018510786  [16s] count: 6, \n"
     ]
    },
    {
     "name": "stderr",
     "output_type": "stream",
     "text": [
      "100%|██████████| 35/35 [00:15<00:00,  2.28it/s]\n"
     ]
    },
    {
     "name": "stdout",
     "output_type": "stream",
     "text": [
      "[11/500] train loss: 0.0027824362, valid loss: 0.0018593624  [15s] count: 7, \n"
     ]
    },
    {
     "name": "stderr",
     "output_type": "stream",
     "text": [
      "100%|██████████| 35/35 [00:15<00:00,  2.19it/s]\n"
     ]
    },
    {
     "name": "stdout",
     "output_type": "stream",
     "text": [
      "[12/500] train loss: 0.0027656816, valid loss: 0.0018707178  [16s] count: 8, \n"
     ]
    },
    {
     "name": "stderr",
     "output_type": "stream",
     "text": [
      "100%|██████████| 35/35 [00:15<00:00,  2.25it/s]\n"
     ]
    },
    {
     "name": "stdout",
     "output_type": "stream",
     "text": [
      "[13/500] train loss: 0.0027485560, valid loss: 0.0018495252  [16s] count: 9, \n"
     ]
    },
    {
     "name": "stderr",
     "output_type": "stream",
     "text": [
      "100%|██████████| 35/35 [00:15<00:00,  2.27it/s]\n"
     ]
    },
    {
     "name": "stdout",
     "output_type": "stream",
     "text": [
      "[14/500] train loss: 0.0027497794, valid loss: 0.0018652219  [15s] count: 10, \n"
     ]
    }
   ],
   "source": [
    "epoch = 500\n",
    "best_loss = float('Inf')\n",
    "best_model = None\n",
    "patience = 10\n",
    "counter = 0\n",
    "\n",
    "for loop in range(1, epoch + 1):\n",
    "    \n",
    "    start_time = time.time()\n",
    "    \n",
    "    loss_train = train(\n",
    "        model=model, ds=ds, optimizer=optimizer,\n",
    "        criterion=criterion, batch_size=batch_size\n",
    "    )\n",
    "    \n",
    "    elapsed_time = time.time() - start_time\n",
    "    \n",
    "    loss_valid = evaluate(\n",
    "        model=model, ds=ds, criterion=criterion,batch_size=batch_size\n",
    "    )\n",
    "    \n",
    "    print('[{}/{}] train loss: {:.10f}, valid loss: {:.10f}  [{}{:.0f}s] count: {}, {}'.format(\n",
    "        loop, epoch,\n",
    "        loss_train, loss_valid,\n",
    "        str(int(math.floor(elapsed_time / 60))) + 'm' if math.floor(elapsed_time / 60) > 0 else '',\n",
    "        elapsed_time % 60,\n",
    "        counter,\n",
    "        '**' if best_loss > loss_valid else ''\n",
    "    ))\n",
    "    \n",
    "    if best_loss > loss_valid:\n",
    "        best_loss = loss_valid\n",
    "        best_model = model\n",
    "        counter = 0\n",
    "    else:\n",
    "        counter += 1\n",
    "        scheduler.step()\n",
    "        \n",
    "    if counter > patience:\n",
    "        break"
   ]
  },
  {
   "cell_type": "code",
   "execution_count": 105,
   "metadata": {},
   "outputs": [],
   "source": [
    "torch.save(best_model.state_dict(), f'./{model_name}_v{model_version}.torch')"
   ]
  },
  {
   "cell_type": "code",
   "execution_count": null,
   "metadata": {},
   "outputs": [],
   "source": []
  }
 ],
 "metadata": {
  "kernelspec": {
   "display_name": "Python 3.8.10 ('venv': venv)",
   "language": "python",
   "name": "python3"
  },
  "language_info": {
   "codemirror_mode": {
    "name": "ipython",
    "version": 3
   },
   "file_extension": ".py",
   "mimetype": "text/x-python",
   "name": "python",
   "nbconvert_exporter": "python",
   "pygments_lexer": "ipython3",
   "version": "3.8.10"
  },
  "orig_nbformat": 4,
  "vscode": {
   "interpreter": {
    "hash": "8b8f0c1964c2d42c360293b97c2bf126adadb09f88ab60c350427a278226bd93"
   }
  }
 },
 "nbformat": 4,
 "nbformat_minor": 2
}
