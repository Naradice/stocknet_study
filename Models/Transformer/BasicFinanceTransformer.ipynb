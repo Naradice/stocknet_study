{
 "cells": [
  {
   "cell_type": "markdown",
   "id": "2beccf33",
   "metadata": {},
   "source": [
    "# BaseLine Transformer model\n",
    "\n",
    "Caution: This is not a usual use case of Transformer.\n",
    "\n",
    "Transformer developed by Google usually use Embeddeding Layer to represents a target such as a word.\n",
    "\n",
    "In this model, I use OHLC as a state vector though we can take same approch for finance data.\n",
    "As d_model is very low, this would be a base line of Transformer.\n",
    "\n",
    "Parameters:\n",
    "- Input:  ohlc_df.iloc[index] while observation length\n",
    "- Target: ohlc_df.iloc[index+observation_length] while prediction length"
   ]
  },
  {
   "cell_type": "markdown",
   "id": "d6750afa",
   "metadata": {},
   "source": [
    "## Prepare Data\n",
    "\n",
    "Since we shouldn't expose data obtained from other service, csv is not committed to this repository.\n",
    "Please preprare your data and load it."
   ]
  },
  {
   "cell_type": "code",
   "execution_count": 1,
   "id": "97ed26b7",
   "metadata": {},
   "outputs": [],
   "source": [
    "import os\n",
    "ohlc_column = ['open','high','low','close']\n",
    "file_path = os.path.abspath('../Data/mt5_USDJPY_min30.csv')"
   ]
  },
  {
   "cell_type": "code",
   "execution_count": 2,
   "id": "f98617db",
   "metadata": {},
   "outputs": [
    {
     "data": {
      "text/html": [
       "<div>\n",
       "<style scoped>\n",
       "    .dataframe tbody tr th:only-of-type {\n",
       "        vertical-align: middle;\n",
       "    }\n",
       "\n",
       "    .dataframe tbody tr th {\n",
       "        vertical-align: top;\n",
       "    }\n",
       "\n",
       "    .dataframe thead th {\n",
       "        text-align: right;\n",
       "    }\n",
       "</style>\n",
       "<table border=\"1\" class=\"dataframe\">\n",
       "  <thead>\n",
       "    <tr style=\"text-align: right;\">\n",
       "      <th></th>\n",
       "      <th>time</th>\n",
       "      <th>open</th>\n",
       "      <th>high</th>\n",
       "      <th>low</th>\n",
       "      <th>close</th>\n",
       "      <th>tick_volume</th>\n",
       "      <th>spread</th>\n",
       "      <th>real_volume</th>\n",
       "    </tr>\n",
       "  </thead>\n",
       "  <tbody>\n",
       "    <tr>\n",
       "      <th>0</th>\n",
       "      <td>2014-07-07 08:30:00</td>\n",
       "      <td>102.086</td>\n",
       "      <td>102.122</td>\n",
       "      <td>102.081</td>\n",
       "      <td>102.102</td>\n",
       "      <td>738</td>\n",
       "      <td>3</td>\n",
       "      <td>0</td>\n",
       "    </tr>\n",
       "    <tr>\n",
       "      <th>1</th>\n",
       "      <td>2014-07-07 09:00:00</td>\n",
       "      <td>102.102</td>\n",
       "      <td>102.146</td>\n",
       "      <td>102.098</td>\n",
       "      <td>102.113</td>\n",
       "      <td>1036</td>\n",
       "      <td>3</td>\n",
       "      <td>0</td>\n",
       "    </tr>\n",
       "    <tr>\n",
       "      <th>2</th>\n",
       "      <td>2014-07-07 09:30:00</td>\n",
       "      <td>102.113</td>\n",
       "      <td>102.115</td>\n",
       "      <td>102.042</td>\n",
       "      <td>102.044</td>\n",
       "      <td>865</td>\n",
       "      <td>3</td>\n",
       "      <td>0</td>\n",
       "    </tr>\n",
       "    <tr>\n",
       "      <th>3</th>\n",
       "      <td>2014-07-07 10:00:00</td>\n",
       "      <td>102.047</td>\n",
       "      <td>102.052</td>\n",
       "      <td>102.005</td>\n",
       "      <td>102.019</td>\n",
       "      <td>983</td>\n",
       "      <td>3</td>\n",
       "      <td>0</td>\n",
       "    </tr>\n",
       "    <tr>\n",
       "      <th>4</th>\n",
       "      <td>2014-07-07 10:30:00</td>\n",
       "      <td>102.017</td>\n",
       "      <td>102.025</td>\n",
       "      <td>101.918</td>\n",
       "      <td>101.941</td>\n",
       "      <td>1328</td>\n",
       "      <td>3</td>\n",
       "      <td>0</td>\n",
       "    </tr>\n",
       "    <tr>\n",
       "      <th>...</th>\n",
       "      <td>...</td>\n",
       "      <td>...</td>\n",
       "      <td>...</td>\n",
       "      <td>...</td>\n",
       "      <td>...</td>\n",
       "      <td>...</td>\n",
       "      <td>...</td>\n",
       "      <td>...</td>\n",
       "    </tr>\n",
       "    <tr>\n",
       "      <th>100715</th>\n",
       "      <td>2022-08-12 21:30:00</td>\n",
       "      <td>133.461</td>\n",
       "      <td>133.506</td>\n",
       "      <td>133.439</td>\n",
       "      <td>133.484</td>\n",
       "      <td>1125</td>\n",
       "      <td>3</td>\n",
       "      <td>0</td>\n",
       "    </tr>\n",
       "    <tr>\n",
       "      <th>100716</th>\n",
       "      <td>2022-08-12 22:00:00</td>\n",
       "      <td>133.484</td>\n",
       "      <td>133.530</td>\n",
       "      <td>133.437</td>\n",
       "      <td>133.475</td>\n",
       "      <td>1277</td>\n",
       "      <td>3</td>\n",
       "      <td>0</td>\n",
       "    </tr>\n",
       "    <tr>\n",
       "      <th>100717</th>\n",
       "      <td>2022-08-12 22:30:00</td>\n",
       "      <td>133.475</td>\n",
       "      <td>133.486</td>\n",
       "      <td>133.433</td>\n",
       "      <td>133.483</td>\n",
       "      <td>1506</td>\n",
       "      <td>3</td>\n",
       "      <td>0</td>\n",
       "    </tr>\n",
       "    <tr>\n",
       "      <th>100718</th>\n",
       "      <td>2022-08-12 23:00:00</td>\n",
       "      <td>133.484</td>\n",
       "      <td>133.536</td>\n",
       "      <td>133.465</td>\n",
       "      <td>133.521</td>\n",
       "      <td>1038</td>\n",
       "      <td>3</td>\n",
       "      <td>0</td>\n",
       "    </tr>\n",
       "    <tr>\n",
       "      <th>100719</th>\n",
       "      <td>2022-08-12 23:30:00</td>\n",
       "      <td>133.521</td>\n",
       "      <td>133.522</td>\n",
       "      <td>133.301</td>\n",
       "      <td>133.313</td>\n",
       "      <td>2515</td>\n",
       "      <td>3</td>\n",
       "      <td>0</td>\n",
       "    </tr>\n",
       "  </tbody>\n",
       "</table>\n",
       "<p>100720 rows × 8 columns</p>\n",
       "</div>"
      ],
      "text/plain": [
       "                       time     open     high      low    close  tick_volume  \\\n",
       "0       2014-07-07 08:30:00  102.086  102.122  102.081  102.102          738   \n",
       "1       2014-07-07 09:00:00  102.102  102.146  102.098  102.113         1036   \n",
       "2       2014-07-07 09:30:00  102.113  102.115  102.042  102.044          865   \n",
       "3       2014-07-07 10:00:00  102.047  102.052  102.005  102.019          983   \n",
       "4       2014-07-07 10:30:00  102.017  102.025  101.918  101.941         1328   \n",
       "...                     ...      ...      ...      ...      ...          ...   \n",
       "100715  2022-08-12 21:30:00  133.461  133.506  133.439  133.484         1125   \n",
       "100716  2022-08-12 22:00:00  133.484  133.530  133.437  133.475         1277   \n",
       "100717  2022-08-12 22:30:00  133.475  133.486  133.433  133.483         1506   \n",
       "100718  2022-08-12 23:00:00  133.484  133.536  133.465  133.521         1038   \n",
       "100719  2022-08-12 23:30:00  133.521  133.522  133.301  133.313         2515   \n",
       "\n",
       "        spread  real_volume  \n",
       "0            3            0  \n",
       "1            3            0  \n",
       "2            3            0  \n",
       "3            3            0  \n",
       "4            3            0  \n",
       "...        ...          ...  \n",
       "100715       3            0  \n",
       "100716       3            0  \n",
       "100717       3            0  \n",
       "100718       3            0  \n",
       "100719       3            0  \n",
       "\n",
       "[100720 rows x 8 columns]"
      ]
     },
     "execution_count": 2,
     "metadata": {},
     "output_type": "execute_result"
    }
   ],
   "source": [
    "import pandas as pd\n",
    "df = pd.read_csv(file_path)\n",
    "df"
   ]
  },
  {
   "cell_type": "markdown",
   "id": "dac8f599",
   "metadata": {},
   "source": [
    "## Basic Dataset Definition"
   ]
  },
  {
   "cell_type": "code",
   "execution_count": 3,
   "id": "6f986635",
   "metadata": {},
   "outputs": [],
   "source": [
    "import math\n",
    "import random\n",
    "import time\n",
    "\n",
    "import matplotlib.pyplot as plt\n",
    "import numpy as np\n",
    "import pandas as pd\n",
    "import torch\n",
    "import torch.nn as nn\n",
    "from torch import Tensor\n",
    "from torch.nn import (TransformerDecoder, TransformerDecoderLayer,\n",
    "                      TransformerEncoder, TransformerEncoderLayer)\n",
    "from torch.utils.data import DataLoader\n",
    "from tqdm import tqdm"
   ]
  },
  {
   "cell_type": "code",
   "execution_count": 32,
   "id": "52708cef",
   "metadata": {},
   "outputs": [],
   "source": [
    "import sys\n",
    "\n",
    "module_path = os.path.abspath(\"../..\")\n",
    "sys.path.append(module_path)\n",
    "\n",
    "from Dataset.transformer import FeatureDataset\n",
    "import fprocess"
   ]
  },
  {
   "cell_type": "markdown",
   "id": "f4f19f5b",
   "metadata": {},
   "source": [
    "## Define Model"
   ]
  },
  {
   "cell_type": "code",
   "execution_count": 5,
   "id": "6eb354e7",
   "metadata": {},
   "outputs": [],
   "source": [
    "class PositionalEncoding(nn.Module):\n",
    "    def __init__(self, d_model, max_len=5000, dropout=0.05):\n",
    "        super().__init__()\n",
    "        self.dropout = nn.Dropout(p=dropout)\n",
    "        pe = torch.zeros(max_len, d_model)\n",
    "        position = torch.arange(0, max_len, dtype=torch.float).unsqueeze(1)\n",
    "        div_term = torch.exp(torch.arange(0, d_model, 2).float() * (-math.log(10000.0)/d_model))\n",
    "        pe[:, 0::2] = torch.sin(position * div_term)\n",
    "        pe[:, 1::2] = torch.cos(position * div_term)\n",
    "        pe = pe.unsqueeze(-2)\n",
    "        #pe = pe.unsqueeze(0).transpose(0, 1)\n",
    "        self.register_buffer(\"pe\", pe)\n",
    "\n",
    "    def forward(self, src, tgt):\n",
    "        src_pos = src.size(0)\n",
    "        tgt_pos = src_pos + tgt.size(0) - 1\n",
    "        return self.dropout(src + self.pe[:src_pos, :]), self.dropout(tgt + self.pe[src_pos-1:tgt_pos, :])"
   ]
  },
  {
   "cell_type": "code",
   "execution_count": 6,
   "id": "06c752ab",
   "metadata": {},
   "outputs": [],
   "source": [
    "class Seq2SeqTransformer(nn.Module):\n",
    "    \n",
    "    def __init__(\n",
    "        self, num_encoder_layers: int, num_decoder_layers: int,\n",
    "        feature_size: int,\n",
    "        dim_feedforward:int = 512, dropout:float = 0.1, nhead:int = 8\n",
    "    ):\n",
    "        \n",
    "        super(Seq2SeqTransformer, self).__init__()\n",
    "\n",
    "        self.positional_encoding = PositionalEncoding(feature_size, dropout=dropout)\n",
    "        \n",
    "        encoder_layer = TransformerEncoderLayer(\n",
    "            d_model=feature_size, nhead=nhead, dim_feedforward=dim_feedforward, dropout=dropout\n",
    "        )\n",
    "        self.transformer_encoder = TransformerEncoder(encoder_layer, num_layers=num_encoder_layers)\n",
    "        \n",
    "        decoder_layer = TransformerDecoderLayer(\n",
    "            d_model=feature_size, nhead=nhead, dim_feedforward=dim_feedforward, dropout=dropout\n",
    "        )\n",
    "        self.transformer_decoder = TransformerDecoder(decoder_layer, num_layers=num_decoder_layers)\n",
    "\n",
    "    def forward(\n",
    "        self, src: Tensor, tgt: Tensor, mask_tgt: Tensor,\n",
    "        mask_src: Tensor=None, padding_mask_src: Tensor=None, padding_mask_tgt: Tensor=None,\n",
    "        memory_key_padding_mask: Tensor=None\n",
    "    ):\n",
    "        \n",
    "        src, tgt = self.positional_encoding(src, tgt)\n",
    "        memory = self.transformer_encoder(src, mask_src, padding_mask_src)\n",
    "        outs = self.transformer_decoder(\n",
    "            tgt, memory, mask_tgt, None,\n",
    "            padding_mask_tgt, memory_key_padding_mask\n",
    "        )\n",
    "        return outs"
   ]
  },
  {
   "cell_type": "markdown",
   "id": "32ee73d9",
   "metadata": {},
   "source": [
    "## Define Training Methods"
   ]
  },
  {
   "cell_type": "code",
   "execution_count": 7,
   "id": "ec40904a",
   "metadata": {},
   "outputs": [],
   "source": [
    "def train(model, ds, optimizer, criterion, batch_size, device):\n",
    "    \n",
    "    model.train()\n",
    "    ds.train()\n",
    "    losses = 0\n",
    "    \n",
    "    length = 0.0\n",
    "    end_index = len(ds)\n",
    "    for index in tqdm(range(0, end_index, batch_size)):\n",
    "        if end_index - index < batch_size:\n",
    "            break\n",
    "        length+=1.0\n",
    "        src, tgt = ds[index:index+batch_size]\n",
    "        src = src.to(device)\n",
    "        tgt = tgt.to(device)\n",
    "\n",
    "        input_tgt = tgt[:-1, :]\n",
    "\n",
    "        mask_tgt = nn.Transformer.generate_square_subsequent_mask(input_tgt.size(0)).to(device)\n",
    "        logits = model(\n",
    "            src=src, tgt=input_tgt,  mask_tgt=mask_tgt\n",
    "        )\n",
    "\n",
    "        optimizer.zero_grad()\n",
    "\n",
    "        output_tgt = tgt[1:, :]\n",
    "        loss = criterion(logits, output_tgt)\n",
    "        loss.backward()\n",
    "\n",
    "        optimizer.step()\n",
    "        losses += loss.item()\n",
    "        \n",
    "    return losses / length"
   ]
  },
  {
   "cell_type": "code",
   "execution_count": 8,
   "id": "3bb3f57a",
   "metadata": {},
   "outputs": [],
   "source": [
    "def evaluate(model, ds, criterion, batch_size, device):\n",
    "    \n",
    "    model.eval()\n",
    "    ds.eval()\n",
    "    losses = 0\n",
    "    length = 0.0\n",
    "    for index in range(0, len(ds), batch_size):\n",
    "        if len(ds) - index < batch_size:\n",
    "            break\n",
    "        length+=1.0\n",
    "        src, tgt = ds[index:index+batch_size]\n",
    "        src = src.to(device)\n",
    "        tgt = tgt.to(device)\n",
    "\n",
    "        input_tgt = tgt[:-1, :]\n",
    "\n",
    "        mask_tgt = nn.Transformer.generate_square_subsequent_mask(input_tgt.size(0)).to(device)\n",
    "\n",
    "        logits = model(\n",
    "            src=src, tgt=input_tgt, mask_tgt=mask_tgt,\n",
    "        )\n",
    "        \n",
    "        output_tgt = tgt[1:, :]\n",
    "        loss = criterion(logits, output_tgt)\n",
    "        losses += loss.item()\n",
    "        \n",
    "    return losses / length"
   ]
  },
  {
   "cell_type": "markdown",
   "id": "6fad32a6",
   "metadata": {},
   "source": [
    "## Training"
   ]
  },
  {
   "cell_type": "code",
   "execution_count": 9,
   "id": "7ffdc8c9",
   "metadata": {},
   "outputs": [],
   "source": [
    "ohlc_column = ['open','high','low','close']\n",
    "#volume_column = [\"tick_volume\"]\n",
    "#columns = ohlc_column+volume_column\n",
    "columns = ohlc_column\n",
    "\n",
    "log_p = fprocess.LogPreProcess(columns=ohlc_column)\n",
    "diff_p = fprocess.DiffPreProcess(columns=ohlc_column)\n",
    "ohlc_pre_process = [log_p, diff_p]\n",
    "\n",
    "standalization_p = fprocess.MinMaxPreProcess(columns=columns)\n",
    "processes = [*ohlc_pre_process, standalization_p]"
   ]
  },
  {
   "cell_type": "code",
   "execution_count": 34,
   "id": "95651ef6",
   "metadata": {},
   "outputs": [],
   "source": [
    "device = torch.device(\"cuda:0\" if torch.cuda.is_available() else \"cpu\")\n",
    "model_name = \"finance_basic_transfomer\"\n",
    "model_version = \"1\"\n",
    "\n",
    "#Dataset parameters\n",
    "batch_size = 64\n",
    "observation_length = 30\n",
    "prediction_length = 10\n",
    "\n",
    "ds = FeatureDataset(df, columns, processes=processes,\n",
    "             observation_length=observation_length, prediction_length=prediction_length)"
   ]
  },
  {
   "cell_type": "code",
   "execution_count": 11,
   "id": "a2f74761",
   "metadata": {},
   "outputs": [
    {
     "name": "stdout",
     "output_type": "stream",
     "text": [
      "torch.Size([30, 16, 4]) torch.Size([11, 16, 4])\n"
     ]
    }
   ],
   "source": [
    "# check outputs represents (data_length, chunk_size, feature_size)\n",
    "ds.train()\n",
    "for index in range(0, len(ds)-16, 16):\n",
    "    src, tgt = ds[index: index+16]\n",
    "    continue\n",
    "print(src.shape, tgt.shape)"
   ]
  },
  {
   "cell_type": "code",
   "execution_count": 12,
   "id": "800c2b99",
   "metadata": {},
   "outputs": [],
   "source": [
    "feature_size = 4\n",
    "\n",
    "# Hyper parameters\n",
    "nhead = 1\n",
    "dim_feedforward = 1000\n",
    "num_encoder_layers = 6\n",
    "num_decoder_layers = 6\n",
    "dropout = 0.01\n",
    "\n",
    "model = Seq2SeqTransformer(\n",
    "    num_encoder_layers=num_encoder_layers,\n",
    "    num_decoder_layers=num_decoder_layers,\n",
    "    feature_size=feature_size,\n",
    "    dim_feedforward=dim_feedforward,\n",
    "    dropout=dropout, nhead=nhead\n",
    ")\n",
    "\n",
    "for p in model.parameters():\n",
    "    if p.dim() > 1:\n",
    "        nn.init.xavier_uniform_(p)\n",
    "\n",
    "model = model.to(device)"
   ]
  },
  {
   "cell_type": "code",
   "execution_count": 13,
   "id": "72dce760",
   "metadata": {},
   "outputs": [],
   "source": [
    "lr = 0.00005\n",
    "\n",
    "criterion = nn.MSELoss()\n",
    "optimizer = torch.optim.Adam(model.parameters(), lr=lr)\n",
    "scheduler = torch.optim.lr_scheduler.StepLR(optimizer, 1.0, gamma = 0.95)"
   ]
  },
  {
   "cell_type": "code",
   "execution_count": 14,
   "id": "82bb2c7d",
   "metadata": {},
   "outputs": [
    {
     "name": "stderr",
     "output_type": "stream",
     "text": [
      "100%|█████████▉| 1101/1102 [08:27<00:00,  2.17it/s]\n"
     ]
    },
    {
     "name": "stdout",
     "output_type": "stream",
     "text": [
      "[1/500] train loss: 0.8091842407, valid loss: 0.7285565459  [8m27s] count: 0, **\n"
     ]
    },
    {
     "name": "stderr",
     "output_type": "stream",
     "text": [
      "100%|█████████▉| 1101/1102 [08:24<00:00,  2.18it/s]\n"
     ]
    },
    {
     "name": "stdout",
     "output_type": "stream",
     "text": [
      "[2/500] train loss: 0.6581299651, valid loss: 0.5877457113  [8m24s] count: 0, **\n"
     ]
    },
    {
     "name": "stderr",
     "output_type": "stream",
     "text": [
      "100%|█████████▉| 1101/1102 [08:06<00:00,  2.26it/s]\n"
     ]
    },
    {
     "name": "stdout",
     "output_type": "stream",
     "text": [
      "[3/500] train loss: 0.5217742690, valid loss: 0.4579240387  [8m6s] count: 0, **\n"
     ]
    },
    {
     "name": "stderr",
     "output_type": "stream",
     "text": [
      "100%|█████████▉| 1101/1102 [08:02<00:00,  2.28it/s]\n"
     ]
    },
    {
     "name": "stdout",
     "output_type": "stream",
     "text": [
      "[4/500] train loss: 0.4014476198, valid loss: 0.3468646330  [8m3s] count: 0, **\n"
     ]
    },
    {
     "name": "stderr",
     "output_type": "stream",
     "text": [
      "100%|█████████▉| 1101/1102 [07:17<00:00,  2.52it/s]\n"
     ]
    },
    {
     "name": "stdout",
     "output_type": "stream",
     "text": [
      "[5/500] train loss: 0.2989568525, valid loss: 0.2529477035  [7m17s] count: 0, **\n"
     ]
    },
    {
     "name": "stderr",
     "output_type": "stream",
     "text": [
      "100%|█████████▉| 1101/1102 [07:55<00:00,  2.32it/s]\n"
     ]
    },
    {
     "name": "stdout",
     "output_type": "stream",
     "text": [
      "[6/500] train loss: 0.2132053447, valid loss: 0.1752312703  [7m56s] count: 0, **\n"
     ]
    },
    {
     "name": "stderr",
     "output_type": "stream",
     "text": [
      "100%|█████████▉| 1101/1102 [07:52<00:00,  2.33it/s]\n"
     ]
    },
    {
     "name": "stdout",
     "output_type": "stream",
     "text": [
      "[7/500] train loss: 0.1437016469, valid loss: 0.1141124351  [7m53s] count: 0, **\n"
     ]
    },
    {
     "name": "stderr",
     "output_type": "stream",
     "text": [
      "100%|█████████▉| 1101/1102 [07:28<00:00,  2.45it/s]\n"
     ]
    },
    {
     "name": "stdout",
     "output_type": "stream",
     "text": [
      "[8/500] train loss: 0.0909118540, valid loss: 0.0694108857  [7m29s] count: 0, **\n"
     ]
    },
    {
     "name": "stderr",
     "output_type": "stream",
     "text": [
      "100%|█████████▉| 1101/1102 [07:29<00:00,  2.45it/s]\n"
     ]
    },
    {
     "name": "stdout",
     "output_type": "stream",
     "text": [
      "[9/500] train loss: 0.0535441477, valid loss: 0.0389217476  [7m29s] count: 0, **\n"
     ]
    },
    {
     "name": "stderr",
     "output_type": "stream",
     "text": [
      "100%|█████████▉| 1101/1102 [07:28<00:00,  2.46it/s]\n"
     ]
    },
    {
     "name": "stdout",
     "output_type": "stream",
     "text": [
      "[10/500] train loss: 0.0289269585, valid loss: 0.0196340735  [7m28s] count: 0, **\n"
     ]
    },
    {
     "name": "stderr",
     "output_type": "stream",
     "text": [
      "100%|█████████▉| 1101/1102 [07:31<00:00,  2.44it/s]\n"
     ]
    },
    {
     "name": "stdout",
     "output_type": "stream",
     "text": [
      "[11/500] train loss: 0.0139584954, valid loss: 0.0084989027  [7m32s] count: 0, **\n"
     ]
    },
    {
     "name": "stderr",
     "output_type": "stream",
     "text": [
      "100%|█████████▉| 1101/1102 [07:27<00:00,  2.46it/s]\n"
     ]
    },
    {
     "name": "stdout",
     "output_type": "stream",
     "text": [
      "[12/500] train loss: 0.0058990128, valid loss: 0.0031312718  [7m28s] count: 0, **\n"
     ]
    },
    {
     "name": "stderr",
     "output_type": "stream",
     "text": [
      "100%|█████████▉| 1101/1102 [07:08<00:00,  2.57it/s]\n"
     ]
    },
    {
     "name": "stdout",
     "output_type": "stream",
     "text": [
      "[13/500] train loss: 0.0025372335, valid loss: 0.0013737952  [7m9s] count: 0, **\n"
     ]
    },
    {
     "name": "stderr",
     "output_type": "stream",
     "text": [
      "100%|█████████▉| 1101/1102 [07:38<00:00,  2.40it/s]\n"
     ]
    },
    {
     "name": "stdout",
     "output_type": "stream",
     "text": [
      "[14/500] train loss: 0.0016838942, valid loss: 0.0011008772  [7m38s] count: 0, **\n"
     ]
    },
    {
     "name": "stderr",
     "output_type": "stream",
     "text": [
      "100%|█████████▉| 1101/1102 [07:54<00:00,  2.32it/s]\n"
     ]
    },
    {
     "name": "stdout",
     "output_type": "stream",
     "text": [
      "[15/500] train loss: 0.0015938807, valid loss: 0.0010887788  [7m55s] count: 0, **\n"
     ]
    },
    {
     "name": "stderr",
     "output_type": "stream",
     "text": [
      "100%|█████████▉| 1101/1102 [07:44<00:00,  2.37it/s]\n"
     ]
    },
    {
     "name": "stdout",
     "output_type": "stream",
     "text": [
      "[16/500] train loss: 0.0015893154, valid loss: 0.0010885016  [7m45s] count: 0, **\n"
     ]
    },
    {
     "name": "stderr",
     "output_type": "stream",
     "text": [
      "100%|█████████▉| 1101/1102 [06:54<00:00,  2.66it/s]\n"
     ]
    },
    {
     "name": "stdout",
     "output_type": "stream",
     "text": [
      "[17/500] train loss: 0.0015879614, valid loss: 0.0010887920  [6m54s] count: 0, \n"
     ]
    },
    {
     "name": "stderr",
     "output_type": "stream",
     "text": [
      "100%|█████████▉| 1101/1102 [06:24<00:00,  2.86it/s]\n"
     ]
    },
    {
     "name": "stdout",
     "output_type": "stream",
     "text": [
      "[18/500] train loss: 0.0015872501, valid loss: 0.0010888775  [6m25s] count: 1, \n"
     ]
    },
    {
     "name": "stderr",
     "output_type": "stream",
     "text": [
      "100%|█████████▉| 1101/1102 [06:25<00:00,  2.86it/s]\n"
     ]
    },
    {
     "name": "stdout",
     "output_type": "stream",
     "text": [
      "[19/500] train loss: 0.0015866232, valid loss: 0.0010888970  [6m26s] count: 2, \n"
     ]
    },
    {
     "name": "stderr",
     "output_type": "stream",
     "text": [
      "100%|█████████▉| 1101/1102 [06:56<00:00,  2.64it/s]\n"
     ]
    },
    {
     "name": "stdout",
     "output_type": "stream",
     "text": [
      "[20/500] train loss: 0.0015861536, valid loss: 0.0010887473  [6m57s] count: 3, \n"
     ]
    },
    {
     "name": "stderr",
     "output_type": "stream",
     "text": [
      "100%|█████████▉| 1101/1102 [07:52<00:00,  2.33it/s]\n"
     ]
    },
    {
     "name": "stdout",
     "output_type": "stream",
     "text": [
      "[21/500] train loss: 0.0015858036, valid loss: 0.0010887539  [7m52s] count: 4, \n"
     ]
    },
    {
     "name": "stderr",
     "output_type": "stream",
     "text": [
      "100%|█████████▉| 1101/1102 [07:45<00:00,  2.37it/s]\n"
     ]
    },
    {
     "name": "stdout",
     "output_type": "stream",
     "text": [
      "[22/500] train loss: 0.0015856441, valid loss: 0.0010887138  [7m45s] count: 5, \n"
     ]
    },
    {
     "name": "stderr",
     "output_type": "stream",
     "text": [
      "100%|█████████▉| 1101/1102 [07:37<00:00,  2.41it/s]\n"
     ]
    },
    {
     "name": "stdout",
     "output_type": "stream",
     "text": [
      "[23/500] train loss: 0.0015853862, valid loss: 0.0010885514  [7m37s] count: 6, \n"
     ]
    },
    {
     "name": "stderr",
     "output_type": "stream",
     "text": [
      "100%|█████████▉| 1101/1102 [07:24<00:00,  2.48it/s]\n"
     ]
    },
    {
     "name": "stdout",
     "output_type": "stream",
     "text": [
      "[24/500] train loss: 0.0015851819, valid loss: 0.0010885444  [7m24s] count: 7, \n"
     ]
    },
    {
     "name": "stderr",
     "output_type": "stream",
     "text": [
      "100%|█████████▉| 1101/1102 [07:24<00:00,  2.48it/s]\n"
     ]
    },
    {
     "name": "stdout",
     "output_type": "stream",
     "text": [
      "[25/500] train loss: 0.0015850298, valid loss: 0.0010886731  [7m25s] count: 8, \n"
     ]
    },
    {
     "name": "stderr",
     "output_type": "stream",
     "text": [
      "100%|█████████▉| 1101/1102 [07:23<00:00,  2.48it/s]\n"
     ]
    },
    {
     "name": "stdout",
     "output_type": "stream",
     "text": [
      "[26/500] train loss: 0.0015849204, valid loss: 0.0010885901  [7m24s] count: 9, \n"
     ]
    },
    {
     "name": "stderr",
     "output_type": "stream",
     "text": [
      "100%|█████████▉| 1101/1102 [07:34<00:00,  2.42it/s]\n"
     ]
    },
    {
     "name": "stdout",
     "output_type": "stream",
     "text": [
      "[27/500] train loss: 0.0015848255, valid loss: 0.0010885851  [7m35s] count: 10, \n"
     ]
    }
   ],
   "source": [
    "epoch = 500\n",
    "best_loss = float('Inf')\n",
    "best_model = None\n",
    "patience = 10\n",
    "counter = 0\n",
    "\n",
    "for loop in range(1, epoch + 1):\n",
    "    \n",
    "    start_time = time.time()\n",
    "    \n",
    "    loss_train = train(\n",
    "        model=model, ds=ds, optimizer=optimizer,\n",
    "        criterion=criterion, batch_size=batch_size,\n",
    "        device=device\n",
    "    )\n",
    "    \n",
    "    elapsed_time = time.time() - start_time\n",
    "    \n",
    "    loss_valid = evaluate(\n",
    "        model=model, ds=ds, criterion=criterion,\n",
    "        batch_size=batch_size, device=device\n",
    "    )\n",
    "    \n",
    "    print('[{}/{}] train loss: {:.10f}, valid loss: {:.10f}  [{}{:.0f}s] count: {}, {}'.format(\n",
    "        loop, epoch,\n",
    "        loss_train, loss_valid,\n",
    "        str(int(math.floor(elapsed_time / 60))) + 'm' if math.floor(elapsed_time / 60) > 0 else '',\n",
    "        elapsed_time % 60,\n",
    "        counter,\n",
    "        '**' if best_loss > loss_valid else ''\n",
    "    ))\n",
    "    \n",
    "    if best_loss > loss_valid:\n",
    "        best_loss = loss_valid\n",
    "        best_model = model\n",
    "        counter = 0\n",
    "    else:\n",
    "        counter += 1\n",
    "        scheduler.step()\n",
    "        \n",
    "    if counter > patience:\n",
    "        break"
   ]
  },
  {
   "cell_type": "code",
   "execution_count": 38,
   "id": "c1de32a1",
   "metadata": {},
   "outputs": [],
   "source": [
    "torch.save(best_model.state_dict(), f'./{model_name}_v{model_version}.torch')"
   ]
  },
  {
   "cell_type": "markdown",
   "id": "e1a1e349",
   "metadata": {},
   "source": [
    "## Validation"
   ]
  },
  {
   "cell_type": "code",
   "execution_count": 14,
   "id": "8d61b762",
   "metadata": {},
   "outputs": [
    {
     "data": {
      "text/plain": [
       "<All keys matched successfully>"
      ]
     },
     "execution_count": 14,
     "metadata": {},
     "output_type": "execute_result"
    }
   ],
   "source": [
    "model_version = 1\n",
    "model.load_state_dict(torch.load(f'./{model_name}_v{model_version}.torch'))"
   ]
  },
  {
   "cell_type": "code",
   "execution_count": 15,
   "id": "55a290d4",
   "metadata": {},
   "outputs": [],
   "source": [
    "def prediction(inputs):\n",
    "\n",
    "    preds = torch.zeros(1, inputs.size(1), feature_size, device=device)\n",
    "    preds[0, :, :] = inputs[-1,:, :]\n",
    "    while preds.size(0) <= prediction_length:\n",
    "        tgt_mask = nn.Transformer.generate_square_subsequent_mask(preds.size(0)).to(device)\n",
    "        out = model(src=inputs, tgt=preds,  mask_tgt=tgt_mask)\n",
    "        preds = torch.cat([preds, out[-1:]], dim=0)\n",
    "    return preds"
   ]
  },
  {
   "cell_type": "code",
   "execution_count": 16,
   "id": "04a31e4c",
   "metadata": {},
   "outputs": [],
   "source": [
    "src, tgt = ds[:16]"
   ]
  },
  {
   "cell_type": "code",
   "execution_count": 70,
   "id": "b7f1bbc0",
   "metadata": {},
   "outputs": [
    {
     "data": {
      "text/plain": [
       "(11, 16, 4)"
      ]
     },
     "execution_count": 70,
     "metadata": {},
     "output_type": "execute_result"
    }
   ],
   "source": [
    "tgt_values = tgt.cpu().detach().numpy()\n",
    "tgt_values.shape"
   ]
  },
  {
   "cell_type": "code",
   "execution_count": 71,
   "id": "8c95909e",
   "metadata": {},
   "outputs": [],
   "source": [
    "src_values = src.cpu().detach().numpy()"
   ]
  },
  {
   "cell_type": "code",
   "execution_count": 72,
   "id": "c68cd275",
   "metadata": {},
   "outputs": [],
   "source": [
    "r_data = ds.revert(src_values, [index for index in range(0, 16)], is_tgt=False)"
   ]
  },
  {
   "cell_type": "code",
   "execution_count": 73,
   "id": "65e6d99e",
   "metadata": {},
   "outputs": [
    {
     "data": {
      "text/plain": [
       "array([106.59    , 106.520996, 106.520996, 106.54599 , 106.47799 ,\n",
       "       106.471985, 106.43199 , 106.42899 , 106.383995, 106.383995,\n",
       "       106.352   , 106.32399 , 106.104996, 106.255974, 106.168015,\n",
       "       106.222   , 106.01402 , 106.10298 , 105.99102 , 106.06099 ,\n",
       "       106.081985, 106.09301 , 106.22402 , 106.20001 , 106.223   ,\n",
       "       106.30302 , 106.205986, 106.29601 , 106.246   , 106.22897 ],\n",
       "      dtype=float32)"
      ]
     },
     "execution_count": 73,
     "metadata": {},
     "output_type": "execute_result"
    }
   ],
   "source": [
    "# reverted open values\n",
    "r_data[:, 0, 0]"
   ]
  },
  {
   "cell_type": "code",
   "execution_count": 66,
   "id": "4979c653",
   "metadata": {},
   "outputs": [
    {
     "data": {
      "text/html": [
       "<div>\n",
       "<style scoped>\n",
       "    .dataframe tbody tr th:only-of-type {\n",
       "        vertical-align: middle;\n",
       "    }\n",
       "\n",
       "    .dataframe tbody tr th {\n",
       "        vertical-align: top;\n",
       "    }\n",
       "\n",
       "    .dataframe thead th {\n",
       "        text-align: right;\n",
       "    }\n",
       "</style>\n",
       "<table border=\"1\" class=\"dataframe\">\n",
       "  <thead>\n",
       "    <tr style=\"text-align: right;\">\n",
       "      <th></th>\n",
       "      <th>open</th>\n",
       "      <th>high</th>\n",
       "      <th>low</th>\n",
       "      <th>close</th>\n",
       "    </tr>\n",
       "  </thead>\n",
       "  <tbody>\n",
       "    <tr>\n",
       "      <th>63087</th>\n",
       "      <td>106.590</td>\n",
       "      <td>106.623</td>\n",
       "      <td>106.500</td>\n",
       "      <td>106.520</td>\n",
       "    </tr>\n",
       "    <tr>\n",
       "      <th>63088</th>\n",
       "      <td>106.521</td>\n",
       "      <td>106.588</td>\n",
       "      <td>106.517</td>\n",
       "      <td>106.521</td>\n",
       "    </tr>\n",
       "    <tr>\n",
       "      <th>63089</th>\n",
       "      <td>106.521</td>\n",
       "      <td>106.552</td>\n",
       "      <td>106.484</td>\n",
       "      <td>106.546</td>\n",
       "    </tr>\n",
       "    <tr>\n",
       "      <th>63090</th>\n",
       "      <td>106.546</td>\n",
       "      <td>106.546</td>\n",
       "      <td>106.461</td>\n",
       "      <td>106.478</td>\n",
       "    </tr>\n",
       "    <tr>\n",
       "      <th>63091</th>\n",
       "      <td>106.478</td>\n",
       "      <td>106.495</td>\n",
       "      <td>106.443</td>\n",
       "      <td>106.473</td>\n",
       "    </tr>\n",
       "    <tr>\n",
       "      <th>63092</th>\n",
       "      <td>106.472</td>\n",
       "      <td>106.473</td>\n",
       "      <td>106.389</td>\n",
       "      <td>106.432</td>\n",
       "    </tr>\n",
       "    <tr>\n",
       "      <th>63093</th>\n",
       "      <td>106.432</td>\n",
       "      <td>106.463</td>\n",
       "      <td>106.428</td>\n",
       "      <td>106.428</td>\n",
       "    </tr>\n",
       "    <tr>\n",
       "      <th>63094</th>\n",
       "      <td>106.429</td>\n",
       "      <td>106.457</td>\n",
       "      <td>106.374</td>\n",
       "      <td>106.384</td>\n",
       "    </tr>\n",
       "    <tr>\n",
       "      <th>63095</th>\n",
       "      <td>106.384</td>\n",
       "      <td>106.447</td>\n",
       "      <td>106.365</td>\n",
       "      <td>106.382</td>\n",
       "    </tr>\n",
       "    <tr>\n",
       "      <th>63096</th>\n",
       "      <td>106.384</td>\n",
       "      <td>106.415</td>\n",
       "      <td>106.350</td>\n",
       "      <td>106.352</td>\n",
       "    </tr>\n",
       "    <tr>\n",
       "      <th>63097</th>\n",
       "      <td>106.352</td>\n",
       "      <td>106.381</td>\n",
       "      <td>106.273</td>\n",
       "      <td>106.324</td>\n",
       "    </tr>\n",
       "    <tr>\n",
       "      <th>63098</th>\n",
       "      <td>106.324</td>\n",
       "      <td>106.374</td>\n",
       "      <td>106.106</td>\n",
       "      <td>106.107</td>\n",
       "    </tr>\n",
       "    <tr>\n",
       "      <th>63099</th>\n",
       "      <td>106.105</td>\n",
       "      <td>106.286</td>\n",
       "      <td>106.067</td>\n",
       "      <td>106.256</td>\n",
       "    </tr>\n",
       "    <tr>\n",
       "      <th>63100</th>\n",
       "      <td>106.256</td>\n",
       "      <td>106.340</td>\n",
       "      <td>106.103</td>\n",
       "      <td>106.167</td>\n",
       "    </tr>\n",
       "    <tr>\n",
       "      <th>63101</th>\n",
       "      <td>106.168</td>\n",
       "      <td>106.250</td>\n",
       "      <td>106.119</td>\n",
       "      <td>106.222</td>\n",
       "    </tr>\n",
       "    <tr>\n",
       "      <th>63102</th>\n",
       "      <td>106.222</td>\n",
       "      <td>106.222</td>\n",
       "      <td>105.996</td>\n",
       "      <td>106.014</td>\n",
       "    </tr>\n",
       "    <tr>\n",
       "      <th>63103</th>\n",
       "      <td>106.014</td>\n",
       "      <td>106.167</td>\n",
       "      <td>106.005</td>\n",
       "      <td>106.103</td>\n",
       "    </tr>\n",
       "    <tr>\n",
       "      <th>63104</th>\n",
       "      <td>106.103</td>\n",
       "      <td>106.114</td>\n",
       "      <td>105.929</td>\n",
       "      <td>105.988</td>\n",
       "    </tr>\n",
       "    <tr>\n",
       "      <th>63105</th>\n",
       "      <td>105.991</td>\n",
       "      <td>106.114</td>\n",
       "      <td>105.986</td>\n",
       "      <td>106.061</td>\n",
       "    </tr>\n",
       "    <tr>\n",
       "      <th>63106</th>\n",
       "      <td>106.061</td>\n",
       "      <td>106.152</td>\n",
       "      <td>106.049</td>\n",
       "      <td>106.082</td>\n",
       "    </tr>\n",
       "    <tr>\n",
       "      <th>63107</th>\n",
       "      <td>106.082</td>\n",
       "      <td>106.133</td>\n",
       "      <td>106.068</td>\n",
       "      <td>106.092</td>\n",
       "    </tr>\n",
       "    <tr>\n",
       "      <th>63108</th>\n",
       "      <td>106.093</td>\n",
       "      <td>106.240</td>\n",
       "      <td>106.091</td>\n",
       "      <td>106.224</td>\n",
       "    </tr>\n",
       "    <tr>\n",
       "      <th>63109</th>\n",
       "      <td>106.224</td>\n",
       "      <td>106.262</td>\n",
       "      <td>106.192</td>\n",
       "      <td>106.200</td>\n",
       "    </tr>\n",
       "    <tr>\n",
       "      <th>63110</th>\n",
       "      <td>106.200</td>\n",
       "      <td>106.289</td>\n",
       "      <td>106.190</td>\n",
       "      <td>106.223</td>\n",
       "    </tr>\n",
       "    <tr>\n",
       "      <th>63111</th>\n",
       "      <td>106.223</td>\n",
       "      <td>106.320</td>\n",
       "      <td>106.185</td>\n",
       "      <td>106.303</td>\n",
       "    </tr>\n",
       "    <tr>\n",
       "      <th>63112</th>\n",
       "      <td>106.303</td>\n",
       "      <td>106.303</td>\n",
       "      <td>106.185</td>\n",
       "      <td>106.205</td>\n",
       "    </tr>\n",
       "    <tr>\n",
       "      <th>63113</th>\n",
       "      <td>106.206</td>\n",
       "      <td>106.302</td>\n",
       "      <td>106.199</td>\n",
       "      <td>106.296</td>\n",
       "    </tr>\n",
       "    <tr>\n",
       "      <th>63114</th>\n",
       "      <td>106.296</td>\n",
       "      <td>106.312</td>\n",
       "      <td>106.218</td>\n",
       "      <td>106.246</td>\n",
       "    </tr>\n",
       "    <tr>\n",
       "      <th>63115</th>\n",
       "      <td>106.246</td>\n",
       "      <td>106.274</td>\n",
       "      <td>106.205</td>\n",
       "      <td>106.229</td>\n",
       "    </tr>\n",
       "    <tr>\n",
       "      <th>63116</th>\n",
       "      <td>106.229</td>\n",
       "      <td>106.281</td>\n",
       "      <td>106.219</td>\n",
       "      <td>106.251</td>\n",
       "    </tr>\n",
       "  </tbody>\n",
       "</table>\n",
       "</div>"
      ],
      "text/plain": [
       "          open     high      low    close\n",
       "63087  106.590  106.623  106.500  106.520\n",
       "63088  106.521  106.588  106.517  106.521\n",
       "63089  106.521  106.552  106.484  106.546\n",
       "63090  106.546  106.546  106.461  106.478\n",
       "63091  106.478  106.495  106.443  106.473\n",
       "63092  106.472  106.473  106.389  106.432\n",
       "63093  106.432  106.463  106.428  106.428\n",
       "63094  106.429  106.457  106.374  106.384\n",
       "63095  106.384  106.447  106.365  106.382\n",
       "63096  106.384  106.415  106.350  106.352\n",
       "63097  106.352  106.381  106.273  106.324\n",
       "63098  106.324  106.374  106.106  106.107\n",
       "63099  106.105  106.286  106.067  106.256\n",
       "63100  106.256  106.340  106.103  106.167\n",
       "63101  106.168  106.250  106.119  106.222\n",
       "63102  106.222  106.222  105.996  106.014\n",
       "63103  106.014  106.167  106.005  106.103\n",
       "63104  106.103  106.114  105.929  105.988\n",
       "63105  105.991  106.114  105.986  106.061\n",
       "63106  106.061  106.152  106.049  106.082\n",
       "63107  106.082  106.133  106.068  106.092\n",
       "63108  106.093  106.240  106.091  106.224\n",
       "63109  106.224  106.262  106.192  106.200\n",
       "63110  106.200  106.289  106.190  106.223\n",
       "63111  106.223  106.320  106.185  106.303\n",
       "63112  106.303  106.303  106.185  106.205\n",
       "63113  106.206  106.302  106.199  106.296\n",
       "63114  106.296  106.312  106.218  106.246\n",
       "63115  106.246  106.274  106.205  106.229\n",
       "63116  106.229  106.281  106.219  106.251"
      ]
     },
     "execution_count": 66,
     "metadata": {},
     "output_type": "execute_result"
    }
   ],
   "source": [
    "index = ds.get_actual_index([0])[0]\n",
    "df[ohlc_column].iloc[index:index+30]"
   ]
  },
  {
   "cell_type": "code",
   "execution_count": 74,
   "id": "0c2ce7b7",
   "metadata": {},
   "outputs": [],
   "source": [
    "tgt_values = tgt.cpu().detach().numpy()"
   ]
  },
  {
   "cell_type": "code",
   "execution_count": 75,
   "id": "5ad87c6a",
   "metadata": {},
   "outputs": [],
   "source": [
    "tgt_r_data = ds.revert(tgt_values, [index for index in range(0, 16)], is_tgt=True)"
   ]
  },
  {
   "cell_type": "code",
   "execution_count": 76,
   "id": "d35d72b0",
   "metadata": {},
   "outputs": [
    {
     "data": {
      "text/plain": [
       "array([106.22897 , 106.25102 , 106.26399 , 106.27302 , 106.205986,\n",
       "       106.136986, 105.87499 , 106.07202 , 105.82498 , 105.70298 ,\n",
       "       105.68801 ], dtype=float32)"
      ]
     },
     "execution_count": 76,
     "metadata": {},
     "output_type": "execute_result"
    }
   ],
   "source": [
    "# reverted open values\n",
    "tgt_r_data[:, 0, 0]"
   ]
  },
  {
   "cell_type": "code",
   "execution_count": 77,
   "id": "5fefe6cd",
   "metadata": {},
   "outputs": [
    {
     "data": {
      "text/html": [
       "<div>\n",
       "<style scoped>\n",
       "    .dataframe tbody tr th:only-of-type {\n",
       "        vertical-align: middle;\n",
       "    }\n",
       "\n",
       "    .dataframe tbody tr th {\n",
       "        vertical-align: top;\n",
       "    }\n",
       "\n",
       "    .dataframe thead th {\n",
       "        text-align: right;\n",
       "    }\n",
       "</style>\n",
       "<table border=\"1\" class=\"dataframe\">\n",
       "  <thead>\n",
       "    <tr style=\"text-align: right;\">\n",
       "      <th></th>\n",
       "      <th>open</th>\n",
       "      <th>high</th>\n",
       "      <th>low</th>\n",
       "      <th>close</th>\n",
       "    </tr>\n",
       "  </thead>\n",
       "  <tbody>\n",
       "    <tr>\n",
       "      <th>63116</th>\n",
       "      <td>106.229</td>\n",
       "      <td>106.281</td>\n",
       "      <td>106.219</td>\n",
       "      <td>106.251</td>\n",
       "    </tr>\n",
       "    <tr>\n",
       "      <th>63117</th>\n",
       "      <td>106.251</td>\n",
       "      <td>106.285</td>\n",
       "      <td>106.218</td>\n",
       "      <td>106.263</td>\n",
       "    </tr>\n",
       "    <tr>\n",
       "      <th>63118</th>\n",
       "      <td>106.264</td>\n",
       "      <td>106.284</td>\n",
       "      <td>106.248</td>\n",
       "      <td>106.273</td>\n",
       "    </tr>\n",
       "    <tr>\n",
       "      <th>63119</th>\n",
       "      <td>106.273</td>\n",
       "      <td>106.283</td>\n",
       "      <td>106.207</td>\n",
       "      <td>106.208</td>\n",
       "    </tr>\n",
       "    <tr>\n",
       "      <th>63120</th>\n",
       "      <td>106.206</td>\n",
       "      <td>106.241</td>\n",
       "      <td>106.089</td>\n",
       "      <td>106.135</td>\n",
       "    </tr>\n",
       "    <tr>\n",
       "      <th>63121</th>\n",
       "      <td>106.137</td>\n",
       "      <td>106.143</td>\n",
       "      <td>105.833</td>\n",
       "      <td>105.875</td>\n",
       "    </tr>\n",
       "    <tr>\n",
       "      <th>63122</th>\n",
       "      <td>105.875</td>\n",
       "      <td>106.069</td>\n",
       "      <td>105.701</td>\n",
       "      <td>106.069</td>\n",
       "    </tr>\n",
       "    <tr>\n",
       "      <th>63123</th>\n",
       "      <td>106.072</td>\n",
       "      <td>106.101</td>\n",
       "      <td>105.806</td>\n",
       "      <td>105.825</td>\n",
       "    </tr>\n",
       "    <tr>\n",
       "      <th>63124</th>\n",
       "      <td>105.825</td>\n",
       "      <td>105.864</td>\n",
       "      <td>105.650</td>\n",
       "      <td>105.703</td>\n",
       "    </tr>\n",
       "    <tr>\n",
       "      <th>63125</th>\n",
       "      <td>105.703</td>\n",
       "      <td>105.881</td>\n",
       "      <td>105.589</td>\n",
       "      <td>105.688</td>\n",
       "    </tr>\n",
       "    <tr>\n",
       "      <th>63126</th>\n",
       "      <td>105.688</td>\n",
       "      <td>105.933</td>\n",
       "      <td>105.627</td>\n",
       "      <td>105.785</td>\n",
       "    </tr>\n",
       "  </tbody>\n",
       "</table>\n",
       "</div>"
      ],
      "text/plain": [
       "          open     high      low    close\n",
       "63116  106.229  106.281  106.219  106.251\n",
       "63117  106.251  106.285  106.218  106.263\n",
       "63118  106.264  106.284  106.248  106.273\n",
       "63119  106.273  106.283  106.207  106.208\n",
       "63120  106.206  106.241  106.089  106.135\n",
       "63121  106.137  106.143  105.833  105.875\n",
       "63122  105.875  106.069  105.701  106.069\n",
       "63123  106.072  106.101  105.806  105.825\n",
       "63124  105.825  105.864  105.650  105.703\n",
       "63125  105.703  105.881  105.589  105.688\n",
       "63126  105.688  105.933  105.627  105.785"
      ]
     },
     "execution_count": 77,
     "metadata": {},
     "output_type": "execute_result"
    }
   ],
   "source": [
    "index = ds.get_actual_index([0])[0]\n",
    "df[ohlc_column].iloc[index+29:index+40]"
   ]
  },
  {
   "cell_type": "code",
   "execution_count": 35,
   "id": "28640972",
   "metadata": {},
   "outputs": [],
   "source": [
    "ds.eval()\n",
    "model.eval()\n",
    "\n",
    "split_factor = 300\n",
    "split_index = int(len(ds)/split_factor)\n",
    "\n",
    "for factor in range(0, split_factor):\n",
    "    if factor == split_factor-1:\n",
    "        val_inp, val_ans = ds[split_index * factor :]\n",
    "        ndx = slice(split_index * factor, len(ds))\n",
    "    else:\n",
    "        val_inp, val_ans = ds[split_index * factor : split_index * (factor+1)]\n",
    "        ndx = slice(split_index * factor, split_index * (factor+1))\n",
    "        \n",
    "    preds = prediction(val_inp)\n",
    "    pre_values = preds.cpu().detach().numpy()\n",
    "    \n",
    "    ohlc = ds.revert(pre_values, ndx, True)\n",
    "    \n",
    "    if factor == 0:\n",
    "        ohlc_pre = ohlc\n",
    "    else:\n",
    "        ohlc_pre = np.append(ohlc_pre, ohlc, axis=1)\n",
    "    \n",
    "    ans_values = val_ans.cpu().detach().numpy()\n",
    "    \n",
    "    temp_ohlc = ds.revert(ans_values, ndx, True)\n",
    "    \n",
    "    if factor == 0:\n",
    "        ohlc_ans = temp_ohlc\n",
    "    else:\n",
    "        ohlc_ans = np.append(ohlc_ans, temp_ohlc, axis=1)"
   ]
  },
  {
   "cell_type": "code",
   "execution_count": 18,
   "id": "a6893e1e",
   "metadata": {},
   "outputs": [
    {
     "name": "stdout",
     "output_type": "stream",
     "text": [
      "(11, 30164, 4) (11, 30164, 4)\n"
     ]
    }
   ],
   "source": [
    "print(ohlc_pre.shape, ohlc_ans.shape)"
   ]
  },
  {
   "cell_type": "code",
   "execution_count": 19,
   "id": "a132f6be",
   "metadata": {},
   "outputs": [
    {
     "data": {
      "text/plain": [
       "[]"
      ]
     },
     "execution_count": 19,
     "metadata": {},
     "output_type": "execute_result"
    },
    {
     "data": {
      "image/png": "[encoded data removed]",
      "text/plain": [
       "<Figure size 432x288 with 1 Axes>"
      ]
     },
     "metadata": {
      "needs_background": "light"
     },
     "output_type": "display_data"
    }
   ],
   "source": [
    "step=1\n",
    "plt.hist(ohlc_pre[step, :, 0]/ohlc_ans[step, :, 0], bins=50, alpha=0.7)\n",
    "plt.hist(ohlc_pre[step, :, 1]/ohlc_ans[step, :, 1], bins=50, alpha=0.7, color=\"black\")\n",
    "plt.hist(ohlc_pre[step, :, 2]/ohlc_ans[step, :, 2], bins=50, alpha=0.6)\n",
    "plt.hist(ohlc_pre[step, :, 3]/ohlc_ans[step, :, 3], bins=50, alpha=0.6)\n",
    "plt.xlabel(f'Ratio of predict/actual value (Step={step})')\n",
    "plt.ylabel('Frequency')\n",
    "plt.legend(['Open', 'High', \"Low\", \"Close\"])\n",
    "plt.plot()"
   ]
  },
  {
   "cell_type": "code",
   "execution_count": 20,
   "id": "24700022",
   "metadata": {},
   "outputs": [
    {
     "data": {
      "text/plain": [
       "[]"
      ]
     },
     "execution_count": 20,
     "metadata": {},
     "output_type": "execute_result"
    },
    {
     "data": {
      "image/png": "[encoded data removed]",
      "text/plain": [
       "<Figure size 432x288 with 1 Axes>"
      ]
     },
     "metadata": {
      "needs_background": "light"
     },
     "output_type": "display_data"
    }
   ],
   "source": [
    "step=10\n",
    "plt.hist(ohlc_pre[step, :, 0]/ohlc_ans[step, :, 0], bins=50, alpha=0.7)\n",
    "plt.hist(ohlc_pre[step, :, 1]/ohlc_ans[step, :, 1], bins=50, alpha=0.7, color=\"black\")\n",
    "plt.hist(ohlc_pre[step, :, 2]/ohlc_ans[step, :, 2], bins=50, alpha=0.6)\n",
    "plt.hist(ohlc_pre[step, :, 3]/ohlc_ans[step, :, 3], bins=50, alpha=0.6)\n",
    "plt.xlabel(f'Ratio of predict/actual value (Step={step})')\n",
    "plt.ylabel('Frequency')\n",
    "plt.legend(['Open', 'High', \"Low\", \"Close\"])\n",
    "plt.plot()"
   ]
  },
  {
   "cell_type": "code",
   "execution_count": 21,
   "id": "5b4d3db6",
   "metadata": {},
   "outputs": [
    {
     "name": "stdout",
     "output_type": "stream",
     "text": [
      "==============Mean============\n",
      "Open [1.         0.99999611 0.99999215 0.99998821 0.99998424 0.99998041\n",
      " 0.99997657 0.99997282 0.99996899 0.9999652  0.99996152]\n",
      "High [1.         1.00000855 1.00001708 1.00002559 1.00003419 1.00004284\n",
      " 1.00005155 1.00006022 1.00006889 1.00007765 1.00008645]\n",
      "Low [1.         0.99999144 0.99998292 0.99997434 0.99996571 0.99995719\n",
      " 0.99994872 0.99994026 0.99993189 0.99992366 0.99991532]\n",
      "Close [1.         0.99998693 0.99997385 0.99996078 0.99994782 0.99993487\n",
      " 0.99992198 0.99990903 0.99989611 0.99988325 0.99987045]\n",
      "==============Var============\n",
      "Open [0.00000000e+00 5.40798553e-07 1.05561586e-06 1.59424361e-06\n",
      " 2.11457189e-06 2.64702209e-06 3.18154737e-06 3.73484919e-06\n",
      " 4.27708423e-06 4.81534493e-06 5.35700973e-06]\n",
      "High [0.00000000e+00 2.89565526e-07 6.51417274e-07 1.01478101e-06\n",
      " 1.37265861e-06 1.73481728e-06 2.09681876e-06 2.46109037e-06\n",
      " 2.82339027e-06 3.18788276e-06 3.54613860e-06]\n",
      "Low [0.00000000e+00 3.94314927e-07 8.61170238e-07 1.32628495e-06\n",
      " 1.77351722e-06 2.21759376e-06 2.66469200e-06 3.11828577e-06\n",
      " 3.57060465e-06 4.02116575e-06 4.46385768e-06]\n",
      "Close [0.00000000e+00 4.40032847e-07 8.58895390e-07 1.30500143e-06\n",
      " 1.73061309e-06 2.17142412e-06 2.60843985e-06 3.05620352e-06\n",
      " 3.50305382e-06 3.94759213e-06 4.39132834e-06]\n"
     ]
    }
   ],
   "source": [
    "print(\"==============Mean============\")\n",
    "print(\"Open\", np.mean(ohlc_pre[:, :, 0]/ohlc_ans[:, :, 0], axis=1))\n",
    "print(\"High\", np.mean(ohlc_pre[:, :, 1]/ohlc_ans[:, :, 1], axis=1))\n",
    "print(\"Low\", np.mean(ohlc_pre[:, :, 2]/ohlc_ans[:, :, 2], axis=1))\n",
    "print(\"Close\", np.mean(ohlc_pre[:, :, 3]/ohlc_ans[:, :, 3], axis=1))\n",
    "\n",
    "print(\"==============Var============\")\n",
    "print(\"Open\", np.var(ohlc_pre[:, :, 0]/ohlc_ans[:, :, 0], axis=1))\n",
    "print(\"High\", np.var(ohlc_pre[:, :, 1]/ohlc_ans[:, :, 1], axis=1))\n",
    "print(\"Low\", np.var(ohlc_pre[:, :, 2]/ohlc_ans[:, :, 2], axis=1))\n",
    "print(\"Close\", np.var(ohlc_pre[:, :, 3]/ohlc_ans[:, :, 3], axis=1))"
   ]
  },
  {
   "cell_type": "code",
   "execution_count": 22,
   "id": "39f740c8",
   "metadata": {},
   "outputs": [
    {
     "data": {
      "text/plain": [
       "[]"
      ]
     },
     "execution_count": 22,
     "metadata": {},
     "output_type": "execute_result"
    },
    {
     "data": {
      "image/png": "[encoded data removed]",
      "text/plain": [
       "<Figure size 432x288 with 1 Axes>"
      ]
     },
     "metadata": {
      "needs_background": "light"
     },
     "output_type": "display_data"
    }
   ],
   "source": [
    "step=1\n",
    "plt.hist(ohlc_pre[step, :, 0] - ohlc_ans[step, :, 0], bins=50, alpha=0.7)\n",
    "plt.hist(ohlc_pre[step, :, 1] - ohlc_ans[step, :, 1], bins=50, alpha=0.7, color=\"black\")\n",
    "plt.hist(ohlc_pre[step, :, 2] - ohlc_ans[step, :, 2], bins=50, alpha=0.6)\n",
    "plt.hist(ohlc_pre[step, :, 3] - ohlc_ans[step, :, 3], bins=50, alpha=0.6)\n",
    "plt.xlabel(f'Difference btween actual and prediction values (Step={step})')\n",
    "plt.ylabel('Frequency')\n",
    "plt.legend(['Open', 'High', \"Low\", \"Close\"])\n",
    "plt.plot()"
   ]
  },
  {
   "cell_type": "code",
   "execution_count": 23,
   "id": "31b81648",
   "metadata": {},
   "outputs": [
    {
     "data": {
      "text/plain": [
       "[]"
      ]
     },
     "execution_count": 23,
     "metadata": {},
     "output_type": "execute_result"
    },
    {
     "data": {
      "image/png": "[encoded data removed]",
      "text/plain": [
       "<Figure size 432x288 with 1 Axes>"
      ]
     },
     "metadata": {
      "needs_background": "light"
     },
     "output_type": "display_data"
    }
   ],
   "source": [
    "step=10\n",
    "plt.hist(ohlc_pre[step, :, 0] - ohlc_ans[step, :, 0], bins=50, alpha=0.7)\n",
    "plt.hist(ohlc_pre[step, :, 1] - ohlc_ans[step, :, 1], bins=50, alpha=0.7, color=\"black\")\n",
    "plt.hist(ohlc_pre[step, :, 2] - ohlc_ans[step, :, 2], bins=50, alpha=0.6)\n",
    "plt.hist(ohlc_pre[step, :, 3] - ohlc_ans[step, :, 3], bins=50, alpha=0.6)\n",
    "plt.xlabel(f'Difference btween actual and prediction values (Step={step})')\n",
    "plt.ylabel('Frequency')\n",
    "plt.legend(['Open', 'High', \"Low\", \"Close\"])\n",
    "plt.plot()"
   ]
  },
  {
   "cell_type": "code",
   "execution_count": 24,
   "id": "2c0193e2",
   "metadata": {},
   "outputs": [
    {
     "name": "stdout",
     "output_type": "stream",
     "text": [
      "==============Mean============\n",
      "Open [ 0.      -0.00053 -0.00107 -0.00161 -0.00216 -0.0027  -0.00324 -0.00378\n",
      " -0.00433 -0.00488 -0.00542]\n",
      "High [0.      0.0009  0.00178 0.00266 0.00355 0.00443 0.00531 0.00619 0.00706\n",
      " 0.00793 0.0088 ]\n",
      "Low [ 0.      -0.00104 -0.00207 -0.00311 -0.00416 -0.00519 -0.00622 -0.00725\n",
      " -0.00827 -0.00927 -0.01028]\n",
      "Close [ 0.      -0.00155 -0.00309 -0.00464 -0.00617 -0.00771 -0.00923 -0.01077\n",
      " -0.0123  -0.01382 -0.01534]\n",
      "==============Var============\n",
      "Open [0.      0.00759 0.01492 0.02268 0.03033 0.03827 0.04636 0.05483 0.06329\n",
      " 0.07176 0.08044]\n",
      "High [0.      0.00398 0.00886 0.01373 0.01846 0.0232  0.02788 0.03252 0.03709\n",
      " 0.04164 0.04605]\n",
      "Low [0.      0.00551 0.01197 0.01842 0.02461 0.03077 0.037   0.04333 0.04965\n",
      " 0.05594 0.06212]\n",
      "Close [0.      0.00609 0.0119  0.01806 0.02398 0.03011 0.03621 0.04247 0.04871\n",
      " 0.0549  0.06111]\n"
     ]
    }
   ],
   "source": [
    "np.set_printoptions(precision=5)\n",
    "\n",
    "print(\"==============Mean============\")\n",
    "print(\"Open\", np.mean(ohlc_pre[:, :, 0]-ohlc_ans[:, :, 0], axis=1))\n",
    "print(\"High\", np.mean(ohlc_pre[:, :, 1]-ohlc_ans[:, :, 1], axis=1))\n",
    "print(\"Low\", np.mean(ohlc_pre[:, :, 2]-ohlc_ans[:, :, 2], axis=1))\n",
    "print(\"Close\", np.mean(ohlc_pre[:, :, 3]-ohlc_ans[:, :, 3], axis=1))\n",
    "\n",
    "print(\"==============Var============\")\n",
    "print(\"Open\", np.var(ohlc_pre[:, :, 0]-ohlc_ans[:, :, 0], axis=1))\n",
    "print(\"High\", np.var(ohlc_pre[:, :, 1]-ohlc_ans[:, :, 1], axis=1))\n",
    "print(\"Low\", np.var(ohlc_pre[:, :, 2]-ohlc_ans[:, :, 2], axis=1))\n",
    "print(\"Close\", np.var(ohlc_pre[:, :, 3]-ohlc_ans[:, :, 3], axis=1))"
   ]
  },
  {
   "cell_type": "code",
   "execution_count": 36,
   "id": "4718f8a6",
   "metadata": {},
   "outputs": [
    {
     "data": {
      "image/png": "[encoded data removed]",
      "text/plain": [
       "<Figure size 1440x1008 with 16 Axes>"
      ]
     },
     "metadata": {
      "needs_background": "light"
     },
     "output_type": "display_data"
    }
   ],
   "source": [
    "fig, axs = plt.subplots(4, 4, figsize=(20, 14))\n",
    "close_mean = np.mean(ohlc_pre[:, :, 3]-ohlc_ans[:, :, 3], axis=1)\n",
    "close_var = np.var(ohlc_pre[:, :, 3]-ohlc_ans[:, :, 3], axis=1)\n",
    "\n",
    "total_length = observation_length + prediction_length\n",
    "x = np.arange(total_length)\n",
    "\n",
    "\n",
    "\n",
    "for i, ax in enumerate(axs.flat):\n",
    "    index = ds.get_actual_index(i)\n",
    "    original_ohlc = df[ohlc_column[3]].iloc[index: index + observation_length]\n",
    "    pred_value = ohlc_pre[:, i, 3]\n",
    "    pred_add_mean = pred_value + close_mean\n",
    "    pred_upper = pred_add_mean + close_var\n",
    "    pred_lower = pred_add_mean - close_var\n",
    "\n",
    "    ax.fill_between(x[observation_length -1:], pred_value, pred_add_mean, color=\"orange\", alpha=0.9)\n",
    "    ax.fill_between(x[observation_length -1:], pred_lower, pred_upper, color=\"orange\", alpha=0.3)\n",
    "    ax.plot(x[:observation_length], original_ohlc, color=\"blue\")\n",
    "    ax.plot(x[observation_length-1:], ohlc_ans[:, i, 3], color=\"red\")\n",
    "    ax.plot(x[observation_length-1:], pred_value, color=\"green\")\n",
    "plt.show()"
   ]
  },
  {
   "cell_type": "markdown",
   "id": "07ff927b",
   "metadata": {},
   "source": [
    "# BaseLine Transformer model with Weekly Time Position\n",
    "\n",
    "Above results seems that predictions didn't learn the position. Not sure if that caused by different scale difference or lack of features.\n",
    "Next model investigate it by changing positioning encoder from sin/cos of vector position to weekky hour position.\n",
    "For example, if the steps is observed on [Monday 23:00, Monday 23:30, Thuesday 00:00, Thuesday 00:00], makes it as [47, 48, 49, 50] to represents the position of the step in the week. Then convert it to Embedded vector to add it with src and tgt."
   ]
  },
  {
   "cell_type": "markdown",
   "id": "aae97e17",
   "metadata": {},
   "source": [
    "## Prepare Data"
   ]
  },
  {
   "cell_type": "code",
   "execution_count": 1,
   "id": "c2abbe3f",
   "metadata": {},
   "outputs": [],
   "source": [
    "import os\n",
    "import pandas as pd\n",
    "\n",
    "\n",
    "ohlc_column = ['open','high','low','close']\n",
    "file_path = os.path.abspath('../Data/mt5_USDJPY_min30.csv')\n",
    "df = pd.read_csv(file_path, index_col=0, parse_dates=True)"
   ]
  },
  {
   "cell_type": "code",
   "execution_count": 2,
   "id": "934c9be7",
   "metadata": {},
   "outputs": [],
   "source": [
    "import math\n",
    "import random\n",
    "import time\n",
    "\n",
    "import matplotlib.pyplot as plt\n",
    "import numpy as np\n",
    "import pandas as pd\n",
    "import torch\n",
    "import torch.nn as nn\n",
    "from torch import Tensor\n",
    "from torch.nn import (TransformerDecoder, TransformerDecoderLayer,\n",
    "                      TransformerEncoder, TransformerEncoderLayer)\n",
    "from torch.utils.data import DataLoader\n",
    "from tqdm import tqdm"
   ]
  },
  {
   "cell_type": "code",
   "execution_count": 3,
   "id": "df701a38",
   "metadata": {},
   "outputs": [],
   "source": [
    "import sys\n",
    "\n",
    "module_path = os.path.abspath(\"../..\")\n",
    "sys.path.append(module_path)\n",
    "\n",
    "from Dataset.transformer import TimeFeatureDataset\n",
    "from fprocess import fprocess"
   ]
  },
  {
   "cell_type": "markdown",
   "id": "971a2d58",
   "metadata": {},
   "source": [
    "## Define Model"
   ]
  },
  {
   "cell_type": "code",
   "execution_count": 13,
   "id": "67bfa37f",
   "metadata": {},
   "outputs": [],
   "source": [
    "class PositionalEncoding(nn.Module):\n",
    "    def __init__(self, time_size, d_model):\n",
    "        super().__init__()\n",
    "        self.pe = nn.Embedding(time_size, d_model)\n",
    "\n",
    "    def forward(self,time_ids):\n",
    "        position = self.pe(time_ids)\n",
    "        return position"
   ]
  },
  {
   "cell_type": "code",
   "execution_count": 14,
   "id": "fc07cfb9",
   "metadata": {},
   "outputs": [],
   "source": [
    "class Seq2SeqTransformer(nn.Module):\n",
    "    \n",
    "    def __init__(\n",
    "        self, num_encoder_layers: int, num_decoder_layers: int,\n",
    "        feature_size: int, time_size:int =  24*7*2,\n",
    "        dim_feedforward:int = 512, dropout:float = 0.1, nhead:int = 8\n",
    "    ):\n",
    "        \n",
    "        super(Seq2SeqTransformer, self).__init__()\n",
    "\n",
    "        self.positional_encoding = PositionalEncoding(time_size=time_size, d_model=feature_size)\n",
    "        \n",
    "        encoder_layer = TransformerEncoderLayer(\n",
    "            d_model=feature_size, nhead=nhead, dim_feedforward=dim_feedforward, dropout=dropout\n",
    "        )\n",
    "        self.transformer_encoder = TransformerEncoder(encoder_layer, num_layers=num_encoder_layers)\n",
    "        \n",
    "        decoder_layer = TransformerDecoderLayer(\n",
    "            d_model=feature_size, nhead=nhead, dim_feedforward=dim_feedforward, dropout=dropout\n",
    "        )\n",
    "        self.transformer_decoder = TransformerDecoder(decoder_layer, num_layers=num_decoder_layers)\n",
    "\n",
    "    def forward(\n",
    "        self,\n",
    "        src: Tensor, src_time: Tensor,\n",
    "        tgt: Tensor, tgt_time: Tensor,\n",
    "        mask_tgt: Tensor, mask_src: Tensor=None, padding_mask_src: Tensor=None, padding_mask_tgt: Tensor=None,\n",
    "        memory_key_padding_mask: Tensor=None\n",
    "    ):\n",
    "        \n",
    "        src_time = self.positional_encoding(src_time)\n",
    "        src = torch.add(src, src_time)\n",
    "        tgt_time = self.positional_encoding(tgt_time)\n",
    "        tgt = torch.add(tgt, tgt_time)\n",
    "        memory = self.transformer_encoder(src, mask_src, padding_mask_src)\n",
    "        outs = self.transformer_decoder(\n",
    "            tgt, memory, mask_tgt, None,\n",
    "            padding_mask_tgt, memory_key_padding_mask\n",
    "        )\n",
    "        return outs"
   ]
  },
  {
   "cell_type": "markdown",
   "id": "2aee526a",
   "metadata": {},
   "source": [
    "## Define Training Methods"
   ]
  },
  {
   "cell_type": "code",
   "execution_count": 15,
   "id": "b4402da7",
   "metadata": {},
   "outputs": [],
   "source": [
    "def train(model, ds, optimizer, criterion, batch_size, device):\n",
    "    \n",
    "    model.train()\n",
    "    ds.train()\n",
    "    losses = 0\n",
    "    \n",
    "    length = 0.0\n",
    "    end_index = len(ds)\n",
    "    for index in tqdm(range(0, end_index, batch_size)):\n",
    "        if end_index - index < batch_size:\n",
    "            break\n",
    "        length+=1.0\n",
    "        src, tgt = ds[index:index+batch_size]\n",
    "        src, src_time = src\n",
    "        tgt, tgt_time = tgt\n",
    "        \n",
    "        input_tgt_time = tgt_time[:-1, :]\n",
    "        input_tgt = tgt[:-1, :]\n",
    "\n",
    "        mask_tgt = nn.Transformer.generate_square_subsequent_mask(input_tgt.size(0)).to(device)\n",
    "        logits = model(\n",
    "            src=src, src_time=src_time,\n",
    "            tgt=input_tgt, tgt_time=input_tgt_time,\n",
    "            mask_tgt=mask_tgt\n",
    "        )\n",
    "\n",
    "        optimizer.zero_grad()\n",
    "\n",
    "        output_tgt = tgt[1:, :]\n",
    "        loss = criterion(logits, output_tgt)\n",
    "        loss.backward()\n",
    "\n",
    "        optimizer.step()\n",
    "        losses += loss.item()\n",
    "        \n",
    "    return losses / length"
   ]
  },
  {
   "cell_type": "code",
   "execution_count": 20,
   "id": "8c7d74fb",
   "metadata": {},
   "outputs": [],
   "source": [
    "def evaluate(model, ds, criterion, batch_size, device):\n",
    "    \n",
    "    model.eval()\n",
    "    ds.eval()\n",
    "    losses = 0\n",
    "    length = 0.0\n",
    "    for index in range(0, len(ds), batch_size):\n",
    "        if len(ds) - index < batch_size:\n",
    "            break\n",
    "        length+=1.0\n",
    "        src, tgt = ds[index:index+batch_size]\n",
    "        src, src_time = src\n",
    "        tgt, tgt_time = tgt\n",
    "        \n",
    "        input_tgt_time = tgt_time[:-1, :]\n",
    "        input_tgt = tgt[:-1, :]\n",
    "\n",
    "        mask_tgt = nn.Transformer.generate_square_subsequent_mask(input_tgt.size(0)).to(device)\n",
    "        logits = model(\n",
    "            src=src, src_time=src_time,\n",
    "            tgt=input_tgt, tgt_time=input_tgt_time,\n",
    "            mask_tgt=mask_tgt\n",
    "        )\n",
    "        \n",
    "        output_tgt = tgt[1:, :]\n",
    "        loss = criterion(logits, output_tgt)\n",
    "        losses += loss.item()\n",
    "        \n",
    "    return losses / length"
   ]
  },
  {
   "cell_type": "markdown",
   "id": "17b8821a",
   "metadata": {},
   "source": [
    "## Training"
   ]
  },
  {
   "cell_type": "code",
   "execution_count": 8,
   "id": "efe94c03",
   "metadata": {},
   "outputs": [],
   "source": [
    "ohlc_column = ['open','high','low','close']\n",
    "#volume_column = [\"tick_volume\"]\n",
    "#columns = ohlc_column+volume_column\n",
    "columns = ohlc_column\n",
    "\n",
    "log_p = fprocess.LogPreProcess(columns=ohlc_column)\n",
    "diff_p = fprocess.DiffPreProcess(columns=ohlc_column)\n",
    "time_p = fprocess.WeeklyIDProcess(freq= 30, time_column= \"index\")\n",
    "ohlc_pre_process = [log_p, diff_p, time_p]\n",
    "\n",
    "standalization_p = fprocess.MinMaxPreProcess(columns=columns)\n",
    "processes = [*ohlc_pre_process, standalization_p]"
   ]
  },
  {
   "cell_type": "code",
   "execution_count": 9,
   "id": "ef71534d",
   "metadata": {},
   "outputs": [],
   "source": [
    "device = torch.device(\"cuda:0\" if torch.cuda.is_available() else \"cpu\")\n",
    "model_name = \"finance_basic_wt_transfomer\"\n",
    "model_version = \"1\"\n",
    "\n",
    "#Dataset parameters\n",
    "batch_size = 64\n",
    "observation_length = 30\n",
    "prediction_length = 10\n",
    "\n",
    "ds = TimeFeatureDataset(df, columns, time_column=\"index\",\n",
    "                        processes=processes, observation_length=observation_length,\n",
    "                        prediction_length=prediction_length)"
   ]
  },
  {
   "cell_type": "code",
   "execution_count": 10,
   "id": "662a157c",
   "metadata": {},
   "outputs": [
    {
     "name": "stdout",
     "output_type": "stream",
     "text": [
      "torch.Size([30, 16, 4]) torch.Size([30, 16, 1])\n",
      "torch.Size([11, 16, 4]) torch.Size([11, 16, 1])\n"
     ]
    }
   ],
   "source": [
    "# check outputs represent (data_length, chunk_size, feature_size)\n",
    "ds.train()\n",
    "for index in range(0, len(ds)-16, 16):\n",
    "    src, tgt = ds[index: index+16]\n",
    "    continue\n",
    "print(src[0].shape, src[1].shape) \n",
    "print(tgt[0].shape, tgt[1].shape)"
   ]
  },
  {
   "cell_type": "code",
   "execution_count": 17,
   "id": "fcb08ed2",
   "metadata": {},
   "outputs": [],
   "source": [
    "feature_size = 4\n",
    "freq=30\n",
    "\n",
    "# Hyper parameters\n",
    "nhead = 1\n",
    "dim_feedforward = 1000\n",
    "num_encoder_layers = 6\n",
    "num_decoder_layers = 6\n",
    "dropout = 0.01\n",
    "\n",
    "\n",
    "model = Seq2SeqTransformer(\n",
    "    num_encoder_layers=num_encoder_layers,\n",
    "    num_decoder_layers=num_decoder_layers,\n",
    "    feature_size=feature_size,\n",
    "    time_size=24*7*(60//freq),\n",
    "    dim_feedforward=dim_feedforward,\n",
    "    dropout=dropout, nhead=nhead\n",
    ")\n",
    "\n",
    "for p in model.parameters():\n",
    "    if p.dim() > 1:\n",
    "        nn.init.xavier_uniform_(p)\n",
    "\n",
    "model = model.to(device)"
   ]
  },
  {
   "cell_type": "code",
   "execution_count": 18,
   "id": "362897d6",
   "metadata": {},
   "outputs": [],
   "source": [
    "lr = 0.00005\n",
    "\n",
    "criterion = nn.MSELoss()\n",
    "optimizer = torch.optim.Adam(model.parameters(), lr=lr)\n",
    "scheduler = torch.optim.lr_scheduler.StepLR(optimizer, 1.0, gamma = 0.95)"
   ]
  },
  {
   "cell_type": "code",
   "execution_count": 21,
   "id": "b94ca0e9",
   "metadata": {},
   "outputs": [
    {
     "name": "stderr",
     "output_type": "stream",
     "text": [
      "100%|█████████▉| 1101/1102 [07:42<00:00,  2.38it/s]\n"
     ]
    },
    {
     "name": "stdout",
     "output_type": "stream",
     "text": [
      "[1/500] train loss: 0.6464035505, valid loss: 0.5727602388  [7m43s] count: 0, **\n"
     ]
    },
    {
     "name": "stderr",
     "output_type": "stream",
     "text": [
      "100%|█████████▉| 1101/1102 [08:37<00:00,  2.13it/s]\n"
     ]
    },
    {
     "name": "stdout",
     "output_type": "stream",
     "text": [
      "[2/500] train loss: 0.5075120605, valid loss: 0.4443469930  [8m38s] count: 0, **\n"
     ]
    },
    {
     "name": "stderr",
     "output_type": "stream",
     "text": [
      "100%|█████████▉| 1101/1102 [07:42<00:00,  2.38it/s]\n"
     ]
    },
    {
     "name": "stdout",
     "output_type": "stream",
     "text": [
      "[3/500] train loss: 0.3875755149, valid loss: 0.3322794394  [7m42s] count: 0, **\n"
     ]
    },
    {
     "name": "stderr",
     "output_type": "stream",
     "text": [
      "100%|█████████▉| 1101/1102 [07:34<00:00,  2.42it/s]\n"
     ]
    },
    {
     "name": "stdout",
     "output_type": "stream",
     "text": [
      "[4/500] train loss: 0.2836382845, valid loss: 0.2371084507  [7m35s] count: 0, **\n"
     ]
    },
    {
     "name": "stderr",
     "output_type": "stream",
     "text": [
      "100%|█████████▉| 1101/1102 [07:32<00:00,  2.43it/s]\n"
     ]
    },
    {
     "name": "stdout",
     "output_type": "stream",
     "text": [
      "[5/500] train loss: 0.1979684614, valid loss: 0.1609745499  [7m32s] count: 0, **\n"
     ]
    },
    {
     "name": "stderr",
     "output_type": "stream",
     "text": [
      "100%|█████████▉| 1101/1102 [07:33<00:00,  2.43it/s]\n"
     ]
    },
    {
     "name": "stdout",
     "output_type": "stream",
     "text": [
      "[6/500] train loss: 0.1309726865, valid loss: 0.1028516913  [7m34s] count: 0, **\n"
     ]
    },
    {
     "name": "stderr",
     "output_type": "stream",
     "text": [
      "100%|█████████▉| 1101/1102 [07:40<00:00,  2.39it/s]\n"
     ]
    },
    {
     "name": "stdout",
     "output_type": "stream",
     "text": [
      "[7/500] train loss: 0.0810544946, valid loss: 0.0608191835  [7m41s] count: 0, **\n"
     ]
    },
    {
     "name": "stderr",
     "output_type": "stream",
     "text": [
      "100%|█████████▉| 1101/1102 [08:28<00:00,  2.17it/s]\n"
     ]
    },
    {
     "name": "stdout",
     "output_type": "stream",
     "text": [
      "[8/500] train loss: 0.0461425851, valid loss: 0.0326285122  [8m28s] count: 0, **\n"
     ]
    },
    {
     "name": "stderr",
     "output_type": "stream",
     "text": [
      "100%|█████████▉| 1101/1102 [08:39<00:00,  2.12it/s]\n"
     ]
    },
    {
     "name": "stdout",
     "output_type": "stream",
     "text": [
      "[9/500] train loss: 0.0237399911, valid loss: 0.0155066199  [8m40s] count: 0, **\n"
     ]
    },
    {
     "name": "stderr",
     "output_type": "stream",
     "text": [
      "100%|█████████▉| 1101/1102 [08:32<00:00,  2.15it/s]\n"
     ]
    },
    {
     "name": "stdout",
     "output_type": "stream",
     "text": [
      "[10/500] train loss: 0.0108470523, valid loss: 0.0063161893  [8m33s] count: 0, **\n"
     ]
    },
    {
     "name": "stderr",
     "output_type": "stream",
     "text": [
      "100%|█████████▉| 1101/1102 [08:05<00:00,  2.27it/s]\n"
     ]
    },
    {
     "name": "stdout",
     "output_type": "stream",
     "text": [
      "[11/500] train loss: 0.0044642591, valid loss: 0.0023152194  [8m5s] count: 0, **\n"
     ]
    },
    {
     "name": "stderr",
     "output_type": "stream",
     "text": [
      "100%|█████████▉| 1101/1102 [07:45<00:00,  2.37it/s]\n"
     ]
    },
    {
     "name": "stdout",
     "output_type": "stream",
     "text": [
      "[12/500] train loss: 0.0021101006, valid loss: 0.0012155448  [7m45s] count: 0, **\n"
     ]
    },
    {
     "name": "stderr",
     "output_type": "stream",
     "text": [
      "100%|█████████▉| 1101/1102 [07:51<00:00,  2.33it/s]\n"
     ]
    },
    {
     "name": "stdout",
     "output_type": "stream",
     "text": [
      "[13/500] train loss: 0.0016274941, valid loss: 0.0010919969  [7m52s] count: 0, **\n"
     ]
    },
    {
     "name": "stderr",
     "output_type": "stream",
     "text": [
      "100%|█████████▉| 1101/1102 [07:33<00:00,  2.43it/s]\n"
     ]
    },
    {
     "name": "stdout",
     "output_type": "stream",
     "text": [
      "[14/500] train loss: 0.0015908323, valid loss: 0.0010885883  [7m34s] count: 0, **\n"
     ]
    },
    {
     "name": "stderr",
     "output_type": "stream",
     "text": [
      "100%|█████████▉| 1101/1102 [06:49<00:00,  2.69it/s]\n"
     ]
    },
    {
     "name": "stdout",
     "output_type": "stream",
     "text": [
      "[15/500] train loss: 0.0015889865, valid loss: 0.0010884742  [6m49s] count: 0, **\n"
     ]
    },
    {
     "name": "stderr",
     "output_type": "stream",
     "text": [
      "100%|█████████▉| 1101/1102 [06:53<00:00,  2.66it/s]\n"
     ]
    },
    {
     "name": "stdout",
     "output_type": "stream",
     "text": [
      "[16/500] train loss: 0.0015877757, valid loss: 0.0010886868  [6m54s] count: 0, \n"
     ]
    },
    {
     "name": "stderr",
     "output_type": "stream",
     "text": [
      "100%|█████████▉| 1101/1102 [07:04<00:00,  2.59it/s]\n"
     ]
    },
    {
     "name": "stdout",
     "output_type": "stream",
     "text": [
      "[17/500] train loss: 0.0015870489, valid loss: 0.0010886116  [7m4s] count: 1, \n"
     ]
    },
    {
     "name": "stderr",
     "output_type": "stream",
     "text": [
      "100%|█████████▉| 1101/1102 [08:33<00:00,  2.14it/s]\n"
     ]
    },
    {
     "name": "stdout",
     "output_type": "stream",
     "text": [
      "[18/500] train loss: 0.0015864491, valid loss: 0.0010884529  [8m34s] count: 2, **\n"
     ]
    },
    {
     "name": "stderr",
     "output_type": "stream",
     "text": [
      "100%|█████████▉| 1101/1102 [06:51<00:00,  2.68it/s]\n"
     ]
    },
    {
     "name": "stdout",
     "output_type": "stream",
     "text": [
      "[19/500] train loss: 0.0015860476, valid loss: 0.0010885116  [6m51s] count: 0, \n"
     ]
    },
    {
     "name": "stderr",
     "output_type": "stream",
     "text": [
      "100%|█████████▉| 1101/1102 [07:53<00:00,  2.33it/s]\n"
     ]
    },
    {
     "name": "stdout",
     "output_type": "stream",
     "text": [
      "[20/500] train loss: 0.0015857643, valid loss: 0.0010884512  [7m53s] count: 1, **\n"
     ]
    },
    {
     "name": "stderr",
     "output_type": "stream",
     "text": [
      "100%|█████████▉| 1101/1102 [07:48<00:00,  2.35it/s]\n"
     ]
    },
    {
     "name": "stdout",
     "output_type": "stream",
     "text": [
      "[21/500] train loss: 0.0015855309, valid loss: 0.0010884298  [7m48s] count: 0, **\n"
     ]
    },
    {
     "name": "stderr",
     "output_type": "stream",
     "text": [
      "100%|█████████▉| 1101/1102 [07:52<00:00,  2.33it/s]\n"
     ]
    },
    {
     "name": "stdout",
     "output_type": "stream",
     "text": [
      "[22/500] train loss: 0.0015852774, valid loss: 0.0010884611  [7m53s] count: 0, \n"
     ]
    },
    {
     "name": "stderr",
     "output_type": "stream",
     "text": [
      "100%|█████████▉| 1101/1102 [08:24<00:00,  2.18it/s]\n"
     ]
    },
    {
     "name": "stdout",
     "output_type": "stream",
     "text": [
      "[23/500] train loss: 0.0015851760, valid loss: 0.0010884388  [8m24s] count: 1, \n"
     ]
    },
    {
     "name": "stderr",
     "output_type": "stream",
     "text": [
      "100%|█████████▉| 1101/1102 [07:38<00:00,  2.40it/s]\n"
     ]
    },
    {
     "name": "stdout",
     "output_type": "stream",
     "text": [
      "[24/500] train loss: 0.0015793790, valid loss: 0.0010630019  [7m39s] count: 2, **\n"
     ]
    },
    {
     "name": "stderr",
     "output_type": "stream",
     "text": [
      "100%|█████████▉| 1101/1102 [07:31<00:00,  2.44it/s]\n"
     ]
    },
    {
     "name": "stdout",
     "output_type": "stream",
     "text": [
      "[25/500] train loss: 0.0015406045, valid loss: 0.0010394662  [7m32s] count: 0, **\n"
     ]
    },
    {
     "name": "stderr",
     "output_type": "stream",
     "text": [
      "100%|█████████▉| 1101/1102 [07:31<00:00,  2.44it/s]\n"
     ]
    },
    {
     "name": "stdout",
     "output_type": "stream",
     "text": [
      "[26/500] train loss: 0.0015221886, valid loss: 0.0010256651  [7m31s] count: 0, **\n"
     ]
    },
    {
     "name": "stderr",
     "output_type": "stream",
     "text": [
      "100%|█████████▉| 1101/1102 [07:32<00:00,  2.43it/s]\n"
     ]
    },
    {
     "name": "stdout",
     "output_type": "stream",
     "text": [
      "[27/500] train loss: 0.0015075942, valid loss: 0.0010134743  [7m33s] count: 0, **\n"
     ]
    },
    {
     "name": "stderr",
     "output_type": "stream",
     "text": [
      "100%|█████████▉| 1101/1102 [07:28<00:00,  2.45it/s]\n"
     ]
    },
    {
     "name": "stdout",
     "output_type": "stream",
     "text": [
      "[28/500] train loss: 0.0014916361, valid loss: 0.0009999666  [7m29s] count: 0, **\n"
     ]
    },
    {
     "name": "stderr",
     "output_type": "stream",
     "text": [
      "100%|█████████▉| 1101/1102 [07:31<00:00,  2.44it/s]\n"
     ]
    },
    {
     "name": "stdout",
     "output_type": "stream",
     "text": [
      "[29/500] train loss: 0.0014743123, valid loss: 0.0009852819  [7m31s] count: 0, **\n"
     ]
    },
    {
     "name": "stderr",
     "output_type": "stream",
     "text": [
      "100%|█████████▉| 1101/1102 [07:29<00:00,  2.45it/s]\n"
     ]
    },
    {
     "name": "stdout",
     "output_type": "stream",
     "text": [
      "[30/500] train loss: 0.0014559487, valid loss: 0.0009719812  [7m30s] count: 0, **\n"
     ]
    },
    {
     "name": "stderr",
     "output_type": "stream",
     "text": [
      "100%|█████████▉| 1101/1102 [07:28<00:00,  2.45it/s]\n"
     ]
    },
    {
     "name": "stdout",
     "output_type": "stream",
     "text": [
      "[31/500] train loss: 0.0014352371, valid loss: 0.0009564234  [7m29s] count: 0, **\n"
     ]
    },
    {
     "name": "stderr",
     "output_type": "stream",
     "text": [
      "100%|█████████▉| 1101/1102 [07:29<00:00,  2.45it/s]\n"
     ]
    },
    {
     "name": "stdout",
     "output_type": "stream",
     "text": [
      "[32/500] train loss: 0.0014168974, valid loss: 0.0009425074  [7m30s] count: 0, **\n"
     ]
    },
    {
     "name": "stderr",
     "output_type": "stream",
     "text": [
      "100%|█████████▉| 1101/1102 [07:29<00:00,  2.45it/s]\n"
     ]
    },
    {
     "name": "stdout",
     "output_type": "stream",
     "text": [
      "[33/500] train loss: 0.0013943522, valid loss: 0.0009299352  [7m29s] count: 0, **\n"
     ]
    },
    {
     "name": "stderr",
     "output_type": "stream",
     "text": [
      "100%|█████████▉| 1101/1102 [07:27<00:00,  2.46it/s]\n"
     ]
    },
    {
     "name": "stdout",
     "output_type": "stream",
     "text": [
      "[34/500] train loss: 0.0013775015, valid loss: 0.0009176375  [7m27s] count: 0, **\n"
     ]
    },
    {
     "name": "stderr",
     "output_type": "stream",
     "text": [
      "100%|█████████▉| 1101/1102 [07:30<00:00,  2.44it/s]\n"
     ]
    },
    {
     "name": "stdout",
     "output_type": "stream",
     "text": [
      "[35/500] train loss: 0.0013596678, valid loss: 0.0009071761  [7m31s] count: 0, **\n"
     ]
    },
    {
     "name": "stderr",
     "output_type": "stream",
     "text": [
      "100%|█████████▉| 1101/1102 [07:30<00:00,  2.44it/s]\n"
     ]
    },
    {
     "name": "stdout",
     "output_type": "stream",
     "text": [
      "[36/500] train loss: 0.0013455810, valid loss: 0.0008956872  [7m31s] count: 0, **\n"
     ]
    },
    {
     "name": "stderr",
     "output_type": "stream",
     "text": [
      "100%|█████████▉| 1101/1102 [07:29<00:00,  2.45it/s]\n"
     ]
    },
    {
     "name": "stdout",
     "output_type": "stream",
     "text": [
      "[37/500] train loss: 0.0013313496, valid loss: 0.0008867897  [7m29s] count: 0, **\n"
     ]
    },
    {
     "name": "stderr",
     "output_type": "stream",
     "text": [
      "100%|█████████▉| 1101/1102 [07:28<00:00,  2.46it/s]\n"
     ]
    },
    {
     "name": "stdout",
     "output_type": "stream",
     "text": [
      "[38/500] train loss: 0.0013178483, valid loss: 0.0008757406  [7m28s] count: 0, **\n"
     ]
    },
    {
     "name": "stderr",
     "output_type": "stream",
     "text": [
      "100%|█████████▉| 1101/1102 [07:33<00:00,  2.43it/s]\n"
     ]
    },
    {
     "name": "stdout",
     "output_type": "stream",
     "text": [
      "[39/500] train loss: 0.0013075667, valid loss: 0.0008669777  [7m33s] count: 0, **\n"
     ]
    },
    {
     "name": "stderr",
     "output_type": "stream",
     "text": [
      "100%|█████████▉| 1101/1102 [07:36<00:00,  2.41it/s]\n"
     ]
    },
    {
     "name": "stdout",
     "output_type": "stream",
     "text": [
      "[40/500] train loss: 0.0012962557, valid loss: 0.0008598687  [7m37s] count: 0, **\n"
     ]
    },
    {
     "name": "stderr",
     "output_type": "stream",
     "text": [
      "100%|█████████▉| 1101/1102 [07:30<00:00,  2.44it/s]\n"
     ]
    },
    {
     "name": "stdout",
     "output_type": "stream",
     "text": [
      "[41/500] train loss: 0.0012827396, valid loss: 0.0008540199  [7m31s] count: 0, **\n"
     ]
    },
    {
     "name": "stderr",
     "output_type": "stream",
     "text": [
      "100%|█████████▉| 1101/1102 [07:29<00:00,  2.45it/s]\n"
     ]
    },
    {
     "name": "stdout",
     "output_type": "stream",
     "text": [
      "[42/500] train loss: 0.0012748484, valid loss: 0.0008480722  [7m29s] count: 0, **\n"
     ]
    },
    {
     "name": "stderr",
     "output_type": "stream",
     "text": [
      "100%|█████████▉| 1101/1102 [07:31<00:00,  2.44it/s]\n"
     ]
    },
    {
     "name": "stdout",
     "output_type": "stream",
     "text": [
      "[43/500] train loss: 0.0012650371, valid loss: 0.0008412504  [7m31s] count: 0, **\n"
     ]
    },
    {
     "name": "stderr",
     "output_type": "stream",
     "text": [
      "100%|█████████▉| 1101/1102 [07:29<00:00,  2.45it/s]\n"
     ]
    },
    {
     "name": "stdout",
     "output_type": "stream",
     "text": [
      "[44/500] train loss: 0.0012569748, valid loss: 0.0008368908  [7m29s] count: 0, **\n"
     ]
    },
    {
     "name": "stderr",
     "output_type": "stream",
     "text": [
      "100%|█████████▉| 1101/1102 [07:29<00:00,  2.45it/s]\n"
     ]
    },
    {
     "name": "stdout",
     "output_type": "stream",
     "text": [
      "[45/500] train loss: 0.0012486015, valid loss: 0.0008311274  [7m30s] count: 0, **\n"
     ]
    },
    {
     "name": "stderr",
     "output_type": "stream",
     "text": [
      "100%|█████████▉| 1101/1102 [07:28<00:00,  2.46it/s]\n"
     ]
    },
    {
     "name": "stdout",
     "output_type": "stream",
     "text": [
      "[46/500] train loss: 0.0012440327, valid loss: 0.0008264979  [7m28s] count: 0, **\n"
     ]
    },
    {
     "name": "stderr",
     "output_type": "stream",
     "text": [
      "100%|█████████▉| 1101/1102 [07:30<00:00,  2.45it/s]\n"
     ]
    },
    {
     "name": "stdout",
     "output_type": "stream",
     "text": [
      "[47/500] train loss: 0.0012375159, valid loss: 0.0008224500  [7m30s] count: 0, **\n"
     ]
    },
    {
     "name": "stderr",
     "output_type": "stream",
     "text": [
      "100%|█████████▉| 1101/1102 [07:29<00:00,  2.45it/s]\n"
     ]
    },
    {
     "name": "stdout",
     "output_type": "stream",
     "text": [
      "[48/500] train loss: 0.0012304771, valid loss: 0.0008195338  [7m29s] count: 0, **\n"
     ]
    },
    {
     "name": "stderr",
     "output_type": "stream",
     "text": [
      "100%|█████████▉| 1101/1102 [08:07<00:00,  2.26it/s]\n"
     ]
    },
    {
     "name": "stdout",
     "output_type": "stream",
     "text": [
      "[49/500] train loss: 0.0012249940, valid loss: 0.0008166389  [8m8s] count: 0, **\n"
     ]
    },
    {
     "name": "stderr",
     "output_type": "stream",
     "text": [
      "100%|█████████▉| 1101/1102 [07:35<00:00,  2.42it/s]\n"
     ]
    },
    {
     "name": "stdout",
     "output_type": "stream",
     "text": [
      "[50/500] train loss: 0.0012220420, valid loss: 0.0008132557  [7m35s] count: 0, **\n"
     ]
    },
    {
     "name": "stderr",
     "output_type": "stream",
     "text": [
      "100%|█████████▉| 1101/1102 [07:29<00:00,  2.45it/s]\n"
     ]
    },
    {
     "name": "stdout",
     "output_type": "stream",
     "text": [
      "[51/500] train loss: 0.0012159306, valid loss: 0.0008098355  [7m29s] count: 0, **\n"
     ]
    },
    {
     "name": "stderr",
     "output_type": "stream",
     "text": [
      "100%|█████████▉| 1101/1102 [07:28<00:00,  2.46it/s]\n"
     ]
    },
    {
     "name": "stdout",
     "output_type": "stream",
     "text": [
      "[52/500] train loss: 0.0012123996, valid loss: 0.0008082039  [7m28s] count: 0, **\n"
     ]
    },
    {
     "name": "stderr",
     "output_type": "stream",
     "text": [
      "100%|█████████▉| 1101/1102 [07:30<00:00,  2.44it/s]\n"
     ]
    },
    {
     "name": "stdout",
     "output_type": "stream",
     "text": [
      "[53/500] train loss: 0.0012072265, valid loss: 0.0008049829  [7m31s] count: 0, **\n"
     ]
    },
    {
     "name": "stderr",
     "output_type": "stream",
     "text": [
      "100%|█████████▉| 1101/1102 [07:27<00:00,  2.46it/s]\n"
     ]
    },
    {
     "name": "stdout",
     "output_type": "stream",
     "text": [
      "[54/500] train loss: 0.0012023119, valid loss: 0.0008027551  [7m28s] count: 0, **\n"
     ]
    },
    {
     "name": "stderr",
     "output_type": "stream",
     "text": [
      "100%|█████████▉| 1101/1102 [07:28<00:00,  2.45it/s]\n"
     ]
    },
    {
     "name": "stdout",
     "output_type": "stream",
     "text": [
      "[55/500] train loss: 0.0012024052, valid loss: 0.0007986931  [7m29s] count: 0, **\n"
     ]
    },
    {
     "name": "stderr",
     "output_type": "stream",
     "text": [
      "100%|█████████▉| 1101/1102 [07:28<00:00,  2.45it/s]\n"
     ]
    },
    {
     "name": "stdout",
     "output_type": "stream",
     "text": [
      "[56/500] train loss: 0.0011974435, valid loss: 0.0007971786  [7m29s] count: 0, **\n"
     ]
    },
    {
     "name": "stderr",
     "output_type": "stream",
     "text": [
      "100%|█████████▉| 1101/1102 [07:29<00:00,  2.45it/s]\n"
     ]
    },
    {
     "name": "stdout",
     "output_type": "stream",
     "text": [
      "[57/500] train loss: 0.0011925769, valid loss: 0.0007971196  [7m29s] count: 0, **\n"
     ]
    },
    {
     "name": "stderr",
     "output_type": "stream",
     "text": [
      "100%|█████████▉| 1101/1102 [07:30<00:00,  2.44it/s]\n"
     ]
    },
    {
     "name": "stdout",
     "output_type": "stream",
     "text": [
      "[58/500] train loss: 0.0011919081, valid loss: 0.0007955221  [7m31s] count: 0, **\n"
     ]
    },
    {
     "name": "stderr",
     "output_type": "stream",
     "text": [
      "100%|█████████▉| 1101/1102 [07:35<00:00,  2.42it/s]\n"
     ]
    },
    {
     "name": "stdout",
     "output_type": "stream",
     "text": [
      "[59/500] train loss: 0.0011866958, valid loss: 0.0007931526  [7m36s] count: 0, **\n"
     ]
    },
    {
     "name": "stderr",
     "output_type": "stream",
     "text": [
      "100%|█████████▉| 1101/1102 [07:30<00:00,  2.44it/s]\n"
     ]
    },
    {
     "name": "stdout",
     "output_type": "stream",
     "text": [
      "[60/500] train loss: 0.0011877437, valid loss: 0.0007920148  [7m30s] count: 0, **\n"
     ]
    },
    {
     "name": "stderr",
     "output_type": "stream",
     "text": [
      "100%|█████████▉| 1101/1102 [07:30<00:00,  2.45it/s]\n"
     ]
    },
    {
     "name": "stdout",
     "output_type": "stream",
     "text": [
      "[61/500] train loss: 0.0011812321, valid loss: 0.0007895757  [7m30s] count: 0, **\n"
     ]
    },
    {
     "name": "stderr",
     "output_type": "stream",
     "text": [
      "100%|█████████▉| 1101/1102 [07:30<00:00,  2.45it/s]\n"
     ]
    },
    {
     "name": "stdout",
     "output_type": "stream",
     "text": [
      "[62/500] train loss: 0.0011783297, valid loss: 0.0007892672  [7m30s] count: 0, **\n"
     ]
    },
    {
     "name": "stderr",
     "output_type": "stream",
     "text": [
      "100%|█████████▉| 1101/1102 [07:29<00:00,  2.45it/s]\n"
     ]
    },
    {
     "name": "stdout",
     "output_type": "stream",
     "text": [
      "[63/500] train loss: 0.0011769458, valid loss: 0.0007850318  [7m30s] count: 0, **\n"
     ]
    },
    {
     "name": "stderr",
     "output_type": "stream",
     "text": [
      "100%|█████████▉| 1101/1102 [07:29<00:00,  2.45it/s]\n"
     ]
    },
    {
     "name": "stdout",
     "output_type": "stream",
     "text": [
      "[64/500] train loss: 0.0011758332, valid loss: 0.0007844048  [7m29s] count: 0, **\n"
     ]
    },
    {
     "name": "stderr",
     "output_type": "stream",
     "text": [
      "100%|█████████▉| 1101/1102 [07:30<00:00,  2.45it/s]\n"
     ]
    },
    {
     "name": "stdout",
     "output_type": "stream",
     "text": [
      "[65/500] train loss: 0.0011725921, valid loss: 0.0007839908  [7m30s] count: 0, **\n"
     ]
    },
    {
     "name": "stderr",
     "output_type": "stream",
     "text": [
      "100%|█████████▉| 1101/1102 [07:29<00:00,  2.45it/s]\n"
     ]
    },
    {
     "name": "stdout",
     "output_type": "stream",
     "text": [
      "[66/500] train loss: 0.0011689068, valid loss: 0.0007831453  [7m29s] count: 0, **\n"
     ]
    },
    {
     "name": "stderr",
     "output_type": "stream",
     "text": [
      "100%|█████████▉| 1101/1102 [07:30<00:00,  2.44it/s]\n"
     ]
    },
    {
     "name": "stdout",
     "output_type": "stream",
     "text": [
      "[67/500] train loss: 0.0011670471, valid loss: 0.0007819551  [7m30s] count: 0, **\n"
     ]
    },
    {
     "name": "stderr",
     "output_type": "stream",
     "text": [
      "100%|█████████▉| 1101/1102 [07:30<00:00,  2.44it/s]\n"
     ]
    },
    {
     "name": "stdout",
     "output_type": "stream",
     "text": [
      "[68/500] train loss: 0.0011670413, valid loss: 0.0007792042  [7m31s] count: 0, **\n"
     ]
    },
    {
     "name": "stderr",
     "output_type": "stream",
     "text": [
      "100%|█████████▉| 1101/1102 [07:30<00:00,  2.45it/s]\n"
     ]
    },
    {
     "name": "stdout",
     "output_type": "stream",
     "text": [
      "[69/500] train loss: 0.0011641745, valid loss: 0.0007780431  [7m30s] count: 0, **\n"
     ]
    },
    {
     "name": "stderr",
     "output_type": "stream",
     "text": [
      "100%|█████████▉| 1101/1102 [07:29<00:00,  2.45it/s]\n"
     ]
    },
    {
     "name": "stdout",
     "output_type": "stream",
     "text": [
      "[70/500] train loss: 0.0011637102, valid loss: 0.0007774795  [7m29s] count: 0, **\n"
     ]
    },
    {
     "name": "stderr",
     "output_type": "stream",
     "text": [
      "100%|█████████▉| 1101/1102 [07:31<00:00,  2.44it/s]\n"
     ]
    },
    {
     "name": "stdout",
     "output_type": "stream",
     "text": [
      "[71/500] train loss: 0.0011598546, valid loss: 0.0007774479  [7m31s] count: 0, **\n"
     ]
    },
    {
     "name": "stderr",
     "output_type": "stream",
     "text": [
      "100%|█████████▉| 1101/1102 [07:30<00:00,  2.44it/s]\n"
     ]
    },
    {
     "name": "stdout",
     "output_type": "stream",
     "text": [
      "[72/500] train loss: 0.0011588730, valid loss: 0.0007755566  [7m30s] count: 0, **\n"
     ]
    },
    {
     "name": "stderr",
     "output_type": "stream",
     "text": [
      "100%|█████████▉| 1101/1102 [07:27<00:00,  2.46it/s]\n"
     ]
    },
    {
     "name": "stdout",
     "output_type": "stream",
     "text": [
      "[73/500] train loss: 0.0011582544, valid loss: 0.0007724506  [7m27s] count: 0, **\n"
     ]
    },
    {
     "name": "stderr",
     "output_type": "stream",
     "text": [
      "100%|█████████▉| 1101/1102 [07:26<00:00,  2.47it/s]\n"
     ]
    },
    {
     "name": "stdout",
     "output_type": "stream",
     "text": [
      "[74/500] train loss: 0.0011546200, valid loss: 0.0007731874  [7m26s] count: 0, \n"
     ]
    },
    {
     "name": "stderr",
     "output_type": "stream",
     "text": [
      "100%|█████████▉| 1101/1102 [07:27<00:00,  2.46it/s]\n"
     ]
    },
    {
     "name": "stdout",
     "output_type": "stream",
     "text": [
      "[75/500] train loss: 0.0011538198, valid loss: 0.0007719198  [7m28s] count: 1, **\n"
     ]
    },
    {
     "name": "stderr",
     "output_type": "stream",
     "text": [
      "100%|█████████▉| 1101/1102 [07:26<00:00,  2.46it/s]\n"
     ]
    },
    {
     "name": "stdout",
     "output_type": "stream",
     "text": [
      "[76/500] train loss: 0.0011523237, valid loss: 0.0007717061  [7m27s] count: 0, **\n"
     ]
    },
    {
     "name": "stderr",
     "output_type": "stream",
     "text": [
      "100%|█████████▉| 1101/1102 [07:29<00:00,  2.45it/s]\n"
     ]
    },
    {
     "name": "stdout",
     "output_type": "stream",
     "text": [
      "[77/500] train loss: 0.0011522762, valid loss: 0.0007678412  [7m30s] count: 0, **\n"
     ]
    },
    {
     "name": "stderr",
     "output_type": "stream",
     "text": [
      "100%|█████████▉| 1101/1102 [07:25<00:00,  2.47it/s]\n"
     ]
    },
    {
     "name": "stdout",
     "output_type": "stream",
     "text": [
      "[78/500] train loss: 0.0011505373, valid loss: 0.0007703706  [7m26s] count: 0, \n"
     ]
    },
    {
     "name": "stderr",
     "output_type": "stream",
     "text": [
      "100%|█████████▉| 1101/1102 [07:25<00:00,  2.47it/s]\n"
     ]
    },
    {
     "name": "stdout",
     "output_type": "stream",
     "text": [
      "[79/500] train loss: 0.0011472249, valid loss: 0.0007693917  [7m26s] count: 1, \n"
     ]
    },
    {
     "name": "stderr",
     "output_type": "stream",
     "text": [
      "100%|█████████▉| 1101/1102 [07:26<00:00,  2.46it/s]\n"
     ]
    },
    {
     "name": "stdout",
     "output_type": "stream",
     "text": [
      "[80/500] train loss: 0.0011469874, valid loss: 0.0007683888  [7m27s] count: 2, \n"
     ]
    },
    {
     "name": "stderr",
     "output_type": "stream",
     "text": [
      "100%|█████████▉| 1101/1102 [07:26<00:00,  2.47it/s]\n"
     ]
    },
    {
     "name": "stdout",
     "output_type": "stream",
     "text": [
      "[81/500] train loss: 0.0011450374, valid loss: 0.0007677701  [7m26s] count: 3, **\n"
     ]
    },
    {
     "name": "stderr",
     "output_type": "stream",
     "text": [
      "100%|█████████▉| 1101/1102 [07:26<00:00,  2.47it/s]\n"
     ]
    },
    {
     "name": "stdout",
     "output_type": "stream",
     "text": [
      "[82/500] train loss: 0.0011463893, valid loss: 0.0007671883  [7m26s] count: 0, **\n"
     ]
    },
    {
     "name": "stderr",
     "output_type": "stream",
     "text": [
      "100%|█████████▉| 1101/1102 [07:27<00:00,  2.46it/s]\n"
     ]
    },
    {
     "name": "stdout",
     "output_type": "stream",
     "text": [
      "[83/500] train loss: 0.0011446212, valid loss: 0.0007661707  [7m27s] count: 0, **\n"
     ]
    },
    {
     "name": "stderr",
     "output_type": "stream",
     "text": [
      "100%|█████████▉| 1101/1102 [07:25<00:00,  2.47it/s]\n"
     ]
    },
    {
     "name": "stdout",
     "output_type": "stream",
     "text": [
      "[84/500] train loss: 0.0011416374, valid loss: 0.0007653631  [7m26s] count: 0, **\n"
     ]
    },
    {
     "name": "stderr",
     "output_type": "stream",
     "text": [
      "100%|█████████▉| 1101/1102 [07:25<00:00,  2.47it/s]\n"
     ]
    },
    {
     "name": "stdout",
     "output_type": "stream",
     "text": [
      "[85/500] train loss: 0.0011411678, valid loss: 0.0007653053  [7m25s] count: 0, **\n"
     ]
    },
    {
     "name": "stderr",
     "output_type": "stream",
     "text": [
      "100%|█████████▉| 1101/1102 [07:26<00:00,  2.47it/s]\n"
     ]
    },
    {
     "name": "stdout",
     "output_type": "stream",
     "text": [
      "[86/500] train loss: 0.0011406789, valid loss: 0.0007642721  [7m26s] count: 0, **\n"
     ]
    },
    {
     "name": "stderr",
     "output_type": "stream",
     "text": [
      "100%|█████████▉| 1101/1102 [07:25<00:00,  2.47it/s]\n"
     ]
    },
    {
     "name": "stdout",
     "output_type": "stream",
     "text": [
      "[87/500] train loss: 0.0011395134, valid loss: 0.0007622339  [7m26s] count: 0, **\n"
     ]
    },
    {
     "name": "stderr",
     "output_type": "stream",
     "text": [
      "100%|█████████▉| 1101/1102 [07:25<00:00,  2.47it/s]\n"
     ]
    },
    {
     "name": "stdout",
     "output_type": "stream",
     "text": [
      "[88/500] train loss: 0.0011385513, valid loss: 0.0007632612  [7m25s] count: 0, \n"
     ]
    },
    {
     "name": "stderr",
     "output_type": "stream",
     "text": [
      "100%|█████████▉| 1101/1102 [07:26<00:00,  2.47it/s]\n"
     ]
    },
    {
     "name": "stdout",
     "output_type": "stream",
     "text": [
      "[89/500] train loss: 0.0011368768, valid loss: 0.0007629704  [7m26s] count: 1, \n"
     ]
    },
    {
     "name": "stderr",
     "output_type": "stream",
     "text": [
      "100%|█████████▉| 1101/1102 [07:25<00:00,  2.47it/s]\n"
     ]
    },
    {
     "name": "stdout",
     "output_type": "stream",
     "text": [
      "[90/500] train loss: 0.0011378803, valid loss: 0.0007589756  [7m26s] count: 2, **\n"
     ]
    },
    {
     "name": "stderr",
     "output_type": "stream",
     "text": [
      "100%|█████████▉| 1101/1102 [07:28<00:00,  2.46it/s]\n"
     ]
    },
    {
     "name": "stdout",
     "output_type": "stream",
     "text": [
      "[91/500] train loss: 0.0011351747, valid loss: 0.0007612547  [7m28s] count: 0, \n"
     ]
    },
    {
     "name": "stderr",
     "output_type": "stream",
     "text": [
      "100%|█████████▉| 1101/1102 [07:25<00:00,  2.47it/s]\n"
     ]
    },
    {
     "name": "stdout",
     "output_type": "stream",
     "text": [
      "[92/500] train loss: 0.0011345810, valid loss: 0.0007608126  [7m25s] count: 1, \n"
     ]
    },
    {
     "name": "stderr",
     "output_type": "stream",
     "text": [
      "100%|█████████▉| 1101/1102 [07:26<00:00,  2.47it/s]\n"
     ]
    },
    {
     "name": "stdout",
     "output_type": "stream",
     "text": [
      "[93/500] train loss: 0.0011344242, valid loss: 0.0007608416  [7m26s] count: 2, \n"
     ]
    },
    {
     "name": "stderr",
     "output_type": "stream",
     "text": [
      "100%|█████████▉| 1101/1102 [07:26<00:00,  2.47it/s]\n"
     ]
    },
    {
     "name": "stdout",
     "output_type": "stream",
     "text": [
      "[94/500] train loss: 0.0011338299, valid loss: 0.0007599156  [7m26s] count: 3, \n"
     ]
    },
    {
     "name": "stderr",
     "output_type": "stream",
     "text": [
      "100%|█████████▉| 1101/1102 [07:26<00:00,  2.47it/s]\n"
     ]
    },
    {
     "name": "stdout",
     "output_type": "stream",
     "text": [
      "[95/500] train loss: 0.0011331055, valid loss: 0.0007596071  [7m26s] count: 4, \n"
     ]
    },
    {
     "name": "stderr",
     "output_type": "stream",
     "text": [
      "100%|█████████▉| 1101/1102 [07:25<00:00,  2.47it/s]\n"
     ]
    },
    {
     "name": "stdout",
     "output_type": "stream",
     "text": [
      "[96/500] train loss: 0.0011321756, valid loss: 0.0007587144  [7m25s] count: 5, **\n"
     ]
    },
    {
     "name": "stderr",
     "output_type": "stream",
     "text": [
      "100%|█████████▉| 1101/1102 [07:27<00:00,  2.46it/s]\n"
     ]
    },
    {
     "name": "stdout",
     "output_type": "stream",
     "text": [
      "[97/500] train loss: 0.0011307116, valid loss: 0.0007586589  [7m28s] count: 0, **\n"
     ]
    },
    {
     "name": "stderr",
     "output_type": "stream",
     "text": [
      "100%|█████████▉| 1101/1102 [07:26<00:00,  2.47it/s]\n"
     ]
    },
    {
     "name": "stdout",
     "output_type": "stream",
     "text": [
      "[98/500] train loss: 0.0011316360, valid loss: 0.0007575706  [7m27s] count: 0, **\n"
     ]
    },
    {
     "name": "stderr",
     "output_type": "stream",
     "text": [
      "100%|█████████▉| 1101/1102 [07:26<00:00,  2.46it/s]\n"
     ]
    },
    {
     "name": "stdout",
     "output_type": "stream",
     "text": [
      "[99/500] train loss: 0.0011296245, valid loss: 0.0007576091  [7m27s] count: 0, \n"
     ]
    },
    {
     "name": "stderr",
     "output_type": "stream",
     "text": [
      "100%|█████████▉| 1101/1102 [07:44<00:00,  2.37it/s]\n"
     ]
    },
    {
     "name": "stdout",
     "output_type": "stream",
     "text": [
      "[100/500] train loss: 0.0011314774, valid loss: 0.0007554920  [7m44s] count: 1, **\n"
     ]
    },
    {
     "name": "stderr",
     "output_type": "stream",
     "text": [
      "100%|█████████▉| 1101/1102 [08:28<00:00,  2.16it/s]\n"
     ]
    },
    {
     "name": "stdout",
     "output_type": "stream",
     "text": [
      "[101/500] train loss: 0.0011306977, valid loss: 0.0007567336  [8m29s] count: 0, \n"
     ]
    },
    {
     "name": "stderr",
     "output_type": "stream",
     "text": [
      "100%|█████████▉| 1101/1102 [07:40<00:00,  2.39it/s]\n"
     ]
    },
    {
     "name": "stdout",
     "output_type": "stream",
     "text": [
      "[102/500] train loss: 0.0011284665, valid loss: 0.0007562196  [7m41s] count: 1, \n"
     ]
    },
    {
     "name": "stderr",
     "output_type": "stream",
     "text": [
      "100%|█████████▉| 1101/1102 [07:36<00:00,  2.41it/s]\n"
     ]
    },
    {
     "name": "stdout",
     "output_type": "stream",
     "text": [
      "[103/500] train loss: 0.0011274666, valid loss: 0.0007562889  [7m37s] count: 2, \n"
     ]
    },
    {
     "name": "stderr",
     "output_type": "stream",
     "text": [
      "100%|█████████▉| 1101/1102 [07:38<00:00,  2.40it/s]\n"
     ]
    },
    {
     "name": "stdout",
     "output_type": "stream",
     "text": [
      "[104/500] train loss: 0.0011272373, valid loss: 0.0007557616  [7m38s] count: 3, \n"
     ]
    },
    {
     "name": "stderr",
     "output_type": "stream",
     "text": [
      "100%|█████████▉| 1101/1102 [07:38<00:00,  2.40it/s]\n"
     ]
    },
    {
     "name": "stdout",
     "output_type": "stream",
     "text": [
      "[105/500] train loss: 0.0011275584, valid loss: 0.0007557615  [7m39s] count: 4, \n"
     ]
    },
    {
     "name": "stderr",
     "output_type": "stream",
     "text": [
      "100%|█████████▉| 1101/1102 [07:39<00:00,  2.40it/s]\n"
     ]
    },
    {
     "name": "stdout",
     "output_type": "stream",
     "text": [
      "[106/500] train loss: 0.0011262187, valid loss: 0.0007561435  [7m39s] count: 5, \n"
     ]
    },
    {
     "name": "stderr",
     "output_type": "stream",
     "text": [
      "100%|█████████▉| 1101/1102 [07:38<00:00,  2.40it/s]\n"
     ]
    },
    {
     "name": "stdout",
     "output_type": "stream",
     "text": [
      "[107/500] train loss: 0.0011280047, valid loss: 0.0007537611  [7m38s] count: 6, **\n"
     ]
    },
    {
     "name": "stderr",
     "output_type": "stream",
     "text": [
      "100%|█████████▉| 1101/1102 [07:38<00:00,  2.40it/s]\n"
     ]
    },
    {
     "name": "stdout",
     "output_type": "stream",
     "text": [
      "[108/500] train loss: 0.0011256943, valid loss: 0.0007543409  [7m39s] count: 0, \n"
     ]
    },
    {
     "name": "stderr",
     "output_type": "stream",
     "text": [
      "100%|█████████▉| 1101/1102 [07:38<00:00,  2.40it/s]\n"
     ]
    },
    {
     "name": "stdout",
     "output_type": "stream",
     "text": [
      "[109/500] train loss: 0.0011250830, valid loss: 0.0007548837  [7m39s] count: 1, \n"
     ]
    },
    {
     "name": "stderr",
     "output_type": "stream",
     "text": [
      "100%|█████████▉| 1101/1102 [07:38<00:00,  2.40it/s]\n"
     ]
    },
    {
     "name": "stdout",
     "output_type": "stream",
     "text": [
      "[110/500] train loss: 0.0011238655, valid loss: 0.0007546938  [7m39s] count: 2, \n"
     ]
    },
    {
     "name": "stderr",
     "output_type": "stream",
     "text": [
      "100%|█████████▉| 1101/1102 [07:39<00:00,  2.40it/s]\n"
     ]
    },
    {
     "name": "stdout",
     "output_type": "stream",
     "text": [
      "[111/500] train loss: 0.0011240910, valid loss: 0.0007544888  [7m39s] count: 3, \n"
     ]
    },
    {
     "name": "stderr",
     "output_type": "stream",
     "text": [
      "100%|█████████▉| 1101/1102 [07:38<00:00,  2.40it/s]\n"
     ]
    },
    {
     "name": "stdout",
     "output_type": "stream",
     "text": [
      "[112/500] train loss: 0.0011249875, valid loss: 0.0007540367  [7m39s] count: 4, \n"
     ]
    },
    {
     "name": "stderr",
     "output_type": "stream",
     "text": [
      "100%|█████████▉| 1101/1102 [07:36<00:00,  2.41it/s]\n"
     ]
    },
    {
     "name": "stdout",
     "output_type": "stream",
     "text": [
      "[113/500] train loss: 0.0011235414, valid loss: 0.0007538709  [7m37s] count: 5, \n"
     ]
    },
    {
     "name": "stderr",
     "output_type": "stream",
     "text": [
      "100%|█████████▉| 1101/1102 [07:37<00:00,  2.40it/s]\n"
     ]
    },
    {
     "name": "stdout",
     "output_type": "stream",
     "text": [
      "[114/500] train loss: 0.0011251173, valid loss: 0.0007522959  [7m38s] count: 6, **\n"
     ]
    },
    {
     "name": "stderr",
     "output_type": "stream",
     "text": [
      "100%|█████████▉| 1101/1102 [07:38<00:00,  2.40it/s]\n"
     ]
    },
    {
     "name": "stdout",
     "output_type": "stream",
     "text": [
      "[115/500] train loss: 0.0011256697, valid loss: 0.0007536929  [7m38s] count: 0, \n"
     ]
    },
    {
     "name": "stderr",
     "output_type": "stream",
     "text": [
      "100%|█████████▉| 1101/1102 [07:36<00:00,  2.41it/s]\n"
     ]
    },
    {
     "name": "stdout",
     "output_type": "stream",
     "text": [
      "[116/500] train loss: 0.0011224585, valid loss: 0.0007536164  [7m37s] count: 1, \n"
     ]
    },
    {
     "name": "stderr",
     "output_type": "stream",
     "text": [
      "100%|█████████▉| 1101/1102 [07:38<00:00,  2.40it/s]\n"
     ]
    },
    {
     "name": "stdout",
     "output_type": "stream",
     "text": [
      "[117/500] train loss: 0.0011226284, valid loss: 0.0007533158  [7m38s] count: 2, \n"
     ]
    },
    {
     "name": "stderr",
     "output_type": "stream",
     "text": [
      "100%|█████████▉| 1101/1102 [07:39<00:00,  2.40it/s]\n"
     ]
    },
    {
     "name": "stdout",
     "output_type": "stream",
     "text": [
      "[118/500] train loss: 0.0011219494, valid loss: 0.0007530593  [7m39s] count: 3, \n"
     ]
    },
    {
     "name": "stderr",
     "output_type": "stream",
     "text": [
      "100%|█████████▉| 1101/1102 [07:38<00:00,  2.40it/s]\n"
     ]
    },
    {
     "name": "stdout",
     "output_type": "stream",
     "text": [
      "[119/500] train loss: 0.0011222170, valid loss: 0.0007526222  [7m38s] count: 4, \n"
     ]
    },
    {
     "name": "stderr",
     "output_type": "stream",
     "text": [
      "100%|█████████▉| 1101/1102 [07:38<00:00,  2.40it/s]\n"
     ]
    },
    {
     "name": "stdout",
     "output_type": "stream",
     "text": [
      "[120/500] train loss: 0.0011225712, valid loss: 0.0007530959  [7m39s] count: 5, \n"
     ]
    },
    {
     "name": "stderr",
     "output_type": "stream",
     "text": [
      "100%|█████████▉| 1101/1102 [07:38<00:00,  2.40it/s]\n"
     ]
    },
    {
     "name": "stdout",
     "output_type": "stream",
     "text": [
      "[121/500] train loss: 0.0011210839, valid loss: 0.0007529789  [7m38s] count: 6, \n"
     ]
    },
    {
     "name": "stderr",
     "output_type": "stream",
     "text": [
      "100%|█████████▉| 1101/1102 [07:36<00:00,  2.41it/s]\n"
     ]
    },
    {
     "name": "stdout",
     "output_type": "stream",
     "text": [
      "[122/500] train loss: 0.0011212228, valid loss: 0.0007526405  [7m37s] count: 7, \n"
     ]
    },
    {
     "name": "stderr",
     "output_type": "stream",
     "text": [
      "100%|█████████▉| 1101/1102 [07:39<00:00,  2.40it/s]\n"
     ]
    },
    {
     "name": "stdout",
     "output_type": "stream",
     "text": [
      "[123/500] train loss: 0.0011219252, valid loss: 0.0007523425  [7m39s] count: 8, \n"
     ]
    },
    {
     "name": "stderr",
     "output_type": "stream",
     "text": [
      "100%|█████████▉| 1101/1102 [07:39<00:00,  2.40it/s]\n"
     ]
    },
    {
     "name": "stdout",
     "output_type": "stream",
     "text": [
      "[124/500] train loss: 0.0011210429, valid loss: 0.0007522988  [7m39s] count: 9, \n"
     ]
    },
    {
     "name": "stderr",
     "output_type": "stream",
     "text": [
      "100%|█████████▉| 1101/1102 [07:38<00:00,  2.40it/s]\n"
     ]
    },
    {
     "name": "stdout",
     "output_type": "stream",
     "text": [
      "[125/500] train loss: 0.0011202880, valid loss: 0.0007521576  [7m38s] count: 10, **\n"
     ]
    },
    {
     "name": "stderr",
     "output_type": "stream",
     "text": [
      "100%|█████████▉| 1101/1102 [07:36<00:00,  2.41it/s]\n"
     ]
    },
    {
     "name": "stdout",
     "output_type": "stream",
     "text": [
      "[126/500] train loss: 0.0011204122, valid loss: 0.0007521746  [7m36s] count: 0, \n"
     ]
    },
    {
     "name": "stderr",
     "output_type": "stream",
     "text": [
      "100%|█████████▉| 1101/1102 [07:38<00:00,  2.40it/s]\n"
     ]
    },
    {
     "name": "stdout",
     "output_type": "stream",
     "text": [
      "[127/500] train loss: 0.0011203995, valid loss: 0.0007521652  [7m39s] count: 1, \n"
     ]
    },
    {
     "name": "stderr",
     "output_type": "stream",
     "text": [
      "100%|█████████▉| 1101/1102 [07:36<00:00,  2.41it/s]\n"
     ]
    },
    {
     "name": "stdout",
     "output_type": "stream",
     "text": [
      "[128/500] train loss: 0.0011200218, valid loss: 0.0007528837  [7m37s] count: 2, \n"
     ]
    },
    {
     "name": "stderr",
     "output_type": "stream",
     "text": [
      "100%|█████████▉| 1101/1102 [07:37<00:00,  2.41it/s]\n"
     ]
    },
    {
     "name": "stdout",
     "output_type": "stream",
     "text": [
      "[129/500] train loss: 0.0011196929, valid loss: 0.0007521955  [7m37s] count: 3, \n"
     ]
    },
    {
     "name": "stderr",
     "output_type": "stream",
     "text": [
      "100%|█████████▉| 1101/1102 [07:38<00:00,  2.40it/s]\n"
     ]
    },
    {
     "name": "stdout",
     "output_type": "stream",
     "text": [
      "[130/500] train loss: 0.0011195269, valid loss: 0.0007519144  [7m38s] count: 4, **\n"
     ]
    },
    {
     "name": "stderr",
     "output_type": "stream",
     "text": [
      "100%|█████████▉| 1101/1102 [07:37<00:00,  2.41it/s]\n"
     ]
    },
    {
     "name": "stdout",
     "output_type": "stream",
     "text": [
      "[131/500] train loss: 0.0011203823, valid loss: 0.0007515989  [7m38s] count: 0, **\n"
     ]
    },
    {
     "name": "stderr",
     "output_type": "stream",
     "text": [
      "100%|█████████▉| 1101/1102 [08:24<00:00,  2.18it/s]\n"
     ]
    },
    {
     "name": "stdout",
     "output_type": "stream",
     "text": [
      "[132/500] train loss: 0.0011198025, valid loss: 0.0007515284  [8m25s] count: 0, **\n"
     ]
    },
    {
     "name": "stderr",
     "output_type": "stream",
     "text": [
      "100%|█████████▉| 1101/1102 [08:35<00:00,  2.14it/s]\n"
     ]
    },
    {
     "name": "stdout",
     "output_type": "stream",
     "text": [
      "[133/500] train loss: 0.0011191052, valid loss: 0.0007517230  [8m35s] count: 0, \n"
     ]
    },
    {
     "name": "stderr",
     "output_type": "stream",
     "text": [
      "100%|█████████▉| 1101/1102 [08:35<00:00,  2.13it/s]\n"
     ]
    },
    {
     "name": "stdout",
     "output_type": "stream",
     "text": [
      "[134/500] train loss: 0.0011198352, valid loss: 0.0007515356  [8m36s] count: 1, \n"
     ]
    },
    {
     "name": "stderr",
     "output_type": "stream",
     "text": [
      "100%|█████████▉| 1101/1102 [08:33<00:00,  2.15it/s]\n"
     ]
    },
    {
     "name": "stdout",
     "output_type": "stream",
     "text": [
      "[135/500] train loss: 0.0011188523, valid loss: 0.0007512970  [8m33s] count: 2, **\n"
     ]
    },
    {
     "name": "stderr",
     "output_type": "stream",
     "text": [
      "100%|█████████▉| 1101/1102 [08:35<00:00,  2.14it/s]\n"
     ]
    },
    {
     "name": "stdout",
     "output_type": "stream",
     "text": [
      "[136/500] train loss: 0.0011193986, valid loss: 0.0007512109  [8m36s] count: 0, **\n"
     ]
    },
    {
     "name": "stderr",
     "output_type": "stream",
     "text": [
      "100%|█████████▉| 1101/1102 [08:34<00:00,  2.14it/s]\n"
     ]
    },
    {
     "name": "stdout",
     "output_type": "stream",
     "text": [
      "[137/500] train loss: 0.0011193478, valid loss: 0.0007509814  [8m35s] count: 0, **\n"
     ]
    },
    {
     "name": "stderr",
     "output_type": "stream",
     "text": [
      "100%|█████████▉| 1101/1102 [08:30<00:00,  2.16it/s]\n"
     ]
    },
    {
     "name": "stdout",
     "output_type": "stream",
     "text": [
      "[138/500] train loss: 0.0011184284, valid loss: 0.0007512306  [8m30s] count: 0, \n"
     ]
    },
    {
     "name": "stderr",
     "output_type": "stream",
     "text": [
      "100%|█████████▉| 1101/1102 [08:26<00:00,  2.17it/s]\n"
     ]
    },
    {
     "name": "stdout",
     "output_type": "stream",
     "text": [
      "[139/500] train loss: 0.0011180305, valid loss: 0.0007513776  [8m26s] count: 1, \n"
     ]
    },
    {
     "name": "stderr",
     "output_type": "stream",
     "text": [
      "100%|█████████▉| 1101/1102 [08:30<00:00,  2.16it/s]\n"
     ]
    },
    {
     "name": "stdout",
     "output_type": "stream",
     "text": [
      "[140/500] train loss: 0.0011183285, valid loss: 0.0007511022  [8m31s] count: 2, \n"
     ]
    },
    {
     "name": "stderr",
     "output_type": "stream",
     "text": [
      "100%|█████████▉| 1101/1102 [08:29<00:00,  2.16it/s]\n"
     ]
    },
    {
     "name": "stdout",
     "output_type": "stream",
     "text": [
      "[141/500] train loss: 0.0011189925, valid loss: 0.0007509551  [8m30s] count: 3, **\n"
     ]
    },
    {
     "name": "stderr",
     "output_type": "stream",
     "text": [
      "100%|█████████▉| 1101/1102 [07:59<00:00,  2.29it/s]\n"
     ]
    },
    {
     "name": "stdout",
     "output_type": "stream",
     "text": [
      "[142/500] train loss: 0.0011181738, valid loss: 0.0007507985  [7m60s] count: 0, **\n"
     ]
    },
    {
     "name": "stderr",
     "output_type": "stream",
     "text": [
      "100%|█████████▉| 1101/1102 [07:45<00:00,  2.37it/s]\n"
     ]
    },
    {
     "name": "stdout",
     "output_type": "stream",
     "text": [
      "[143/500] train loss: 0.0011181460, valid loss: 0.0007507421  [7m45s] count: 0, **\n"
     ]
    },
    {
     "name": "stderr",
     "output_type": "stream",
     "text": [
      "100%|█████████▉| 1101/1102 [08:05<00:00,  2.27it/s]\n"
     ]
    },
    {
     "name": "stdout",
     "output_type": "stream",
     "text": [
      "[144/500] train loss: 0.0011187664, valid loss: 0.0007508535  [8m5s] count: 0, \n"
     ]
    },
    {
     "name": "stderr",
     "output_type": "stream",
     "text": [
      "100%|█████████▉| 1101/1102 [09:13<00:00,  1.99it/s]\n"
     ]
    },
    {
     "name": "stdout",
     "output_type": "stream",
     "text": [
      "[145/500] train loss: 0.0011175122, valid loss: 0.0007508820  [9m13s] count: 1, \n"
     ]
    },
    {
     "name": "stderr",
     "output_type": "stream",
     "text": [
      "100%|█████████▉| 1101/1102 [09:30<00:00,  1.93it/s]\n"
     ]
    },
    {
     "name": "stdout",
     "output_type": "stream",
     "text": [
      "[146/500] train loss: 0.0011178136, valid loss: 0.0007507570  [9m30s] count: 2, \n"
     ]
    },
    {
     "name": "stderr",
     "output_type": "stream",
     "text": [
      "100%|█████████▉| 1101/1102 [07:46<00:00,  2.36it/s]\n"
     ]
    },
    {
     "name": "stdout",
     "output_type": "stream",
     "text": [
      "[147/500] train loss: 0.0011175853, valid loss: 0.0007502322  [7m46s] count: 3, **\n"
     ]
    },
    {
     "name": "stderr",
     "output_type": "stream",
     "text": [
      "100%|█████████▉| 1101/1102 [07:46<00:00,  2.36it/s]\n"
     ]
    },
    {
     "name": "stdout",
     "output_type": "stream",
     "text": [
      "[148/500] train loss: 0.0011190349, valid loss: 0.0007507500  [7m46s] count: 0, \n"
     ]
    },
    {
     "name": "stderr",
     "output_type": "stream",
     "text": [
      "100%|█████████▉| 1101/1102 [07:48<00:00,  2.35it/s]\n"
     ]
    },
    {
     "name": "stdout",
     "output_type": "stream",
     "text": [
      "[149/500] train loss: 0.0011168810, valid loss: 0.0007505051  [7m49s] count: 1, \n"
     ]
    },
    {
     "name": "stderr",
     "output_type": "stream",
     "text": [
      "100%|█████████▉| 1101/1102 [07:48<00:00,  2.35it/s]\n"
     ]
    },
    {
     "name": "stdout",
     "output_type": "stream",
     "text": [
      "[150/500] train loss: 0.0011183799, valid loss: 0.0007504562  [7m48s] count: 2, \n"
     ]
    },
    {
     "name": "stderr",
     "output_type": "stream",
     "text": [
      "100%|█████████▉| 1101/1102 [07:47<00:00,  2.36it/s]\n"
     ]
    },
    {
     "name": "stdout",
     "output_type": "stream",
     "text": [
      "[151/500] train loss: 0.0011180519, valid loss: 0.0007503327  [7m47s] count: 3, \n"
     ]
    },
    {
     "name": "stderr",
     "output_type": "stream",
     "text": [
      "100%|█████████▉| 1101/1102 [08:35<00:00,  2.14it/s]\n"
     ]
    },
    {
     "name": "stdout",
     "output_type": "stream",
     "text": [
      "[152/500] train loss: 0.0011169891, valid loss: 0.0007503178  [8m36s] count: 4, \n"
     ]
    },
    {
     "name": "stderr",
     "output_type": "stream",
     "text": [
      "100%|█████████▉| 1101/1102 [08:31<00:00,  2.15it/s]\n"
     ]
    },
    {
     "name": "stdout",
     "output_type": "stream",
     "text": [
      "[153/500] train loss: 0.0011172377, valid loss: 0.0007501547  [8m32s] count: 5, **\n"
     ]
    },
    {
     "name": "stderr",
     "output_type": "stream",
     "text": [
      "100%|█████████▉| 1101/1102 [08:32<00:00,  2.15it/s]\n"
     ]
    },
    {
     "name": "stdout",
     "output_type": "stream",
     "text": [
      "[154/500] train loss: 0.0011195528, valid loss: 0.0007502482  [8m33s] count: 0, \n"
     ]
    },
    {
     "name": "stderr",
     "output_type": "stream",
     "text": [
      "100%|█████████▉| 1101/1102 [07:57<00:00,  2.30it/s]\n"
     ]
    },
    {
     "name": "stdout",
     "output_type": "stream",
     "text": [
      "[155/500] train loss: 0.0011165138, valid loss: 0.0007503214  [7m58s] count: 1, \n"
     ]
    },
    {
     "name": "stderr",
     "output_type": "stream",
     "text": [
      "100%|█████████▉| 1101/1102 [07:35<00:00,  2.42it/s]\n"
     ]
    },
    {
     "name": "stdout",
     "output_type": "stream",
     "text": [
      "[156/500] train loss: 0.0011180842, valid loss: 0.0007504198  [7m35s] count: 2, \n"
     ]
    },
    {
     "name": "stderr",
     "output_type": "stream",
     "text": [
      "100%|█████████▉| 1101/1102 [07:35<00:00,  2.42it/s]\n"
     ]
    },
    {
     "name": "stdout",
     "output_type": "stream",
     "text": [
      "[157/500] train loss: 0.0011173014, valid loss: 0.0007503145  [7m35s] count: 3, \n"
     ]
    },
    {
     "name": "stderr",
     "output_type": "stream",
     "text": [
      "100%|█████████▉| 1101/1102 [07:35<00:00,  2.42it/s]\n"
     ]
    },
    {
     "name": "stdout",
     "output_type": "stream",
     "text": [
      "[158/500] train loss: 0.0011166675, valid loss: 0.0007500791  [7m36s] count: 4, **\n"
     ]
    },
    {
     "name": "stderr",
     "output_type": "stream",
     "text": [
      "100%|█████████▉| 1101/1102 [08:30<00:00,  2.16it/s]\n"
     ]
    },
    {
     "name": "stdout",
     "output_type": "stream",
     "text": [
      "[159/500] train loss: 0.0011166788, valid loss: 0.0007499868  [8m31s] count: 0, **\n"
     ]
    },
    {
     "name": "stderr",
     "output_type": "stream",
     "text": [
      "100%|█████████▉| 1101/1102 [08:21<00:00,  2.20it/s]\n"
     ]
    },
    {
     "name": "stdout",
     "output_type": "stream",
     "text": [
      "[160/500] train loss: 0.0011163729, valid loss: 0.0007498188  [8m22s] count: 0, **\n"
     ]
    },
    {
     "name": "stderr",
     "output_type": "stream",
     "text": [
      "100%|█████████▉| 1101/1102 [08:27<00:00,  2.17it/s]\n"
     ]
    },
    {
     "name": "stdout",
     "output_type": "stream",
     "text": [
      "[161/500] train loss: 0.0011164477, valid loss: 0.0007498307  [8m27s] count: 0, \n"
     ]
    },
    {
     "name": "stderr",
     "output_type": "stream",
     "text": [
      "100%|█████████▉| 1101/1102 [08:12<00:00,  2.23it/s]\n"
     ]
    },
    {
     "name": "stdout",
     "output_type": "stream",
     "text": [
      "[162/500] train loss: 0.0011165629, valid loss: 0.0007500880  [8m13s] count: 1, \n"
     ]
    },
    {
     "name": "stderr",
     "output_type": "stream",
     "text": [
      "100%|█████████▉| 1101/1102 [07:53<00:00,  2.33it/s]\n"
     ]
    },
    {
     "name": "stdout",
     "output_type": "stream",
     "text": [
      "[163/500] train loss: 0.0011167070, valid loss: 0.0007499787  [7m53s] count: 2, \n"
     ]
    },
    {
     "name": "stderr",
     "output_type": "stream",
     "text": [
      "100%|█████████▉| 1101/1102 [08:34<00:00,  2.14it/s]\n"
     ]
    },
    {
     "name": "stdout",
     "output_type": "stream",
     "text": [
      "[164/500] train loss: 0.0011162643, valid loss: 0.0007499392  [8m35s] count: 3, \n"
     ]
    },
    {
     "name": "stderr",
     "output_type": "stream",
     "text": [
      "100%|█████████▉| 1101/1102 [07:57<00:00,  2.30it/s]\n"
     ]
    },
    {
     "name": "stdout",
     "output_type": "stream",
     "text": [
      "[165/500] train loss: 0.0011165008, valid loss: 0.0007500446  [7m58s] count: 4, \n"
     ]
    },
    {
     "name": "stderr",
     "output_type": "stream",
     "text": [
      "100%|█████████▉| 1101/1102 [08:27<00:00,  2.17it/s]\n"
     ]
    },
    {
     "name": "stdout",
     "output_type": "stream",
     "text": [
      "[166/500] train loss: 0.0011156360, valid loss: 0.0007499837  [8m27s] count: 5, \n"
     ]
    },
    {
     "name": "stderr",
     "output_type": "stream",
     "text": [
      "100%|█████████▉| 1101/1102 [08:07<00:00,  2.26it/s]\n"
     ]
    },
    {
     "name": "stdout",
     "output_type": "stream",
     "text": [
      "[167/500] train loss: 0.0011169545, valid loss: 0.0007497341  [8m7s] count: 6, **\n"
     ]
    },
    {
     "name": "stderr",
     "output_type": "stream",
     "text": [
      " 59%|█████▉    | 654/1102 [05:12<03:34,  2.09it/s]"
     ]
    }
   ],
   "source": [
    "epoch = 500\n",
    "best_loss = float('Inf')\n",
    "best_model = None\n",
    "patience = 10\n",
    "counter = 0\n",
    "\n",
    "for loop in range(1, epoch + 1):\n",
    "    \n",
    "    start_time = time.time()\n",
    "    \n",
    "    loss_train = train(\n",
    "        model=model, ds=ds, optimizer=optimizer,\n",
    "        criterion=criterion, batch_size=batch_size,\n",
    "        device=device\n",
    "    )\n",
    "    \n",
    "    elapsed_time = time.time() - start_time\n",
    "    \n",
    "    loss_valid = evaluate(\n",
    "        model=model, ds=ds, criterion=criterion,\n",
    "        batch_size=batch_size, device=device\n",
    "    )\n",
    "    \n",
    "    print('[{}/{}] train loss: {:.10f}, valid loss: {:.10f}  [{}{:.0f}s] count: {}, {}'.format(\n",
    "        loop, epoch,\n",
    "        loss_train, loss_valid,\n",
    "        str(int(math.floor(elapsed_time / 60))) + 'm' if math.floor(elapsed_time / 60) > 0 else '',\n",
    "        elapsed_time % 60,\n",
    "        counter,\n",
    "        '**' if best_loss > loss_valid else ''\n",
    "    ))\n",
    "    \n",
    "    if best_loss > loss_valid:\n",
    "        best_loss = loss_valid\n",
    "        best_model = model\n",
    "        counter = 0\n",
    "    else:\n",
    "        counter += 1\n",
    "        scheduler.step()\n",
    "        \n",
    "    if counter > patience:\n",
    "        break"
   ]
  },
  {
   "cell_type": "code",
   "execution_count": null,
   "id": "c7b42567",
   "metadata": {},
   "outputs": [],
   "source": [
    "torch.save(best_model.state_dict(), f'./{model_name}_v{model_version}.torch')"
   ]
  },
  {
   "cell_type": "markdown",
   "id": "fbcac2b2",
   "metadata": {},
   "source": [
    "## Validation"
   ]
  },
  {
   "cell_type": "code",
   "execution_count": null,
   "id": "d43ad46d",
   "metadata": {},
   "outputs": [],
   "source": []
  }
 ],
 "metadata": {
  "kernelspec": {
   "display_name": "Python 3.8.10 ('venv': venv)",
   "language": "python",
   "name": "python3"
  },
  "language_info": {
   "codemirror_mode": {
    "name": "ipython",
    "version": 3
   },
   "file_extension": ".py",
   "mimetype": "text/x-python",
   "name": "python",
   "nbconvert_exporter": "python",
   "pygments_lexer": "ipython3",
   "version": "3.8.10"
  },
  "vscode": {
   "interpreter": {
    "hash": "8b8f0c1964c2d42c360293b97c2bf126adadb09f88ab60c350427a278226bd93"
   }
  }
 },
 "nbformat": 4,
 "nbformat_minor": 5
}
