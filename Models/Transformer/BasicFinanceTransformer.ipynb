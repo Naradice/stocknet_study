{
 "cells": [
  {
   "cell_type": "markdown",
   "id": "2beccf33",
   "metadata": {},
   "source": [
    "# BaseLine Transformer model\n",
    "\n",
    "Caution: This is not a usual use case of Transformer.\n",
    "\n",
    "Transformer developed by Google usually use Embeddeding Layer to represents a target such as a word.\n",
    "\n",
    "In this model, I use OHLC as a state vector though we can take same approch for finance data.\n",
    "As d_model is very low, this would be a base line of Transformer.\n",
    "\n",
    "Parameters:\n",
    "- Input:  ohlc_df.iloc[index] while observation length\n",
    "- Target: ohlc_df.iloc[index+observation_length] while prediction length"
   ]
  },
  {
   "cell_type": "markdown",
   "id": "d6750afa",
   "metadata": {},
   "source": [
    "## Data Preparation\n",
    "\n",
    "Since we shouldn't expose data obtained from other service, csv is not committed to this repository.\n",
    "Please preprare your data and load it."
   ]
  },
  {
   "cell_type": "code",
   "execution_count": 2,
   "id": "97ed26b7",
   "metadata": {},
   "outputs": [],
   "source": [
    "import os\n",
    "ohlc_column = ('open','high','low','close')\n",
    "file_path = os.path.abspath('../Data/mt5_USDJPY_min30.csv')"
   ]
  },
  {
   "cell_type": "code",
   "execution_count": 3,
   "id": "f98617db",
   "metadata": {},
   "outputs": [
    {
     "data": {
      "text/html": [
       "<div>\n",
       "<style scoped>\n",
       "    .dataframe tbody tr th:only-of-type {\n",
       "        vertical-align: middle;\n",
       "    }\n",
       "\n",
       "    .dataframe tbody tr th {\n",
       "        vertical-align: top;\n",
       "    }\n",
       "\n",
       "    .dataframe thead th {\n",
       "        text-align: right;\n",
       "    }\n",
       "</style>\n",
       "<table border=\"1\" class=\"dataframe\">\n",
       "  <thead>\n",
       "    <tr style=\"text-align: right;\">\n",
       "      <th></th>\n",
       "      <th>time</th>\n",
       "      <th>open</th>\n",
       "      <th>high</th>\n",
       "      <th>low</th>\n",
       "      <th>close</th>\n",
       "      <th>tick_volume</th>\n",
       "      <th>spread</th>\n",
       "      <th>real_volume</th>\n",
       "    </tr>\n",
       "  </thead>\n",
       "  <tbody>\n",
       "    <tr>\n",
       "      <th>0</th>\n",
       "      <td>2014-07-07 08:30:00</td>\n",
       "      <td>102.086</td>\n",
       "      <td>102.122</td>\n",
       "      <td>102.081</td>\n",
       "      <td>102.102</td>\n",
       "      <td>738</td>\n",
       "      <td>3</td>\n",
       "      <td>0</td>\n",
       "    </tr>\n",
       "    <tr>\n",
       "      <th>1</th>\n",
       "      <td>2014-07-07 09:00:00</td>\n",
       "      <td>102.102</td>\n",
       "      <td>102.146</td>\n",
       "      <td>102.098</td>\n",
       "      <td>102.113</td>\n",
       "      <td>1036</td>\n",
       "      <td>3</td>\n",
       "      <td>0</td>\n",
       "    </tr>\n",
       "    <tr>\n",
       "      <th>2</th>\n",
       "      <td>2014-07-07 09:30:00</td>\n",
       "      <td>102.113</td>\n",
       "      <td>102.115</td>\n",
       "      <td>102.042</td>\n",
       "      <td>102.044</td>\n",
       "      <td>865</td>\n",
       "      <td>3</td>\n",
       "      <td>0</td>\n",
       "    </tr>\n",
       "    <tr>\n",
       "      <th>3</th>\n",
       "      <td>2014-07-07 10:00:00</td>\n",
       "      <td>102.047</td>\n",
       "      <td>102.052</td>\n",
       "      <td>102.005</td>\n",
       "      <td>102.019</td>\n",
       "      <td>983</td>\n",
       "      <td>3</td>\n",
       "      <td>0</td>\n",
       "    </tr>\n",
       "    <tr>\n",
       "      <th>4</th>\n",
       "      <td>2014-07-07 10:30:00</td>\n",
       "      <td>102.017</td>\n",
       "      <td>102.025</td>\n",
       "      <td>101.918</td>\n",
       "      <td>101.941</td>\n",
       "      <td>1328</td>\n",
       "      <td>3</td>\n",
       "      <td>0</td>\n",
       "    </tr>\n",
       "    <tr>\n",
       "      <th>...</th>\n",
       "      <td>...</td>\n",
       "      <td>...</td>\n",
       "      <td>...</td>\n",
       "      <td>...</td>\n",
       "      <td>...</td>\n",
       "      <td>...</td>\n",
       "      <td>...</td>\n",
       "      <td>...</td>\n",
       "    </tr>\n",
       "    <tr>\n",
       "      <th>100715</th>\n",
       "      <td>2022-08-12 21:30:00</td>\n",
       "      <td>133.461</td>\n",
       "      <td>133.506</td>\n",
       "      <td>133.439</td>\n",
       "      <td>133.484</td>\n",
       "      <td>1125</td>\n",
       "      <td>3</td>\n",
       "      <td>0</td>\n",
       "    </tr>\n",
       "    <tr>\n",
       "      <th>100716</th>\n",
       "      <td>2022-08-12 22:00:00</td>\n",
       "      <td>133.484</td>\n",
       "      <td>133.530</td>\n",
       "      <td>133.437</td>\n",
       "      <td>133.475</td>\n",
       "      <td>1277</td>\n",
       "      <td>3</td>\n",
       "      <td>0</td>\n",
       "    </tr>\n",
       "    <tr>\n",
       "      <th>100717</th>\n",
       "      <td>2022-08-12 22:30:00</td>\n",
       "      <td>133.475</td>\n",
       "      <td>133.486</td>\n",
       "      <td>133.433</td>\n",
       "      <td>133.483</td>\n",
       "      <td>1506</td>\n",
       "      <td>3</td>\n",
       "      <td>0</td>\n",
       "    </tr>\n",
       "    <tr>\n",
       "      <th>100718</th>\n",
       "      <td>2022-08-12 23:00:00</td>\n",
       "      <td>133.484</td>\n",
       "      <td>133.536</td>\n",
       "      <td>133.465</td>\n",
       "      <td>133.521</td>\n",
       "      <td>1038</td>\n",
       "      <td>3</td>\n",
       "      <td>0</td>\n",
       "    </tr>\n",
       "    <tr>\n",
       "      <th>100719</th>\n",
       "      <td>2022-08-12 23:30:00</td>\n",
       "      <td>133.521</td>\n",
       "      <td>133.522</td>\n",
       "      <td>133.301</td>\n",
       "      <td>133.313</td>\n",
       "      <td>2515</td>\n",
       "      <td>3</td>\n",
       "      <td>0</td>\n",
       "    </tr>\n",
       "  </tbody>\n",
       "</table>\n",
       "<p>100720 rows × 8 columns</p>\n",
       "</div>"
      ],
      "text/plain": [
       "                       time     open     high      low    close  tick_volume  \\\n",
       "0       2014-07-07 08:30:00  102.086  102.122  102.081  102.102          738   \n",
       "1       2014-07-07 09:00:00  102.102  102.146  102.098  102.113         1036   \n",
       "2       2014-07-07 09:30:00  102.113  102.115  102.042  102.044          865   \n",
       "3       2014-07-07 10:00:00  102.047  102.052  102.005  102.019          983   \n",
       "4       2014-07-07 10:30:00  102.017  102.025  101.918  101.941         1328   \n",
       "...                     ...      ...      ...      ...      ...          ...   \n",
       "100715  2022-08-12 21:30:00  133.461  133.506  133.439  133.484         1125   \n",
       "100716  2022-08-12 22:00:00  133.484  133.530  133.437  133.475         1277   \n",
       "100717  2022-08-12 22:30:00  133.475  133.486  133.433  133.483         1506   \n",
       "100718  2022-08-12 23:00:00  133.484  133.536  133.465  133.521         1038   \n",
       "100719  2022-08-12 23:30:00  133.521  133.522  133.301  133.313         2515   \n",
       "\n",
       "        spread  real_volume  \n",
       "0            3            0  \n",
       "1            3            0  \n",
       "2            3            0  \n",
       "3            3            0  \n",
       "4            3            0  \n",
       "...        ...          ...  \n",
       "100715       3            0  \n",
       "100716       3            0  \n",
       "100717       3            0  \n",
       "100718       3            0  \n",
       "100719       3            0  \n",
       "\n",
       "[100720 rows x 8 columns]"
      ]
     },
     "execution_count": 3,
     "metadata": {},
     "output_type": "execute_result"
    }
   ],
   "source": [
    "import pandas as pd\n",
    "df = pd.read_csv(file_path)\n",
    "df"
   ]
  },
  {
   "cell_type": "markdown",
   "id": "dac8f599",
   "metadata": {},
   "source": [
    "## Basic Dataset Definition"
   ]
  },
  {
   "cell_type": "code",
   "execution_count": 4,
   "id": "6f986635",
   "metadata": {},
   "outputs": [],
   "source": [
    "import math\n",
    "import random\n",
    "import time\n",
    "\n",
    "import matplotlib.pyplot as plt\n",
    "import numpy as np\n",
    "import pandas as pd\n",
    "import torch\n",
    "import torch.nn as nn\n",
    "from torch import Tensor\n",
    "from torch.nn import (TransformerDecoder, TransformerDecoderLayer,\n",
    "                      TransformerEncoder, TransformerEncoderLayer)\n",
    "from torch.utils.data import DataLoader\n",
    "from tqdm import tqdm"
   ]
  },
  {
   "cell_type": "code",
   "execution_count": 5,
   "id": "52708cef",
   "metadata": {},
   "outputs": [],
   "source": [
    "class Dataset:\n",
    "    version = 8\n",
    "\n",
    "    def __init__(\n",
    "        self, df, ohlc_columns, volume_columns=[], observation_length: int = 30,\n",
    "        device=\"cuda\", init_type=\"log\", future_step_size=1, seed=1017, is_training=True, randomize=True\n",
    "    ):\n",
    "        self.seed(seed)\n",
    "        self.mm_params = {}\n",
    "        ohlc_df = self._init_ohlc(df, ohlc_columns, init_type)\n",
    "\n",
    "        if len(volume_columns) > 0:\n",
    "            volume_df = self._init_volume(df, volume_columns)\n",
    "            data = pd.concat([ohlc_df, volume_df], axis=1)\n",
    "        else:\n",
    "            data = ohlc_df\n",
    "\n",
    "        self.observation_length = observation_length\n",
    "        self.is_training = is_training\n",
    "        self.device = device\n",
    "        self._data = data\n",
    "        self._columns = data.columns\n",
    "        self._future_step_size = future_step_size\n",
    "        self._init_indicies(data, randomize)\n",
    "\n",
    "    def _init_ohlc(self, df, columns, init_type=\"log\"):\n",
    "        ohlc_df = df[columns]\n",
    "        ohlc_df = ohlc_df.apply(np.log).diff()\n",
    "        if init_type == \"cumsum\":\n",
    "            ohlc_df = ohlc_df.cumsum()\n",
    "        # added from v7 because position is high value compared with diff value\n",
    "        scale = (-1, 1)\n",
    "        min_series = ohlc_df.min()\n",
    "        max_series = ohlc_df.max()\n",
    "        self.mm_params[\"ohlc\"] = (min_series, max_series)\n",
    "        std = (ohlc_df - min_series) / (max_series - min_series)\n",
    "        ohlc_df = std * (scale[1] - scale[0]) + scale[0]\n",
    "        \n",
    "        return ohlc_df\n",
    "\n",
    "    def _init_volume(self, df, columns):\n",
    "        volume_df = df[columns]\n",
    "        scale = (-1, 1)\n",
    "        min_series = volume_df.min()\n",
    "        max_series = volume_df.max()\n",
    "        self.mm_params[\"volume\"] = (min_series, max_series)\n",
    "        std = (volume_df - min_series) / (max_series - min_series)\n",
    "        volume_df = std * (scale[1] - scale[0]) + scale[0]\n",
    "        return volume_df\n",
    "\n",
    "    def _init_indicies(self, data, randomize=False, split_ratio=0.7):\n",
    "        length = len(data) - self.observation_length - self._future_step_size\n",
    "        if length <= 0:\n",
    "            raise Exception(f\"date length {length} is less than observation_length {self.observation_length}\")\n",
    "\n",
    "        # stopped from v7. As input data inluceds target data\n",
    "        # indices = random.sample(range(1, length), k=length-1)\n",
    "\n",
    "        from_index = 1\n",
    "        to_index = int(length * split_ratio)\n",
    "        train_indices = list(range(from_index, to_index))\n",
    "        if randomize:\n",
    "            self.train_indices = random.sample(train_indices, k=to_index - from_index)\n",
    "        else:\n",
    "            self.train_indices = train_indices\n",
    "\n",
    "        # Note: If unique value exits in validation data only, validation loss would be grater than expected\n",
    "        from_index = int(length * split_ratio) + self.observation_length + self._future_step_size\n",
    "        to_index = length\n",
    "        eval_indices = list(range(from_index, to_index))\n",
    "        if randomize:\n",
    "            self.eval_indices = random.sample(eval_indices, k=to_index - from_index)\n",
    "        else:\n",
    "            self.eval_indices = eval_indices\n",
    "\n",
    "        if self.is_training:\n",
    "            self._indices = self.train_indices\n",
    "        else:\n",
    "            self._indices = self.eval_indices\n",
    "\n",
    "    def _output_func(self, batch_size):\n",
    "        if type(batch_size) == int:\n",
    "            index = self._indices[batch_size]\n",
    "            ans = self._data[index + self.observation_length - 1 : index + self.observation_length + self._future_step_size].T.values.tolist()\n",
    "            ans = torch.tensor(ans, device=self.device, dtype=torch.float)\n",
    "            ans = ans.reshape(len(self._columns), 1, self._future_step_size + 1)\n",
    "            return ans.transpose(0, 2)\n",
    "        elif type(batch_size) == slice:\n",
    "            batch_indices = batch_size\n",
    "            chunk_data = []\n",
    "            for column in self._columns:\n",
    "                column_chunk = []\n",
    "                for index in self._indices[batch_indices]:\n",
    "                    column_chunk.append(\n",
    "                        self._data[column][\n",
    "                            index + self.observation_length - 1 : index + self.observation_length + self._future_step_size\n",
    "                        ].values.tolist()\n",
    "                    )\n",
    "                chunk_data.append(column_chunk)\n",
    "\n",
    "            return torch.tensor(chunk_data, device=self.device, dtype=torch.float).transpose(0, 2)\n",
    "\n",
    "    def _input_func(self, batch_size):\n",
    "        if type(batch_size) == int:\n",
    "            index = self._indices[batch_size]\n",
    "            src = self._data[index : index + self.observation_length].T.values.tolist()\n",
    "            src = torch.tensor(src, device=self.device, dtype=torch.float)\n",
    "            src = src.reshape(len(self._columns), 1, self.observation_length)\n",
    "            return src.transpose(0, 2)\n",
    "        elif type(batch_size) == slice:\n",
    "            batch_indices = batch_size\n",
    "            chunk_src = []\n",
    "            for column in self._columns:\n",
    "                column_chunk_src = []\n",
    "                for index in self._indices[batch_indices]:\n",
    "                    column_chunk_src.append(self._data[column][index : index + self.observation_length].values.tolist())\n",
    "                chunk_src.append(column_chunk_src)\n",
    "\n",
    "            return torch.tensor(chunk_src, device=self.device, dtype=torch.float).transpose(0, 2)\n",
    "\n",
    "    def __len__(self):\n",
    "        return len(self._indices)\n",
    "\n",
    "    def __getitem__(self, ndx):\n",
    "        return self._input_func(ndx), self._output_func(ndx)\n",
    "\n",
    "    def seed(self, seed=None):\n",
    "        \"\"\" \"\"\"\n",
    "        if seed is None:\n",
    "            seed = 1192\n",
    "        else:\n",
    "            torch.backends.cudnn.benchmark = False\n",
    "            torch.backends.cudnn.deterministic = True\n",
    "        torch.manual_seed(seed)\n",
    "        random.seed(seed)\n",
    "        np.random.seed(seed)\n",
    "        self.seed_value = seed\n",
    "\n",
    "    def seed_worker(worker_id):\n",
    "        worker_seed = torch.initial_seed() % 2**32\n",
    "        np.random.seed(worker_seed)\n",
    "        random.seed(worker_seed)\n",
    "\n",
    "    def render(self, mode=\"human\", close=False):\n",
    "        \"\"\" \"\"\"\n",
    "        pass\n",
    "\n",
    "    def eval(self):\n",
    "        self._indices = self.eval_indices\n",
    "        self.is_training = False\n",
    "\n",
    "    def train(self):\n",
    "        self._indices = self.train_indices\n",
    "        self.is_training = True\n",
    "\n",
    "    def get_actual_index(self, ndx):\n",
    "        inputs = []\n",
    "        if type(ndx) == slice:\n",
    "            for index in self._indices[ndx]:\n",
    "                inputs.append(index)\n",
    "        else:\n",
    "            inputs = self._indices[ndx]\n",
    "        return inputs\n",
    "\n",
    "    def get_row_data(self, ndx):\n",
    "        inputs = []\n",
    "        if type(ndx) == slice:\n",
    "            for index in self._indices[ndx]:\n",
    "                df = self._data[index : index + self.observation_length]\n",
    "                inputs.append(df)\n",
    "        else:\n",
    "            index = ndx\n",
    "            inputs = df = self._data[index : index + self.observation_length]\n",
    "        return inputs"
   ]
  },
  {
   "cell_type": "markdown",
   "id": "f4f19f5b",
   "metadata": {},
   "source": [
    "## Define Model"
   ]
  },
  {
   "cell_type": "code",
   "execution_count": 6,
   "id": "6eb354e7",
   "metadata": {},
   "outputs": [],
   "source": [
    "class PositionalEncoding(nn.Module):\n",
    "    def __init__(self, d_model, max_len=5000, dropout=0.05):\n",
    "        super().__init__()\n",
    "        self.dropout = nn.Dropout(p=dropout)\n",
    "        pe = torch.zeros(max_len, d_model)\n",
    "        position = torch.arange(0, max_len, dtype=torch.float).unsqueeze(1)\n",
    "        div_term = torch.exp(torch.arange(0, d_model, 2).float() * (-math.log(10000.0)/d_model))\n",
    "        pe[:, 0::2] = torch.sin(position * div_term)\n",
    "        pe[:, 1::2] = torch.cos(position * div_term)\n",
    "        pe = pe.unsqueeze(-2)\n",
    "        #pe = pe.unsqueeze(0).transpose(0, 1)\n",
    "        self.register_buffer(\"pe\", pe)\n",
    "\n",
    "    def forward(self, src, tgt):\n",
    "        src_pos = src.size(0)\n",
    "        tgt_pos = src_pos + tgt.size(0) - 1\n",
    "        return self.dropout(src + self.pe[:src_pos, :]), self.dropout(tgt + self.pe[src_pos-1:tgt_pos, :])"
   ]
  },
  {
   "cell_type": "code",
   "execution_count": 7,
   "id": "06c752ab",
   "metadata": {},
   "outputs": [],
   "source": [
    "class Seq2SeqTransformer(nn.Module):\n",
    "    \n",
    "    def __init__(\n",
    "        self, num_encoder_layers: int, num_decoder_layers: int,\n",
    "        feature_size: int,\n",
    "        dim_feedforward:int = 512, dropout:float = 0.1, nhead:int = 8\n",
    "    ):\n",
    "        \n",
    "        super(Seq2SeqTransformer, self).__init__()\n",
    "\n",
    "        self.positional_encoding = PositionalEncoding(feature_size, dropout=dropout)\n",
    "        \n",
    "        encoder_layer = TransformerEncoderLayer(\n",
    "            d_model=feature_size, nhead=nhead, dim_feedforward=dim_feedforward, dropout=dropout\n",
    "        )\n",
    "        self.transformer_encoder = TransformerEncoder(encoder_layer, num_layers=num_encoder_layers)\n",
    "        \n",
    "        decoder_layer = TransformerDecoderLayer(\n",
    "            d_model=feature_size, nhead=nhead, dim_feedforward=dim_feedforward, dropout=dropout\n",
    "        )\n",
    "        self.transformer_decoder = TransformerDecoder(decoder_layer, num_layers=num_decoder_layers)\n",
    "\n",
    "    def forward(\n",
    "        self, src: Tensor, tgt: Tensor, mask_tgt: Tensor,\n",
    "        mask_src: Tensor=None, padding_mask_src: Tensor=None, padding_mask_tgt: Tensor=None,\n",
    "        memory_key_padding_mask: Tensor=None\n",
    "    ):\n",
    "        \n",
    "        src, tgt = self.positional_encoding(src, tgt)\n",
    "        memory = self.transformer_encoder(src, mask_src, padding_mask_src)\n",
    "        outs = self.transformer_decoder(\n",
    "            tgt, memory, mask_tgt, None,\n",
    "            padding_mask_tgt, memory_key_padding_mask\n",
    "        )\n",
    "        return outs"
   ]
  },
  {
   "cell_type": "markdown",
   "id": "32ee73d9",
   "metadata": {},
   "source": [
    "## Define Training Methods"
   ]
  },
  {
   "cell_type": "code",
   "execution_count": 14,
   "id": "ec40904a",
   "metadata": {},
   "outputs": [],
   "source": [
    "def train(model, ds, optimizer, criterion, batch_size, device):\n",
    "    \n",
    "    model.train()\n",
    "    ds.train()\n",
    "    losses = 0\n",
    "    \n",
    "    length = 0.0\n",
    "    end_index = len(ds)\n",
    "    for index in tqdm(range(0, end_index, batch_size)):\n",
    "        if end_index - index < batch_size:\n",
    "            break\n",
    "        length+=1.0\n",
    "        src, tgt = ds[index:index+batch_size]\n",
    "        src = src.to(device)\n",
    "        tgt = tgt.to(device)\n",
    "\n",
    "        input_tgt = tgt[:-1, :]\n",
    "\n",
    "        mask_tgt = nn.Transformer.generate_square_subsequent_mask(input_tgt.size(0)).to(device)\n",
    "        logits = model(\n",
    "            src=src, tgt=input_tgt,  mask_tgt=mask_tgt\n",
    "        )\n",
    "\n",
    "        optimizer.zero_grad()\n",
    "\n",
    "        output_tgt = tgt[1:, :]\n",
    "        loss = criterion(logits, output_tgt)\n",
    "        loss.backward()\n",
    "\n",
    "        optimizer.step()\n",
    "        losses += loss.item()\n",
    "        \n",
    "    return losses / length"
   ]
  },
  {
   "cell_type": "code",
   "execution_count": 15,
   "id": "3bb3f57a",
   "metadata": {},
   "outputs": [],
   "source": [
    "def evaluate(model, ds, criterion, batch_size, device):\n",
    "    \n",
    "    model.eval()\n",
    "    ds.eval()\n",
    "    losses = 0\n",
    "    length = 0.0\n",
    "    for index in range(0, len(ds), batch_size):\n",
    "        if len(ds) - index < batch_size:\n",
    "            break\n",
    "        length+=1.0\n",
    "        src, tgt = ds[index:index+batch_size]\n",
    "        src = src.to(device)\n",
    "        tgt = tgt.to(device)\n",
    "\n",
    "        input_tgt = tgt[:-1, :]\n",
    "\n",
    "        mask_tgt = nn.Transformer.generate_square_subsequent_mask(input_tgt.size(0)).to(device)\n",
    "\n",
    "        logits = model(\n",
    "            src=src, tgt=input_tgt, mask_tgt=mask_tgt,\n",
    "        )\n",
    "        \n",
    "        output_tgt = tgt[1:, :]\n",
    "        loss = criterion(logits, output_tgt)\n",
    "        losses += loss.item()\n",
    "        \n",
    "    return losses / length"
   ]
  },
  {
   "cell_type": "markdown",
   "id": "6fad32a6",
   "metadata": {},
   "source": [
    "## Training"
   ]
  },
  {
   "cell_type": "code",
   "execution_count": 8,
   "id": "95651ef6",
   "metadata": {},
   "outputs": [],
   "source": [
    "device = torch.device(\"cuda:0\" if torch.cuda.is_available() else \"cpu\")\n",
    "model_name = \"finance_basic_transfomer\"\n",
    "model_version = \"v1\"\n",
    "\n",
    "#Dataset parameters\n",
    "standalization = \"log\"\n",
    "batch_size = 64\n",
    "observation_length = 30\n",
    "prediction_length = 10\n",
    "columns = [\"open\", \"high\", \"low\", \"close\"]\n",
    "volume_columns = [\"tick_volume\", \"spread\"]\n",
    "\n",
    "ds = Dataset(df, columns, volume_columns, observation_length, device, standalization, prediction_length)"
   ]
  },
  {
   "cell_type": "code",
   "execution_count": 49,
   "id": "a2f74761",
   "metadata": {},
   "outputs": [
    {
     "name": "stdout",
     "output_type": "stream",
     "text": [
      "torch.Size([30, 16, 6]) torch.Size([11, 16, 6])\n"
     ]
    }
   ],
   "source": [
    "# check outputs represents (data_length, chunk_size, feature_size)\n",
    "ds.train()\n",
    "for index in range(0, len(ds)-16, 16):\n",
    "    src, tgt = ds[index: index+16]\n",
    "    continue\n",
    "print(src.shape, tgt.shape)"
   ]
  },
  {
   "cell_type": "code",
   "execution_count": 9,
   "id": "800c2b99",
   "metadata": {},
   "outputs": [],
   "source": [
    "feature_size = 6\n",
    "\n",
    "# Hyper parameters\n",
    "nhead = 1\n",
    "dim_feedforward = 1000\n",
    "num_encoder_layers = 6\n",
    "num_decoder_layers = 6\n",
    "dropout = 0.01\n",
    "\n",
    "model = Seq2SeqTransformer(\n",
    "    num_encoder_layers=num_encoder_layers,\n",
    "    num_decoder_layers=num_decoder_layers,\n",
    "    feature_size=feature_size,\n",
    "    dim_feedforward=dim_feedforward,\n",
    "    dropout=dropout, nhead=nhead\n",
    ")\n",
    "\n",
    "for p in model.parameters():\n",
    "    if p.dim() > 1:\n",
    "        nn.init.xavier_uniform_(p)\n",
    "\n",
    "model = model.to(device)"
   ]
  },
  {
   "cell_type": "code",
   "execution_count": 10,
   "id": "72dce760",
   "metadata": {},
   "outputs": [],
   "source": [
    "lr = 0.00005\n",
    "\n",
    "criterion = nn.MSELoss()\n",
    "optimizer = torch.optim.Adam(model.parameters(), lr=lr)\n",
    "scheduler = torch.optim.lr_scheduler.StepLR(optimizer, 1.0, gamma = 0.95)"
   ]
  },
  {
   "cell_type": "code",
   "execution_count": 53,
   "id": "82bb2c7d",
   "metadata": {},
   "outputs": [
    {
     "name": "stderr",
     "output_type": "stream",
     "text": [
      "100%|█████████▉| 1101/1102 [02:17<00:00,  7.98it/s]\n"
     ]
    },
    {
     "name": "stdout",
     "output_type": "stream",
     "text": [
      "[1/500] train loss: 0.1999668968, valid loss: 0.1447812436  [2m18s] count: 0, **\n"
     ]
    },
    {
     "name": "stderr",
     "output_type": "stream",
     "text": [
      "100%|█████████▉| 1101/1102 [02:14<00:00,  8.19it/s]\n"
     ]
    },
    {
     "name": "stdout",
     "output_type": "stream",
     "text": [
      "[2/500] train loss: 0.1136597093, valid loss: 0.0851220058  [2m14s] count: 0, **\n"
     ]
    },
    {
     "name": "stderr",
     "output_type": "stream",
     "text": [
      "100%|█████████▉| 1101/1102 [02:30<00:00,  7.31it/s]\n"
     ]
    },
    {
     "name": "stdout",
     "output_type": "stream",
     "text": [
      "[3/500] train loss: 0.0635748387, valid loss: 0.0451294458  [2m31s] count: 0, **\n"
     ]
    },
    {
     "name": "stderr",
     "output_type": "stream",
     "text": [
      "100%|█████████▉| 1101/1102 [02:29<00:00,  7.38it/s]\n"
     ]
    },
    {
     "name": "stdout",
     "output_type": "stream",
     "text": [
      "[4/500] train loss: 0.0316196207, valid loss: 0.0212085399  [2m29s] count: 0, **\n"
     ]
    },
    {
     "name": "stderr",
     "output_type": "stream",
     "text": [
      "100%|█████████▉| 1101/1102 [02:40<00:00,  6.88it/s]\n"
     ]
    },
    {
     "name": "stdout",
     "output_type": "stream",
     "text": [
      "[5/500] train loss: 0.0136495252, valid loss: 0.0090157450  [2m40s] count: 0, **\n"
     ]
    },
    {
     "name": "stderr",
     "output_type": "stream",
     "text": [
      "100%|█████████▉| 1101/1102 [02:45<00:00,  6.67it/s]\n"
     ]
    },
    {
     "name": "stdout",
     "output_type": "stream",
     "text": [
      "[6/500] train loss: 0.0053406032, valid loss: 0.0041891087  [2m45s] count: 0, **\n"
     ]
    },
    {
     "name": "stderr",
     "output_type": "stream",
     "text": [
      "100%|█████████▉| 1101/1102 [02:06<00:00,  8.73it/s]\n"
     ]
    },
    {
     "name": "stdout",
     "output_type": "stream",
     "text": [
      "[7/500] train loss: 0.0024859769, valid loss: 0.0029547394  [2m6s] count: 0, **\n"
     ]
    },
    {
     "name": "stderr",
     "output_type": "stream",
     "text": [
      "100%|█████████▉| 1101/1102 [02:10<00:00,  8.45it/s]\n"
     ]
    },
    {
     "name": "stdout",
     "output_type": "stream",
     "text": [
      "[8/500] train loss: 0.0018832303, valid loss: 0.0028121986  [2m10s] count: 0, **\n"
     ]
    },
    {
     "name": "stderr",
     "output_type": "stream",
     "text": [
      "100%|█████████▉| 1101/1102 [02:10<00:00,  8.45it/s]\n"
     ]
    },
    {
     "name": "stdout",
     "output_type": "stream",
     "text": [
      "[9/500] train loss: 0.0018036390, valid loss: 0.0027948536  [2m10s] count: 0, **\n"
     ]
    },
    {
     "name": "stderr",
     "output_type": "stream",
     "text": [
      "100%|█████████▉| 1101/1102 [02:17<00:00,  8.00it/s]\n"
     ]
    },
    {
     "name": "stdout",
     "output_type": "stream",
     "text": [
      "[10/500] train loss: 0.0017724126, valid loss: 0.0027831725  [2m18s] count: 0, **\n"
     ]
    },
    {
     "name": "stderr",
     "output_type": "stream",
     "text": [
      "100%|█████████▉| 1101/1102 [02:11<00:00,  8.35it/s]\n"
     ]
    },
    {
     "name": "stdout",
     "output_type": "stream",
     "text": [
      "[11/500] train loss: 0.0017344298, valid loss: 0.0027594794  [2m12s] count: 0, **\n"
     ]
    },
    {
     "name": "stderr",
     "output_type": "stream",
     "text": [
      "100%|█████████▉| 1101/1102 [02:05<00:00,  8.80it/s]\n"
     ]
    },
    {
     "name": "stdout",
     "output_type": "stream",
     "text": [
      "[12/500] train loss: 0.0016881497, valid loss: 0.0026225630  [2m5s] count: 0, **\n"
     ]
    },
    {
     "name": "stderr",
     "output_type": "stream",
     "text": [
      "100%|█████████▉| 1101/1102 [02:11<00:00,  8.36it/s]\n"
     ]
    },
    {
     "name": "stdout",
     "output_type": "stream",
     "text": [
      "[13/500] train loss: 0.0016583300, valid loss: 0.0025550268  [2m12s] count: 0, **\n"
     ]
    },
    {
     "name": "stderr",
     "output_type": "stream",
     "text": [
      "100%|█████████▉| 1101/1102 [02:17<00:00,  8.00it/s]\n"
     ]
    },
    {
     "name": "stdout",
     "output_type": "stream",
     "text": [
      "[14/500] train loss: 0.0016259116, valid loss: 0.0025101748  [2m18s] count: 0, **\n"
     ]
    },
    {
     "name": "stderr",
     "output_type": "stream",
     "text": [
      "100%|█████████▉| 1101/1102 [02:21<00:00,  7.79it/s]\n"
     ]
    },
    {
     "name": "stdout",
     "output_type": "stream",
     "text": [
      "[15/500] train loss: 0.0016012022, valid loss: 0.0024784757  [2m21s] count: 0, **\n"
     ]
    },
    {
     "name": "stderr",
     "output_type": "stream",
     "text": [
      "100%|█████████▉| 1101/1102 [02:11<00:00,  8.36it/s]\n"
     ]
    },
    {
     "name": "stdout",
     "output_type": "stream",
     "text": [
      "[16/500] train loss: 0.0015720572, valid loss: 0.0024139953  [2m12s] count: 0, **\n"
     ]
    },
    {
     "name": "stderr",
     "output_type": "stream",
     "text": [
      "100%|█████████▉| 1101/1102 [02:08<00:00,  8.59it/s]\n"
     ]
    },
    {
     "name": "stdout",
     "output_type": "stream",
     "text": [
      "[17/500] train loss: 0.0015448301, valid loss: 0.0023951966  [2m8s] count: 0, **\n"
     ]
    },
    {
     "name": "stderr",
     "output_type": "stream",
     "text": [
      "100%|█████████▉| 1101/1102 [02:13<00:00,  8.24it/s]\n"
     ]
    },
    {
     "name": "stdout",
     "output_type": "stream",
     "text": [
      "[18/500] train loss: 0.0015242261, valid loss: 0.0023567737  [2m14s] count: 0, **\n"
     ]
    },
    {
     "name": "stderr",
     "output_type": "stream",
     "text": [
      "100%|█████████▉| 1101/1102 [02:14<00:00,  8.21it/s]\n"
     ]
    },
    {
     "name": "stdout",
     "output_type": "stream",
     "text": [
      "[19/500] train loss: 0.0015085088, valid loss: 0.0023478882  [2m14s] count: 0, **\n"
     ]
    },
    {
     "name": "stderr",
     "output_type": "stream",
     "text": [
      "100%|█████████▉| 1101/1102 [02:04<00:00,  8.84it/s]\n"
     ]
    },
    {
     "name": "stdout",
     "output_type": "stream",
     "text": [
      "[20/500] train loss: 0.0014866710, valid loss: 0.0023447817  [2m5s] count: 0, **\n"
     ]
    },
    {
     "name": "stderr",
     "output_type": "stream",
     "text": [
      "100%|█████████▉| 1101/1102 [02:19<00:00,  7.92it/s]\n"
     ]
    },
    {
     "name": "stdout",
     "output_type": "stream",
     "text": [
      "[21/500] train loss: 0.0014702350, valid loss: 0.0022959026  [2m19s] count: 0, **\n"
     ]
    },
    {
     "name": "stderr",
     "output_type": "stream",
     "text": [
      "100%|█████████▉| 1101/1102 [02:35<00:00,  7.08it/s]\n"
     ]
    },
    {
     "name": "stdout",
     "output_type": "stream",
     "text": [
      "[22/500] train loss: 0.0014550712, valid loss: 0.0023192186  [2m36s] count: 0, \n"
     ]
    },
    {
     "name": "stderr",
     "output_type": "stream",
     "text": [
      "100%|█████████▉| 1101/1102 [02:31<00:00,  7.25it/s]\n"
     ]
    },
    {
     "name": "stdout",
     "output_type": "stream",
     "text": [
      "[23/500] train loss: 0.0014398931, valid loss: 0.0023128826  [2m32s] count: 1, \n"
     ]
    },
    {
     "name": "stderr",
     "output_type": "stream",
     "text": [
      "100%|█████████▉| 1101/1102 [02:23<00:00,  7.66it/s]\n"
     ]
    },
    {
     "name": "stdout",
     "output_type": "stream",
     "text": [
      "[24/500] train loss: 0.0014264995, valid loss: 0.0022855305  [2m24s] count: 2, **\n"
     ]
    },
    {
     "name": "stderr",
     "output_type": "stream",
     "text": [
      "100%|█████████▉| 1101/1102 [02:17<00:00,  8.00it/s]\n"
     ]
    },
    {
     "name": "stdout",
     "output_type": "stream",
     "text": [
      "[25/500] train loss: 0.0014164841, valid loss: 0.0022656797  [2m18s] count: 0, **\n"
     ]
    },
    {
     "name": "stderr",
     "output_type": "stream",
     "text": [
      "100%|█████████▉| 1101/1102 [02:14<00:00,  8.21it/s]\n"
     ]
    },
    {
     "name": "stdout",
     "output_type": "stream",
     "text": [
      "[26/500] train loss: 0.0014047819, valid loss: 0.0022710283  [2m14s] count: 0, \n"
     ]
    },
    {
     "name": "stderr",
     "output_type": "stream",
     "text": [
      "100%|█████████▉| 1101/1102 [01:59<00:00,  9.19it/s]\n"
     ]
    },
    {
     "name": "stdout",
     "output_type": "stream",
     "text": [
      "[27/500] train loss: 0.0013951345, valid loss: 0.0022977102  [1m60s] count: 1, \n"
     ]
    },
    {
     "name": "stderr",
     "output_type": "stream",
     "text": [
      "100%|█████████▉| 1101/1102 [02:05<00:00,  8.79it/s]\n"
     ]
    },
    {
     "name": "stdout",
     "output_type": "stream",
     "text": [
      "[28/500] train loss: 0.0013868060, valid loss: 0.0023023257  [2m5s] count: 2, \n"
     ]
    },
    {
     "name": "stderr",
     "output_type": "stream",
     "text": [
      "100%|█████████▉| 1101/1102 [02:11<00:00,  8.37it/s]\n"
     ]
    },
    {
     "name": "stdout",
     "output_type": "stream",
     "text": [
      "[29/500] train loss: 0.0013778896, valid loss: 0.0022808569  [2m12s] count: 3, \n"
     ]
    },
    {
     "name": "stderr",
     "output_type": "stream",
     "text": [
      "100%|█████████▉| 1101/1102 [02:16<00:00,  8.04it/s]\n"
     ]
    },
    {
     "name": "stdout",
     "output_type": "stream",
     "text": [
      "[30/500] train loss: 0.0013674880, valid loss: 0.0023050982  [2m17s] count: 4, \n"
     ]
    },
    {
     "name": "stderr",
     "output_type": "stream",
     "text": [
      "100%|█████████▉| 1101/1102 [02:31<00:00,  7.28it/s]\n"
     ]
    },
    {
     "name": "stdout",
     "output_type": "stream",
     "text": [
      "[31/500] train loss: 0.0013621621, valid loss: 0.0022581393  [2m31s] count: 5, **\n"
     ]
    },
    {
     "name": "stderr",
     "output_type": "stream",
     "text": [
      "100%|█████████▉| 1101/1102 [02:39<00:00,  6.89it/s]\n"
     ]
    },
    {
     "name": "stdout",
     "output_type": "stream",
     "text": [
      "[32/500] train loss: 0.0013554407, valid loss: 0.0022559555  [2m40s] count: 0, **\n"
     ]
    },
    {
     "name": "stderr",
     "output_type": "stream",
     "text": [
      "100%|█████████▉| 1101/1102 [02:44<00:00,  6.68it/s]\n"
     ]
    },
    {
     "name": "stdout",
     "output_type": "stream",
     "text": [
      "[33/500] train loss: 0.0013516211, valid loss: 0.0022885259  [2m45s] count: 0, \n"
     ]
    },
    {
     "name": "stderr",
     "output_type": "stream",
     "text": [
      "100%|█████████▉| 1101/1102 [02:47<00:00,  6.56it/s]\n"
     ]
    },
    {
     "name": "stdout",
     "output_type": "stream",
     "text": [
      "[34/500] train loss: 0.0013440475, valid loss: 0.0022576060  [2m48s] count: 1, \n"
     ]
    },
    {
     "name": "stderr",
     "output_type": "stream",
     "text": [
      "100%|█████████▉| 1101/1102 [02:24<00:00,  7.61it/s]\n"
     ]
    },
    {
     "name": "stdout",
     "output_type": "stream",
     "text": [
      "[35/500] train loss: 0.0013389510, valid loss: 0.0022536913  [2m25s] count: 2, **\n"
     ]
    },
    {
     "name": "stderr",
     "output_type": "stream",
     "text": [
      "100%|█████████▉| 1101/1102 [02:32<00:00,  7.22it/s]\n"
     ]
    },
    {
     "name": "stdout",
     "output_type": "stream",
     "text": [
      "[36/500] train loss: 0.0013350966, valid loss: 0.0022166321  [2m32s] count: 0, **\n"
     ]
    },
    {
     "name": "stderr",
     "output_type": "stream",
     "text": [
      "100%|█████████▉| 1101/1102 [02:25<00:00,  7.58it/s]\n"
     ]
    },
    {
     "name": "stdout",
     "output_type": "stream",
     "text": [
      "[37/500] train loss: 0.0013299625, valid loss: 0.0022182785  [2m25s] count: 0, \n"
     ]
    },
    {
     "name": "stderr",
     "output_type": "stream",
     "text": [
      "100%|█████████▉| 1101/1102 [02:06<00:00,  8.73it/s]\n"
     ]
    },
    {
     "name": "stdout",
     "output_type": "stream",
     "text": [
      "[38/500] train loss: 0.0013260002, valid loss: 0.0022091626  [2m6s] count: 1, **\n"
     ]
    },
    {
     "name": "stderr",
     "output_type": "stream",
     "text": [
      "100%|█████████▉| 1101/1102 [02:11<00:00,  8.34it/s]\n"
     ]
    },
    {
     "name": "stdout",
     "output_type": "stream",
     "text": [
      "[39/500] train loss: 0.0013203494, valid loss: 0.0021864212  [2m12s] count: 0, **\n"
     ]
    },
    {
     "name": "stderr",
     "output_type": "stream",
     "text": [
      "100%|█████████▉| 1101/1102 [02:10<00:00,  8.41it/s]\n"
     ]
    },
    {
     "name": "stdout",
     "output_type": "stream",
     "text": [
      "[40/500] train loss: 0.0013184969, valid loss: 0.0022178033  [2m11s] count: 0, \n"
     ]
    },
    {
     "name": "stderr",
     "output_type": "stream",
     "text": [
      "100%|█████████▉| 1101/1102 [02:08<00:00,  8.57it/s]\n"
     ]
    },
    {
     "name": "stdout",
     "output_type": "stream",
     "text": [
      "[41/500] train loss: 0.0013129261, valid loss: 0.0021903000  [2m8s] count: 1, \n"
     ]
    },
    {
     "name": "stderr",
     "output_type": "stream",
     "text": [
      "100%|█████████▉| 1101/1102 [02:20<00:00,  7.84it/s]\n"
     ]
    },
    {
     "name": "stdout",
     "output_type": "stream",
     "text": [
      "[42/500] train loss: 0.0013099277, valid loss: 0.0021936667  [2m20s] count: 2, \n"
     ]
    },
    {
     "name": "stderr",
     "output_type": "stream",
     "text": [
      "100%|█████████▉| 1101/1102 [02:06<00:00,  8.70it/s]\n"
     ]
    },
    {
     "name": "stdout",
     "output_type": "stream",
     "text": [
      "[43/500] train loss: 0.0013062905, valid loss: 0.0021764646  [2m7s] count: 3, **\n"
     ]
    },
    {
     "name": "stderr",
     "output_type": "stream",
     "text": [
      "100%|█████████▉| 1101/1102 [02:06<00:00,  8.71it/s]\n"
     ]
    },
    {
     "name": "stdout",
     "output_type": "stream",
     "text": [
      "[44/500] train loss: 0.0013024542, valid loss: 0.0021864278  [2m6s] count: 0, \n"
     ]
    },
    {
     "name": "stderr",
     "output_type": "stream",
     "text": [
      "100%|█████████▉| 1101/1102 [02:07<00:00,  8.65it/s]\n"
     ]
    },
    {
     "name": "stdout",
     "output_type": "stream",
     "text": [
      "[45/500] train loss: 0.0013003394, valid loss: 0.0022020870  [2m7s] count: 1, \n"
     ]
    },
    {
     "name": "stderr",
     "output_type": "stream",
     "text": [
      "100%|█████████▉| 1101/1102 [02:10<00:00,  8.45it/s]\n"
     ]
    },
    {
     "name": "stdout",
     "output_type": "stream",
     "text": [
      "[46/500] train loss: 0.0012982331, valid loss: 0.0021837667  [2m10s] count: 2, \n"
     ]
    },
    {
     "name": "stderr",
     "output_type": "stream",
     "text": [
      "100%|█████████▉| 1101/1102 [02:12<00:00,  8.29it/s]\n"
     ]
    },
    {
     "name": "stdout",
     "output_type": "stream",
     "text": [
      "[47/500] train loss: 0.0012939036, valid loss: 0.0021869398  [2m13s] count: 3, \n"
     ]
    },
    {
     "name": "stderr",
     "output_type": "stream",
     "text": [
      "100%|█████████▉| 1101/1102 [02:10<00:00,  8.43it/s]\n"
     ]
    },
    {
     "name": "stdout",
     "output_type": "stream",
     "text": [
      "[48/500] train loss: 0.0012918521, valid loss: 0.0021942933  [2m11s] count: 4, \n"
     ]
    },
    {
     "name": "stderr",
     "output_type": "stream",
     "text": [
      "100%|█████████▉| 1101/1102 [02:19<00:00,  7.90it/s]\n"
     ]
    },
    {
     "name": "stdout",
     "output_type": "stream",
     "text": [
      "[49/500] train loss: 0.0012904135, valid loss: 0.0021838671  [2m19s] count: 5, \n"
     ]
    },
    {
     "name": "stderr",
     "output_type": "stream",
     "text": [
      "100%|█████████▉| 1101/1102 [02:17<00:00,  7.98it/s]\n"
     ]
    },
    {
     "name": "stdout",
     "output_type": "stream",
     "text": [
      "[50/500] train loss: 0.0012872426, valid loss: 0.0021862180  [2m18s] count: 6, \n"
     ]
    },
    {
     "name": "stderr",
     "output_type": "stream",
     "text": [
      "100%|█████████▉| 1101/1102 [02:18<00:00,  7.94it/s]\n"
     ]
    },
    {
     "name": "stdout",
     "output_type": "stream",
     "text": [
      "[51/500] train loss: 0.0012853420, valid loss: 0.0021836639  [2m19s] count: 7, \n"
     ]
    },
    {
     "name": "stderr",
     "output_type": "stream",
     "text": [
      "100%|█████████▉| 1101/1102 [02:18<00:00,  7.94it/s]\n"
     ]
    },
    {
     "name": "stdout",
     "output_type": "stream",
     "text": [
      "[52/500] train loss: 0.0012846360, valid loss: 0.0021625696  [2m19s] count: 8, **\n"
     ]
    },
    {
     "name": "stderr",
     "output_type": "stream",
     "text": [
      "100%|█████████▉| 1101/1102 [02:17<00:00,  8.03it/s]\n"
     ]
    },
    {
     "name": "stdout",
     "output_type": "stream",
     "text": [
      "[53/500] train loss: 0.0012812206, valid loss: 0.0021878845  [2m17s] count: 0, \n"
     ]
    },
    {
     "name": "stderr",
     "output_type": "stream",
     "text": [
      "100%|█████████▉| 1101/1102 [02:17<00:00,  8.02it/s]\n"
     ]
    },
    {
     "name": "stdout",
     "output_type": "stream",
     "text": [
      "[54/500] train loss: 0.0012796714, valid loss: 0.0021593661  [2m17s] count: 1, **\n"
     ]
    },
    {
     "name": "stderr",
     "output_type": "stream",
     "text": [
      "100%|█████████▉| 1101/1102 [02:11<00:00,  8.35it/s]\n"
     ]
    },
    {
     "name": "stdout",
     "output_type": "stream",
     "text": [
      "[55/500] train loss: 0.0012766672, valid loss: 0.0021804021  [2m12s] count: 0, \n"
     ]
    },
    {
     "name": "stderr",
     "output_type": "stream",
     "text": [
      "100%|█████████▉| 1101/1102 [02:13<00:00,  8.24it/s]\n"
     ]
    },
    {
     "name": "stdout",
     "output_type": "stream",
     "text": [
      "[56/500] train loss: 0.0012746376, valid loss: 0.0021652996  [2m14s] count: 1, \n"
     ]
    },
    {
     "name": "stderr",
     "output_type": "stream",
     "text": [
      "100%|█████████▉| 1101/1102 [02:18<00:00,  7.96it/s]\n"
     ]
    },
    {
     "name": "stdout",
     "output_type": "stream",
     "text": [
      "[57/500] train loss: 0.0012733801, valid loss: 0.0021531887  [2m18s] count: 2, **\n"
     ]
    },
    {
     "name": "stderr",
     "output_type": "stream",
     "text": [
      "100%|█████████▉| 1101/1102 [02:18<00:00,  7.97it/s]\n"
     ]
    },
    {
     "name": "stdout",
     "output_type": "stream",
     "text": [
      "[58/500] train loss: 0.0012728423, valid loss: 0.0021572183  [2m18s] count: 0, \n"
     ]
    },
    {
     "name": "stderr",
     "output_type": "stream",
     "text": [
      "100%|█████████▉| 1101/1102 [02:20<00:00,  7.83it/s]\n"
     ]
    },
    {
     "name": "stdout",
     "output_type": "stream",
     "text": [
      "[59/500] train loss: 0.0012715053, valid loss: 0.0021597145  [2m21s] count: 1, \n"
     ]
    },
    {
     "name": "stderr",
     "output_type": "stream",
     "text": [
      "100%|█████████▉| 1101/1102 [02:13<00:00,  8.23it/s]\n"
     ]
    },
    {
     "name": "stdout",
     "output_type": "stream",
     "text": [
      "[60/500] train loss: 0.0012700832, valid loss: 0.0021550144  [2m14s] count: 2, \n"
     ]
    },
    {
     "name": "stderr",
     "output_type": "stream",
     "text": [
      "100%|█████████▉| 1101/1102 [02:04<00:00,  8.86it/s]\n"
     ]
    },
    {
     "name": "stdout",
     "output_type": "stream",
     "text": [
      "[61/500] train loss: 0.0012682462, valid loss: 0.0021743711  [2m4s] count: 3, \n"
     ]
    },
    {
     "name": "stderr",
     "output_type": "stream",
     "text": [
      "100%|█████████▉| 1101/1102 [02:14<00:00,  8.16it/s]\n"
     ]
    },
    {
     "name": "stdout",
     "output_type": "stream",
     "text": [
      "[62/500] train loss: 0.0012669319, valid loss: 0.0021669503  [2m15s] count: 4, \n"
     ]
    },
    {
     "name": "stderr",
     "output_type": "stream",
     "text": [
      "100%|█████████▉| 1101/1102 [02:31<00:00,  7.28it/s]\n"
     ]
    },
    {
     "name": "stdout",
     "output_type": "stream",
     "text": [
      "[63/500] train loss: 0.0012653570, valid loss: 0.0021502116  [2m31s] count: 5, **\n"
     ]
    },
    {
     "name": "stderr",
     "output_type": "stream",
     "text": [
      "100%|█████████▉| 1101/1102 [02:53<00:00,  6.35it/s]\n"
     ]
    },
    {
     "name": "stdout",
     "output_type": "stream",
     "text": [
      "[64/500] train loss: 0.0012637970, valid loss: 0.0021369616  [2m53s] count: 0, **\n"
     ]
    },
    {
     "name": "stderr",
     "output_type": "stream",
     "text": [
      "100%|█████████▉| 1101/1102 [02:41<00:00,  6.81it/s]\n"
     ]
    },
    {
     "name": "stdout",
     "output_type": "stream",
     "text": [
      "[65/500] train loss: 0.0012630339, valid loss: 0.0021462037  [2m42s] count: 0, \n"
     ]
    },
    {
     "name": "stderr",
     "output_type": "stream",
     "text": [
      "100%|█████████▉| 1101/1102 [02:37<00:00,  7.00it/s]\n"
     ]
    },
    {
     "name": "stdout",
     "output_type": "stream",
     "text": [
      "[66/500] train loss: 0.0012629658, valid loss: 0.0021349538  [2m37s] count: 1, **\n"
     ]
    },
    {
     "name": "stderr",
     "output_type": "stream",
     "text": [
      "100%|█████████▉| 1101/1102 [02:36<00:00,  7.06it/s]\n"
     ]
    },
    {
     "name": "stdout",
     "output_type": "stream",
     "text": [
      "[67/500] train loss: 0.0012626019, valid loss: 0.0021395151  [2m36s] count: 0, \n"
     ]
    },
    {
     "name": "stderr",
     "output_type": "stream",
     "text": [
      "100%|█████████▉| 1101/1102 [02:31<00:00,  7.29it/s]\n"
     ]
    },
    {
     "name": "stdout",
     "output_type": "stream",
     "text": [
      "[68/500] train loss: 0.0012602398, valid loss: 0.0021376975  [2m31s] count: 1, \n"
     ]
    },
    {
     "name": "stderr",
     "output_type": "stream",
     "text": [
      "100%|█████████▉| 1101/1102 [02:44<00:00,  6.68it/s]\n"
     ]
    },
    {
     "name": "stdout",
     "output_type": "stream",
     "text": [
      "[69/500] train loss: 0.0012603342, valid loss: 0.0021512732  [2m45s] count: 2, \n"
     ]
    },
    {
     "name": "stderr",
     "output_type": "stream",
     "text": [
      "100%|█████████▉| 1101/1102 [02:45<00:00,  6.65it/s]\n"
     ]
    },
    {
     "name": "stdout",
     "output_type": "stream",
     "text": [
      "[70/500] train loss: 0.0012575033, valid loss: 0.0021332223  [2m46s] count: 3, **\n"
     ]
    },
    {
     "name": "stderr",
     "output_type": "stream",
     "text": [
      "100%|█████████▉| 1101/1102 [02:24<00:00,  7.60it/s]\n"
     ]
    },
    {
     "name": "stdout",
     "output_type": "stream",
     "text": [
      "[71/500] train loss: 0.0012571790, valid loss: 0.0021452296  [2m25s] count: 0, \n"
     ]
    },
    {
     "name": "stderr",
     "output_type": "stream",
     "text": [
      "100%|█████████▉| 1101/1102 [02:33<00:00,  7.16it/s]\n"
     ]
    },
    {
     "name": "stdout",
     "output_type": "stream",
     "text": [
      "[72/500] train loss: 0.0012573379, valid loss: 0.0021238110  [2m34s] count: 1, **\n"
     ]
    },
    {
     "name": "stderr",
     "output_type": "stream",
     "text": [
      "100%|█████████▉| 1101/1102 [02:29<00:00,  7.35it/s]\n"
     ]
    },
    {
     "name": "stdout",
     "output_type": "stream",
     "text": [
      "[73/500] train loss: 0.0012566253, valid loss: 0.0021372180  [2m30s] count: 0, \n"
     ]
    },
    {
     "name": "stderr",
     "output_type": "stream",
     "text": [
      "100%|█████████▉| 1101/1102 [02:42<00:00,  6.75it/s]\n"
     ]
    },
    {
     "name": "stdout",
     "output_type": "stream",
     "text": [
      "[74/500] train loss: 0.0012539815, valid loss: 0.0021332653  [2m43s] count: 1, \n"
     ]
    },
    {
     "name": "stderr",
     "output_type": "stream",
     "text": [
      "100%|█████████▉| 1101/1102 [02:33<00:00,  7.18it/s]\n"
     ]
    },
    {
     "name": "stdout",
     "output_type": "stream",
     "text": [
      "[75/500] train loss: 0.0012555245, valid loss: 0.0021416270  [2m33s] count: 2, \n"
     ]
    },
    {
     "name": "stderr",
     "output_type": "stream",
     "text": [
      "100%|█████████▉| 1101/1102 [02:34<00:00,  7.14it/s]\n"
     ]
    },
    {
     "name": "stdout",
     "output_type": "stream",
     "text": [
      "[76/500] train loss: 0.0012540787, valid loss: 0.0021362762  [2m34s] count: 3, \n"
     ]
    },
    {
     "name": "stderr",
     "output_type": "stream",
     "text": [
      "100%|█████████▉| 1101/1102 [02:37<00:00,  6.98it/s]\n"
     ]
    },
    {
     "name": "stdout",
     "output_type": "stream",
     "text": [
      "[77/500] train loss: 0.0012523793, valid loss: 0.0021336077  [2m38s] count: 4, \n"
     ]
    },
    {
     "name": "stderr",
     "output_type": "stream",
     "text": [
      "100%|█████████▉| 1101/1102 [02:35<00:00,  7.10it/s]\n"
     ]
    },
    {
     "name": "stdout",
     "output_type": "stream",
     "text": [
      "[78/500] train loss: 0.0012509850, valid loss: 0.0021199683  [2m35s] count: 5, **\n"
     ]
    },
    {
     "name": "stderr",
     "output_type": "stream",
     "text": [
      "100%|█████████▉| 1101/1102 [02:19<00:00,  7.92it/s]\n"
     ]
    },
    {
     "name": "stdout",
     "output_type": "stream",
     "text": [
      "[79/500] train loss: 0.0012503271, valid loss: 0.0021382680  [2m19s] count: 0, \n"
     ]
    },
    {
     "name": "stderr",
     "output_type": "stream",
     "text": [
      "100%|█████████▉| 1101/1102 [02:23<00:00,  7.66it/s]\n"
     ]
    },
    {
     "name": "stdout",
     "output_type": "stream",
     "text": [
      "[80/500] train loss: 0.0012511285, valid loss: 0.0021322448  [2m24s] count: 1, \n"
     ]
    },
    {
     "name": "stderr",
     "output_type": "stream",
     "text": [
      "100%|█████████▉| 1101/1102 [02:16<00:00,  8.04it/s]\n"
     ]
    },
    {
     "name": "stdout",
     "output_type": "stream",
     "text": [
      "[81/500] train loss: 0.0012494010, valid loss: 0.0021269597  [2m17s] count: 2, \n"
     ]
    },
    {
     "name": "stderr",
     "output_type": "stream",
     "text": [
      "100%|█████████▉| 1101/1102 [02:16<00:00,  8.06it/s]\n"
     ]
    },
    {
     "name": "stdout",
     "output_type": "stream",
     "text": [
      "[82/500] train loss: 0.0012498455, valid loss: 0.0021277112  [2m17s] count: 3, \n"
     ]
    },
    {
     "name": "stderr",
     "output_type": "stream",
     "text": [
      "100%|█████████▉| 1101/1102 [02:17<00:00,  8.00it/s]\n"
     ]
    },
    {
     "name": "stdout",
     "output_type": "stream",
     "text": [
      "[83/500] train loss: 0.0012492248, valid loss: 0.0021299123  [2m18s] count: 4, \n"
     ]
    },
    {
     "name": "stderr",
     "output_type": "stream",
     "text": [
      "100%|█████████▉| 1101/1102 [02:26<00:00,  7.49it/s]\n"
     ]
    },
    {
     "name": "stdout",
     "output_type": "stream",
     "text": [
      "[84/500] train loss: 0.0012485887, valid loss: 0.0021259650  [2m27s] count: 5, \n"
     ]
    },
    {
     "name": "stderr",
     "output_type": "stream",
     "text": [
      "100%|█████████▉| 1101/1102 [02:23<00:00,  7.69it/s]\n"
     ]
    },
    {
     "name": "stdout",
     "output_type": "stream",
     "text": [
      "[85/500] train loss: 0.0012475101, valid loss: 0.0021276660  [2m23s] count: 6, \n"
     ]
    },
    {
     "name": "stderr",
     "output_type": "stream",
     "text": [
      "100%|█████████▉| 1101/1102 [02:18<00:00,  7.98it/s]\n"
     ]
    },
    {
     "name": "stdout",
     "output_type": "stream",
     "text": [
      "[86/500] train loss: 0.0012466358, valid loss: 0.0021169836  [2m18s] count: 7, **\n"
     ]
    },
    {
     "name": "stderr",
     "output_type": "stream",
     "text": [
      "100%|█████████▉| 1101/1102 [02:16<00:00,  8.05it/s]\n"
     ]
    },
    {
     "name": "stdout",
     "output_type": "stream",
     "text": [
      "[87/500] train loss: 0.0012458766, valid loss: 0.0021267209  [2m17s] count: 0, \n"
     ]
    },
    {
     "name": "stderr",
     "output_type": "stream",
     "text": [
      "100%|█████████▉| 1101/1102 [02:22<00:00,  7.72it/s]\n"
     ]
    },
    {
     "name": "stdout",
     "output_type": "stream",
     "text": [
      "[88/500] train loss: 0.0012464811, valid loss: 0.0021328858  [2m23s] count: 1, \n"
     ]
    },
    {
     "name": "stderr",
     "output_type": "stream",
     "text": [
      "100%|█████████▉| 1101/1102 [02:23<00:00,  7.67it/s]\n"
     ]
    },
    {
     "name": "stdout",
     "output_type": "stream",
     "text": [
      "[89/500] train loss: 0.0012469410, valid loss: 0.0021297238  [2m24s] count: 2, \n"
     ]
    },
    {
     "name": "stderr",
     "output_type": "stream",
     "text": [
      "100%|█████████▉| 1101/1102 [02:18<00:00,  7.96it/s]\n"
     ]
    },
    {
     "name": "stdout",
     "output_type": "stream",
     "text": [
      "[90/500] train loss: 0.0012462696, valid loss: 0.0021249136  [2m18s] count: 3, \n"
     ]
    },
    {
     "name": "stderr",
     "output_type": "stream",
     "text": [
      "100%|█████████▉| 1101/1102 [02:16<00:00,  8.06it/s]\n"
     ]
    },
    {
     "name": "stdout",
     "output_type": "stream",
     "text": [
      "[91/500] train loss: 0.0012454649, valid loss: 0.0021222063  [2m17s] count: 4, \n"
     ]
    },
    {
     "name": "stderr",
     "output_type": "stream",
     "text": [
      "100%|█████████▉| 1101/1102 [02:22<00:00,  7.71it/s]\n"
     ]
    },
    {
     "name": "stdout",
     "output_type": "stream",
     "text": [
      "[92/500] train loss: 0.0012451459, valid loss: 0.0021206338  [2m23s] count: 5, \n"
     ]
    },
    {
     "name": "stderr",
     "output_type": "stream",
     "text": [
      "100%|█████████▉| 1101/1102 [02:23<00:00,  7.69it/s]\n"
     ]
    },
    {
     "name": "stdout",
     "output_type": "stream",
     "text": [
      "[93/500] train loss: 0.0012448280, valid loss: 0.0021271494  [2m23s] count: 6, \n"
     ]
    },
    {
     "name": "stderr",
     "output_type": "stream",
     "text": [
      "100%|█████████▉| 1101/1102 [02:17<00:00,  8.01it/s]\n"
     ]
    },
    {
     "name": "stdout",
     "output_type": "stream",
     "text": [
      "[94/500] train loss: 0.0012451430, valid loss: 0.0021170941  [2m17s] count: 7, \n"
     ]
    },
    {
     "name": "stderr",
     "output_type": "stream",
     "text": [
      "100%|█████████▉| 1101/1102 [02:17<00:00,  8.02it/s]\n"
     ]
    },
    {
     "name": "stdout",
     "output_type": "stream",
     "text": [
      "[95/500] train loss: 0.0012447868, valid loss: 0.0021253095  [2m17s] count: 8, \n"
     ]
    },
    {
     "name": "stderr",
     "output_type": "stream",
     "text": [
      "100%|█████████▉| 1101/1102 [02:23<00:00,  7.68it/s]\n"
     ]
    },
    {
     "name": "stdout",
     "output_type": "stream",
     "text": [
      "[96/500] train loss: 0.0012436348, valid loss: 0.0021226994  [2m23s] count: 9, \n"
     ]
    },
    {
     "name": "stderr",
     "output_type": "stream",
     "text": [
      "100%|█████████▉| 1101/1102 [02:23<00:00,  7.70it/s]\n"
     ]
    },
    {
     "name": "stdout",
     "output_type": "stream",
     "text": [
      "[97/500] train loss: 0.0012435847, valid loss: 0.0021203667  [2m23s] count: 10, \n"
     ]
    }
   ],
   "source": [
    "epoch = 500\n",
    "best_loss = float('Inf')\n",
    "best_model = None\n",
    "patience = 10\n",
    "counter = 0\n",
    "\n",
    "for loop in range(1, epoch + 1):\n",
    "    \n",
    "    start_time = time.time()\n",
    "    \n",
    "    loss_train = train(\n",
    "        model=model, ds=ds, optimizer=optimizer,\n",
    "        criterion=criterion, batch_size=batch_size,\n",
    "        device=device\n",
    "    )\n",
    "    \n",
    "    elapsed_time = time.time() - start_time\n",
    "    \n",
    "    loss_valid = evaluate(\n",
    "        model=model, ds=ds, criterion=criterion,\n",
    "        batch_size=batch_size, device=device\n",
    "    )\n",
    "    \n",
    "    print('[{}/{}] train loss: {:.10f}, valid loss: {:.10f}  [{}{:.0f}s] count: {}, {}'.format(\n",
    "        loop, epoch,\n",
    "        loss_train, loss_valid,\n",
    "        str(int(math.floor(elapsed_time / 60))) + 'm' if math.floor(elapsed_time / 60) > 0 else '',\n",
    "        elapsed_time % 60,\n",
    "        counter,\n",
    "        '**' if best_loss > loss_valid else ''\n",
    "    ))\n",
    "    \n",
    "    if best_loss > loss_valid:\n",
    "        best_loss = loss_valid\n",
    "        best_model = model\n",
    "        counter = 0\n",
    "    else:\n",
    "        counter += 1\n",
    "        scheduler.step()\n",
    "        \n",
    "    if counter > patience:\n",
    "        break"
   ]
  },
  {
   "cell_type": "code",
   "execution_count": 54,
   "id": "c1de32a1",
   "metadata": {},
   "outputs": [],
   "source": [
    "torch.save(best_model.state_dict(), f'./{model_name}_v{model_version}.torch')"
   ]
  },
  {
   "cell_type": "markdown",
   "id": "e1a1e349",
   "metadata": {},
   "source": [
    "## Validation"
   ]
  },
  {
   "cell_type": "code",
   "execution_count": 11,
   "id": "8d61b762",
   "metadata": {},
   "outputs": [
    {
     "data": {
      "text/plain": [
       "<All keys matched successfully>"
      ]
     },
     "execution_count": 11,
     "metadata": {},
     "output_type": "execute_result"
    }
   ],
   "source": [
    "model_version = 3\n",
    "model.load_state_dict(torch.load(f'./{model_name}_v{model_version}.torch'))"
   ]
  },
  {
   "cell_type": "code",
   "execution_count": 12,
   "id": "55a290d4",
   "metadata": {},
   "outputs": [],
   "source": [
    "def prediction(inputs):\n",
    "\n",
    "    preds = torch.zeros(1, inputs.size(1), feature_size, device=device)\n",
    "    preds[0, :, :] = inputs[-1,:, :]\n",
    "    while preds.size(0) <= prediction_length:\n",
    "        tgt_mask = nn.Transformer.generate_square_subsequent_mask(preds.size(0)).to(device)\n",
    "        out = model(src=inputs, tgt=preds,  mask_tgt=tgt_mask)\n",
    "        preds = torch.cat([preds, out[-1:]], dim=0)\n",
    "    return preds"
   ]
  },
  {
   "cell_type": "code",
   "execution_count": 13,
   "id": "04a31e4c",
   "metadata": {},
   "outputs": [],
   "source": [
    "src, tgt = ds[:16]"
   ]
  },
  {
   "cell_type": "code",
   "execution_count": 14,
   "id": "b7f1bbc0",
   "metadata": {},
   "outputs": [
    {
     "data": {
      "text/plain": [
       "(11, 16, 6)"
      ]
     },
     "execution_count": 14,
     "metadata": {},
     "output_type": "execute_result"
    }
   ],
   "source": [
    "tgt_values = tgt.cpu().detach().numpy()\n",
    "tgt_values.shape"
   ]
  },
  {
   "cell_type": "code",
   "execution_count": 15,
   "id": "ce983fb1",
   "metadata": {},
   "outputs": [],
   "source": [
    "target_columns = columns# + volume_columns\n",
    "ohlc_min, ohlc_max = ds.mm_params[\"ohlc\"]\n",
    "# volume_min, volume_max = ds.mm_params[\"volume\"]\n",
    "# std_min = pd.concat([ohlc_min, volume_min])\n",
    "# std_max = pd.concat([ohlc_max, volume_max])\n",
    "std_min = ohlc_min.values.reshape(1, 1, len(target_columns))\n",
    "std_max = ohlc_max.values.reshape(1, 1, len(target_columns))"
   ]
  },
  {
   "cell_type": "code",
   "execution_count": 16,
   "id": "591fa639",
   "metadata": {},
   "outputs": [],
   "source": [
    "def revert_minmax(values, scale=(-1, 1)):\n",
    "    std = (values - scale[0])/(scale[1] - scale[0])\n",
    "    value = std * (std_max - std_min) + std_min\n",
    "    return value"
   ]
  },
  {
   "cell_type": "code",
   "execution_count": 17,
   "id": "65c2335f",
   "metadata": {},
   "outputs": [],
   "source": [
    "def revert_target(tgt_values, ndx: slice):\n",
    "    log_diff_values = revert_minmax(tgt_values[:,:,:4])\n",
    "    log_cumsum_values = np.cumsum(log_diff_values, axis=0)\n",
    "    idx = ds.get_actual_index(ndx)\n",
    "    # -1 for shift, -1 for diff\n",
    "    idx = [index + observation_length -2 for index in idx]\n",
    "    start_values = df.iloc[idx][target_columns].values\n",
    "    start_values = np.log(start_values)\n",
    "    return np.exp(start_values + log_cumsum_values)"
   ]
  },
  {
   "cell_type": "code",
   "execution_count": 18,
   "id": "c13287ed",
   "metadata": {},
   "outputs": [
    {
     "data": {
      "text/plain": [
       "array([[106.25100002, 106.28500011, 106.21799995, 106.26299998],\n",
       "       [106.26399997, 106.2840001 , 106.24800007, 106.27299992],\n",
       "       [106.27300002, 106.2830001 , 106.20700013, 106.20799987],\n",
       "       [106.20600011, 106.24100012, 106.08900022, 106.13499995],\n",
       "       [106.137     , 106.14300023, 105.83300014, 105.87500004],\n",
       "       [105.87499997, 106.06900027, 105.70100015, 106.06900001]])"
      ]
     },
     "execution_count": 18,
     "metadata": {},
     "output_type": "execute_result"
    }
   ],
   "source": [
    "revert_target(tgt_values, slice(0, 16))[:6, 0, :]"
   ]
  },
  {
   "cell_type": "code",
   "execution_count": 19,
   "id": "88b4dde1",
   "metadata": {},
   "outputs": [
    {
     "data": {
      "text/html": [
       "<div>\n",
       "<style scoped>\n",
       "    .dataframe tbody tr th:only-of-type {\n",
       "        vertical-align: middle;\n",
       "    }\n",
       "\n",
       "    .dataframe tbody tr th {\n",
       "        vertical-align: top;\n",
       "    }\n",
       "\n",
       "    .dataframe thead th {\n",
       "        text-align: right;\n",
       "    }\n",
       "</style>\n",
       "<table border=\"1\" class=\"dataframe\">\n",
       "  <thead>\n",
       "    <tr style=\"text-align: right;\">\n",
       "      <th></th>\n",
       "      <th>open</th>\n",
       "      <th>high</th>\n",
       "      <th>low</th>\n",
       "      <th>close</th>\n",
       "    </tr>\n",
       "  </thead>\n",
       "  <tbody>\n",
       "    <tr>\n",
       "      <th>63117</th>\n",
       "      <td>106.251</td>\n",
       "      <td>106.285</td>\n",
       "      <td>106.218</td>\n",
       "      <td>106.263</td>\n",
       "    </tr>\n",
       "    <tr>\n",
       "      <th>63118</th>\n",
       "      <td>106.264</td>\n",
       "      <td>106.284</td>\n",
       "      <td>106.248</td>\n",
       "      <td>106.273</td>\n",
       "    </tr>\n",
       "    <tr>\n",
       "      <th>63119</th>\n",
       "      <td>106.273</td>\n",
       "      <td>106.283</td>\n",
       "      <td>106.207</td>\n",
       "      <td>106.208</td>\n",
       "    </tr>\n",
       "    <tr>\n",
       "      <th>63120</th>\n",
       "      <td>106.206</td>\n",
       "      <td>106.241</td>\n",
       "      <td>106.089</td>\n",
       "      <td>106.135</td>\n",
       "    </tr>\n",
       "    <tr>\n",
       "      <th>63121</th>\n",
       "      <td>106.137</td>\n",
       "      <td>106.143</td>\n",
       "      <td>105.833</td>\n",
       "      <td>105.875</td>\n",
       "    </tr>\n",
       "    <tr>\n",
       "      <th>63122</th>\n",
       "      <td>105.875</td>\n",
       "      <td>106.069</td>\n",
       "      <td>105.701</td>\n",
       "      <td>106.069</td>\n",
       "    </tr>\n",
       "  </tbody>\n",
       "</table>\n",
       "</div>"
      ],
      "text/plain": [
       "          open     high      low    close\n",
       "63117  106.251  106.285  106.218  106.263\n",
       "63118  106.264  106.284  106.248  106.273\n",
       "63119  106.273  106.283  106.207  106.208\n",
       "63120  106.206  106.241  106.089  106.135\n",
       "63121  106.137  106.143  105.833  105.875\n",
       "63122  105.875  106.069  105.701  106.069"
      ]
     },
     "execution_count": 19,
     "metadata": {},
     "output_type": "execute_result"
    }
   ],
   "source": [
    "# check revert result almost equals to original\n",
    "index = ds.get_actual_index(0) + observation_length -1\n",
    "df[target_columns].iloc[index: index + 6]"
   ]
  },
  {
   "cell_type": "code",
   "execution_count": 20,
   "id": "28640972",
   "metadata": {},
   "outputs": [],
   "source": [
    "ds.eval()\n",
    "model.eval()\n",
    "\n",
    "split_factor = 300\n",
    "split_index = int(len(ds)/split_factor)\n",
    "\n",
    "for factor in range(0, split_factor):\n",
    "    if factor == split_factor-1:\n",
    "        val_inp, val_ans = ds[split_index * factor :]\n",
    "        ndx = slice(split_index * factor, len(ds))\n",
    "    else:\n",
    "        val_inp, val_ans = ds[split_index * factor : split_index * (factor+1)]\n",
    "        ndx = slice(split_index * factor, split_index * (factor+1))\n",
    "        \n",
    "    preds = prediction(val_inp)\n",
    "    pre_values = preds.cpu().detach().numpy()\n",
    "    \n",
    "    # # This works only for cumsum case \n",
    "    # op = df[\"open\"].iloc[0] * np.exp(pre_values.T[0])\n",
    "    # high = df[\"high\"].iloc[0] * np.exp(pre_values.T[1])\n",
    "    # low = df[\"low\"].iloc[0] * np.exp(pre_values.T[2])\n",
    "    # close = df[\"close\"].iloc[0] * np.exp(pre_values.T[3])\n",
    "    \n",
    "    ohlc = revert_target(pre_values, ndx)\n",
    "    \n",
    "    if factor == 0:\n",
    "        # op_pre = op\n",
    "        # high_pre = high\n",
    "        # low_pre = low\n",
    "        # close_pre = close\n",
    "        ohlc_pre = ohlc\n",
    "    else:\n",
    "        # op_pre = np.append(op_pre, op, axis=0)\n",
    "        # high_pre = np.append(high_pre, high, axis=0)\n",
    "        # low_pre = np.append(low_pre, low, axis=0)\n",
    "        # close_pre = np.append(close_pre, close, axis=0)\n",
    "        ohlc_pre = np.append(ohlc_pre, ohlc, axis=1)\n",
    "    \n",
    "    ans_values = val_ans.cpu().detach().numpy()\n",
    "    \n",
    "    # op = df[\"open\"].iloc[0] * np.exp(ans_values.T[0])\n",
    "    # high = df[\"high\"].iloc[0] * np.exp(ans_values.T[1])\n",
    "    # low = df[\"low\"].iloc[0] * np.exp(ans_values.T[2])\n",
    "    # close = df[\"close\"].iloc[0] * np.exp(ans_values.T[3])\n",
    "    ohlc = revert_target(ans_values, ndx)\n",
    "    \n",
    "    if factor == 0:\n",
    "        # op_ans = op\n",
    "        # high_ans = high\n",
    "        # low_ans = low\n",
    "        # close_ans = close\n",
    "        ohlc_ans = ohlc\n",
    "    else:\n",
    "        # op_ans = np.append(op_ans, op, axis=0)\n",
    "        # high_ans = np.append(high_ans, high, axis=0)\n",
    "        # low_ans = np.append(low_ans, low, axis=0)\n",
    "        # close_ans = np.append(close_ans, close, axis=0)\n",
    "        ohlc_ans = np.append(ohlc_ans, ohlc, axis=1)"
   ]
  },
  {
   "cell_type": "code",
   "execution_count": 21,
   "id": "a6893e1e",
   "metadata": {},
   "outputs": [
    {
     "name": "stdout",
     "output_type": "stream",
     "text": [
      "(11, 30164, 4) (11, 30164, 4)\n"
     ]
    }
   ],
   "source": [
    "print(ohlc_pre.shape, ohlc_ans.shape)"
   ]
  },
  {
   "cell_type": "code",
   "execution_count": 22,
   "id": "a132f6be",
   "metadata": {},
   "outputs": [
    {
     "data": {
      "text/plain": [
       "[]"
      ]
     },
     "execution_count": 22,
     "metadata": {},
     "output_type": "execute_result"
    },
    {
     "data": {
      "image/png": "[encoded data removed]",
      "text/plain": [
       "<Figure size 432x288 with 1 Axes>"
      ]
     },
     "metadata": {
      "needs_background": "light"
     },
     "output_type": "display_data"
    }
   ],
   "source": [
    "step=1\n",
    "plt.hist(ohlc_pre[step, :, 0]/ohlc_ans[step, :, 0], bins=50, alpha=0.7)\n",
    "plt.hist(ohlc_pre[step, :, 1]/ohlc_ans[step, :, 1], bins=50, alpha=0.7, color=\"black\")\n",
    "plt.hist(ohlc_pre[step, :, 2]/ohlc_ans[step, :, 2], bins=50, alpha=0.6)\n",
    "plt.hist(ohlc_pre[step, :, 3]/ohlc_ans[step, :, 3], bins=50, alpha=0.6)\n",
    "plt.xlabel(f'Ratio of predict/actual value (Step={step})')\n",
    "plt.ylabel('Frequency')\n",
    "plt.legend(['Open', 'High', \"Low\", \"Close\"])\n",
    "plt.plot()"
   ]
  },
  {
   "cell_type": "code",
   "execution_count": 23,
   "id": "24700022",
   "metadata": {},
   "outputs": [
    {
     "data": {
      "text/plain": [
       "[]"
      ]
     },
     "execution_count": 23,
     "metadata": {},
     "output_type": "execute_result"
    },
    {
     "data": {
      "image/png": "[encoded data removed]",
      "text/plain": [
       "<Figure size 432x288 with 1 Axes>"
      ]
     },
     "metadata": {
      "needs_background": "light"
     },
     "output_type": "display_data"
    }
   ],
   "source": [
    "step=10\n",
    "plt.hist(ohlc_pre[step, :, 0]/ohlc_ans[step, :, 0], bins=50, alpha=0.7)\n",
    "plt.hist(ohlc_pre[step, :, 1]/ohlc_ans[step, :, 1], bins=50, alpha=0.7, color=\"black\")\n",
    "plt.hist(ohlc_pre[step, :, 2]/ohlc_ans[step, :, 2], bins=50, alpha=0.6)\n",
    "plt.hist(ohlc_pre[step, :, 3]/ohlc_ans[step, :, 3], bins=50, alpha=0.6)\n",
    "plt.xlabel(f'Ratio of predict/actual value (Step={step})')\n",
    "plt.ylabel('Frequency')\n",
    "plt.legend(['Open', 'High', \"Low\", \"Close\"])\n",
    "plt.plot()"
   ]
  },
  {
   "cell_type": "code",
   "execution_count": 24,
   "id": "5b4d3db6",
   "metadata": {},
   "outputs": [
    {
     "name": "stdout",
     "output_type": "stream",
     "text": [
      "==============Mean============\n",
      "Open [1.         1.0000491  1.00004847 1.00003229 1.00001672 0.99995379\n",
      " 0.99990656 0.99981213 0.99972967 0.9996444  0.99959578]\n",
      "High [1.         1.00009173 1.00021433 1.0003571  1.00050294 1.0006423\n",
      " 1.0007966  1.00092957 1.00107054 1.00120608 1.00135692]\n",
      "Low [1.         1.00003027 1.00004352 1.00004377 1.00004134 1.00004241\n",
      " 1.00005349 1.00005793 1.0000651  1.00006899 1.00007486]\n",
      "Close [1.         0.99994964 0.99991088 0.9998745  0.99983807 0.99981271\n",
      " 0.9997777  0.99975998 0.99973703 0.99971735 0.99968548]\n",
      "==============Var============\n",
      "Open [0.00000000e+00 9.63960108e-08 6.00448670e-07 1.08603026e-06\n",
      " 1.56206753e-06 2.02331491e-06 2.49318633e-06 2.97000372e-06\n",
      " 3.43104269e-06 3.90469225e-06 4.37972700e-06]\n",
      "High [0.00000000e+00 3.08642519e-07 7.73348865e-07 1.23662111e-06\n",
      " 1.70301518e-06 2.19153770e-06 2.68242487e-06 3.18262785e-06\n",
      " 3.69895253e-06 4.21150448e-06 4.74239620e-06]\n",
      "Low [0.00000000e+00 3.65880707e-07 8.69729182e-07 1.38593285e-06\n",
      " 1.90252711e-06 2.44096465e-06 2.99436579e-06 3.56706693e-06\n",
      " 4.15940998e-06 4.74388374e-06 5.33374979e-06]\n",
      "Close [0.00000000e+00 4.71904504e-07 8.81800534e-07 1.33247691e-06\n",
      " 1.76457588e-06 2.20944582e-06 2.65200531e-06 3.10365581e-06\n",
      " 3.55488442e-06 4.00189492e-06 4.44961873e-06]\n"
     ]
    }
   ],
   "source": [
    "print(\"==============Mean============\")\n",
    "print(\"Open\", np.mean(ohlc_pre[:, :, 0]/ohlc_ans[:, :, 0], axis=1))\n",
    "print(\"High\", np.mean(ohlc_pre[:, :, 1]/ohlc_ans[:, :, 1], axis=1))\n",
    "print(\"Low\", np.mean(ohlc_pre[:, :, 2]/ohlc_ans[:, :, 2], axis=1))\n",
    "print(\"Close\", np.mean(ohlc_pre[:, :, 3]/ohlc_ans[:, :, 3], axis=1))\n",
    "\n",
    "print(\"==============Var============\")\n",
    "print(\"Open\", np.var(ohlc_pre[:, :, 0]/ohlc_ans[:, :, 0], axis=1))\n",
    "print(\"High\", np.var(ohlc_pre[:, :, 1]/ohlc_ans[:, :, 1], axis=1))\n",
    "print(\"Low\", np.var(ohlc_pre[:, :, 2]/ohlc_ans[:, :, 2], axis=1))\n",
    "print(\"Close\", np.var(ohlc_pre[:, :, 3]/ohlc_ans[:, :, 3], axis=1))"
   ]
  },
  {
   "cell_type": "code",
   "execution_count": 25,
   "id": "39f740c8",
   "metadata": {},
   "outputs": [
    {
     "data": {
      "text/plain": [
       "[]"
      ]
     },
     "execution_count": 25,
     "metadata": {},
     "output_type": "execute_result"
    },
    {
     "data": {
      "image/png": "[encoded data removed]",
      "text/plain": [
       "<Figure size 432x288 with 1 Axes>"
      ]
     },
     "metadata": {
      "needs_background": "light"
     },
     "output_type": "display_data"
    }
   ],
   "source": [
    "step=1\n",
    "plt.hist(ohlc_pre[step, :, 0] - ohlc_ans[step, :, 0], bins=50, alpha=0.7)\n",
    "plt.hist(ohlc_pre[step, :, 1] - ohlc_ans[step, :, 1], bins=50, alpha=0.7, color=\"black\")\n",
    "plt.hist(ohlc_pre[step, :, 2] - ohlc_ans[step, :, 2], bins=50, alpha=0.6)\n",
    "plt.hist(ohlc_pre[step, :, 3] - ohlc_ans[step, :, 3], bins=50, alpha=0.6)\n",
    "plt.xlabel(f'Difference btween actual and prediction values (Step={step})')\n",
    "plt.ylabel('Frequency')\n",
    "plt.legend(['Open', 'High', \"Low\", \"Close\"])\n",
    "plt.plot()"
   ]
  },
  {
   "cell_type": "code",
   "execution_count": 26,
   "id": "31b81648",
   "metadata": {},
   "outputs": [
    {
     "data": {
      "text/plain": [
       "[]"
      ]
     },
     "execution_count": 26,
     "metadata": {},
     "output_type": "execute_result"
    },
    {
     "data": {
      "image/png": "[encoded data removed]",
      "text/plain": [
       "<Figure size 432x288 with 1 Axes>"
      ]
     },
     "metadata": {
      "needs_background": "light"
     },
     "output_type": "display_data"
    }
   ],
   "source": [
    "step=10\n",
    "plt.hist(ohlc_pre[step, :, 0] - ohlc_ans[step, :, 0], bins=50, alpha=0.7)\n",
    "plt.hist(ohlc_pre[step, :, 1] - ohlc_ans[step, :, 1], bins=50, alpha=0.7, color=\"black\")\n",
    "plt.hist(ohlc_pre[step, :, 2] - ohlc_ans[step, :, 2], bins=50, alpha=0.6)\n",
    "plt.hist(ohlc_pre[step, :, 3] - ohlc_ans[step, :, 3], bins=50, alpha=0.6)\n",
    "plt.xlabel(f'Difference btween actual and prediction values (Step={step})')\n",
    "plt.ylabel('Frequency')\n",
    "plt.legend(['Open', 'High', \"Low\", \"Close\"])\n",
    "plt.plot()"
   ]
  },
  {
   "cell_type": "code",
   "execution_count": 27,
   "id": "2c0193e2",
   "metadata": {},
   "outputs": [
    {
     "name": "stdout",
     "output_type": "stream",
     "text": [
      "==============Mean============\n",
      "Open [ 0.       0.00489  0.00552  0.00392  0.0023  -0.00476 -0.01002 -0.02067\n",
      " -0.02994 -0.03952 -0.04507]\n",
      "High [0.      0.00954 0.02321 0.03912 0.05537 0.07088 0.08812 0.10293 0.11865\n",
      " 0.13377 0.15057]\n",
      "Low [0.      0.00306 0.00447 0.00429 0.0038  0.00369 0.00474 0.00504 0.00562\n",
      " 0.00585 0.00628]\n",
      "Close [ 0.      -0.0054  -0.00999 -0.01417 -0.01833 -0.0212  -0.0252  -0.02722\n",
      " -0.02984 -0.03209 -0.03569]\n",
      "==============Var============\n",
      "Open [0.      0.00132 0.00836 0.01513 0.02176 0.02821 0.03476 0.0414  0.04785\n",
      " 0.05443 0.06104]\n",
      "High [0.      0.00424 0.0106  0.01694 0.02334 0.03003 0.03678 0.04365 0.05074\n",
      " 0.05779 0.06507]\n",
      "Low [0.      0.00511 0.01209 0.01925 0.0264  0.03387 0.04156 0.04954 0.05776\n",
      " 0.06585 0.07404]\n",
      "Close [0.      0.00654 0.01222 0.01845 0.02446 0.03064 0.03681 0.04312 0.04941\n",
      " 0.05563 0.06188]\n"
     ]
    }
   ],
   "source": [
    "np.set_printoptions(precision=5)\n",
    "\n",
    "print(\"==============Mean============\")\n",
    "print(\"Open\", np.mean(ohlc_pre[:, :, 0]-ohlc_ans[:, :, 0], axis=1))\n",
    "print(\"High\", np.mean(ohlc_pre[:, :, 1]-ohlc_ans[:, :, 1], axis=1))\n",
    "print(\"Low\", np.mean(ohlc_pre[:, :, 2]-ohlc_ans[:, :, 2], axis=1))\n",
    "print(\"Close\", np.mean(ohlc_pre[:, :, 3]-ohlc_ans[:, :, 3], axis=1))\n",
    "\n",
    "print(\"==============Var============\")\n",
    "print(\"Open\", np.var(ohlc_pre[:, :, 0]-ohlc_ans[:, :, 0], axis=1))\n",
    "print(\"High\", np.var(ohlc_pre[:, :, 1]-ohlc_ans[:, :, 1], axis=1))\n",
    "print(\"Low\", np.var(ohlc_pre[:, :, 2]-ohlc_ans[:, :, 2], axis=1))\n",
    "print(\"Close\", np.var(ohlc_pre[:, :, 3]-ohlc_ans[:, :, 3], axis=1))"
   ]
  },
  {
   "cell_type": "code",
   "execution_count": 32,
   "id": "4718f8a6",
   "metadata": {},
   "outputs": [
    {
     "data": {
      "image/png": "[encoded data removed]",
      "text/plain": [
       "<Figure size 1440x1008 with 16 Axes>"
      ]
     },
     "metadata": {
      "needs_background": "light"
     },
     "output_type": "display_data"
    }
   ],
   "source": [
    "fig, axs = plt.subplots(4, 4, figsize=(20, 14))\n",
    "close_mean = np.mean(ohlc_pre[:, :, 3]-ohlc_ans[:, :, 3], axis=1)\n",
    "close_var = np.var(ohlc_pre[:, :, 3]-ohlc_ans[:, :, 3], axis=1)\n",
    "\n",
    "total_length = observation_length + prediction_length\n",
    "x = np.arange(total_length)\n",
    "\n",
    "\n",
    "\n",
    "for i, ax in enumerate(axs.flat):\n",
    "    index = ds.get_actual_index(i)\n",
    "    original_ohlc = df[ohlc_column[3]].iloc[index: index + observation_length]\n",
    "    pred_value = ohlc_pre[:, i, 3]\n",
    "    pred_add_mean = pred_value + close_mean\n",
    "    pred_upper = pred_add_mean + close_var\n",
    "    pred_lower = pred_add_mean - close_var\n",
    "\n",
    "    ax.fill_between(x[observation_length -1:], pred_value, pred_add_mean, color=\"orange\", alpha=0.9)\n",
    "    ax.fill_between(x[observation_length -1:], pred_lower, pred_upper, color=\"orange\", alpha=0.3)\n",
    "    ax.plot(x[:observation_length], original_ohlc, color=\"blue\")\n",
    "    ax.plot(x[observation_length-1:], ohlc_ans[:, i, 3], color=\"red\")\n",
    "    ax.plot(x[observation_length-1:], pred_value, color=\"green\")\n",
    "plt.show()"
   ]
  },
  {
   "cell_type": "code",
   "execution_count": null,
   "id": "a2bac8ff",
   "metadata": {},
   "outputs": [],
   "source": []
  }
 ],
 "metadata": {
  "kernelspec": {
   "display_name": "Python 3.8.10 ('venv': venv)",
   "language": "python",
   "name": "python3"
  },
  "language_info": {
   "codemirror_mode": {
    "name": "ipython",
    "version": 3
   },
   "file_extension": ".py",
   "mimetype": "text/x-python",
   "name": "python",
   "nbconvert_exporter": "python",
   "pygments_lexer": "ipython3",
   "version": "3.8.10"
  },
  "vscode": {
   "interpreter": {
    "hash": "8b8f0c1964c2d42c360293b97c2bf126adadb09f88ab60c350427a278226bd93"
   }
  }
 },
 "nbformat": 4,
 "nbformat_minor": 5
}
