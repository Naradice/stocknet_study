{
 "cells": [
  {
   "cell_type": "code",
   "execution_count": 10,
   "metadata": {},
   "outputs": [],
   "source": [
    "import csv\n",
    "from datetime import datetime\n",
    "import json\n",
    "import math\n",
    "import os\n",
    "import sys\n",
    "import time\n",
    "import random\n",
    "\n",
    "import numpy as np\n",
    "import pandas as pd\n",
    "import torch\n",
    "import torch.nn as nn\n",
    "from torch import Tensor\n",
    "from torch.nn import (TransformerDecoder, TransformerDecoderLayer,\n",
    "                      TransformerEncoder, TransformerEncoderLayer)\n",
    "from torch.utils.data import DataLoader\n",
    "from tqdm import tqdm"
   ]
  },
  {
   "cell_type": "markdown",
   "metadata": {},
   "source": [
    "## Define Model"
   ]
  },
  {
   "cell_type": "code",
   "execution_count": 55,
   "metadata": {},
   "outputs": [
    {
     "name": "stdout",
     "output_type": "stream",
     "text": [
      "Output shape: torch.Size([30, 60]) Middle Layer Output: torch.Size([30, 12])\n"
     ]
    }
   ],
   "source": [
    "import torch\n",
    "import torch.nn as nn\n",
    "\n",
    "class AutoEncoder(nn.Module):\n",
    "    def __init__(self, input_dim=60, hidden_dims=[32, 16], latent_dim=8, standalize=True):\n",
    "        super(AutoEncoder, self).__init__()\n",
    "        \n",
    "        encoder_layers = []\n",
    "        in_features = input_dim\n",
    "        for hidden_dim in hidden_dims:\n",
    "            encoder_layers.append(nn.Linear(in_features, hidden_dim))\n",
    "            encoder_layers.append(nn.ReLU())\n",
    "            in_features = hidden_dim\n",
    "        encoder_layers.append(nn.Linear(in_features, latent_dim))\n",
    "        \n",
    "        self.encoder = nn.Sequential(*encoder_layers)\n",
    "        \n",
    "        decoder_layers = []\n",
    "        in_features = latent_dim\n",
    "        for hidden_dim in reversed(hidden_dims):\n",
    "            decoder_layers.append(nn.Linear(in_features, hidden_dim))\n",
    "            decoder_layers.append(nn.ReLU())\n",
    "            in_features = hidden_dim\n",
    "        decoder_layers.append(nn.Linear(in_features, input_dim))\n",
    "        if standalize:\n",
    "            decoder_layers.append(nn.Sigmoid())\n",
    "        \n",
    "        self.decoder = nn.Sequential(*decoder_layers)\n",
    "\n",
    "    def forward(self, x):\n",
    "        x = x.view(x.size(0), -1)\n",
    "        x = self.encoder(x)\n",
    "        y = self.decoder(x)\n",
    "        return y, x\n",
    "\n",
    "batch_size = 30\n",
    "observation_length = 60\n",
    "feature_size = 1\n",
    "input_tensor = torch.randn((batch_size, observation_length, feature_size))\n",
    "\n",
    "input_dim = input_tensor.shape[1]\n",
    "model = AutoEncoder(input_dim=input_dim, hidden_dims=[48, 24], latent_dim=12)\n",
    "\n",
    "output, middle = model(input_tensor)\n",
    "print(\"Output shape:\", output.shape, \"Middle Layer Output:\", middle.shape)"
   ]
  },
  {
   "cell_type": "code",
   "execution_count": 63,
   "metadata": {},
   "outputs": [],
   "source": [
    "def train(model, ds, optimizer, criterion, batch_size):\n",
    "    \n",
    "    model.train()\n",
    "    ds.train()\n",
    "    losses = 0\n",
    "    \n",
    "    end_index = len(ds) - batch_size\n",
    "    for index in tqdm(range(0, end_index, batch_size)):\n",
    "        src, tgt = ds[index:index+batch_size]\n",
    "\n",
    "        output, memory = model(src)\n",
    "        optimizer.zero_grad()\n",
    "        loss = criterion(output, src.view(src.size(0), -1))\n",
    "        loss.backward()\n",
    "\n",
    "        optimizer.step()\n",
    "        losses += loss.item()\n",
    "        \n",
    "    return losses / end_index"
   ]
  },
  {
   "cell_type": "code",
   "execution_count": 65,
   "metadata": {},
   "outputs": [],
   "source": [
    "def evaluate(model, ds, criterion, batch_size):\n",
    "    \n",
    "    model.eval()\n",
    "    ds.eval()\n",
    "    losses = 0\n",
    "    \n",
    "    end_index = len(ds) - batch_size\n",
    "    for index in tqdm(range(0, end_index, batch_size)):\n",
    "        src, tgt = ds[index:index+batch_size]\n",
    "\n",
    "        output, memory = model(src)\n",
    "        loss = criterion(output, src.view(src.size(0), -1))\n",
    "        losses += loss.item()\n",
    "        \n",
    "    return losses / end_index"
   ]
  },
  {
   "cell_type": "markdown",
   "metadata": {},
   "source": [
    "## Close Differential Array Token"
   ]
  },
  {
   "cell_type": "markdown",
   "metadata": {},
   "source": [
    "### Define Dataset"
   ]
  },
  {
   "cell_type": "code",
   "execution_count": 11,
   "metadata": {},
   "outputs": [],
   "source": [
    "import sys\n",
    "\n",
    "module_path = os.path.abspath(\"../..\")\n",
    "sys.path.append(module_path)\n",
    "\n",
    "from Dataset.base import Dataset\n",
    "from fprocess import fprocess"
   ]
  },
  {
   "cell_type": "code",
   "execution_count": 45,
   "metadata": {},
   "outputs": [],
   "source": [
    "class DiffDataset(Dataset):    \n",
    "    key = \"close\"\n",
    "\n",
    "    def __init__(self, df, columns=[\"close\"], observation_length:int=30, \n",
    "                 device=\"cuda\", prediction_length=10, seed=1017, is_training = True, randomize=True):\n",
    "        \n",
    "        processes = [fprocess.DiffPreProcess(periods=1)]\n",
    "        super().__init__(df, columns, observation_length, device, processes, prediction_length, seed, is_training, randomize, batch_first=True)\n",
    "        self._columns = columns.copy()\n",
    "                \n",
    "    def _output_func(self, batch_size: slice):\n",
    "        batch_indices = batch_size\n",
    "        chunk_tgt = []\n",
    "        ndx = self._indices[batch_indices]\n",
    "        \n",
    "        for index in ndx:\n",
    "            start_index = index + self.observation_length\n",
    "            stop_index = index + self.observation_length + self._prediction_length\n",
    "            step_ndx = slice(start_index, stop_index)\n",
    "            future_tgt = self._data[self._columns].iloc[step_ndx].values.tolist()\n",
    "            chunk_tgt.append(future_tgt)\n",
    "        \n",
    "        return torch.tensor(chunk_tgt, device=self.device, dtype=torch.float)\n",
    "    \n",
    "    def _input_func(self, batch_size: slice):\n",
    "        batch_indices = batch_size\n",
    "        chunk_src = []\n",
    "        ndx = self._indices[batch_indices]\n",
    "        \n",
    "        for index in ndx:\n",
    "            stop_index = index + self.observation_length\n",
    "            obs_ndx = slice(index, stop_index)\n",
    "            obs_src = self._data[self._columns].iloc[obs_ndx].values.tolist()\n",
    "            chunk_src.append(obs_src)\n",
    "    \n",
    "        return torch.tensor(chunk_src, device=self.device, dtype=torch.float)\n",
    "\n",
    "    def _init_indicies(self, data, randomize, split_ratio=0.7):\n",
    "        length = len(data) - self.observation_length - self._prediction_length\n",
    "        if length < 0:\n",
    "            raise Exception(f\"date length {length} is less than observation_length {self.observation_length}\")\n",
    "        \n",
    "        from_index = 1\n",
    "        to_index = int(length*split_ratio)\n",
    "        self.train_indices = random.sample(range(from_index, to_index), k=to_index - from_index)\n",
    "        \n",
    "        from_index = int(length*split_ratio) + self.observation_length + self._prediction_length\n",
    "        to_index = length\n",
    "        self.val_indices = random.sample(range(from_index, to_index), k=to_index - from_index)\n",
    "        \n",
    "        if self.is_training:\n",
    "            self._indices = self.train_indices\n",
    "        else:\n",
    "            self._indices = self.val_indices\n",
    "            \n",
    "    def eval(self):\n",
    "        self._indices = self.val_indices\n",
    "        self.is_training = False\n",
    "        \n",
    "    def train(self):\n",
    "        self._indices = self.train_indices\n",
    "        self.is_training = True"
   ]
  },
  {
   "cell_type": "markdown",
   "metadata": {},
   "source": [
    "### Training"
   ]
  },
  {
   "cell_type": "code",
   "execution_count": 16,
   "metadata": {},
   "outputs": [
    {
     "data": {
      "text/html": [
       "<div>\n",
       "<style scoped>\n",
       "    .dataframe tbody tr th:only-of-type {\n",
       "        vertical-align: middle;\n",
       "    }\n",
       "\n",
       "    .dataframe tbody tr th {\n",
       "        vertical-align: top;\n",
       "    }\n",
       "\n",
       "    .dataframe thead th {\n",
       "        text-align: right;\n",
       "    }\n",
       "</style>\n",
       "<table border=\"1\" class=\"dataframe\">\n",
       "  <thead>\n",
       "    <tr style=\"text-align: right;\">\n",
       "      <th></th>\n",
       "      <th>open</th>\n",
       "      <th>high</th>\n",
       "      <th>low</th>\n",
       "      <th>close</th>\n",
       "      <th>tick_volume</th>\n",
       "      <th>spread</th>\n",
       "      <th>real_volume</th>\n",
       "    </tr>\n",
       "    <tr>\n",
       "      <th>time</th>\n",
       "      <th></th>\n",
       "      <th></th>\n",
       "      <th></th>\n",
       "      <th></th>\n",
       "      <th></th>\n",
       "      <th></th>\n",
       "      <th></th>\n",
       "    </tr>\n",
       "  </thead>\n",
       "  <tbody>\n",
       "    <tr>\n",
       "      <th>2014-07-07 08:30:00</th>\n",
       "      <td>102.086</td>\n",
       "      <td>102.122</td>\n",
       "      <td>102.081</td>\n",
       "      <td>102.102</td>\n",
       "      <td>738</td>\n",
       "      <td>3</td>\n",
       "      <td>0</td>\n",
       "    </tr>\n",
       "    <tr>\n",
       "      <th>2014-07-07 09:00:00</th>\n",
       "      <td>102.102</td>\n",
       "      <td>102.146</td>\n",
       "      <td>102.098</td>\n",
       "      <td>102.113</td>\n",
       "      <td>1036</td>\n",
       "      <td>3</td>\n",
       "      <td>0</td>\n",
       "    </tr>\n",
       "    <tr>\n",
       "      <th>2014-07-07 09:30:00</th>\n",
       "      <td>102.113</td>\n",
       "      <td>102.115</td>\n",
       "      <td>102.042</td>\n",
       "      <td>102.044</td>\n",
       "      <td>865</td>\n",
       "      <td>3</td>\n",
       "      <td>0</td>\n",
       "    </tr>\n",
       "    <tr>\n",
       "      <th>2014-07-07 10:00:00</th>\n",
       "      <td>102.047</td>\n",
       "      <td>102.052</td>\n",
       "      <td>102.005</td>\n",
       "      <td>102.019</td>\n",
       "      <td>983</td>\n",
       "      <td>3</td>\n",
       "      <td>0</td>\n",
       "    </tr>\n",
       "    <tr>\n",
       "      <th>2014-07-07 10:30:00</th>\n",
       "      <td>102.017</td>\n",
       "      <td>102.025</td>\n",
       "      <td>101.918</td>\n",
       "      <td>101.941</td>\n",
       "      <td>1328</td>\n",
       "      <td>3</td>\n",
       "      <td>0</td>\n",
       "    </tr>\n",
       "  </tbody>\n",
       "</table>\n",
       "</div>"
      ],
      "text/plain": [
       "                        open     high      low    close  tick_volume  spread  \\\n",
       "time                                                                           \n",
       "2014-07-07 08:30:00  102.086  102.122  102.081  102.102          738       3   \n",
       "2014-07-07 09:00:00  102.102  102.146  102.098  102.113         1036       3   \n",
       "2014-07-07 09:30:00  102.113  102.115  102.042  102.044          865       3   \n",
       "2014-07-07 10:00:00  102.047  102.052  102.005  102.019          983       3   \n",
       "2014-07-07 10:30:00  102.017  102.025  101.918  101.941         1328       3   \n",
       "\n",
       "                     real_volume  \n",
       "time                              \n",
       "2014-07-07 08:30:00            0  \n",
       "2014-07-07 09:00:00            0  \n",
       "2014-07-07 09:30:00            0  \n",
       "2014-07-07 10:00:00            0  \n",
       "2014-07-07 10:30:00            0  "
      ]
     },
     "execution_count": 16,
     "metadata": {},
     "output_type": "execute_result"
    }
   ],
   "source": [
    "ohlc_column = ['open','high','low','close']\n",
    "file_path = os.path.abspath('../../../Data/fx/mt5_USDJPY_min30.zip')\n",
    "\n",
    "df = pd.read_csv(file_path, index_col=0, parse_dates=True)\n",
    "df.head()"
   ]
  },
  {
   "cell_type": "code",
   "execution_count": 54,
   "metadata": {},
   "outputs": [],
   "source": [
    "device = torch.device(\"cuda\" if torch.cuda.is_available() else \"cpu\")\n",
    "\n",
    "batch_size = 64\n",
    "observation_length = 60\n",
    "prediction_length = 10\n",
    "columns = [\"close\"]\n",
    "feature_size = len(columns)\n",
    "\n",
    "ds = DiffDataset(df, columns=columns, observation_length=observation_length)"
   ]
  },
  {
   "cell_type": "code",
   "execution_count": 43,
   "metadata": {},
   "outputs": [],
   "source": [
    "model_name = \"finance_close_autoencoder\"\n",
    "model_version = 1"
   ]
  },
  {
   "cell_type": "code",
   "execution_count": 72,
   "metadata": {},
   "outputs": [],
   "source": [
    "model = AutoEncoder(input_dim=observation_length*feature_size, \n",
    "                    hidden_dims=[observation_length], latent_dim=int(observation_length/2),\n",
    "                    standalize=False)\n",
    "\n",
    "for p in model.parameters():\n",
    "    if p.dim() > 1:\n",
    "        nn.init.xavier_uniform_(p)\n",
    "\n",
    "model = model.to(device)"
   ]
  },
  {
   "cell_type": "code",
   "execution_count": 73,
   "metadata": {},
   "outputs": [],
   "source": [
    "lr = 1e-3\n",
    "\n",
    "criterion = nn.MSELoss()\n",
    "optimizer = torch.optim.Adam(model.parameters(), lr=lr)\n",
    "scheduler = torch.optim.lr_scheduler.StepLR(optimizer, 1.0, gamma = 0.95)"
   ]
  },
  {
   "cell_type": "code",
   "execution_count": 76,
   "metadata": {},
   "outputs": [
    {
     "name": "stderr",
     "output_type": "stream",
     "text": [
      "100%|██████████| 2683/2683 [02:50<00:00, 15.74it/s]\n",
      "100%|██████████| 668/668 [00:38<00:00, 17.36it/s]\n"
     ]
    },
    {
     "name": "stdout",
     "output_type": "stream",
     "text": [
      "[1/5000] train loss: 0.0001026415, valid loss: 0.0000970694  [2m50s] count: 0, **\n"
     ]
    },
    {
     "name": "stderr",
     "output_type": "stream",
     "text": [
      "100%|██████████| 2683/2683 [02:45<00:00, 16.19it/s]\n",
      "100%|██████████| 668/668 [00:35<00:00, 19.07it/s]\n"
     ]
    },
    {
     "name": "stdout",
     "output_type": "stream",
     "text": [
      "[2/5000] train loss: 0.0001026413, valid loss: 0.0000970692  [2m46s] count: 0, **\n"
     ]
    },
    {
     "name": "stderr",
     "output_type": "stream",
     "text": [
      "100%|██████████| 2683/2683 [02:34<00:00, 17.33it/s]\n",
      "100%|██████████| 668/668 [00:35<00:00, 18.97it/s]\n"
     ]
    },
    {
     "name": "stdout",
     "output_type": "stream",
     "text": [
      "[3/5000] train loss: 0.0001026411, valid loss: 0.0000970692  [2m35s] count: 0, \n"
     ]
    },
    {
     "name": "stderr",
     "output_type": "stream",
     "text": [
      "100%|██████████| 2683/2683 [02:32<00:00, 17.62it/s]\n",
      "100%|██████████| 668/668 [00:36<00:00, 18.38it/s]\n"
     ]
    },
    {
     "name": "stdout",
     "output_type": "stream",
     "text": [
      "[4/5000] train loss: 0.0001026400, valid loss: 0.0000970683  [2m32s] count: 1, **\n"
     ]
    },
    {
     "name": "stderr",
     "output_type": "stream",
     "text": [
      "100%|██████████| 2683/2683 [02:35<00:00, 17.23it/s]\n",
      "100%|██████████| 668/668 [00:35<00:00, 18.80it/s]\n"
     ]
    },
    {
     "name": "stdout",
     "output_type": "stream",
     "text": [
      "[5/5000] train loss: 0.0001026397, valid loss: 0.0000970685  [2m36s] count: 0, \n"
     ]
    },
    {
     "name": "stderr",
     "output_type": "stream",
     "text": [
      "100%|██████████| 2683/2683 [02:27<00:00, 18.16it/s]\n",
      "100%|██████████| 668/668 [00:34<00:00, 19.45it/s]\n"
     ]
    },
    {
     "name": "stdout",
     "output_type": "stream",
     "text": [
      "[6/5000] train loss: 0.0001026387, valid loss: 0.0000970682  [2m28s] count: 1, **\n"
     ]
    },
    {
     "name": "stderr",
     "output_type": "stream",
     "text": [
      "100%|██████████| 2683/2683 [02:20<00:00, 19.13it/s]\n",
      "100%|██████████| 668/668 [00:34<00:00, 19.33it/s]\n"
     ]
    },
    {
     "name": "stdout",
     "output_type": "stream",
     "text": [
      "[7/5000] train loss: 0.0001026384, valid loss: 0.0000970676  [2m20s] count: 0, **\n"
     ]
    },
    {
     "name": "stderr",
     "output_type": "stream",
     "text": [
      "100%|██████████| 2683/2683 [02:27<00:00, 18.17it/s]\n",
      "100%|██████████| 668/668 [00:35<00:00, 18.99it/s]\n"
     ]
    },
    {
     "name": "stdout",
     "output_type": "stream",
     "text": [
      "[8/5000] train loss: 0.0001026384, valid loss: 0.0000970677  [2m28s] count: 0, \n"
     ]
    },
    {
     "name": "stderr",
     "output_type": "stream",
     "text": [
      "100%|██████████| 2683/2683 [02:14<00:00, 19.88it/s]\n",
      "100%|██████████| 668/668 [00:31<00:00, 21.22it/s]\n"
     ]
    },
    {
     "name": "stdout",
     "output_type": "stream",
     "text": [
      "[9/5000] train loss: 0.0001026373, valid loss: 0.0000970669  [2m15s] count: 1, **\n"
     ]
    },
    {
     "name": "stderr",
     "output_type": "stream",
     "text": [
      "100%|██████████| 2683/2683 [02:19<00:00, 19.26it/s]\n",
      "100%|██████████| 668/668 [00:32<00:00, 20.87it/s]\n"
     ]
    },
    {
     "name": "stdout",
     "output_type": "stream",
     "text": [
      "[10/5000] train loss: 0.0001026372, valid loss: 0.0000970671  [2m19s] count: 0, \n"
     ]
    },
    {
     "name": "stderr",
     "output_type": "stream",
     "text": [
      "100%|██████████| 2683/2683 [02:50<00:00, 15.78it/s]\n",
      "100%|██████████| 668/668 [00:36<00:00, 18.34it/s]\n"
     ]
    },
    {
     "name": "stdout",
     "output_type": "stream",
     "text": [
      "[11/5000] train loss: 0.0001026361, valid loss: 0.0000970669  [2m50s] count: 1, \n"
     ]
    },
    {
     "name": "stderr",
     "output_type": "stream",
     "text": [
      "100%|██████████| 2683/2683 [02:39<00:00, 16.87it/s]\n",
      "100%|██████████| 668/668 [00:38<00:00, 17.30it/s]\n"
     ]
    },
    {
     "name": "stdout",
     "output_type": "stream",
     "text": [
      "[12/5000] train loss: 0.0001026353, valid loss: 0.0000970662  [2m39s] count: 2, **\n"
     ]
    },
    {
     "name": "stderr",
     "output_type": "stream",
     "text": [
      "100%|██████████| 2683/2683 [02:31<00:00, 17.71it/s]\n",
      "100%|██████████| 668/668 [00:36<00:00, 18.13it/s]\n"
     ]
    },
    {
     "name": "stdout",
     "output_type": "stream",
     "text": [
      "[13/5000] train loss: 0.0001026350, valid loss: 0.0000970664  [2m32s] count: 0, \n"
     ]
    },
    {
     "name": "stderr",
     "output_type": "stream",
     "text": [
      "100%|██████████| 2683/2683 [02:29<00:00, 17.95it/s]\n",
      "100%|██████████| 668/668 [00:35<00:00, 19.06it/s]\n"
     ]
    },
    {
     "name": "stdout",
     "output_type": "stream",
     "text": [
      "[14/5000] train loss: 0.0001026342, valid loss: 0.0000970657  [2m29s] count: 1, **\n"
     ]
    },
    {
     "name": "stderr",
     "output_type": "stream",
     "text": [
      "100%|██████████| 2683/2683 [02:29<00:00, 17.89it/s]\n",
      "100%|██████████| 668/668 [00:38<00:00, 17.43it/s]\n"
     ]
    },
    {
     "name": "stdout",
     "output_type": "stream",
     "text": [
      "[15/5000] train loss: 0.0001026339, valid loss: 0.0000970659  [2m30s] count: 0, \n"
     ]
    },
    {
     "name": "stderr",
     "output_type": "stream",
     "text": [
      "100%|██████████| 2683/2683 [02:46<00:00, 16.15it/s]\n",
      "100%|██████████| 668/668 [00:35<00:00, 18.97it/s]\n"
     ]
    },
    {
     "name": "stdout",
     "output_type": "stream",
     "text": [
      "[16/5000] train loss: 0.0001026332, valid loss: 0.0000970655  [2m46s] count: 1, **\n"
     ]
    },
    {
     "name": "stderr",
     "output_type": "stream",
     "text": [
      "100%|██████████| 2683/2683 [02:28<00:00, 18.04it/s]\n",
      "100%|██████████| 668/668 [00:35<00:00, 18.90it/s]\n"
     ]
    },
    {
     "name": "stdout",
     "output_type": "stream",
     "text": [
      "[17/5000] train loss: 0.0001026330, valid loss: 0.0000970653  [2m29s] count: 0, **\n"
     ]
    },
    {
     "name": "stderr",
     "output_type": "stream",
     "text": [
      "100%|██████████| 2683/2683 [02:29<00:00, 17.99it/s]\n",
      "100%|██████████| 668/668 [00:35<00:00, 18.86it/s]\n"
     ]
    },
    {
     "name": "stdout",
     "output_type": "stream",
     "text": [
      "[18/5000] train loss: 0.0001026329, valid loss: 0.0000970651  [2m29s] count: 0, **\n"
     ]
    },
    {
     "name": "stderr",
     "output_type": "stream",
     "text": [
      "100%|██████████| 2683/2683 [02:27<00:00, 18.16it/s]\n",
      "100%|██████████| 668/668 [00:35<00:00, 18.75it/s]\n"
     ]
    },
    {
     "name": "stdout",
     "output_type": "stream",
     "text": [
      "[19/5000] train loss: 0.0001026327, valid loss: 0.0000970649  [2m28s] count: 0, **\n"
     ]
    },
    {
     "name": "stderr",
     "output_type": "stream",
     "text": [
      "100%|██████████| 2683/2683 [02:36<00:00, 17.19it/s]\n",
      "100%|██████████| 668/668 [00:36<00:00, 18.53it/s]\n"
     ]
    },
    {
     "name": "stdout",
     "output_type": "stream",
     "text": [
      "[20/5000] train loss: 0.0001026326, valid loss: 0.0000970650  [2m36s] count: 0, \n"
     ]
    },
    {
     "name": "stderr",
     "output_type": "stream",
     "text": [
      "100%|██████████| 2683/2683 [02:29<00:00, 17.97it/s]\n",
      "100%|██████████| 668/668 [00:35<00:00, 18.79it/s]\n"
     ]
    },
    {
     "name": "stdout",
     "output_type": "stream",
     "text": [
      "[21/5000] train loss: 0.0001026318, valid loss: 0.0000970646  [2m29s] count: 1, **\n"
     ]
    },
    {
     "name": "stderr",
     "output_type": "stream",
     "text": [
      "100%|██████████| 2683/2683 [02:28<00:00, 18.02it/s]\n",
      "100%|██████████| 668/668 [00:35<00:00, 18.95it/s]\n"
     ]
    },
    {
     "name": "stdout",
     "output_type": "stream",
     "text": [
      "[22/5000] train loss: 0.0001026316, valid loss: 0.0000970645  [2m29s] count: 0, **\n"
     ]
    },
    {
     "name": "stderr",
     "output_type": "stream",
     "text": [
      "100%|██████████| 2683/2683 [02:29<00:00, 17.89it/s]\n",
      "100%|██████████| 668/668 [00:35<00:00, 18.84it/s]\n"
     ]
    },
    {
     "name": "stdout",
     "output_type": "stream",
     "text": [
      "[23/5000] train loss: 0.0001026315, valid loss: 0.0000970644  [2m30s] count: 0, **\n"
     ]
    },
    {
     "name": "stderr",
     "output_type": "stream",
     "text": [
      "100%|██████████| 2683/2683 [02:28<00:00, 18.09it/s]\n",
      "100%|██████████| 668/668 [00:35<00:00, 18.82it/s]\n"
     ]
    },
    {
     "name": "stdout",
     "output_type": "stream",
     "text": [
      "[24/5000] train loss: 0.0001026314, valid loss: 0.0000970644  [2m28s] count: 0, \n"
     ]
    },
    {
     "name": "stderr",
     "output_type": "stream",
     "text": [
      "100%|██████████| 2683/2683 [02:30<00:00, 17.86it/s]\n",
      "100%|██████████| 668/668 [00:35<00:00, 18.80it/s]\n"
     ]
    },
    {
     "name": "stdout",
     "output_type": "stream",
     "text": [
      "[25/5000] train loss: 0.0001026306, valid loss: 0.0000970642  [2m30s] count: 1, **\n"
     ]
    },
    {
     "name": "stderr",
     "output_type": "stream",
     "text": [
      "100%|██████████| 2683/2683 [03:11<00:00, 14.00it/s] \n",
      "100%|██████████| 668/668 [00:36<00:00, 18.46it/s]\n"
     ]
    },
    {
     "name": "stdout",
     "output_type": "stream",
     "text": [
      "[26/5000] train loss: 0.0001026305, valid loss: 0.0000970640  [3m12s] count: 0, **\n"
     ]
    },
    {
     "name": "stderr",
     "output_type": "stream",
     "text": [
      "100%|██████████| 2683/2683 [02:34<00:00, 17.40it/s]\n",
      "100%|██████████| 668/668 [00:36<00:00, 18.51it/s]\n"
     ]
    },
    {
     "name": "stdout",
     "output_type": "stream",
     "text": [
      "[27/5000] train loss: 0.0001026303, valid loss: 0.0000970639  [2m34s] count: 0, **\n"
     ]
    },
    {
     "name": "stderr",
     "output_type": "stream",
     "text": [
      "100%|██████████| 2683/2683 [02:29<00:00, 17.94it/s]\n",
      "100%|██████████| 668/668 [00:35<00:00, 18.82it/s]\n"
     ]
    },
    {
     "name": "stdout",
     "output_type": "stream",
     "text": [
      "[28/5000] train loss: 0.0001026302, valid loss: 0.0000970635  [2m30s] count: 0, **\n"
     ]
    },
    {
     "name": "stderr",
     "output_type": "stream",
     "text": [
      "100%|██████████| 2683/2683 [02:29<00:00, 17.99it/s]\n",
      "100%|██████████| 668/668 [00:35<00:00, 18.89it/s]\n"
     ]
    },
    {
     "name": "stdout",
     "output_type": "stream",
     "text": [
      "[29/5000] train loss: 0.0001026302, valid loss: 0.0000970636  [2m29s] count: 0, \n"
     ]
    },
    {
     "name": "stderr",
     "output_type": "stream",
     "text": [
      "100%|██████████| 2683/2683 [02:31<00:00, 17.68it/s]\n",
      "100%|██████████| 668/668 [00:35<00:00, 18.85it/s]\n"
     ]
    },
    {
     "name": "stdout",
     "output_type": "stream",
     "text": [
      "[30/5000] train loss: 0.0001026295, valid loss: 0.0000970636  [2m32s] count: 1, \n"
     ]
    },
    {
     "name": "stderr",
     "output_type": "stream",
     "text": [
      "100%|██████████| 2683/2683 [02:28<00:00, 18.03it/s]\n",
      "100%|██████████| 668/668 [00:35<00:00, 18.96it/s]\n"
     ]
    },
    {
     "name": "stdout",
     "output_type": "stream",
     "text": [
      "[31/5000] train loss: 0.0001026287, valid loss: 0.0000970631  [2m29s] count: 2, **\n"
     ]
    },
    {
     "name": "stderr",
     "output_type": "stream",
     "text": [
      "100%|██████████| 2683/2683 [02:29<00:00, 17.91it/s]\n",
      "100%|██████████| 668/668 [00:35<00:00, 19.00it/s]\n"
     ]
    },
    {
     "name": "stdout",
     "output_type": "stream",
     "text": [
      "[32/5000] train loss: 0.0001026285, valid loss: 0.0000970630  [2m30s] count: 0, **\n"
     ]
    },
    {
     "name": "stderr",
     "output_type": "stream",
     "text": [
      "100%|██████████| 2683/2683 [02:31<00:00, 17.72it/s]\n",
      "100%|██████████| 668/668 [00:37<00:00, 17.91it/s]\n"
     ]
    },
    {
     "name": "stdout",
     "output_type": "stream",
     "text": [
      "[33/5000] train loss: 0.0001026285, valid loss: 0.0000970630  [2m31s] count: 0, **\n"
     ]
    },
    {
     "name": "stderr",
     "output_type": "stream",
     "text": [
      "100%|██████████| 2683/2683 [02:37<00:00, 17.08it/s]\n",
      "100%|██████████| 668/668 [00:36<00:00, 18.43it/s]\n"
     ]
    },
    {
     "name": "stdout",
     "output_type": "stream",
     "text": [
      "[34/5000] train loss: 0.0001026283, valid loss: 0.0000970629  [2m37s] count: 0, **\n"
     ]
    },
    {
     "name": "stderr",
     "output_type": "stream",
     "text": [
      "100%|██████████| 2683/2683 [02:31<00:00, 17.75it/s]\n",
      "100%|██████████| 668/668 [00:35<00:00, 18.71it/s]\n"
     ]
    },
    {
     "name": "stdout",
     "output_type": "stream",
     "text": [
      "[35/5000] train loss: 0.0001026283, valid loss: 0.0000970628  [2m31s] count: 0, **\n"
     ]
    },
    {
     "name": "stderr",
     "output_type": "stream",
     "text": [
      "100%|██████████| 2683/2683 [02:31<00:00, 17.71it/s]\n",
      "100%|██████████| 668/668 [00:35<00:00, 18.59it/s]\n"
     ]
    },
    {
     "name": "stdout",
     "output_type": "stream",
     "text": [
      "[36/5000] train loss: 0.0001026281, valid loss: 0.0000970628  [2m31s] count: 0, \n"
     ]
    },
    {
     "name": "stderr",
     "output_type": "stream",
     "text": [
      "100%|██████████| 2683/2683 [02:30<00:00, 17.85it/s]\n",
      "100%|██████████| 668/668 [00:35<00:00, 18.63it/s]\n"
     ]
    },
    {
     "name": "stdout",
     "output_type": "stream",
     "text": [
      "[37/5000] train loss: 0.0001026275, valid loss: 0.0000970625  [2m30s] count: 1, **\n"
     ]
    },
    {
     "name": "stderr",
     "output_type": "stream",
     "text": [
      "100%|██████████| 2683/2683 [02:30<00:00, 17.82it/s]\n",
      "100%|██████████| 668/668 [00:35<00:00, 18.78it/s]\n"
     ]
    },
    {
     "name": "stdout",
     "output_type": "stream",
     "text": [
      "[38/5000] train loss: 0.0001026273, valid loss: 0.0000970625  [2m31s] count: 0, **\n"
     ]
    },
    {
     "name": "stderr",
     "output_type": "stream",
     "text": [
      "100%|██████████| 2683/2683 [02:30<00:00, 17.81it/s]\n",
      "100%|██████████| 668/668 [00:35<00:00, 18.80it/s]\n"
     ]
    },
    {
     "name": "stdout",
     "output_type": "stream",
     "text": [
      "[39/5000] train loss: 0.0001026272, valid loss: 0.0000970625  [2m31s] count: 0, **\n"
     ]
    },
    {
     "name": "stderr",
     "output_type": "stream",
     "text": [
      "100%|██████████| 2683/2683 [02:29<00:00, 17.92it/s]\n",
      "100%|██████████| 668/668 [00:35<00:00, 18.93it/s]\n"
     ]
    },
    {
     "name": "stdout",
     "output_type": "stream",
     "text": [
      "[40/5000] train loss: 0.0001026272, valid loss: 0.0000970624  [2m30s] count: 0, **\n"
     ]
    },
    {
     "name": "stderr",
     "output_type": "stream",
     "text": [
      "100%|██████████| 2683/2683 [02:30<00:00, 17.88it/s]\n",
      "100%|██████████| 668/668 [00:37<00:00, 17.93it/s]\n"
     ]
    },
    {
     "name": "stdout",
     "output_type": "stream",
     "text": [
      "[41/5000] train loss: 0.0001026270, valid loss: 0.0000970623  [2m30s] count: 0, **\n"
     ]
    },
    {
     "name": "stderr",
     "output_type": "stream",
     "text": [
      "100%|██████████| 2683/2683 [02:37<00:00, 17.00it/s]\n",
      "100%|██████████| 668/668 [00:35<00:00, 18.82it/s]\n"
     ]
    },
    {
     "name": "stdout",
     "output_type": "stream",
     "text": [
      "[42/5000] train loss: 0.0001026269, valid loss: 0.0000970621  [2m38s] count: 0, **\n"
     ]
    },
    {
     "name": "stderr",
     "output_type": "stream",
     "text": [
      "100%|██████████| 2683/2683 [02:30<00:00, 17.85it/s]\n",
      "100%|██████████| 668/668 [00:40<00:00, 16.53it/s]\n"
     ]
    },
    {
     "name": "stdout",
     "output_type": "stream",
     "text": [
      "[43/5000] train loss: 0.0001026269, valid loss: 0.0000970623  [2m30s] count: 0, \n"
     ]
    },
    {
     "name": "stderr",
     "output_type": "stream",
     "text": [
      "100%|██████████| 2683/2683 [02:28<00:00, 18.05it/s]\n",
      "100%|██████████| 668/668 [00:35<00:00, 18.76it/s]\n"
     ]
    },
    {
     "name": "stdout",
     "output_type": "stream",
     "text": [
      "[44/5000] train loss: 0.0001026262, valid loss: 0.0000970618  [2m29s] count: 1, **\n"
     ]
    },
    {
     "name": "stderr",
     "output_type": "stream",
     "text": [
      "100%|██████████| 2683/2683 [02:30<00:00, 17.83it/s]\n",
      "100%|██████████| 668/668 [00:35<00:00, 18.94it/s]\n"
     ]
    },
    {
     "name": "stdout",
     "output_type": "stream",
     "text": [
      "[45/5000] train loss: 0.0001026262, valid loss: 0.0000970617  [2m30s] count: 0, **\n"
     ]
    },
    {
     "name": "stderr",
     "output_type": "stream",
     "text": [
      "100%|██████████| 2683/2683 [02:29<00:00, 17.91it/s]\n",
      "100%|██████████| 668/668 [00:35<00:00, 18.98it/s]\n"
     ]
    },
    {
     "name": "stdout",
     "output_type": "stream",
     "text": [
      "[46/5000] train loss: 0.0001026261, valid loss: 0.0000970619  [2m30s] count: 0, \n"
     ]
    },
    {
     "name": "stderr",
     "output_type": "stream",
     "text": [
      "100%|██████████| 2683/2683 [02:29<00:00, 17.90it/s]\n",
      "100%|██████████| 668/668 [00:35<00:00, 18.93it/s]\n"
     ]
    },
    {
     "name": "stdout",
     "output_type": "stream",
     "text": [
      "[47/5000] train loss: 0.0001026254, valid loss: 0.0000970616  [2m30s] count: 1, **\n"
     ]
    },
    {
     "name": "stderr",
     "output_type": "stream",
     "text": [
      "100%|██████████| 2683/2683 [02:29<00:00, 17.94it/s]\n",
      "100%|██████████| 668/668 [00:35<00:00, 18.65it/s]\n"
     ]
    },
    {
     "name": "stdout",
     "output_type": "stream",
     "text": [
      "[48/5000] train loss: 0.0001026254, valid loss: 0.0000970617  [2m30s] count: 0, \n"
     ]
    },
    {
     "name": "stderr",
     "output_type": "stream",
     "text": [
      "100%|██████████| 2683/2683 [02:19<00:00, 19.18it/s]\n",
      "100%|██████████| 668/668 [00:30<00:00, 22.08it/s]\n"
     ]
    },
    {
     "name": "stdout",
     "output_type": "stream",
     "text": [
      "[49/5000] train loss: 0.0001026247, valid loss: 0.0000970614  [2m20s] count: 1, **\n"
     ]
    },
    {
     "name": "stderr",
     "output_type": "stream",
     "text": [
      "100%|██████████| 2683/2683 [02:09<00:00, 20.72it/s]\n",
      "100%|██████████| 668/668 [00:32<00:00, 20.64it/s]\n"
     ]
    },
    {
     "name": "stdout",
     "output_type": "stream",
     "text": [
      "[50/5000] train loss: 0.0001026247, valid loss: 0.0000970614  [2m9s] count: 0, \n"
     ]
    },
    {
     "name": "stderr",
     "output_type": "stream",
     "text": [
      "100%|██████████| 2683/2683 [02:15<00:00, 19.86it/s]\n",
      "100%|██████████| 668/668 [00:30<00:00, 21.70it/s]\n"
     ]
    },
    {
     "name": "stdout",
     "output_type": "stream",
     "text": [
      "[51/5000] train loss: 0.0001026242, valid loss: 0.0000970612  [2m15s] count: 1, **\n"
     ]
    },
    {
     "name": "stderr",
     "output_type": "stream",
     "text": [
      "100%|██████████| 2683/2683 [02:06<00:00, 21.18it/s]\n",
      "100%|██████████| 668/668 [00:30<00:00, 22.25it/s]\n"
     ]
    },
    {
     "name": "stdout",
     "output_type": "stream",
     "text": [
      "[52/5000] train loss: 0.0001026240, valid loss: 0.0000970611  [2m7s] count: 0, **\n"
     ]
    },
    {
     "name": "stderr",
     "output_type": "stream",
     "text": [
      "100%|██████████| 2683/2683 [02:47<00:00, 16.03it/s]  \n",
      "100%|██████████| 668/668 [00:30<00:00, 22.03it/s]\n"
     ]
    },
    {
     "name": "stdout",
     "output_type": "stream",
     "text": [
      "[53/5000] train loss: 0.0001026239, valid loss: 0.0000970611  [2m47s] count: 0, **\n"
     ]
    },
    {
     "name": "stderr",
     "output_type": "stream",
     "text": [
      "100%|██████████| 2683/2683 [02:07<00:00, 21.03it/s]\n",
      "100%|██████████| 668/668 [00:30<00:00, 22.06it/s]\n"
     ]
    },
    {
     "name": "stdout",
     "output_type": "stream",
     "text": [
      "[54/5000] train loss: 0.0001026238, valid loss: 0.0000970610  [2m8s] count: 0, **\n"
     ]
    },
    {
     "name": "stderr",
     "output_type": "stream",
     "text": [
      "100%|██████████| 2683/2683 [02:05<00:00, 21.34it/s]\n",
      "100%|██████████| 668/668 [00:30<00:00, 22.14it/s]\n"
     ]
    },
    {
     "name": "stdout",
     "output_type": "stream",
     "text": [
      "[55/5000] train loss: 0.0001026237, valid loss: 0.0000970609  [2m6s] count: 0, **\n"
     ]
    },
    {
     "name": "stderr",
     "output_type": "stream",
     "text": [
      "100%|██████████| 2683/2683 [02:06<00:00, 21.23it/s]\n",
      "100%|██████████| 668/668 [00:30<00:00, 21.78it/s]\n"
     ]
    },
    {
     "name": "stdout",
     "output_type": "stream",
     "text": [
      "[56/5000] train loss: 0.0001026237, valid loss: 0.0000970609  [2m6s] count: 0, \n"
     ]
    },
    {
     "name": "stderr",
     "output_type": "stream",
     "text": [
      "100%|██████████| 2683/2683 [02:08<00:00, 20.95it/s]\n",
      "100%|██████████| 668/668 [00:29<00:00, 22.30it/s]\n"
     ]
    },
    {
     "name": "stdout",
     "output_type": "stream",
     "text": [
      "[57/5000] train loss: 0.0001026232, valid loss: 0.0000970607  [2m8s] count: 1, **\n"
     ]
    },
    {
     "name": "stderr",
     "output_type": "stream",
     "text": [
      "100%|██████████| 2683/2683 [02:06<00:00, 21.27it/s]\n",
      "100%|██████████| 668/668 [00:30<00:00, 21.99it/s]\n"
     ]
    },
    {
     "name": "stdout",
     "output_type": "stream",
     "text": [
      "[58/5000] train loss: 0.0001026231, valid loss: 0.0000970607  [2m6s] count: 0, \n"
     ]
    },
    {
     "name": "stderr",
     "output_type": "stream",
     "text": [
      "100%|██████████| 2683/2683 [02:06<00:00, 21.25it/s]\n",
      "100%|██████████| 668/668 [00:30<00:00, 22.11it/s]\n"
     ]
    },
    {
     "name": "stdout",
     "output_type": "stream",
     "text": [
      "[59/5000] train loss: 0.0001026226, valid loss: 0.0000970606  [2m6s] count: 1, **\n"
     ]
    },
    {
     "name": "stderr",
     "output_type": "stream",
     "text": [
      "100%|██████████| 2683/2683 [02:08<00:00, 20.80it/s]\n",
      "100%|██████████| 668/668 [00:35<00:00, 18.83it/s]\n"
     ]
    },
    {
     "name": "stdout",
     "output_type": "stream",
     "text": [
      "[60/5000] train loss: 0.0001026225, valid loss: 0.0000970604  [2m9s] count: 0, **\n"
     ]
    },
    {
     "name": "stderr",
     "output_type": "stream",
     "text": [
      "100%|██████████| 2683/2683 [02:26<00:00, 18.28it/s]\n",
      "100%|██████████| 668/668 [00:33<00:00, 19.74it/s]\n"
     ]
    },
    {
     "name": "stdout",
     "output_type": "stream",
     "text": [
      "[61/5000] train loss: 0.0001026224, valid loss: 0.0000970606  [2m27s] count: 0, \n"
     ]
    },
    {
     "name": "stderr",
     "output_type": "stream",
     "text": [
      "100%|██████████| 2683/2683 [02:31<00:00, 17.73it/s]\n",
      "100%|██████████| 668/668 [00:37<00:00, 17.95it/s]\n"
     ]
    },
    {
     "name": "stdout",
     "output_type": "stream",
     "text": [
      "[62/5000] train loss: 0.0001026220, valid loss: 0.0000970604  [2m31s] count: 1, **\n"
     ]
    },
    {
     "name": "stderr",
     "output_type": "stream",
     "text": [
      "100%|██████████| 2683/2683 [02:32<00:00, 17.60it/s]\n",
      "100%|██████████| 668/668 [00:37<00:00, 17.94it/s]\n"
     ]
    },
    {
     "name": "stdout",
     "output_type": "stream",
     "text": [
      "[63/5000] train loss: 0.0001026219, valid loss: 0.0000970604  [2m32s] count: 0, **\n"
     ]
    },
    {
     "name": "stderr",
     "output_type": "stream",
     "text": [
      "100%|██████████| 2683/2683 [02:07<00:00, 21.06it/s]\n",
      "100%|██████████| 668/668 [00:30<00:00, 22.10it/s]\n"
     ]
    },
    {
     "name": "stdout",
     "output_type": "stream",
     "text": [
      "[64/5000] train loss: 0.0001026218, valid loss: 0.0000970603  [2m7s] count: 0, **\n"
     ]
    },
    {
     "name": "stderr",
     "output_type": "stream",
     "text": [
      "100%|██████████| 2683/2683 [02:07<00:00, 21.10it/s]\n",
      "100%|██████████| 668/668 [00:31<00:00, 21.26it/s]\n"
     ]
    },
    {
     "name": "stdout",
     "output_type": "stream",
     "text": [
      "[65/5000] train loss: 0.0001026217, valid loss: 0.0000970602  [2m7s] count: 0, **\n"
     ]
    },
    {
     "name": "stderr",
     "output_type": "stream",
     "text": [
      "100%|██████████| 2683/2683 [02:10<00:00, 20.51it/s]\n",
      "100%|██████████| 668/668 [00:30<00:00, 21.90it/s]\n"
     ]
    },
    {
     "name": "stdout",
     "output_type": "stream",
     "text": [
      "[66/5000] train loss: 0.0001026216, valid loss: 0.0000970602  [2m11s] count: 0, **\n"
     ]
    },
    {
     "name": "stderr",
     "output_type": "stream",
     "text": [
      "100%|██████████| 2683/2683 [02:06<00:00, 21.24it/s]\n",
      "100%|██████████| 668/668 [00:30<00:00, 22.10it/s]\n"
     ]
    },
    {
     "name": "stdout",
     "output_type": "stream",
     "text": [
      "[67/5000] train loss: 0.0001026216, valid loss: 0.0000970601  [2m6s] count: 0, **\n"
     ]
    },
    {
     "name": "stderr",
     "output_type": "stream",
     "text": [
      "100%|██████████| 2683/2683 [02:07<00:00, 21.02it/s]\n",
      "100%|██████████| 668/668 [00:30<00:00, 21.78it/s]\n"
     ]
    },
    {
     "name": "stdout",
     "output_type": "stream",
     "text": [
      "[68/5000] train loss: 0.0001026215, valid loss: 0.0000970600  [2m8s] count: 0, **\n"
     ]
    },
    {
     "name": "stderr",
     "output_type": "stream",
     "text": [
      "100%|██████████| 2683/2683 [02:05<00:00, 21.30it/s]\n",
      "100%|██████████| 668/668 [00:30<00:00, 22.25it/s]\n"
     ]
    },
    {
     "name": "stdout",
     "output_type": "stream",
     "text": [
      "[69/5000] train loss: 0.0001026215, valid loss: 0.0000970600  [2m6s] count: 0, \n"
     ]
    },
    {
     "name": "stderr",
     "output_type": "stream",
     "text": [
      "100%|██████████| 2683/2683 [02:06<00:00, 21.25it/s]\n",
      "100%|██████████| 668/668 [00:30<00:00, 22.02it/s]\n"
     ]
    },
    {
     "name": "stdout",
     "output_type": "stream",
     "text": [
      "[70/5000] train loss: 0.0001026210, valid loss: 0.0000970599  [2m6s] count: 1, **\n"
     ]
    },
    {
     "name": "stderr",
     "output_type": "stream",
     "text": [
      "100%|██████████| 2683/2683 [02:08<00:00, 20.85it/s]\n",
      "100%|██████████| 668/668 [00:30<00:00, 21.92it/s]\n"
     ]
    },
    {
     "name": "stdout",
     "output_type": "stream",
     "text": [
      "[71/5000] train loss: 0.0001026209, valid loss: 0.0000970599  [2m9s] count: 0, \n"
     ]
    },
    {
     "name": "stderr",
     "output_type": "stream",
     "text": [
      "100%|██████████| 2683/2683 [02:06<00:00, 21.23it/s]\n",
      "100%|██████████| 668/668 [00:30<00:00, 22.08it/s]\n"
     ]
    },
    {
     "name": "stdout",
     "output_type": "stream",
     "text": [
      "[72/5000] train loss: 0.0001026205, valid loss: 0.0000970598  [2m6s] count: 1, **\n"
     ]
    },
    {
     "name": "stderr",
     "output_type": "stream",
     "text": [
      "100%|██████████| 2683/2683 [02:05<00:00, 21.35it/s]\n",
      "100%|██████████| 668/668 [00:30<00:00, 21.92it/s]\n"
     ]
    },
    {
     "name": "stdout",
     "output_type": "stream",
     "text": [
      "[73/5000] train loss: 0.0001026204, valid loss: 0.0000970598  [2m6s] count: 0, **\n"
     ]
    },
    {
     "name": "stderr",
     "output_type": "stream",
     "text": [
      "100%|██████████| 2683/2683 [02:07<00:00, 20.99it/s]\n",
      "100%|██████████| 668/668 [00:30<00:00, 22.20it/s]\n"
     ]
    },
    {
     "name": "stdout",
     "output_type": "stream",
     "text": [
      "[74/5000] train loss: 0.0001026204, valid loss: 0.0000970597  [2m8s] count: 0, **\n"
     ]
    },
    {
     "name": "stderr",
     "output_type": "stream",
     "text": [
      "100%|██████████| 2683/2683 [02:06<00:00, 21.23it/s]\n",
      "100%|██████████| 668/668 [00:30<00:00, 21.79it/s]\n"
     ]
    },
    {
     "name": "stdout",
     "output_type": "stream",
     "text": [
      "[75/5000] train loss: 0.0001026203, valid loss: 0.0000970597  [2m6s] count: 0, \n"
     ]
    },
    {
     "name": "stderr",
     "output_type": "stream",
     "text": [
      "100%|██████████| 2683/2683 [02:06<00:00, 21.21it/s]\n",
      "100%|██████████| 668/668 [00:30<00:00, 21.91it/s]\n"
     ]
    },
    {
     "name": "stdout",
     "output_type": "stream",
     "text": [
      "[76/5000] train loss: 0.0001026199, valid loss: 0.0000970596  [2m7s] count: 1, **\n"
     ]
    },
    {
     "name": "stderr",
     "output_type": "stream",
     "text": [
      "100%|██████████| 2683/2683 [02:08<00:00, 20.83it/s]\n",
      "100%|██████████| 668/668 [00:30<00:00, 21.93it/s]\n"
     ]
    },
    {
     "name": "stdout",
     "output_type": "stream",
     "text": [
      "[77/5000] train loss: 0.0001026198, valid loss: 0.0000970596  [2m9s] count: 0, **\n"
     ]
    },
    {
     "name": "stderr",
     "output_type": "stream",
     "text": [
      "100%|██████████| 2683/2683 [02:06<00:00, 21.25it/s]\n",
      "100%|██████████| 668/668 [00:30<00:00, 22.01it/s]\n"
     ]
    },
    {
     "name": "stdout",
     "output_type": "stream",
     "text": [
      "[78/5000] train loss: 0.0001026198, valid loss: 0.0000970595  [2m6s] count: 0, **\n"
     ]
    },
    {
     "name": "stderr",
     "output_type": "stream",
     "text": [
      "100%|██████████| 2683/2683 [02:06<00:00, 21.26it/s]\n",
      "100%|██████████| 668/668 [00:30<00:00, 22.02it/s]\n"
     ]
    },
    {
     "name": "stdout",
     "output_type": "stream",
     "text": [
      "[79/5000] train loss: 0.0001026197, valid loss: 0.0000970594  [2m6s] count: 0, **\n"
     ]
    },
    {
     "name": "stderr",
     "output_type": "stream",
     "text": [
      "100%|██████████| 2683/2683 [02:08<00:00, 20.93it/s]\n",
      "100%|██████████| 668/668 [00:29<00:00, 22.28it/s]\n"
     ]
    },
    {
     "name": "stdout",
     "output_type": "stream",
     "text": [
      "[80/5000] train loss: 0.0001026196, valid loss: 0.0000970593  [2m8s] count: 0, **\n"
     ]
    },
    {
     "name": "stderr",
     "output_type": "stream",
     "text": [
      "100%|██████████| 2683/2683 [02:06<00:00, 21.29it/s]\n",
      "100%|██████████| 668/668 [00:30<00:00, 21.97it/s]\n"
     ]
    },
    {
     "name": "stdout",
     "output_type": "stream",
     "text": [
      "[81/5000] train loss: 0.0001026195, valid loss: 0.0000970593  [2m6s] count: 0, **\n"
     ]
    },
    {
     "name": "stderr",
     "output_type": "stream",
     "text": [
      "100%|██████████| 2683/2683 [02:07<00:00, 21.03it/s]\n",
      "100%|██████████| 668/668 [00:30<00:00, 22.24it/s]\n"
     ]
    },
    {
     "name": "stdout",
     "output_type": "stream",
     "text": [
      "[82/5000] train loss: 0.0001026195, valid loss: 0.0000970594  [2m8s] count: 0, \n"
     ]
    },
    {
     "name": "stderr",
     "output_type": "stream",
     "text": [
      "100%|██████████| 2683/2683 [02:10<00:00, 20.58it/s]\n",
      "100%|██████████| 668/668 [00:30<00:00, 22.04it/s]\n"
     ]
    },
    {
     "name": "stdout",
     "output_type": "stream",
     "text": [
      "[83/5000] train loss: 0.0001026191, valid loss: 0.0000970593  [2m10s] count: 1, **\n"
     ]
    },
    {
     "name": "stderr",
     "output_type": "stream",
     "text": [
      "100%|██████████| 2683/2683 [02:06<00:00, 21.27it/s]\n",
      "100%|██████████| 668/668 [00:30<00:00, 22.07it/s]\n"
     ]
    },
    {
     "name": "stdout",
     "output_type": "stream",
     "text": [
      "[84/5000] train loss: 0.0001026191, valid loss: 0.0000970592  [2m6s] count: 0, **\n"
     ]
    },
    {
     "name": "stderr",
     "output_type": "stream",
     "text": [
      "100%|██████████| 2683/2683 [02:06<00:00, 21.26it/s]\n",
      "100%|██████████| 668/668 [00:30<00:00, 22.12it/s]\n"
     ]
    },
    {
     "name": "stdout",
     "output_type": "stream",
     "text": [
      "[85/5000] train loss: 0.0001026190, valid loss: 0.0000970592  [2m6s] count: 0, **\n"
     ]
    },
    {
     "name": "stderr",
     "output_type": "stream",
     "text": [
      "100%|██████████| 2683/2683 [02:16<00:00, 19.66it/s]\n",
      "100%|██████████| 668/668 [00:39<00:00, 16.84it/s]\n"
     ]
    },
    {
     "name": "stdout",
     "output_type": "stream",
     "text": [
      "[86/5000] train loss: 0.0001026189, valid loss: 0.0000970592  [2m16s] count: 0, \n"
     ]
    },
    {
     "name": "stderr",
     "output_type": "stream",
     "text": [
      "100%|██████████| 2683/2683 [03:07<00:00, 14.32it/s]\n",
      "100%|██████████| 668/668 [00:37<00:00, 18.00it/s]\n"
     ]
    },
    {
     "name": "stdout",
     "output_type": "stream",
     "text": [
      "[87/5000] train loss: 0.0001026186, valid loss: 0.0000970591  [3m7s] count: 1, **\n"
     ]
    },
    {
     "name": "stderr",
     "output_type": "stream",
     "text": [
      "100%|██████████| 2683/2683 [02:48<00:00, 15.90it/s]\n",
      "100%|██████████| 668/668 [00:40<00:00, 16.52it/s]\n"
     ]
    },
    {
     "name": "stdout",
     "output_type": "stream",
     "text": [
      "[88/5000] train loss: 0.0001026185, valid loss: 0.0000970590  [2m49s] count: 0, **\n"
     ]
    },
    {
     "name": "stderr",
     "output_type": "stream",
     "text": [
      "100%|██████████| 2683/2683 [02:47<00:00, 16.06it/s]\n",
      "100%|██████████| 668/668 [00:38<00:00, 17.30it/s]\n"
     ]
    },
    {
     "name": "stdout",
     "output_type": "stream",
     "text": [
      "[89/5000] train loss: 0.0001026184, valid loss: 0.0000970590  [2m47s] count: 0, \n"
     ]
    },
    {
     "name": "stderr",
     "output_type": "stream",
     "text": [
      "100%|██████████| 2683/2683 [03:02<00:00, 14.71it/s]\n",
      "100%|██████████| 668/668 [00:47<00:00, 14.03it/s]\n"
     ]
    },
    {
     "name": "stdout",
     "output_type": "stream",
     "text": [
      "[90/5000] train loss: 0.0001026181, valid loss: 0.0000970589  [3m2s] count: 1, **\n"
     ]
    },
    {
     "name": "stderr",
     "output_type": "stream",
     "text": [
      "100%|██████████| 2683/2683 [03:06<00:00, 14.36it/s]\n",
      "100%|██████████| 668/668 [00:44<00:00, 15.01it/s]\n"
     ]
    },
    {
     "name": "stdout",
     "output_type": "stream",
     "text": [
      "[91/5000] train loss: 0.0001026180, valid loss: 0.0000970589  [3m7s] count: 0, \n"
     ]
    },
    {
     "name": "stderr",
     "output_type": "stream",
     "text": [
      "100%|██████████| 2683/2683 [02:58<00:00, 15.01it/s]\n",
      "100%|██████████| 668/668 [00:44<00:00, 14.91it/s]\n"
     ]
    },
    {
     "name": "stdout",
     "output_type": "stream",
     "text": [
      "[92/5000] train loss: 0.0001026177, valid loss: 0.0000970589  [2m59s] count: 1, **\n"
     ]
    },
    {
     "name": "stderr",
     "output_type": "stream",
     "text": [
      "100%|██████████| 2683/2683 [03:04<00:00, 14.55it/s]\n",
      "100%|██████████| 668/668 [00:44<00:00, 15.06it/s]\n"
     ]
    },
    {
     "name": "stdout",
     "output_type": "stream",
     "text": [
      "[93/5000] train loss: 0.0001026176, valid loss: 0.0000970588  [3m4s] count: 0, **\n"
     ]
    },
    {
     "name": "stderr",
     "output_type": "stream",
     "text": [
      "100%|██████████| 2683/2683 [03:05<00:00, 14.48it/s]\n",
      "100%|██████████| 668/668 [00:44<00:00, 15.05it/s]\n"
     ]
    },
    {
     "name": "stdout",
     "output_type": "stream",
     "text": [
      "[94/5000] train loss: 0.0001026176, valid loss: 0.0000970589  [3m5s] count: 0, \n"
     ]
    },
    {
     "name": "stderr",
     "output_type": "stream",
     "text": [
      "100%|██████████| 2683/2683 [03:05<00:00, 14.47it/s]\n",
      "100%|██████████| 668/668 [00:43<00:00, 15.42it/s]\n"
     ]
    },
    {
     "name": "stdout",
     "output_type": "stream",
     "text": [
      "[95/5000] train loss: 0.0001026173, valid loss: 0.0000970588  [3m5s] count: 1, **\n"
     ]
    },
    {
     "name": "stderr",
     "output_type": "stream",
     "text": [
      "100%|██████████| 2683/2683 [03:00<00:00, 14.85it/s]\n",
      "100%|██████████| 668/668 [00:44<00:00, 15.12it/s]\n"
     ]
    },
    {
     "name": "stdout",
     "output_type": "stream",
     "text": [
      "[96/5000] train loss: 0.0001026172, valid loss: 0.0000970587  [3m1s] count: 0, **\n"
     ]
    },
    {
     "name": "stderr",
     "output_type": "stream",
     "text": [
      "100%|██████████| 2683/2683 [03:07<00:00, 14.28it/s]\n",
      "100%|██████████| 668/668 [00:43<00:00, 15.19it/s]\n"
     ]
    },
    {
     "name": "stdout",
     "output_type": "stream",
     "text": [
      "[97/5000] train loss: 0.0001026172, valid loss: 0.0000970588  [3m8s] count: 0, \n"
     ]
    },
    {
     "name": "stderr",
     "output_type": "stream",
     "text": [
      "100%|██████████| 2683/2683 [03:09<00:00, 14.18it/s]\n",
      "100%|██████████| 668/668 [00:43<00:00, 15.31it/s]\n"
     ]
    },
    {
     "name": "stdout",
     "output_type": "stream",
     "text": [
      "[98/5000] train loss: 0.0001026169, valid loss: 0.0000970587  [3m9s] count: 1, \n"
     ]
    },
    {
     "name": "stderr",
     "output_type": "stream",
     "text": [
      "100%|██████████| 2683/2683 [04:25<00:00, 10.12it/s]\n",
      "100%|██████████| 668/668 [00:44<00:00, 15.07it/s]\n"
     ]
    },
    {
     "name": "stdout",
     "output_type": "stream",
     "text": [
      "[99/5000] train loss: 0.0001026166, valid loss: 0.0000970585  [4m25s] count: 2, **\n"
     ]
    },
    {
     "name": "stderr",
     "output_type": "stream",
     "text": [
      "100%|██████████| 2683/2683 [03:13<00:00, 13.87it/s]\n",
      "100%|██████████| 668/668 [00:45<00:00, 14.81it/s]\n"
     ]
    },
    {
     "name": "stdout",
     "output_type": "stream",
     "text": [
      "[100/5000] train loss: 0.0001026165, valid loss: 0.0000970587  [3m14s] count: 0, \n"
     ]
    },
    {
     "name": "stderr",
     "output_type": "stream",
     "text": [
      "100%|██████████| 2683/2683 [03:11<00:00, 14.00it/s]\n",
      "100%|██████████| 668/668 [00:43<00:00, 15.23it/s]\n"
     ]
    },
    {
     "name": "stdout",
     "output_type": "stream",
     "text": [
      "[101/5000] train loss: 0.0001026162, valid loss: 0.0000970586  [3m12s] count: 1, \n"
     ]
    },
    {
     "name": "stderr",
     "output_type": "stream",
     "text": [
      "100%|██████████| 2683/2683 [03:09<00:00, 14.14it/s]\n",
      "100%|██████████| 668/668 [00:45<00:00, 14.60it/s]\n"
     ]
    },
    {
     "name": "stdout",
     "output_type": "stream",
     "text": [
      "[102/5000] train loss: 0.0001026160, valid loss: 0.0000970585  [3m10s] count: 2, **\n"
     ]
    },
    {
     "name": "stderr",
     "output_type": "stream",
     "text": [
      "100%|██████████| 2683/2683 [03:08<00:00, 14.27it/s]\n",
      "100%|██████████| 668/668 [00:46<00:00, 14.37it/s]\n"
     ]
    },
    {
     "name": "stdout",
     "output_type": "stream",
     "text": [
      "[103/5000] train loss: 0.0001026160, valid loss: 0.0000970584  [3m8s] count: 0, **\n"
     ]
    },
    {
     "name": "stderr",
     "output_type": "stream",
     "text": [
      "100%|██████████| 2683/2683 [02:40<00:00, 16.72it/s]\n",
      "100%|██████████| 668/668 [00:36<00:00, 18.14it/s]\n"
     ]
    },
    {
     "name": "stdout",
     "output_type": "stream",
     "text": [
      "[104/5000] train loss: 0.0001026159, valid loss: 0.0000970584  [2m40s] count: 0, **\n"
     ]
    },
    {
     "name": "stderr",
     "output_type": "stream",
     "text": [
      "100%|██████████| 2683/2683 [02:36<00:00, 17.12it/s]\n",
      "100%|██████████| 668/668 [00:34<00:00, 19.31it/s]\n"
     ]
    },
    {
     "name": "stdout",
     "output_type": "stream",
     "text": [
      "[105/5000] train loss: 0.0001026158, valid loss: 0.0000970585  [2m37s] count: 0, \n"
     ]
    },
    {
     "name": "stderr",
     "output_type": "stream",
     "text": [
      "100%|██████████| 2683/2683 [02:17<00:00, 19.45it/s]\n",
      "100%|██████████| 668/668 [00:32<00:00, 20.42it/s]\n"
     ]
    },
    {
     "name": "stdout",
     "output_type": "stream",
     "text": [
      "[106/5000] train loss: 0.0001026156, valid loss: 0.0000970585  [2m18s] count: 1, \n"
     ]
    },
    {
     "name": "stderr",
     "output_type": "stream",
     "text": [
      "100%|██████████| 2683/2683 [02:18<00:00, 19.33it/s]\n",
      "100%|██████████| 668/668 [00:32<00:00, 20.33it/s]\n"
     ]
    },
    {
     "name": "stdout",
     "output_type": "stream",
     "text": [
      "[107/5000] train loss: 0.0001026154, valid loss: 0.0000970584  [2m19s] count: 2, **\n"
     ]
    },
    {
     "name": "stderr",
     "output_type": "stream",
     "text": [
      "100%|██████████| 2683/2683 [02:17<00:00, 19.46it/s]\n",
      "100%|██████████| 668/668 [00:32<00:00, 20.82it/s]\n"
     ]
    },
    {
     "name": "stdout",
     "output_type": "stream",
     "text": [
      "[108/5000] train loss: 0.0001026153, valid loss: 0.0000970584  [2m18s] count: 0, **\n"
     ]
    },
    {
     "name": "stderr",
     "output_type": "stream",
     "text": [
      "100%|██████████| 2683/2683 [02:17<00:00, 19.53it/s]\n",
      "100%|██████████| 668/668 [00:32<00:00, 20.57it/s]\n"
     ]
    },
    {
     "name": "stdout",
     "output_type": "stream",
     "text": [
      "[109/5000] train loss: 0.0001026153, valid loss: 0.0000970583  [2m17s] count: 0, **\n"
     ]
    },
    {
     "name": "stderr",
     "output_type": "stream",
     "text": [
      "100%|██████████| 2683/2683 [02:17<00:00, 19.51it/s]\n",
      "100%|██████████| 668/668 [00:32<00:00, 20.71it/s]\n"
     ]
    },
    {
     "name": "stdout",
     "output_type": "stream",
     "text": [
      "[110/5000] train loss: 0.0001026153, valid loss: 0.0000970584  [2m18s] count: 0, \n"
     ]
    },
    {
     "name": "stderr",
     "output_type": "stream",
     "text": [
      "100%|██████████| 2683/2683 [02:17<00:00, 19.52it/s]\n",
      "100%|██████████| 668/668 [00:32<00:00, 20.53it/s]\n"
     ]
    },
    {
     "name": "stdout",
     "output_type": "stream",
     "text": [
      "[111/5000] train loss: 0.0001026150, valid loss: 0.0000970583  [2m17s] count: 1, **\n"
     ]
    },
    {
     "name": "stderr",
     "output_type": "stream",
     "text": [
      "100%|██████████| 2683/2683 [02:17<00:00, 19.56it/s]\n",
      "100%|██████████| 668/668 [00:32<00:00, 20.58it/s]\n"
     ]
    },
    {
     "name": "stdout",
     "output_type": "stream",
     "text": [
      "[112/5000] train loss: 0.0001026150, valid loss: 0.0000970583  [2m17s] count: 0, \n"
     ]
    },
    {
     "name": "stderr",
     "output_type": "stream",
     "text": [
      "100%|██████████| 2683/2683 [02:15<00:00, 19.73it/s]\n",
      "100%|██████████| 668/668 [00:32<00:00, 20.87it/s]\n"
     ]
    },
    {
     "name": "stdout",
     "output_type": "stream",
     "text": [
      "[113/5000] train loss: 0.0001026148, valid loss: 0.0000970582  [2m16s] count: 1, **\n"
     ]
    },
    {
     "name": "stderr",
     "output_type": "stream",
     "text": [
      "100%|██████████| 2683/2683 [02:17<00:00, 19.52it/s]\n",
      "100%|██████████| 668/668 [00:32<00:00, 20.69it/s]\n"
     ]
    },
    {
     "name": "stdout",
     "output_type": "stream",
     "text": [
      "[114/5000] train loss: 0.0001026147, valid loss: 0.0000970582  [2m17s] count: 0, \n"
     ]
    },
    {
     "name": "stderr",
     "output_type": "stream",
     "text": [
      "100%|██████████| 2683/2683 [02:17<00:00, 19.45it/s]\n",
      "100%|██████████| 668/668 [00:32<00:00, 20.73it/s]\n"
     ]
    },
    {
     "name": "stdout",
     "output_type": "stream",
     "text": [
      "[115/5000] train loss: 0.0001026145, valid loss: 0.0000970582  [2m18s] count: 1, **\n"
     ]
    },
    {
     "name": "stderr",
     "output_type": "stream",
     "text": [
      "100%|██████████| 2683/2683 [02:16<00:00, 19.62it/s]\n",
      "100%|██████████| 668/668 [00:32<00:00, 20.69it/s]\n"
     ]
    },
    {
     "name": "stdout",
     "output_type": "stream",
     "text": [
      "[116/5000] train loss: 0.0001026145, valid loss: 0.0000970581  [2m17s] count: 0, **\n"
     ]
    },
    {
     "name": "stderr",
     "output_type": "stream",
     "text": [
      "100%|██████████| 2683/2683 [02:17<00:00, 19.58it/s]\n",
      "100%|██████████| 668/668 [00:32<00:00, 20.66it/s]\n"
     ]
    },
    {
     "name": "stdout",
     "output_type": "stream",
     "text": [
      "[117/5000] train loss: 0.0001026145, valid loss: 0.0000970581  [2m17s] count: 0, \n"
     ]
    },
    {
     "name": "stderr",
     "output_type": "stream",
     "text": [
      "100%|██████████| 2683/2683 [02:19<00:00, 19.22it/s]\n",
      "100%|██████████| 668/668 [00:32<00:00, 20.79it/s]\n"
     ]
    },
    {
     "name": "stdout",
     "output_type": "stream",
     "text": [
      "[118/5000] train loss: 0.0001026142, valid loss: 0.0000970580  [2m20s] count: 1, **\n"
     ]
    },
    {
     "name": "stderr",
     "output_type": "stream",
     "text": [
      "100%|██████████| 2683/2683 [02:17<00:00, 19.45it/s]\n",
      "100%|██████████| 668/668 [00:32<00:00, 20.80it/s]\n"
     ]
    },
    {
     "name": "stdout",
     "output_type": "stream",
     "text": [
      "[119/5000] train loss: 0.0001026142, valid loss: 0.0000970580  [2m18s] count: 0, \n"
     ]
    },
    {
     "name": "stderr",
     "output_type": "stream",
     "text": [
      "100%|██████████| 2683/2683 [02:17<00:00, 19.58it/s]\n",
      "100%|██████████| 668/668 [00:32<00:00, 20.46it/s]\n"
     ]
    },
    {
     "name": "stdout",
     "output_type": "stream",
     "text": [
      "[120/5000] train loss: 0.0001026141, valid loss: 0.0000970580  [2m17s] count: 1, \n"
     ]
    },
    {
     "name": "stderr",
     "output_type": "stream",
     "text": [
      "100%|██████████| 2683/2683 [02:17<00:00, 19.48it/s]\n",
      "100%|██████████| 668/668 [00:31<00:00, 20.91it/s]\n"
     ]
    },
    {
     "name": "stdout",
     "output_type": "stream",
     "text": [
      "[121/5000] train loss: 0.0001026138, valid loss: 0.0000970580  [2m18s] count: 2, **\n"
     ]
    },
    {
     "name": "stderr",
     "output_type": "stream",
     "text": [
      "100%|██████████| 2683/2683 [02:17<00:00, 19.56it/s]\n",
      "100%|██████████| 668/668 [00:32<00:00, 20.60it/s]\n"
     ]
    },
    {
     "name": "stdout",
     "output_type": "stream",
     "text": [
      "[122/5000] train loss: 0.0001026138, valid loss: 0.0000970579  [2m17s] count: 0, **\n"
     ]
    },
    {
     "name": "stderr",
     "output_type": "stream",
     "text": [
      "100%|██████████| 2683/2683 [02:17<00:00, 19.51it/s]\n",
      "100%|██████████| 668/668 [00:35<00:00, 18.82it/s]\n"
     ]
    },
    {
     "name": "stdout",
     "output_type": "stream",
     "text": [
      "[123/5000] train loss: 0.0001026138, valid loss: 0.0000970579  [2m17s] count: 0, **\n"
     ]
    },
    {
     "name": "stderr",
     "output_type": "stream",
     "text": [
      "100%|██████████| 2683/2683 [02:16<00:00, 19.60it/s]\n",
      "100%|██████████| 668/668 [00:32<00:00, 20.68it/s]\n"
     ]
    },
    {
     "name": "stdout",
     "output_type": "stream",
     "text": [
      "[124/5000] train loss: 0.0001026138, valid loss: 0.0000970578  [2m17s] count: 0, **\n"
     ]
    },
    {
     "name": "stderr",
     "output_type": "stream",
     "text": [
      "100%|██████████| 2683/2683 [02:21<00:00, 19.03it/s]\n",
      "100%|██████████| 668/668 [00:32<00:00, 20.80it/s]\n"
     ]
    },
    {
     "name": "stdout",
     "output_type": "stream",
     "text": [
      "[125/5000] train loss: 0.0001026137, valid loss: 0.0000970580  [2m21s] count: 0, \n"
     ]
    },
    {
     "name": "stderr",
     "output_type": "stream",
     "text": [
      "100%|██████████| 2683/2683 [02:18<00:00, 19.34it/s]\n",
      "100%|██████████| 668/668 [00:32<00:00, 20.64it/s]\n"
     ]
    },
    {
     "name": "stdout",
     "output_type": "stream",
     "text": [
      "[126/5000] train loss: 0.0001026136, valid loss: 0.0000970578  [2m19s] count: 1, **\n"
     ]
    },
    {
     "name": "stderr",
     "output_type": "stream",
     "text": [
      "100%|██████████| 2683/2683 [02:16<00:00, 19.66it/s]\n",
      "100%|██████████| 668/668 [00:32<00:00, 20.79it/s]\n"
     ]
    },
    {
     "name": "stdout",
     "output_type": "stream",
     "text": [
      "[127/5000] train loss: 0.0001026135, valid loss: 0.0000970579  [2m16s] count: 0, \n"
     ]
    },
    {
     "name": "stderr",
     "output_type": "stream",
     "text": [
      "100%|██████████| 2683/2683 [02:16<00:00, 19.71it/s]\n",
      "100%|██████████| 668/668 [00:32<00:00, 20.68it/s]\n"
     ]
    },
    {
     "name": "stdout",
     "output_type": "stream",
     "text": [
      "[128/5000] train loss: 0.0001026134, valid loss: 0.0000970578  [2m16s] count: 1, \n"
     ]
    },
    {
     "name": "stderr",
     "output_type": "stream",
     "text": [
      "100%|██████████| 2683/2683 [02:18<00:00, 19.34it/s]\n",
      "100%|██████████| 668/668 [00:32<00:00, 20.42it/s]\n"
     ]
    },
    {
     "name": "stdout",
     "output_type": "stream",
     "text": [
      "[129/5000] train loss: 0.0001026132, valid loss: 0.0000970577  [2m19s] count: 2, **\n"
     ]
    },
    {
     "name": "stderr",
     "output_type": "stream",
     "text": [
      "100%|██████████| 2683/2683 [02:16<00:00, 19.65it/s]\n",
      "100%|██████████| 668/668 [01:42<00:00,  6.51it/s]  \n"
     ]
    },
    {
     "name": "stdout",
     "output_type": "stream",
     "text": [
      "[130/5000] train loss: 0.0001026132, valid loss: 0.0000970578  [2m17s] count: 0, \n"
     ]
    },
    {
     "name": "stderr",
     "output_type": "stream",
     "text": [
      "100%|██████████| 2683/2683 [02:17<00:00, 19.45it/s]\n",
      "100%|██████████| 668/668 [00:32<00:00, 20.65it/s]\n"
     ]
    },
    {
     "name": "stdout",
     "output_type": "stream",
     "text": [
      "[131/5000] train loss: 0.0001026131, valid loss: 0.0000970576  [2m18s] count: 1, **\n"
     ]
    },
    {
     "name": "stderr",
     "output_type": "stream",
     "text": [
      "100%|██████████| 2683/2683 [02:16<00:00, 19.59it/s]\n",
      "100%|██████████| 668/668 [00:32<00:00, 20.63it/s]\n"
     ]
    },
    {
     "name": "stdout",
     "output_type": "stream",
     "text": [
      "[132/5000] train loss: 0.0001026130, valid loss: 0.0000970578  [2m17s] count: 0, \n"
     ]
    },
    {
     "name": "stderr",
     "output_type": "stream",
     "text": [
      "100%|██████████| 2683/2683 [02:16<00:00, 19.64it/s]\n",
      "100%|██████████| 668/668 [00:32<00:00, 20.76it/s]\n"
     ]
    },
    {
     "name": "stdout",
     "output_type": "stream",
     "text": [
      "[133/5000] train loss: 0.0001026129, valid loss: 0.0000970577  [2m17s] count: 1, \n"
     ]
    },
    {
     "name": "stderr",
     "output_type": "stream",
     "text": [
      "100%|██████████| 2683/2683 [02:19<00:00, 19.23it/s]\n",
      "100%|██████████| 668/668 [00:33<00:00, 20.23it/s]"
     ]
    },
    {
     "name": "stdout",
     "output_type": "stream",
     "text": [
      "[134/5000] train loss: 0.0001026128, valid loss: 0.0000970577  [2m20s] count: 2, \n"
     ]
    },
    {
     "name": "stderr",
     "output_type": "stream",
     "text": [
      "\n"
     ]
    }
   ],
   "source": [
    "epoch = 5000\n",
    "# best_loss = float('Inf')\n",
    "# best_model = None\n",
    "patience = 3\n",
    "counter = 0\n",
    "\n",
    "for loop in range(1, epoch + 1):\n",
    "    \n",
    "    start_time = time.time()\n",
    "    \n",
    "    loss_train = train(\n",
    "        model=model, ds=ds, optimizer=optimizer,\n",
    "        criterion=criterion, batch_size=batch_size\n",
    "    )\n",
    "    \n",
    "    elapsed_time = time.time() - start_time\n",
    "    \n",
    "    loss_valid = evaluate(\n",
    "        model=model, ds=ds, criterion=criterion,batch_size=batch_size\n",
    "    )\n",
    "    \n",
    "    print('[{}/{}] train loss: {:.10f}, valid loss: {:.10f}  [{}{:.0f}s] count: {}, {}'.format(\n",
    "        loop, epoch,\n",
    "        loss_train, loss_valid,\n",
    "        str(int(math.floor(elapsed_time / 60))) + 'm' if math.floor(elapsed_time / 60) > 0 else '',\n",
    "        elapsed_time % 60,\n",
    "        counter,\n",
    "        '**' if best_loss > loss_valid else ''\n",
    "    ))\n",
    "    \n",
    "    if best_loss > loss_valid:\n",
    "        best_loss = loss_valid\n",
    "        best_model = model\n",
    "        counter = 0\n",
    "    else:\n",
    "        counter += 1\n",
    "        scheduler.step()\n",
    "        \n",
    "    if counter >= patience:\n",
    "        break"
   ]
  },
  {
   "cell_type": "code",
   "execution_count": 77,
   "metadata": {},
   "outputs": [],
   "source": [
    "model_path = f'{model_name}_v{model_version}.torch'\n",
    "torch.save({\n",
    "    'model_state_dict': model.state_dict(),\n",
    "    'optimizer_state_dict': optimizer.state_dict(),\n",
    "    'scheduler_state_dict': scheduler.state_dict(),\n",
    "}, model_path)"
   ]
  },
  {
   "cell_type": "markdown",
   "metadata": {},
   "source": [
    "### Validation"
   ]
  },
  {
   "cell_type": "code",
   "execution_count": 78,
   "metadata": {},
   "outputs": [
    {
     "name": "stderr",
     "output_type": "stream",
     "text": [
      "100%|██████████| 668/668 [00:44<00:00, 15.13it/s]\n"
     ]
    }
   ],
   "source": [
    "ds.eval()\n",
    "model.eval()\n",
    "\n",
    "src_values = None\n",
    "predicted_values = None\n",
    "memory_values = None\n",
    "\n",
    "end_index = len(ds) - batch_size\n",
    "for index in tqdm(range(0, end_index, batch_size)):\n",
    "    src, _ = ds[index:index+batch_size]\n",
    "\n",
    "    output, memory = model(src)\n",
    "    \n",
    "    if src_values is None:\n",
    "        src_values = src.detach().cpu().numpy()\n",
    "        predicted_values = output.detach().cpu().numpy()\n",
    "        memory_values = memory.detach().cpu().numpy()\n",
    "    else:\n",
    "        src_values = np.append(src_values, src.detach().cpu().numpy(), axis=0)\n",
    "        predicted_values = np.append(predicted_values, output.detach().cpu().numpy(), axis=0)\n",
    "        memory_values = np.append(memory_values, memory.detach().cpu().numpy(), axis=0)"
   ]
  },
  {
   "cell_type": "code",
   "execution_count": 90,
   "metadata": {},
   "outputs": [
    {
     "name": "stderr",
     "output_type": "stream",
     "text": [
      "C:\\Users\\sato\\AppData\\Local\\Temp\\ipykernel_46192\\1935454723.py:8: UserWarning: Matplotlib is currently using module://matplotlib_inline.backend_inline, which is a non-GUI backend, so cannot show the figure.\n",
      "  fig.show()\n"
     ]
    },
    {
     "data": {
      "image/png": "[encoded data removed]",
      "text/plain": [
       "<Figure size 1000x1000 with 60 Axes>"
      ]
     },
     "metadata": {},
     "output_type": "display_data"
    }
   ],
   "source": [
    "import matplotlib.pyplot as plt\n",
    "\n",
    "fig, axs = plt.subplots(nrows=6, ncols=10, figsize=(10, 10))\n",
    "for observation_index in range(0, observation_length):\n",
    "    row = observation_index // 10\n",
    "    column = observation_index % 10\n",
    "    axs[row, column].scatter(x=src_values[:, observation_index, 0], y=predicted_values[:, observation_index], alpha=0.3)\n",
    "fig.show()"
   ]
  },
  {
   "cell_type": "code",
   "execution_count": 92,
   "metadata": {},
   "outputs": [
    {
     "data": {
      "image/png": "[encoded data removed]",
      "text/plain": [
       "<Figure size 640x480 with 1 Axes>"
      ]
     },
     "metadata": {},
     "output_type": "display_data"
    }
   ],
   "source": [
    "for observation_index in range(0, observation_length):\n",
    "    plt.hist(predicted_values[:, observation_index] - src_values[:, observation_index, 0], alpha=0.3, bins=100)\n",
    "plt.xlim(-0.5, 0.5)\n",
    "plt.show()"
   ]
  },
  {
   "cell_type": "code",
   "execution_count": 95,
   "metadata": {},
   "outputs": [
    {
     "data": {
      "text/plain": [
       "count    20040.000000\n",
       "mean         0.001505\n",
       "std          0.080778\n",
       "min         -1.729000\n",
       "25%         -0.030000\n",
       "50%          0.002000\n",
       "75%          0.034000\n",
       "max          1.474000\n",
       "dtype: float64"
      ]
     },
     "execution_count": 95,
     "metadata": {},
     "output_type": "execute_result"
    }
   ],
   "source": [
    "pd.Series(src_values[:, 0, 0]).describe()"
   ]
  },
  {
   "cell_type": "code",
   "execution_count": 101,
   "metadata": {},
   "outputs": [],
   "source": [
    "total_stats = None\n",
    "\n",
    "for index in range(0, memory_values.shape[1]):\n",
    "    stats = pd.Series(memory_values[:, index]).describe()\n",
    "    stats.name = index\n",
    "    if total_stats is None:\n",
    "        total_stats = stats\n",
    "    else:\n",
    "        total_stats = pd.concat([total_stats, stats], axis=1)"
   ]
  },
  {
   "cell_type": "code",
   "execution_count": 102,
   "metadata": {},
   "outputs": [
    {
     "data": {
      "text/html": [
       "<div>\n",
       "<style scoped>\n",
       "    .dataframe tbody tr th:only-of-type {\n",
       "        vertical-align: middle;\n",
       "    }\n",
       "\n",
       "    .dataframe tbody tr th {\n",
       "        vertical-align: top;\n",
       "    }\n",
       "\n",
       "    .dataframe thead th {\n",
       "        text-align: right;\n",
       "    }\n",
       "</style>\n",
       "<table border=\"1\" class=\"dataframe\">\n",
       "  <thead>\n",
       "    <tr style=\"text-align: right;\">\n",
       "      <th></th>\n",
       "      <th>0</th>\n",
       "      <th>1</th>\n",
       "      <th>2</th>\n",
       "      <th>3</th>\n",
       "      <th>4</th>\n",
       "      <th>5</th>\n",
       "      <th>6</th>\n",
       "      <th>7</th>\n",
       "      <th>8</th>\n",
       "      <th>9</th>\n",
       "      <th>...</th>\n",
       "      <th>20</th>\n",
       "      <th>21</th>\n",
       "      <th>22</th>\n",
       "      <th>23</th>\n",
       "      <th>24</th>\n",
       "      <th>25</th>\n",
       "      <th>26</th>\n",
       "      <th>27</th>\n",
       "      <th>28</th>\n",
       "      <th>29</th>\n",
       "    </tr>\n",
       "  </thead>\n",
       "  <tbody>\n",
       "    <tr>\n",
       "      <th>count</th>\n",
       "      <td>20040.000000</td>\n",
       "      <td>20040.000000</td>\n",
       "      <td>20040.000000</td>\n",
       "      <td>20040.000000</td>\n",
       "      <td>20040.000000</td>\n",
       "      <td>20040.000000</td>\n",
       "      <td>20040.000000</td>\n",
       "      <td>20040.000000</td>\n",
       "      <td>20040.000000</td>\n",
       "      <td>20040.000000</td>\n",
       "      <td>...</td>\n",
       "      <td>20040.000000</td>\n",
       "      <td>20040.000000</td>\n",
       "      <td>20040.000000</td>\n",
       "      <td>20040.000000</td>\n",
       "      <td>20040.000000</td>\n",
       "      <td>20040.000000</td>\n",
       "      <td>20040.000000</td>\n",
       "      <td>20040.000000</td>\n",
       "      <td>20040.000000</td>\n",
       "      <td>20040.000000</td>\n",
       "    </tr>\n",
       "    <tr>\n",
       "      <th>mean</th>\n",
       "      <td>0.005203</td>\n",
       "      <td>0.010382</td>\n",
       "      <td>-0.024180</td>\n",
       "      <td>-0.050130</td>\n",
       "      <td>0.003588</td>\n",
       "      <td>-0.017958</td>\n",
       "      <td>0.017709</td>\n",
       "      <td>0.007370</td>\n",
       "      <td>-0.051583</td>\n",
       "      <td>-0.022627</td>\n",
       "      <td>...</td>\n",
       "      <td>0.020581</td>\n",
       "      <td>0.004815</td>\n",
       "      <td>0.029761</td>\n",
       "      <td>0.012570</td>\n",
       "      <td>0.000258</td>\n",
       "      <td>-0.011488</td>\n",
       "      <td>-0.007063</td>\n",
       "      <td>-0.043851</td>\n",
       "      <td>-0.002466</td>\n",
       "      <td>-0.001163</td>\n",
       "    </tr>\n",
       "    <tr>\n",
       "      <th>std</th>\n",
       "      <td>0.146542</td>\n",
       "      <td>0.104881</td>\n",
       "      <td>0.102056</td>\n",
       "      <td>0.099184</td>\n",
       "      <td>0.098350</td>\n",
       "      <td>0.118785</td>\n",
       "      <td>0.113273</td>\n",
       "      <td>0.093674</td>\n",
       "      <td>0.090197</td>\n",
       "      <td>0.118910</td>\n",
       "      <td>...</td>\n",
       "      <td>0.105825</td>\n",
       "      <td>0.112336</td>\n",
       "      <td>0.092987</td>\n",
       "      <td>0.120917</td>\n",
       "      <td>0.139932</td>\n",
       "      <td>0.116591</td>\n",
       "      <td>0.091931</td>\n",
       "      <td>0.082767</td>\n",
       "      <td>0.063895</td>\n",
       "      <td>0.129054</td>\n",
       "    </tr>\n",
       "    <tr>\n",
       "      <th>min</th>\n",
       "      <td>-1.380149</td>\n",
       "      <td>-0.856516</td>\n",
       "      <td>-1.348817</td>\n",
       "      <td>-0.910740</td>\n",
       "      <td>-1.009319</td>\n",
       "      <td>-1.220056</td>\n",
       "      <td>-0.854667</td>\n",
       "      <td>-1.121812</td>\n",
       "      <td>-0.916024</td>\n",
       "      <td>-1.046018</td>\n",
       "      <td>...</td>\n",
       "      <td>-1.037432</td>\n",
       "      <td>-1.194028</td>\n",
       "      <td>-0.698034</td>\n",
       "      <td>-1.361310</td>\n",
       "      <td>-1.676544</td>\n",
       "      <td>-1.181880</td>\n",
       "      <td>-0.946566</td>\n",
       "      <td>-0.987448</td>\n",
       "      <td>-0.624981</td>\n",
       "      <td>-1.605844</td>\n",
       "    </tr>\n",
       "    <tr>\n",
       "      <th>25%</th>\n",
       "      <td>-0.059045</td>\n",
       "      <td>-0.031200</td>\n",
       "      <td>-0.077377</td>\n",
       "      <td>-0.096783</td>\n",
       "      <td>-0.033380</td>\n",
       "      <td>-0.072769</td>\n",
       "      <td>-0.040564</td>\n",
       "      <td>-0.043309</td>\n",
       "      <td>-0.089059</td>\n",
       "      <td>-0.078327</td>\n",
       "      <td>...</td>\n",
       "      <td>-0.026476</td>\n",
       "      <td>-0.044384</td>\n",
       "      <td>-0.015727</td>\n",
       "      <td>-0.040171</td>\n",
       "      <td>-0.043019</td>\n",
       "      <td>-0.052057</td>\n",
       "      <td>-0.047406</td>\n",
       "      <td>-0.079360</td>\n",
       "      <td>-0.030471</td>\n",
       "      <td>-0.054923</td>\n",
       "    </tr>\n",
       "    <tr>\n",
       "      <th>50%</th>\n",
       "      <td>0.012627</td>\n",
       "      <td>0.018476</td>\n",
       "      <td>-0.033972</td>\n",
       "      <td>-0.052403</td>\n",
       "      <td>0.014399</td>\n",
       "      <td>-0.015294</td>\n",
       "      <td>0.007272</td>\n",
       "      <td>-0.002284</td>\n",
       "      <td>-0.041268</td>\n",
       "      <td>-0.020710</td>\n",
       "      <td>...</td>\n",
       "      <td>0.029087</td>\n",
       "      <td>0.010879</td>\n",
       "      <td>0.024155</td>\n",
       "      <td>0.021050</td>\n",
       "      <td>0.033491</td>\n",
       "      <td>0.002568</td>\n",
       "      <td>0.000284</td>\n",
       "      <td>-0.035454</td>\n",
       "      <td>0.003655</td>\n",
       "      <td>0.002972</td>\n",
       "    </tr>\n",
       "    <tr>\n",
       "      <th>75%</th>\n",
       "      <td>0.073167</td>\n",
       "      <td>0.060488</td>\n",
       "      <td>0.018518</td>\n",
       "      <td>-0.007779</td>\n",
       "      <td>0.052455</td>\n",
       "      <td>0.039897</td>\n",
       "      <td>0.063509</td>\n",
       "      <td>0.046753</td>\n",
       "      <td>-0.002107</td>\n",
       "      <td>0.035311</td>\n",
       "      <td>...</td>\n",
       "      <td>0.076256</td>\n",
       "      <td>0.059693</td>\n",
       "      <td>0.070628</td>\n",
       "      <td>0.075226</td>\n",
       "      <td>0.087090</td>\n",
       "      <td>0.042597</td>\n",
       "      <td>0.041699</td>\n",
       "      <td>0.001877</td>\n",
       "      <td>0.031986</td>\n",
       "      <td>0.057826</td>\n",
       "    </tr>\n",
       "    <tr>\n",
       "      <th>max</th>\n",
       "      <td>1.378663</td>\n",
       "      <td>1.752489</td>\n",
       "      <td>0.983480</td>\n",
       "      <td>1.526475</td>\n",
       "      <td>0.749490</td>\n",
       "      <td>0.879149</td>\n",
       "      <td>1.184478</td>\n",
       "      <td>1.267104</td>\n",
       "      <td>0.657597</td>\n",
       "      <td>1.184178</td>\n",
       "      <td>...</td>\n",
       "      <td>1.032928</td>\n",
       "      <td>1.143912</td>\n",
       "      <td>0.909920</td>\n",
       "      <td>1.066042</td>\n",
       "      <td>0.288251</td>\n",
       "      <td>1.200295</td>\n",
       "      <td>0.718360</td>\n",
       "      <td>0.494268</td>\n",
       "      <td>0.476675</td>\n",
       "      <td>1.245574</td>\n",
       "    </tr>\n",
       "  </tbody>\n",
       "</table>\n",
       "<p>8 rows × 30 columns</p>\n",
       "</div>"
      ],
      "text/plain": [
       "                 0             1             2             3             4   \\\n",
       "count  20040.000000  20040.000000  20040.000000  20040.000000  20040.000000   \n",
       "mean       0.005203      0.010382     -0.024180     -0.050130      0.003588   \n",
       "std        0.146542      0.104881      0.102056      0.099184      0.098350   \n",
       "min       -1.380149     -0.856516     -1.348817     -0.910740     -1.009319   \n",
       "25%       -0.059045     -0.031200     -0.077377     -0.096783     -0.033380   \n",
       "50%        0.012627      0.018476     -0.033972     -0.052403      0.014399   \n",
       "75%        0.073167      0.060488      0.018518     -0.007779      0.052455   \n",
       "max        1.378663      1.752489      0.983480      1.526475      0.749490   \n",
       "\n",
       "                 5             6             7             8             9   \\\n",
       "count  20040.000000  20040.000000  20040.000000  20040.000000  20040.000000   \n",
       "mean      -0.017958      0.017709      0.007370     -0.051583     -0.022627   \n",
       "std        0.118785      0.113273      0.093674      0.090197      0.118910   \n",
       "min       -1.220056     -0.854667     -1.121812     -0.916024     -1.046018   \n",
       "25%       -0.072769     -0.040564     -0.043309     -0.089059     -0.078327   \n",
       "50%       -0.015294      0.007272     -0.002284     -0.041268     -0.020710   \n",
       "75%        0.039897      0.063509      0.046753     -0.002107      0.035311   \n",
       "max        0.879149      1.184478      1.267104      0.657597      1.184178   \n",
       "\n",
       "       ...            20            21            22            23  \\\n",
       "count  ...  20040.000000  20040.000000  20040.000000  20040.000000   \n",
       "mean   ...      0.020581      0.004815      0.029761      0.012570   \n",
       "std    ...      0.105825      0.112336      0.092987      0.120917   \n",
       "min    ...     -1.037432     -1.194028     -0.698034     -1.361310   \n",
       "25%    ...     -0.026476     -0.044384     -0.015727     -0.040171   \n",
       "50%    ...      0.029087      0.010879      0.024155      0.021050   \n",
       "75%    ...      0.076256      0.059693      0.070628      0.075226   \n",
       "max    ...      1.032928      1.143912      0.909920      1.066042   \n",
       "\n",
       "                 24            25            26            27            28  \\\n",
       "count  20040.000000  20040.000000  20040.000000  20040.000000  20040.000000   \n",
       "mean       0.000258     -0.011488     -0.007063     -0.043851     -0.002466   \n",
       "std        0.139932      0.116591      0.091931      0.082767      0.063895   \n",
       "min       -1.676544     -1.181880     -0.946566     -0.987448     -0.624981   \n",
       "25%       -0.043019     -0.052057     -0.047406     -0.079360     -0.030471   \n",
       "50%        0.033491      0.002568      0.000284     -0.035454      0.003655   \n",
       "75%        0.087090      0.042597      0.041699      0.001877      0.031986   \n",
       "max        0.288251      1.200295      0.718360      0.494268      0.476675   \n",
       "\n",
       "                 29  \n",
       "count  20040.000000  \n",
       "mean      -0.001163  \n",
       "std        0.129054  \n",
       "min       -1.605844  \n",
       "25%       -0.054923  \n",
       "50%        0.002972  \n",
       "75%        0.057826  \n",
       "max        1.245574  \n",
       "\n",
       "[8 rows x 30 columns]"
      ]
     },
     "execution_count": 102,
     "metadata": {},
     "output_type": "execute_result"
    }
   ],
   "source": [
    "total_stats"
   ]
  },
  {
   "cell_type": "code",
   "execution_count": 103,
   "metadata": {},
   "outputs": [],
   "source": [
    "total_stats.to_csv(f\"{model_name}_{model_version}.csv\")"
   ]
  },
  {
   "cell_type": "markdown",
   "metadata": {},
   "source": [
    "### Data Argument by Simulation"
   ]
  },
  {
   "cell_type": "code",
   "execution_count": 104,
   "metadata": {},
   "outputs": [],
   "source": [
    "import sys\n",
    "\n",
    "module_path = os.path.abspath(\"../..\")\n",
    "sys.path.append(module_path)\n",
    "\n",
    "from Dataset.generator import AgentSimulationTrainDataGenerator\n",
    "from fprocess import fprocess"
   ]
  },
  {
   "cell_type": "code",
   "execution_count": null,
   "metadata": {},
   "outputs": [],
   "source": [
    "generator = AgentSimulationTrainDataGenerator(100, )"
   ]
  }
 ],
 "metadata": {
  "language_info": {
   "name": "python"
  }
 },
 "nbformat": 4,
 "nbformat_minor": 2
}
