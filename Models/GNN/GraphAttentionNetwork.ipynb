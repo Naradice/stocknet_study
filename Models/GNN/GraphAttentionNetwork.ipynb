{
 "cells": [
  {
   "cell_type": "markdown",
   "metadata": {},
   "source": [
    "グラフ\n",
    "\n",
    "ノード: 各通貨（USD, EUR, JPY）や経済指標（GDP, インフレ率、失業率）をノードとする。\n",
    "\n",
    "エッジ: 通貨間（為替レートの相関性や取引量）や通貨と経済指標間の関係性を初期的な隣接行列 𝐴として設定。\n",
    "- 初期値は事前知識や過去データ（例えば、相関係数）を用いる。\n",
    "- A は固定せず、GATが学習を通じてエッジ重みを動的に調整。\n",
    "\n",
    "ノード特徴量\n",
    "\n",
    "通貨ノード: 現在の価格変動率、移動平均、出来高、ボラティリティなど。\n",
    "\n",
    "経済指標ノード: 最新のGDP成長率、CPI、金利、貿易収支など。"
   ]
  },
  {
   "cell_type": "markdown",
   "metadata": {},
   "source": [
    "## Data Preparation"
   ]
  },
  {
   "cell_type": "markdown",
   "metadata": {},
   "source": [
    "### FX"
   ]
  },
  {
   "cell_type": "code",
   "execution_count": 1,
   "metadata": {},
   "outputs": [],
   "source": [
    "import glob\n",
    "files = []\n",
    "symbols = [\"EURUSD\", \"USDJPY\", \"EURJPY\"]\n",
    "\n",
    "for symbol in symbols:\n",
    "    files.extend(glob.glob(f'L:/data/fx/HistData/csv/{symbol}*.csv'))"
   ]
  },
  {
   "cell_type": "code",
   "execution_count": null,
   "metadata": {},
   "outputs": [],
   "source": [
    "# multi_index = pd.MultiIndex.from_product(\n",
    "#     [symbols, ['open', 'high', 'low', 'close', 'volume']],\n",
    "#     names=[\"symbol\", \"attribute\"])\n",
    "# df.columns = multi_index\n",
    "# df.head()"
   ]
  },
  {
   "cell_type": "code",
   "execution_count": null,
   "metadata": {},
   "outputs": [],
   "source": [
    "files"
   ]
  },
  {
   "cell_type": "code",
   "execution_count": 2,
   "metadata": {},
   "outputs": [],
   "source": [
    "import pandas as pd\n",
    "\n",
    "df = None\n",
    "\n",
    "for file in files:\n",
    "    temp_df = pd.read_csv(file, index_col=0, parse_dates=True, names=[\"open\", \"high\", \"low\", \"close\", \"volume\"], header=0)\n",
    "    temp_df = temp_df[~temp_df.index.duplicated(keep='first')]\n",
    "    resampler = temp_df[\"close\"].resample(\"1D\")\n",
    "    close_srs = resampler.last()\n",
    "\n",
    "    if df is None:\n",
    "        df = close_srs\n",
    "    else:\n",
    "        df = pd.concat([df, close_srs], axis=1).dropna()\n",
    "\n",
    "del temp_df, close_srs, resampler"
   ]
  },
  {
   "cell_type": "code",
   "execution_count": 47,
   "metadata": {},
   "outputs": [],
   "source": [
    "def get_ratio_df(df, symbols, period):\n",
    "    rev_symbols = [symbol[3:] + symbol[:3] for symbol in symbols]\n",
    "    ratio_df = df.iloc[period:] / df.iloc[:-period].values\n",
    "    reverse_ratio_df = (1/df).iloc[period:] / (1/df).iloc[:-period].values\n",
    "    reverse_ratio_df.columns = rev_symbols\n",
    "    ratio_df = pd.concat([ratio_df, reverse_ratio_df], axis=1)\n",
    "    return ratio_df\n",
    "\n",
    "def approx_min_max(df, max_q, min_q):\n",
    "    # to reduce an impact of outflier\n",
    "    apx_max = df.quantile(max_q)\n",
    "    apx_min = df.quantile(min_q)\n",
    "    # apply min max\n",
    "    token_df = (df - apx_min) / (apx_max - apx_min)\n",
    "    return token_df, apx_max, apx_min\n",
    "\n",
    "def make_multi_index(df, column):\n",
    "    symbols = df.columns\n",
    "    multi_index = pd.MultiIndex.from_product([symbols, [column]], names=[\"symbol\", \"attribute\"])\n",
    "    df.columns = multi_index\n",
    "    return df"
   ]
  },
  {
   "cell_type": "code",
   "execution_count": null,
   "metadata": {},
   "outputs": [],
   "source": [
    "features = []\n",
    "periods = [1, 5]\n",
    "q = [0.9999, 0.999]\n",
    "token_params = []\n",
    "\n",
    "for index, period in enumerate(periods):\n",
    "    token_df = get_ratio_df(df, symbols, period)\n",
    "    token_df, apx_max, apx_min = approx_min_max(token_df, q[index], 0)\n",
    "    token_df = make_multi_index(token_df, f\"ratio_{period}\")\n",
    "    features.append(token_df)\n",
    "    token_param = pd.concat([apx_min, apx_max], axis=1, keys=[(f\"ratio_{period}\", \"min\"), (f\"ratio_{period}\", \"max\")])\n",
    "    token_params.append(token_param)\n",
    "\n",
    "symbol_features = pd.concat(features, axis=1).dropna()\n",
    "token_params = pd.concat(token_params, axis=1)\n",
    "symbol_features.head()"
   ]
  },
  {
   "cell_type": "code",
   "execution_count": 60,
   "metadata": {},
   "outputs": [],
   "source": [
    "symbol_features.to_csv(\"./symbol_features_token.csv\")\n",
    "token_params.to_csv(\"./symbol_feature_token_params.csv\")"
   ]
  },
  {
   "cell_type": "markdown",
   "metadata": {},
   "source": [
    "#### Revert applied transformations"
   ]
  },
  {
   "cell_type": "code",
   "execution_count": 75,
   "metadata": {},
   "outputs": [],
   "source": [
    "symbol_features = pd.read_csv(\"symbol_features_token.csv\", header=[0, 1], index_col=0)\n",
    "token_params = pd.read_csv(\"./symbol_feature_token_params.csv\", header=[0, 1], index_col=0)"
   ]
  },
  {
   "cell_type": "code",
   "execution_count": null,
   "metadata": {},
   "outputs": [],
   "source": [
    "symbol_features.columns = symbol_features.columns.swaplevel(0, 1)\n",
    "period = 1\n",
    "\n",
    "token_df = symbol_features[f\"ratio_{period}\"]\n",
    "token_param = token_params[f\"ratio_{period}\"]"
   ]
  },
  {
   "cell_type": "code",
   "execution_count": null,
   "metadata": {},
   "outputs": [],
   "source": [
    "observation_length = 10\n",
    "symbol = \"USDJPY\"\n",
    "\n",
    "# start index to test\n",
    "index = 300\n",
    "apx_min = token_param.loc[symbol, \"min\"]\n",
    "apx_max = token_param.loc[symbol, \"max\"]\n",
    "\n",
    "output = token_df[symbol].iloc[index+observation_length]\n",
    "denominator_index = token_df.iloc[index+observation_length-period].name\\\n",
    "\n",
    "reverted_value = (output * (apx_max - apx_min) + apx_min) * df.loc[denominator_index, symbol]\n",
    "\n",
    "answer_index = token_df.iloc[index+observation_length].name\n",
    "answer_value = df.loc[answer_index, symbol]\n",
    "\n",
    "print(reverted_value, answer_value)"
   ]
  },
  {
   "cell_type": "markdown",
   "metadata": {},
   "source": [
    "### Commodity"
   ]
  },
  {
   "cell_type": "code",
   "execution_count": null,
   "metadata": {},
   "outputs": [],
   "source": [
    "commodity_symbols = [\"oil\", \"gold\"]\n",
    "commodity_files = []\n",
    "for symbol in commodity_symbols:\n",
    "    commodity_files.extend(glob.glob(f'L:/data/stocknet/indicators/*{symbol}*.csv'))\n",
    "commodity_files"
   ]
  },
  {
   "cell_type": "code",
   "execution_count": null,
   "metadata": {},
   "outputs": [],
   "source": [
    "com_df = pd.read_csv(commodity_files[0],index_col=0, parse_dates=True, names=[\"close\", \"open\", \"high\", \"low\", \"volume\", \"pct\"], header=0)\n",
    "com_df.head()"
   ]
  },
  {
   "cell_type": "code",
   "execution_count": 20,
   "metadata": {},
   "outputs": [],
   "source": [
    "import pandas as pd\n",
    "\n",
    "com_df = None\n",
    "\n",
    "for file in commodity_files:\n",
    "    temp_df = pd.read_csv(file, index_col=0, parse_dates=True, names=[\"close\", \"open\", \"high\", \"low\", \"volume\", \"pct\"], header=0)\n",
    "    close_srs = temp_df[\"close\"]\n",
    "    if close_srs.dtype == pd.StringDtype:\n",
    "        close_srs = close_srs.str.replace(\",\", \"\").astype(float)\n",
    "\n",
    "    if com_df is None:\n",
    "        com_df = close_srs\n",
    "    else:\n",
    "        com_df = pd.concat([com_df, close_srs], axis=1).dropna()\n",
    "\n",
    "com_df.columns = commodity_symbols\n",
    "del temp_df, close_srs"
   ]
  },
  {
   "cell_type": "code",
   "execution_count": null,
   "metadata": {},
   "outputs": [],
   "source": [
    "pct_df = com_df.pct_change()\n",
    "_ = pct_df.hist(bins=1000)"
   ]
  },
  {
   "cell_type": "code",
   "execution_count": null,
   "metadata": {},
   "outputs": [],
   "source": [
    "com_df = pd.concat([df, com_df], axis=1).dropna()\n",
    "com_df.head()"
   ]
  },
  {
   "cell_type": "code",
   "execution_count": null,
   "metadata": {},
   "outputs": [],
   "source": [
    "EUR_com_df = com_df[commodity_symbols].mul((1/com_df[\"EURUSD\"]), axis=0)\n",
    "EUR_com_df.head()"
   ]
  },
  {
   "cell_type": "code",
   "execution_count": null,
   "metadata": {},
   "outputs": [],
   "source": [
    "JPY_com_df = com_df[commodity_symbols].mul((com_df[\"USDJPY\"]), axis=0)\n",
    "JPY_com_df.head()"
   ]
  },
  {
   "cell_type": "code",
   "execution_count": null,
   "metadata": {},
   "outputs": [],
   "source": [
    "com_df = com_df[commodity_symbols]\n",
    "com_df = pd.concat([com_df, EUR_com_df, JPY_com_df], axis=1)\n",
    "multi_index = pd.MultiIndex.from_product(\n",
    "    [[\"USD\", \"EUR\", \"JPY\"], commodity_symbols],\n",
    "    names=[\"symbol\", \"attribute\"])\n",
    "com_df.columns = multi_index\n",
    "com_df.head()"
   ]
  },
  {
   "cell_type": "code",
   "execution_count": 26,
   "metadata": {},
   "outputs": [],
   "source": [
    "com_df.to_csv(\"./commodity_features.csv\")"
   ]
  },
  {
   "cell_type": "code",
   "execution_count": null,
   "metadata": {},
   "outputs": [],
   "source": [
    "com_token_df = com_df.pct_change().dropna()\n",
    "com_token_df.columns = com_token_df.columns.swaplevel(0, 1)\n",
    "com_stat_df = com_token_df.describe()\n",
    "com_stat_df"
   ]
  },
  {
   "cell_type": "code",
   "execution_count": null,
   "metadata": {},
   "outputs": [],
   "source": [
    "apprx_min_oil = com_token_df[\"oil\"].quantile(0.005)\n",
    "min_oil = com_stat_df[\"oil\"].loc[\"min\"]\n",
    "apprx_max_oil = com_token_df[\"oil\"].quantile(0.995)\n",
    "max_oil = com_stat_df[\"oil\"].loc[\"max\"]\n",
    "\n",
    "oil_token_df = (com_token_df[\"oil\"] - apprx_min_oil) / (apprx_max_oil - apprx_min_oil)\n",
    "oil_token_df.head()"
   ]
  },
  {
   "cell_type": "code",
   "execution_count": null,
   "metadata": {},
   "outputs": [],
   "source": [
    "import matplotlib.pyplot as plt\n",
    "\n",
    "fig, axs = plt.subplots(1,3, figsize=(10, 3))\n",
    "for i, column in enumerate(oil_token_df.columns):\n",
    "    axs[i].hist(oil_token_df[column], bins=1000)\n",
    "    axs[i].set_xlim(-0.5, 1.5)\n",
    "fig.show()"
   ]
  },
  {
   "cell_type": "code",
   "execution_count": null,
   "metadata": {},
   "outputs": [],
   "source": [
    "max_gold = com_stat_df[\"gold\"].loc[\"max\"]\n",
    "apprx_max_gold = com_token_df[\"gold\"].quantile(0.99)\n",
    "apprx_min_gold = com_token_df[\"gold\"].quantile(0.01)\n",
    "\n",
    "gold_token_df = (com_token_df[\"gold\"] - apprx_min_gold) / (apprx_max_gold - apprx_min_gold)\n",
    "gold_token_df.head()"
   ]
  },
  {
   "cell_type": "code",
   "execution_count": null,
   "metadata": {},
   "outputs": [],
   "source": [
    "_ = gold_token_df.hist(bins=1000)"
   ]
  },
  {
   "cell_type": "code",
   "execution_count": null,
   "metadata": {},
   "outputs": [],
   "source": [
    "com_token_df = pd.concat([oil_token_df, gold_token_df], axis=1)\n",
    "multi_index = pd.MultiIndex.from_product(\n",
    "    [commodity_symbols, [\"USD\", \"EUR\", \"JPY\"]],\n",
    "    names=[\"attribute\", \"symbol\"])\n",
    "com_token_df.columns = multi_index.swaplevel(0, 1)\n",
    "com_token_df = com_token_df[[\"USD\", \"EUR\", \"JPY\"]]\n",
    "com_token_df.head()"
   ]
  },
  {
   "cell_type": "code",
   "execution_count": 33,
   "metadata": {},
   "outputs": [],
   "source": [
    "com_token_df.to_csv(\"./commodity_features_token.csv\")"
   ]
  },
  {
   "cell_type": "code",
   "execution_count": null,
   "metadata": {},
   "outputs": [],
   "source": [
    "additional_feature_symbol_dict = {\n",
    "    \"USD\": [\"US-10-year-bond-yield\", \"NY_daw\"],\n",
    "    \"EUR\": [\"germany-10-year-bond\",  \"dax_price\"],\n",
    "    \"JPY\": [\"japan-10-year-bond\", \"japan-ni225\"]\n",
    "}\n",
    "additional_feature_symbols = [\"bond\", \"stock\"]\n",
    "additional_feature_files = []\n",
    "\n",
    "for symbol_key_list in additional_feature_symbol_dict.values():\n",
    "    for symbol_key in symbol_key_list:\n",
    "         additional_feature_files.extend(glob.glob(f'L:/data/stocknet/indicators/*{symbol_key}*.csv'))\n",
    "additional_feature_files"
   ]
  },
  {
   "cell_type": "code",
   "execution_count": 35,
   "metadata": {},
   "outputs": [],
   "source": [
    "import pandas as pd\n",
    "\n",
    "feature_df = None\n",
    "\n",
    "for file in additional_feature_files:\n",
    "    temp_df = pd.read_csv(file, index_col=0, parse_dates=True, header=0)\n",
    "    if len(temp_df.columns) == 5:\n",
    "        temp_df.columns = [\"close\", \"open\", \"high\", \"low\", \"pct\"]\n",
    "    else:\n",
    "        temp_df.columns = [\"close\", \"open\", \"high\", \"low\", \"volume\", \"pct\"]\n",
    "    temp_df = temp_df[~temp_df.index.duplicated(keep='first')]\n",
    "    close_srs = temp_df[\"close\"]\n",
    "    if close_srs.dtype == pd.StringDtype:\n",
    "        close_srs = close_srs.str.replace(\",\", \"\").astype(float)\n",
    "\n",
    "    if feature_df is None:\n",
    "        feature_df = close_srs\n",
    "    else:\n",
    "        feature_df = pd.concat([feature_df, close_srs], axis=1).dropna()\n",
    "\n",
    "multi_index = pd.MultiIndex.from_product(\n",
    "    [[\"USD\", \"EUR\", \"JPY\"], additional_feature_symbols],\n",
    "    names=[\"symbol\", \"attribute\"])\n",
    "feature_df.columns = multi_index\n",
    "feature_df.index.name = \"date\"\n",
    "del temp_df, close_srs"
   ]
  },
  {
   "cell_type": "code",
   "execution_count": null,
   "metadata": {},
   "outputs": [],
   "source": [
    "feature_df.head()"
   ]
  },
  {
   "cell_type": "code",
   "execution_count": null,
   "metadata": {},
   "outputs": [],
   "source": [
    "pct_df = feature_df.pct_change().dropna()\n",
    "pct_df.plot()"
   ]
  },
  {
   "cell_type": "code",
   "execution_count": null,
   "metadata": {},
   "outputs": [],
   "source": [
    "feature_df[feature_df == 0].dropna(how=\"all\")"
   ]
  },
  {
   "cell_type": "code",
   "execution_count": null,
   "metadata": {},
   "outputs": [],
   "source": [
    "feature_df.columns = feature_df.columns.swaplevel(0,1)\n",
    "stock_token_df = feature_df[\"stock\"].pct_change().dropna()\n",
    "stock_token_df.head()"
   ]
  },
  {
   "cell_type": "code",
   "execution_count": null,
   "metadata": {},
   "outputs": [],
   "source": [
    "stock_token_stat = stock_token_df.describe()\n",
    "stock_token_stat"
   ]
  },
  {
   "cell_type": "code",
   "execution_count": null,
   "metadata": {},
   "outputs": [],
   "source": [
    "apprx_min_stock = stock_token_df.quantile(0.001)\n",
    "min_stock = stock_token_stat.loc[\"min\"]\n",
    "apprx_max_stock = stock_token_df.quantile(0.995)\n",
    "max_stock = stock_token_stat.loc[\"max\"]\n",
    "\n",
    "stock_token_std_df = (stock_token_df - apprx_min_stock) / (apprx_max_stock - apprx_min_stock)\n",
    "stock_token_std_df.head()"
   ]
  },
  {
   "cell_type": "code",
   "execution_count": null,
   "metadata": {},
   "outputs": [],
   "source": [
    "_ = stock_token_std_df.hist(bins=1000)"
   ]
  },
  {
   "cell_type": "code",
   "execution_count": 43,
   "metadata": {},
   "outputs": [],
   "source": [
    "stock_token_std_df.to_csv(\"stock_pct_token.csv\")"
   ]
  },
  {
   "cell_type": "code",
   "execution_count": 44,
   "metadata": {},
   "outputs": [],
   "source": [
    "bond_diff_uj = feature_df[\"bond\"][\"USD\"] - feature_df[\"bond\"][\"JPY\"]\n",
    "bond_diff_ue = feature_df[\"bond\"][\"USD\"] - feature_df[\"bond\"][\"EUR\"]\n",
    "bond_diff_ej = feature_df[\"bond\"][\"EUR\"] - feature_df[\"bond\"][\"JPY\"]"
   ]
  },
  {
   "cell_type": "code",
   "execution_count": null,
   "metadata": {},
   "outputs": [],
   "source": [
    "bond_symbol_diff_df = pd.concat([bond_diff_uj, bond_diff_ue, bond_diff_ej], keys=[\"UJ\", \"UE\", \"EJ\"], axis=1)\n",
    "bond_symbol_diff_df.plot()"
   ]
  },
  {
   "cell_type": "code",
   "execution_count": null,
   "metadata": {},
   "outputs": [],
   "source": [
    "bond_symbol_diff_token_df = ((bond_symbol_diff_df +1)/6)\n",
    "_ = bond_symbol_diff_token_df.hist(bins=1000)"
   ]
  },
  {
   "cell_type": "code",
   "execution_count": 47,
   "metadata": {},
   "outputs": [],
   "source": [
    "bond_symbol_diff_token_df.to_csv(\"./bond_symbol_diff_token.csv\")"
   ]
  },
  {
   "cell_type": "code",
   "execution_count": null,
   "metadata": {},
   "outputs": [],
   "source": [
    "bond_diff_df = feature_df[\"bond\"].diff().dropna()\n",
    "bond_diff_df.plot()"
   ]
  },
  {
   "cell_type": "code",
   "execution_count": null,
   "metadata": {},
   "outputs": [],
   "source": [
    "bond_diff_stat = bond_diff_df.describe()\n",
    "bond_diff_stat"
   ]
  },
  {
   "cell_type": "code",
   "execution_count": null,
   "metadata": {},
   "outputs": [],
   "source": [
    "apprx_min_bond = bond_diff_df.quantile(0.001)\n",
    "min_bond = bond_diff_stat.loc[\"min\"]\n",
    "apprx_max_bond = bond_diff_df.quantile(0.995)\n",
    "max_bond = bond_diff_stat.loc[\"max\"]\n",
    "\n",
    "bond_token_std_df = (bond_diff_df - apprx_min_bond) / (apprx_max_bond - apprx_min_bond)\n",
    "bond_token_std_df.head()"
   ]
  },
  {
   "cell_type": "code",
   "execution_count": null,
   "metadata": {},
   "outputs": [],
   "source": [
    "_ = bond_token_std_df.hist(bins=1000)"
   ]
  },
  {
   "cell_type": "code",
   "execution_count": 52,
   "metadata": {},
   "outputs": [],
   "source": [
    "bond_token_std_df.to_csv(\"./bond_diff_token.csv\")"
   ]
  },
  {
   "cell_type": "markdown",
   "metadata": {},
   "source": [
    "## Feature Vector"
   ]
  },
  {
   "cell_type": "code",
   "execution_count": 86,
   "metadata": {},
   "outputs": [],
   "source": [
    "import pandas as pd\n",
    "\n",
    "symbol_df = pd.read_csv(\"symbol_features_token.csv\", header=[0, 1], index_col=0)\n",
    "com_df = pd.read_csv(\"commodity_features_token.csv\", header=[0, 1], index_col=0)\n",
    "bond_df = pd.read_csv(\"bond_diff_token.csv\", header=0, index_col=0)\n",
    "bond_sdiff_df = pd.read_csv(\"bond_symbol_diff_token.csv\", header=0, index_col=0)\n",
    "stock_df = pd.read_csv(\"stock_pct_token.csv\", header=0, index_col=0)"
   ]
  },
  {
   "cell_type": "code",
   "execution_count": 87,
   "metadata": {},
   "outputs": [],
   "source": [
    "\n",
    "import re\n",
    "\n",
    "tokens = {\n",
    "    \"currency\": symbol_df,\n",
    "    # \"commodity\": com_df,\n",
    "    # \"bond\": bond_df,\n",
    "    # \"stock\": stock_df\n",
    "}\n",
    "token_columns = {}\n",
    "symbols = [\"USD\", \"EUR\", \"JPY\"]\n",
    "\n",
    "for symbol in symbols:\n",
    "    pattern = rf\"{symbol}.*\"\n",
    "    token_columns[symbol] = {}\n",
    "    for key, df in tokens.items():\n",
    "        symbol_columns = []\n",
    "        for columns in df.columns:\n",
    "            if isinstance(columns, tuple):\n",
    "                # columns = (symbol, attribute)\n",
    "                match = re.match(pattern, columns[0])\n",
    "            else:\n",
    "                # columns = symbol\n",
    "                match = re.match(pattern, columns)\n",
    "            if match:\n",
    "                symbol_columns.append(columns)\n",
    "\n",
    "        token_columns[symbol][key] = symbol_columns"
   ]
  },
  {
   "cell_type": "code",
   "execution_count": 88,
   "metadata": {},
   "outputs": [],
   "source": [
    "feature_df = None\n",
    "\n",
    "for symbol in symbols:\n",
    "    symbol_feature_df = None\n",
    "    for key, columns in token_columns[symbol].items():\n",
    "        df = tokens[key][columns]\n",
    "        if len(columns) == 1 and columns[0] == symbol:\n",
    "            df.columns = [key]\n",
    "        else:\n",
    "            columns = [\"_\".join(column) for column in columns]\n",
    "            df.columns = columns\n",
    "        if symbol_feature_df is None:\n",
    "            symbol_feature_df = df\n",
    "        else:\n",
    "            symbol_feature_df = pd.concat([symbol_feature_df, df], axis=1).dropna()\n",
    "    multi_index = pd.MultiIndex.from_product([[symbol], symbol_feature_df.columns], names=[\"symbol\", \"attribute\"])\n",
    "    symbol_feature_df.columns = multi_index\n",
    "    if feature_df is None:\n",
    "        feature_df = symbol_feature_df\n",
    "    else:\n",
    "        feature_df = pd.concat([feature_df, symbol_feature_df], axis=1)"
   ]
  },
  {
   "cell_type": "code",
   "execution_count": null,
   "metadata": {},
   "outputs": [],
   "source": [
    "feature_df.head()"
   ]
  },
  {
   "cell_type": "markdown",
   "metadata": {},
   "source": [
    "## Model Definition and Test it"
   ]
  },
  {
   "attachments": {
    "image.png": {
     "image/png": "[encoded data removed]"
    }
   },
   "cell_type": "markdown",
   "metadata": {},
   "source": [
    "For each observation X_t, calculate attention weight. Use it as adjacency matrix.\n",
    "![image.png](attachment:image.png)"
   ]
  },
  {
   "cell_type": "code",
   "execution_count": 89,
   "metadata": {},
   "outputs": [],
   "source": [
    "import torch\n",
    "import torch.nn as nn\n",
    "import torch.nn.functional as F\n",
    "\n",
    "class TimeSeriesGAT(nn.Module):\n",
    "    def __init__(self, in_features, out_features, num_heads):\n",
    "        super(TimeSeriesGAT, self).__init__()\n",
    "        self.gat_layers = nn.ModuleList([\n",
    "            nn.Linear(in_features, out_features) for _ in range(num_heads)\n",
    "        ])\n",
    "        self.attention_layers = nn.ModuleList([\n",
    "            nn.Linear(2 * out_features, 1) for _ in range(num_heads)\n",
    "        ])\n",
    "        self.num_heads = num_heads\n",
    "\n",
    "    def forward(self, X):\n",
    "        # X shape: (num_nodes, length, in_features)\n",
    "        num_nodes, length, in_features = X.shape\n",
    "        adjacency_matrices = []  # To store A_t for each timestep\n",
    "        \n",
    "        for t in range(length):  # Process each time slice\n",
    "            X_t = X[:, t, :]  # Shape: (num_nodes, in_features)\n",
    "            head_adjacencies = []\n",
    "\n",
    "            for head in range(self.num_heads):\n",
    "                H = self.gat_layers[head](X_t)  # Shape: (num_nodes, out_features)\n",
    "                H_repeat = H.unsqueeze(0).repeat(num_nodes, 1, 1)  # Shape: (num_nodes, num_nodes, out_features)\n",
    "                H_concat = torch.cat([H_repeat, H_repeat.transpose(0, 1)], dim=-1)  # Shape: (num_nodes, num_nodes, 2*out_features)\n",
    "                attention = F.leaky_relu(self.attention_layers[head](H_concat))  # Shape: (num_nodes, num_nodes, 1)\n",
    "                attention = F.softmax(attention, dim=1).squeeze(-1)  # Shape: (num_nodes, num_nodes)\n",
    "                head_adjacencies.append(attention)\n",
    "\n",
    "            # Combine attention heads into a single adjacency matrix\n",
    "            A_t = torch.mean(torch.stack(head_adjacencies, dim=0), dim=0)  # Shape: (num_nodes, num_nodes)\n",
    "            adjacency_matrices.append(A_t)\n",
    "\n",
    "        return torch.stack(adjacency_matrices, dim=0)  # Shape: (length, num_nodes, num_nodes)"
   ]
  },
  {
   "cell_type": "code",
   "execution_count": 90,
   "metadata": {},
   "outputs": [],
   "source": [
    "class TimeSeriesGNN(nn.Module):\n",
    "    def __init__(self, in_features, embedding_dim):\n",
    "        super(TimeSeriesGNN, self).__init__()\n",
    "        self.linear = nn.Linear(in_features, embedding_dim)\n",
    "\n",
    "    def forward(self, A, X):\n",
    "        # A shape: (length, num_nodes, num_nodes)\n",
    "        # X shape: (length, num_nodes, in_features)\n",
    "        length, num_nodes, _ = A.shape\n",
    "        embeddings = []\n",
    "\n",
    "        for t in range(length):\n",
    "            A_t = A[t]  # Shape: (num_nodes, num_nodes)\n",
    "            X_t = X[t]  # Shape: (num_nodes, in_features)\n",
    "            H_t = F.relu(A_t @ self.linear(X_t))  # Shape: (num_nodes, embedding_dim)\n",
    "            embeddings.append(H_t)\n",
    "\n",
    "        return torch.stack(embeddings, dim=0)  # Shape: (length, num_nodes, embedding_dim)\n"
   ]
  },
  {
   "cell_type": "code",
   "execution_count": 91,
   "metadata": {},
   "outputs": [],
   "source": [
    "class TimeSeriesPredictor(nn.Module):\n",
    "    def __init__(self, embedding_dim, hidden_dim, output_dim):\n",
    "        super(TimeSeriesPredictor, self).__init__()\n",
    "        self.lstm = nn.LSTM(embedding_dim, hidden_dim, batch_first=True)\n",
    "        self.fc = nn.Linear(hidden_dim, output_dim)\n",
    "\n",
    "    def forward(self, H):\n",
    "        # H shape: (length, num_nodes, embedding_dim)\n",
    "        length, num_nodes, embedding_dim = H.shape\n",
    "        H_flat = H.permute(1, 0, 2)  # Shape: (num_nodes, length, embedding_dim)\n",
    "        lstm_out, _ = self.lstm(H_flat)  # Shape: (num_nodes, length, hidden_dim)\n",
    "        predictions = self.fc(lstm_out)  # Shape: (num_nodes, length, output_dim)\n",
    "        return predictions.permute(1, 0, 2)  # Shape: (length, num_nodes, output_dim)"
   ]
  },
  {
   "cell_type": "code",
   "execution_count": 92,
   "metadata": {},
   "outputs": [],
   "source": [
    "class TimeGraphModel(nn.Module):\n",
    "    def __init__(self, in_features, out_features, num_heads, embedding_dim, hidden_dim, output_dim):\n",
    "        super(TimeGraphModel, self).__init__()\n",
    "        self.gat = TimeSeriesGAT(in_features, out_features, num_heads)\n",
    "        self.gnn = TimeSeriesGNN(in_features, embedding_dim)\n",
    "        self.predictor = TimeSeriesPredictor(embedding_dim, hidden_dim, output_dim)\n",
    "\n",
    "    def forward(self, X):\n",
    "        # X shape: (num_nodes, length, in_features)\n",
    "        A = self.gat(X)  # Shape: (length, num_nodes, num_nodes)\n",
    "        H = self.gnn(A, X.permute(1, 0, 2))  # Shape: (length, num_nodes, embedding_dim)\n",
    "        predictions = self.predictor(H)  # Shape: (length, num_nodes, output_dim)   \n",
    "        return predictions"
   ]
  },
  {
   "cell_type": "code",
   "execution_count": null,
   "metadata": {},
   "outputs": [],
   "source": [
    "# sample observation\n",
    "feature_x = feature_df.iloc[0:10]\n",
    "X_t = [feature_x[symbol].values.tolist() for symbol in symbols]\n",
    "X_t = torch.tensor(X_t)"
   ]
  },
  {
   "cell_type": "code",
   "execution_count": null,
   "metadata": {},
   "outputs": [],
   "source": [
    "num_nodes, _, feature_dim = X_t.shape\n",
    "\n",
    "model = TimeGraphModel(in_features=feature_dim, out_features=2, embedding_dim=4, num_heads=4, hidden_dim=5, output_dim=1)\n",
    "y = model(X_t)\n",
    "y.shape"
   ]
  },
  {
   "cell_type": "code",
   "execution_count": 94,
   "metadata": {},
   "outputs": [],
   "source": [
    "import random\n",
    "from collections.abc import Iterable\n",
    "\n",
    "import numpy as np\n",
    "import torch\n",
    "from torch.utils.data import Dataset\n",
    "\n",
    "class FeatureDataset(Dataset):\n",
    "\n",
    "    def __init__(\n",
    "        self,\n",
    "        df,\n",
    "        symbols: list,\n",
    "        observation_length,\n",
    "        device=\"cuda\",\n",
    "        seed=1017,\n",
    "        is_training=True,\n",
    "        randomize=True,\n",
    "        split_ratio=0.9,\n",
    "        dtype=torch.float,\n",
    "        batch_size = None\n",
    "    ):\n",
    "        self.seed(seed)\n",
    "        self.data = df\n",
    "        self.dtype = dtype\n",
    "        self.is_training = is_training\n",
    "        self.device = device\n",
    "        self._columns = symbols\n",
    "        self.observation_length = observation_length\n",
    "        self._split_ratio = split_ratio\n",
    "        self.batch_size = batch_size\n",
    "        self._init_indicies(randomize)\n",
    "\n",
    "    def _init_indicies(self, randomize=True):\n",
    "        train_data_length = int(len(self.data.index) * self._split_ratio)\n",
    "        train_indices = list(range(self.observation_length, train_data_length))\n",
    "        eval_indices = list(range(train_data_length + self.observation_length, len(self.data.index)))\n",
    "        if randomize:\n",
    "            train_indices = random.sample(train_indices, k=len(train_indices))\n",
    "            eval_indices = random.sample(eval_indices, k=len(eval_indices))\n",
    "        self.train_indices, self.eval_indices = train_indices, eval_indices\n",
    "\n",
    "        if self.is_training:\n",
    "            self._indices = self.train_indices\n",
    "        else:\n",
    "            self._indices = self.eval_indices\n",
    "    \n",
    "    def output_indices(self, index):\n",
    "        # return slice(index - self.observation_length + 1, index + 1)\n",
    "        return index\n",
    "\n",
    "    def _output_func(self, batch_size):\n",
    "        indices = self._indices[batch_size]\n",
    "        if type(indices) == int:\n",
    "            ndx = self.output_indices(indices)\n",
    "            feature_y = self.data.iloc[ndx]\n",
    "            y = [feature_y[symbol].values.tolist() for symbol in self._columns]\n",
    "            ans = torch.tensor(y, device=self.device, dtype=self.dtype)\n",
    "            return ans\n",
    "        else:\n",
    "            chunk_data = []\n",
    "            for index in indices:\n",
    "                ndx = self.output_indices(index)\n",
    "                feature_y = self.data.iloc[ndx]\n",
    "                y = [feature_y[symbol].values.tolist() for symbol in self._columns]\n",
    "                chunk_data.append(y)\n",
    "            ans = torch.tensor(chunk_data, device=self.device, dtype=self.dtype)\n",
    "            return ans\n",
    "\n",
    "    def input_indices(self, index):\n",
    "        return slice(index - self.observation_length, index)\n",
    "\n",
    "    def _input_func(self, batch_size):\n",
    "        indices = self._indices[batch_size]\n",
    "        if type(indices) == int:\n",
    "            ndx = self.input_indices(indices)\n",
    "            feature_x = self.data.iloc[ndx]\n",
    "            x = [feature_x[symbol].values.tolist() for symbol in self._columns]\n",
    "            src = torch.tensor(x, device=self.device, dtype=self.dtype)\n",
    "            return src\n",
    "        else:\n",
    "            chunk_src = []\n",
    "            for index in indices:\n",
    "                ndx = self.input_indices(index)\n",
    "                feature_x = self.data.iloc[ndx]\n",
    "                x = [feature_x[symbol].values.tolist() for symbol in self._columns]\n",
    "                chunk_src.append(x)\n",
    "\n",
    "            src = torch.tensor(chunk_src, device=self.device, dtype=self.dtype)\n",
    "            return src\n",
    "\n",
    "    def __len__(self):\n",
    "        return len(self._indices)\n",
    "\n",
    "    def __getitem__(self, ndx):\n",
    "        return self._input_func(ndx), self._output_func(ndx)\n",
    "    \n",
    "    def __iter__(self):\n",
    "        self._init_indicies()\n",
    "        self._index = 0\n",
    "        if self.batch_size is None or self.batch_size == 1:\n",
    "            self.batch_size = 1\n",
    "            self._get_itr_ndx = lambda i: i\n",
    "        else:\n",
    "            self._get_itr_ndx = lambda i: slice(i, i + self.batch_size)\n",
    "        return self\n",
    " \n",
    "    def __next__(self):\n",
    "        if self._index + self.batch_size >= len(self):\n",
    "            raise StopIteration\n",
    "        ndx = self._get_itr_ndx(self._index)\n",
    "        self._index += self.batch_size\n",
    "        return self._input_func(ndx), self._output_func(ndx)\n",
    "\n",
    "    def seed(self, seed=None):\n",
    "        \"\"\" \"\"\"\n",
    "        if seed is None:\n",
    "            seed = 1017\n",
    "        else:\n",
    "            torch.backends.cudnn.benchmark = False\n",
    "            torch.backends.cudnn.deterministic = True\n",
    "        torch.manual_seed(seed)\n",
    "        random.seed(seed)\n",
    "        np.random.seed(seed)\n",
    "        self.seed_value = seed\n",
    "\n",
    "    def seed_worker(worker_id):\n",
    "        worker_seed = torch.initial_seed() % 2**32\n",
    "        np.random.seed(worker_seed)\n",
    "        random.seed(worker_seed)\n",
    "\n",
    "    def render(self, mode=\"human\", close=False):\n",
    "        \"\"\" \"\"\"\n",
    "        pass\n",
    "\n",
    "    def eval(self):\n",
    "        self._indices = random.sample(self.eval_indices, k=len(self.eval_indices))\n",
    "        self.is_training = False\n",
    "\n",
    "    def train(self):\n",
    "        self._indices = random.sample(self.train_indices, k=len(self.train_indices))\n",
    "        self.is_training = True\n",
    "\n",
    "    def get_index_range(self):\n",
    "        return min(self._indices), max(self._indices)\n",
    "\n",
    "    def get_date_range(self):\n",
    "        min_index, max_index = self.get_index_range()\n",
    "        return self.data.index[min_index], self.data.index[max_index]\n",
    "\n",
    "    def get_actual_index(self, ndx):\n",
    "        inputs = []\n",
    "        if type(ndx) == slice:\n",
    "            inputs = self._indices[ndx]\n",
    "        elif isinstance(ndx, Iterable):\n",
    "            for index in ndx:\n",
    "                inputs.append(self._indices[index])\n",
    "        else:\n",
    "            return self._indices[ndx]\n",
    "\n",
    "        return inputs\n",
    "\n",
    "    def get_row_data(self, ndx):\n",
    "        inputs = []\n",
    "        if type(ndx) == slice:\n",
    "            for index in self._indices[ndx]:\n",
    "                df = self.data.iloc[index - self.observation_length : index]\n",
    "                inputs.append(df)\n",
    "        else:\n",
    "            index = ndx\n",
    "            inputs = df = self.data.iloc[index -self.observation_length: index]\n",
    "        return inputs"
   ]
  },
  {
   "cell_type": "code",
   "execution_count": 95,
   "metadata": {},
   "outputs": [],
   "source": [
    "ds = FeatureDataset(feature_df, symbols=[\"USD\", \"EUR\", \"JPY\"], observation_length=10, device=\"cpu\")"
   ]
  },
  {
   "cell_type": "markdown",
   "metadata": {},
   "source": [
    "## Training"
   ]
  },
  {
   "cell_type": "code",
   "execution_count": 96,
   "metadata": {},
   "outputs": [],
   "source": [
    "import csv\n",
    "import warnings\n",
    "\n",
    "def save_checkpoint(model, optimizer, scheduler, model_name, model_version, data_folder=\"./\"):\n",
    "    if model is not None:\n",
    "        model_path = os.path.join(data_folder, f'{model_name}_v{model_version}.torch')\n",
    "        torch.save({\n",
    "        'model_state_dict': model.state_dict(),\n",
    "        'optimizer_state_dict': optimizer.state_dict(),\n",
    "        'scheduler_state_dict': scheduler.state_dict(),\n",
    "        }, model_path)\n",
    "\n",
    "def save_logs(log_file_path, log_array):\n",
    "    try:\n",
    "        with open(log_file_path, 'a', newline=\"\") as log_file:\n",
    "            writer = csv.writer(log_file)\n",
    "            writer.writerow(log_array)\n",
    "    except Exception as e:\n",
    "        warnings.warn(f\"failed to save logs due to {e}\")"
   ]
  },
  {
   "cell_type": "code",
   "execution_count": null,
   "metadata": {},
   "outputs": [],
   "source": [
    "import json\n",
    "import os\n",
    "\n",
    "feature_x = feature_df.iloc[0:10]\n",
    "X_t = [feature_x[symbols[0]].values.tolist() for symbol in symbols]\n",
    "X_t = torch.tensor(X_t)\n",
    "num_nodes, _, feature_dim = X_t.shape\n",
    "\n",
    "model_name = \"gnn\"\n",
    "model_version = 1\n",
    "\n",
    "params = {\n",
    "    # feature vector size of a node\n",
    "    \"in_features\": feature_dim,\n",
    "    # num heads to meaning adjacency matrix\n",
    "    \"num_heads\": 4,\n",
    "    # hidden feature vector to calculate adjacency matrices\n",
    "    \"out_features\": 2, \n",
    "    \"embedding_dim\": 4,\n",
    "    # hidden dim of LSTM of predictor\n",
    "    \"hidden_dim\": 5,\n",
    "    \"output_dim\": feature_dim\n",
    "}\n",
    "\n",
    "param_file_name = f'{model_name}_params_v{model_version}.json'\n",
    "\n",
    "if os.path.exists(param_file_name):\n",
    "    print(\"file already exists\") \n",
    "else:\n",
    "    with open(param_file_name, \"w\") as fp:\n",
    "        json.dump(params, fp)"
   ]
  },
  {
   "cell_type": "code",
   "execution_count": 49,
   "metadata": {},
   "outputs": [],
   "source": [
    "model = TimeGraphModel(**params)\n",
    "criterion = nn.MSELoss()\n",
    "optimizer = torch.optim.Adam(model.parameters(), lr=1e-3)\n",
    "scheduler = torch.optim.lr_scheduler.StepLR(optimizer, 1.0, gamma = 0.9)"
   ]
  },
  {
   "cell_type": "code",
   "execution_count": null,
   "metadata": {},
   "outputs": [],
   "source": [
    "import math\n",
    "import time\n",
    "\n",
    "epochs = 10\n",
    "best_train_loss = np.inf\n",
    "best_valid_loss = np.inf\n",
    "best_model = None\n",
    "best_train_model = None\n",
    "patience = 3\n",
    "counter = 0\n",
    "\n",
    "for epoch in range(epochs):\n",
    "    model = model.train()\n",
    "    ds.train()\n",
    "    loss_train = 0\n",
    "\n",
    "    start_time = time.time()\n",
    "\n",
    "    for X, Y in ds:\n",
    "        outputs = model(X)  # Shape: (length, num_nodes, out_features)\n",
    "        loss = criterion(outputs[-1], Y)\n",
    "        \n",
    "        optimizer.zero_grad()\n",
    "        loss.backward()\n",
    "        optimizer.step()\n",
    "\n",
    "        loss_train += loss.item()\n",
    "    elapsed_time = time.time() - start_time\n",
    "\n",
    "    loss_train = loss_train / len(ds)\n",
    "    \n",
    "    model = model.eval()\n",
    "    ds.eval()\n",
    "    loss_valid = 0\n",
    "    for X, Y in ds:\n",
    "        outputs = model(X)  # Shape: (length, num_nodes, out_features)\n",
    "        loss = criterion(outputs[-1], Y)\n",
    "        loss_valid += loss.item()\n",
    "    \n",
    "    loss_valid = loss_valid / len(ds)\n",
    "\n",
    "    if best_train_loss > loss_train:\n",
    "        best_train_loss = loss_train\n",
    "        best_train_model = model\n",
    "        counter = 0\n",
    "    else:\n",
    "        counter += 1\n",
    "        if counter == 1:\n",
    "            save_checkpoint(best_train_model, optimizer, scheduler, f'{model_name}_train', model_version)\n",
    "        scheduler.step()\n",
    "    \n",
    "    if best_valid_loss > loss_valid:\n",
    "        best_valid_loss = loss_valid\n",
    "        best_model = model\n",
    "        save_checkpoint(best_model, optimizer, scheduler, model_name, model_version)\n",
    "\n",
    "    if counter > patience:\n",
    "        break\n",
    "\n",
    "\n",
    "    elasped_display = str(int(math.floor(elapsed_time / 60))) + 'm' if math.floor(elapsed_time / 60) > 0 else ''\n",
    "    print(f'[{epoch+1}/{epochs}] train loss: {loss_train:.10f}, valid loss: {loss_valid:.10f} {elasped_display}{elapsed_time % 60:.0f}s count: {counter} {\"**\" if best_valid_loss > loss_valid else \"\"}')\n",
    "    save_logs(f'{model_name}_{model_version}.log', [time.time(), epoch, loss_train, loss_valid, elapsed_time])"
   ]
  },
  {
   "cell_type": "markdown",
   "metadata": {},
   "source": [
    "### Training Loop"
   ]
  },
  {
   "cell_type": "code",
   "execution_count": 98,
   "metadata": {},
   "outputs": [],
   "source": [
    "feature_x = feature_df.iloc[0:10]\n",
    "X_t = [feature_x[symbols[0]].values.tolist() for symbol in symbols]\n",
    "X_t = torch.tensor(X_t)\n",
    "num_nodes, _, feature_dim = X_t.shape\n",
    "\n",
    "model_versions = [1, 2, 3, 4]\n",
    "out_features = [feature_dim, feature_dim*2, feature_dim*4, feature_dim*8]\n",
    "embedding_dims = [int(feature_dim/2), feature_dim, feature_dim*2, feature_dim*4]\n",
    "hidden_dims = [5, 10, 20, 40]"
   ]
  },
  {
   "cell_type": "code",
   "execution_count": null,
   "metadata": {},
   "outputs": [],
   "source": [
    "import json\n",
    "import os\n",
    "import math\n",
    "import time\n",
    "\n",
    "from IPython.display import clear_output\n",
    "\n",
    "model_name = \"gnn\"\n",
    "epochs = 1000\n",
    "\n",
    "for index, model_version in enumerate(model_versions):\n",
    "    clear_output(wait=True)\n",
    "    params = {\n",
    "        # feature vector size of a node\n",
    "        \"in_features\": feature_dim,\n",
    "        # num heads to meaning adjacency matrix\n",
    "        \"num_heads\": 4,\n",
    "        # hidden feature vector to calculate adjacency matrices\n",
    "        \"out_features\": out_features[index], \n",
    "        \"embedding_dim\": embedding_dims[index],\n",
    "        # hidden dim of LSTM of predictor\n",
    "        \"hidden_dim\": hidden_dims[index],\n",
    "        \"output_dim\": feature_dim\n",
    "    }\n",
    "\n",
    "    param_file_name = f'{model_name}_params_v{model_version}.json'\n",
    "\n",
    "    if os.path.exists(param_file_name):\n",
    "        print(f\"file already exists: {param_file_name}\") \n",
    "        continue\n",
    "    else:\n",
    "        with open(param_file_name, \"w\") as fp:\n",
    "            json.dump(params, fp)\n",
    "    \n",
    "    model = TimeGraphModel(**params)\n",
    "    criterion = nn.MSELoss()\n",
    "    optimizer = torch.optim.Adam(model.parameters(), lr=1e-3)\n",
    "    scheduler = torch.optim.lr_scheduler.StepLR(optimizer, 1.0, gamma = 0.9)\n",
    "\n",
    "    # initialize training vars\n",
    "    best_train_loss = np.inf\n",
    "    best_valid_loss = np.inf\n",
    "    best_model = None\n",
    "    best_train_model = None\n",
    "    patience = 3\n",
    "    counter = 0\n",
    "\n",
    "    for epoch in range(epochs):\n",
    "        model = model.train()\n",
    "        ds.train()\n",
    "        loss_train = 0\n",
    "\n",
    "        start_time = time.time()\n",
    "\n",
    "        for X, Y in ds:\n",
    "            outputs = model(X)  # Shape: (length, num_nodes, out_features)\n",
    "            loss = criterion(outputs[-1], Y)\n",
    "            \n",
    "            optimizer.zero_grad()\n",
    "            loss.backward()\n",
    "            optimizer.step()\n",
    "\n",
    "            loss_train += loss.item()\n",
    "        elapsed_time = time.time() - start_time\n",
    "\n",
    "        loss_train = loss_train / len(ds)\n",
    "        \n",
    "        model = model.eval()\n",
    "        ds.eval()\n",
    "        loss_valid = 0\n",
    "        for X, Y in ds:\n",
    "            outputs = model(X)  # Shape: (length, num_nodes, out_features)\n",
    "            loss = criterion(outputs[-1], Y)\n",
    "            loss_valid += loss.item()\n",
    "        \n",
    "        loss_valid = loss_valid / len(ds)\n",
    "\n",
    "        if best_train_loss > loss_train:\n",
    "            best_train_loss = loss_train\n",
    "            best_train_model = model\n",
    "            counter = 0\n",
    "        else:\n",
    "            counter += 1\n",
    "            if counter == 1:\n",
    "                save_checkpoint(best_train_model, optimizer, scheduler, f'{model_name}_train', model_version)\n",
    "            scheduler.step()\n",
    "        \n",
    "        if best_valid_loss > loss_valid:\n",
    "            best_valid_loss = loss_valid\n",
    "            best_model = model\n",
    "            save_checkpoint(best_model, optimizer, scheduler, model_name, model_version)\n",
    "\n",
    "        if counter > patience:\n",
    "            break\n",
    "\n",
    "\n",
    "        elasped_display = str(int(math.floor(elapsed_time / 60))) + 'm' if math.floor(elapsed_time / 60) > 0 else ''\n",
    "        print(f'[{epoch+1}/{epochs}] train loss: {loss_train:.10f}, valid loss: {loss_valid:.10f} {elasped_display}{elapsed_time % 60:.0f}s count: {counter} {\"**\" if best_valid_loss > loss_valid else \"\"}')\n",
    "        save_logs(f'{model_name}_{model_version}.log', [time.time(), epoch, loss_train, loss_valid, elapsed_time])"
   ]
  },
  {
   "cell_type": "markdown",
   "metadata": {},
   "source": [
    "## Evaluation"
   ]
  },
  {
   "cell_type": "code",
   "execution_count": 60,
   "metadata": {},
   "outputs": [],
   "source": [
    "def load_model(model_name, model_version, device, train=True, model_folder=None, model_class=None, optimizer_class=None, scheduler_class=None):\n",
    "  if model_folder is None:\n",
    "    model_folder = \".\"\n",
    "\n",
    "  params_file_name = f'{model_folder}/{model_name}_params_v{model_version}.json'\n",
    "  if os.path.exists(params_file_name) is False:\n",
    "    print(f\"exsisting model params not found on {params_file_name}.\")\n",
    "    return None, None, None, None\n",
    "  with open(params_file_name) as fp:\n",
    "      params = json.load(fp)\n",
    "  # need to create create_model function for respective model\n",
    "  model = model_class(**params).to(device)\n",
    "  optimizer = optimizer_class(model.parameters(), lr=0.001)\n",
    "  scheduler = scheduler_class(optimizer, 1.0)\n",
    "  if train:\n",
    "    model_path = f'{model_folder}/{model_name}_train_v{model_version}.torch'\n",
    "  else:\n",
    "    model_path = f'{model_folder}/{model_name}_v{model_version}.torch'\n",
    "  if os.path.exists(model_path) is False:\n",
    "    print(\"exsisting model not found.\")\n",
    "    return None, None, None, None\n",
    "\n",
    "  if torch.cuda.is_available():\n",
    "    check_point = torch.load(model_path)\n",
    "  else:\n",
    "    check_point = torch.load(model_path, map_location=torch.device('cpu'), weights_only=True)\n",
    "  if \"model_state_dict\" in check_point:\n",
    "    model.load_state_dict(check_point['model_state_dict'])\n",
    "    optimizer.load_state_dict(check_point['optimizer_state_dict'])\n",
    "    scheduler.load_state_dict(check_point['scheduler_state_dict'])\n",
    "    return params, model, optimizer, scheduler\n",
    "  else:\n",
    "    if optimizer_class is not None:\n",
    "      print(\"checkpoint is not available.\")\n",
    "    model.load_state_dict(check_point)\n",
    "    return params, model, None, None"
   ]
  },
  {
   "cell_type": "code",
   "execution_count": null,
   "metadata": {},
   "outputs": [],
   "source": [
    "params, model, optimizer, scheduler = load_model(\n",
    "    model_name=model_name,\n",
    "    model_version=model_version,\n",
    "    device=\"cpu\",\n",
    "    train=False,\n",
    "    model_class=TimeGraphModel,\n",
    "    optimizer_class=torch.optim.Adam,\n",
    "    scheduler_class=torch.optim.lr_scheduler.StepLR\n",
    ")"
   ]
  },
  {
   "cell_type": "code",
   "execution_count": null,
   "metadata": {},
   "outputs": [],
   "source": [
    "ds.eval()\n",
    "model = model.eval()"
   ]
  },
  {
   "cell_type": "code",
   "execution_count": 68,
   "metadata": {},
   "outputs": [],
   "source": [
    "for X, Y in ds:\n",
    "    outputs = model(X)  # Shape: (length, num_nodes, out_features)\n",
    "    loss = criterion(outputs[-1], Y)\n",
    "    break"
   ]
  },
  {
   "cell_type": "code",
   "execution_count": 109,
   "metadata": {},
   "outputs": [],
   "source": [
    "answers = None\n",
    "predictions = None\n",
    "\n",
    "for X, Y in ds:\n",
    "    outputs = model(X)  # Shape: (length, num_nodes, out_features)\n",
    "    loss = criterion(outputs[-1], Y)\n",
    "\n",
    "    ans = Y.cpu().detach().numpy()\n",
    "    pre = outputs[-1].cpu().detach().numpy()\n",
    "    ans = ans.reshape(1, *ans.shape)\n",
    "    pre = pre.reshape(1, *pre.shape)\n",
    "\n",
    "    if answers is None:\n",
    "        answers = ans\n",
    "        predictions = pre\n",
    "    else:\n",
    "        answers = np.append(answers, ans, axis=0)\n",
    "        predictions = np.append(predictions, pre, axis=0)"
   ]
  },
  {
   "cell_type": "code",
   "execution_count": null,
   "metadata": {},
   "outputs": [],
   "source": [
    "import matplotlib.pyplot as plt\n",
    "\n",
    "# (length, num_nodes, num_features)\n",
    "_, num_symbols, num_features = answers.shape\n",
    "\n",
    "fig, axs = plt.subplots(num_symbols, num_features, figsize=(4*num_features, num_features*num_symbols))\n",
    "\n",
    "for symbol_index in range(num_symbols):\n",
    "    symbol_str = symbols[symbol_index]\n",
    "    f_columns = feature_df[symbol_str].columns\n",
    "\n",
    "    for f_index in range(num_features):\n",
    "        axs[symbol_index, f_index].scatter(answers[:, symbol_index, f_index], predictions[:, symbol_index, f_index])\n",
    "        axs[symbol_index, f_index].set_title(f\"{symbol_str}:{f_columns[f_index]}\")\n",
    "fig.show()"
   ]
  },
  {
   "cell_type": "code",
   "execution_count": null,
   "metadata": {},
   "outputs": [],
   "source": []
  }
 ],
 "metadata": {
  "kernelspec": {
   "display_name": ".venv312",
   "language": "python",
   "name": "python3"
  },
  "language_info": {
   "codemirror_mode": {
    "name": "ipython",
    "version": 3
   },
   "file_extension": ".py",
   "mimetype": "text/x-python",
   "name": "python",
   "nbconvert_exporter": "python",
   "pygments_lexer": "ipython3",
   "version": "3.12.4"
  }
 },
 "nbformat": 4,
 "nbformat_minor": 2
}
